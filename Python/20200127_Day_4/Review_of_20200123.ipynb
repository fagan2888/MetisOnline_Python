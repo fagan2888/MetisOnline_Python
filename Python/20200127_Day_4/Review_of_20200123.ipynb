{
 "cells": [
  {
   "cell_type": "markdown",
   "metadata": {},
   "source": [
    "## Are two words anagrams?\n",
    "\n",
    "Write a function `are_anagrams(word1, word2)`, that checks if two words are anagrams or not. If they are anagrams, return `True`, otherwise return `False`.\n",
    "\n",
    "Examples:\n",
    "```python\n",
    ">>> are_anagrams('debit card','bad credit')\n",
    "True\n",
    ">>> are_anagrams('The eyes', 'They see')\n",
    "True\n",
    ">>> are_anagrams('adam', 'dama')\n",
    "True\n",
    ">>> are_anagrams('adam', 'mad')\n",
    "False\n",
    "```"
   ]
  },
  {
   "cell_type": "code",
   "execution_count": 2,
   "metadata": {
    "ExecuteTime": {
     "end_time": "2020-01-28T02:57:47.246589Z",
     "start_time": "2020-01-28T02:57:47.243930Z"
    }
   },
   "outputs": [],
   "source": [
    "def sort_word(word):\n",
    "    \"\"\"Sorts word, after removing case and punctuation\"\"\"\n",
    "    letters = [character for character in word.lower() if character.isalpha()]\n",
    "    return sorted(letters)"
   ]
  },
  {
   "cell_type": "code",
   "execution_count": 3,
   "metadata": {
    "ExecuteTime": {
     "end_time": "2020-01-28T03:00:06.199878Z",
     "start_time": "2020-01-28T03:00:06.197126Z"
    }
   },
   "outputs": [],
   "source": [
    "def are_anagrams(word1, word2):\n",
    "    \"\"\"Returns True if word1 and word2 are anagrams, False otherwise.\n",
    "    \n",
    "    Two words are anagrams if we can rearrange the letters of word1 and make word2\n",
    "    with no letters left over. Our rules for anagrams (note these might be different in other places)\n",
    "      - words are NOT anagrams of themselves, must be rearrangements.\n",
    "        [This is not a common rule]\n",
    "      - case does not count, so \"God\" and \"dog\" are anagrams\n",
    "      - spaces and other punctuation does not count, so \"conversation\" \n",
    "        and \"voice rants on\" are anagrams\n",
    "    \"\"\"\n",
    "    if word1.lower() == word2.lower():\n",
    "        return False\n",
    "    return (sort_word(word1) == sort_word(word2))"
   ]
  },
  {
   "cell_type": "code",
   "execution_count": 4,
   "metadata": {
    "ExecuteTime": {
     "end_time": "2020-01-28T03:01:08.784543Z",
     "start_time": "2020-01-28T03:01:08.780860Z"
    }
   },
   "outputs": [
    {
     "data": {
      "text/plain": [
       "True"
      ]
     },
     "execution_count": 4,
     "metadata": {},
     "output_type": "execute_result"
    }
   ],
   "source": [
    "are_anagrams('eleven plus two=', 'twelve plus one!')"
   ]
  },
  {
   "cell_type": "code",
   "execution_count": 5,
   "metadata": {
    "ExecuteTime": {
     "end_time": "2020-01-28T03:01:09.330325Z",
     "start_time": "2020-01-28T03:01:09.326755Z"
    }
   },
   "outputs": [
    {
     "data": {
      "text/plain": [
       "False"
      ]
     },
     "execution_count": 5,
     "metadata": {},
     "output_type": "execute_result"
    }
   ],
   "source": [
    "are_anagrams('adam', 'mad')"
   ]
  },
  {
   "cell_type": "code",
   "execution_count": 6,
   "metadata": {
    "ExecuteTime": {
     "end_time": "2020-01-28T03:01:09.653552Z",
     "start_time": "2020-01-28T03:01:09.650363Z"
    }
   },
   "outputs": [
    {
     "data": {
      "text/plain": [
       "True"
      ]
     },
     "execution_count": 6,
     "metadata": {},
     "output_type": "execute_result"
    }
   ],
   "source": [
    "are_anagrams('adam', 'dama')"
   ]
  },
  {
   "cell_type": "code",
   "execution_count": null,
   "metadata": {},
   "outputs": [],
   "source": []
  },
  {
   "cell_type": "code",
   "execution_count": null,
   "metadata": {},
   "outputs": [],
   "source": []
  },
  {
   "cell_type": "markdown",
   "metadata": {},
   "source": [
    "# Who wants to be a millionaire\n",
    "\n",
    "We have looked at writing functions to look at bank transfers already. Now let's look at the world of compound interest.Let's review the mathematics of compound interest first.\n",
    "\n",
    "Let's say we have a 10%  annual interest rate (**sign me up!**), and start with 100.00 in my bank account. How much do I have after one year? The answer if the interest isn't compounded is\n",
    "$$\\text{interest after 1 year} = \\$100.00 * (1 + 0.10) = \\$110.00 $$\n",
    "\n",
    "If we compound the interest every 6 months, then \"10% per year\" is actually \"5% per 6 months\". Then we get\n",
    "$$\\text{interest after 6 months} = $100.00 * (1 + 0.05) = \\$105.00 $$\n",
    "and\n",
    "$$\\text{interest after 1 year} = \\$105.00 * (1 + 0.05) = \\$110.25 $$\n",
    "Note we could rewrite this as\n",
    "$$\\text{interest after 1 year} = \\$100.00 * \\left(1 + \\frac{0.10}{2}\\right)^2 = \\$110.25 $$\n",
    "\n",
    "If we compound interest every month, then \"10% per year\" is \"(10/12)% per month\", and we apply it 12 times. The formula is\n",
    "$$\\text{interest after 1 year} = \\$100.00 * \\left(1 + \\frac{0.10}{12}\\right)^{12} = \\$110.47$$\n",
    "\n",
    "If we compound interest every _day_ , then \"10% per year\" is \"(10/365)% per day\", and we applt it 365 times for a year. The formula is then \n",
    "$$\\text{interest after 1 year} = \\$100.00 * \\left(1 + \\frac{0.10}{365}\\right)^{365} = \\$110.52$$\n",
    "\n"
   ]
  },
  {
   "cell_type": "markdown",
   "metadata": {},
   "source": [
    "## Exercise \n",
    "\n",
    "Write a function\n",
    "```python\n",
    "get_balance(initial_balance, num_days, annual_interest_rate)\n",
    "```\n",
    "\n",
    "Gets the balance if we started with `initial_balance` after `num_days`, if there is an interest rate of `annual_interest_rate`, compounded daily\n",
    "\n",
    "Examples:\n",
    "```python\n",
    ">>> # put $1k in a 0% account for a year\n",
    ">>> get_balance(1000.00, 365, 0.0) \n",
    "1000.00\n",
    "\n",
    ">>> # put $1k in a 4% APR account for a year. Note that because of compound interest\n",
    ">>> # the number is bigger than $1040 ($40 is 4% of $1k) \n",
    ">>> get_balance(1000.00, 365, 0.04)  # put $1k in a 4% APR accoun\n",
    "$1040.8085\n",
    "```\n",
    "\n",
    "### Skills\n",
    "\n",
    "- Practice writing functions\n",
    "- Docstring best practices\n",
    "- Using keyword arguments for clarity\n",
    "- Calculation of compound interest\n",
    "- Use of for loops and/or exponents"
   ]
  },
  {
   "cell_type": "code",
   "execution_count": null,
   "metadata": {
    "ExecuteTime": {
     "end_time": "2020-01-28T03:17:52.247327Z",
     "start_time": "2020-01-28T03:17:52.244110Z"
    }
   },
   "outputs": [],
   "source": [
    "def get_balance(initial_balance, num_days, apr):\n",
    "    \"\"\"Returns the balance after num_days with daily compounding interest\n",
    "    \n",
    "    Parameters\n",
    "    ----------\n",
    "    initial_balance: float\n",
    "                     Amount of money initially in account\n",
    "    num_days:        int or float\n",
    "                     Number of days earning interest (assumed compounded daily)\n",
    "    apr:             float\n",
    "                     The annual percentage rate, entered as a decimal. For example, a\n",
    "                     3% APR would be entered as 0.03\n",
    "    \"\"\"\n",
    "    return initial_balance*(1 + (apr/365))**num_days"
   ]
  },
  {
   "cell_type": "code",
   "execution_count": null,
   "metadata": {
    "ExecuteTime": {
     "end_time": "2020-01-28T03:18:09.460985Z",
     "start_time": "2020-01-28T03:18:09.457633Z"
    }
   },
   "outputs": [],
   "source": [
    "get_balance(1000, 365, 0.0)"
   ]
  },
  {
   "cell_type": "code",
   "execution_count": null,
   "metadata": {
    "ExecuteTime": {
     "end_time": "2020-01-28T03:18:19.999184Z",
     "start_time": "2020-01-28T03:18:19.994263Z"
    }
   },
   "outputs": [],
   "source": [
    "get_balance(1000.00, 365, 0.04)"
   ]
  },
  {
   "cell_type": "markdown",
   "metadata": {},
   "source": [
    "Okay, but lets round to 4 dp. Note we don't do this to the function, but instead do it to the _output_ of the function."
   ]
  },
  {
   "cell_type": "code",
   "execution_count": null,
   "metadata": {},
   "outputs": [],
   "source": [
    "print(f'${get_balance(1000.00, 365, 0.04):0.4f}')"
   ]
  },
  {
   "cell_type": "code",
   "execution_count": null,
   "metadata": {},
   "outputs": [],
   "source": []
  },
  {
   "cell_type": "code",
   "execution_count": null,
   "metadata": {},
   "outputs": [],
   "source": []
  },
  {
   "cell_type": "markdown",
   "metadata": {},
   "source": [
    "## How long to be a millionaire?\n",
    "\n",
    "Write a function given an interest rate and an initial balance, how many days it would take for the balance reaching one million dollars. That is, what is the _smallest_ number of days we would have to wait before we reach one million dollars or more?\n",
    "\n",
    "Example:\n",
    "```python\n",
    ">>> # Start with $1000 initial balance, with a 5% APR (compounded daily)\n",
    ">>> # How many days until we hit more than one million dollars?\n",
    ">>> days_to_one_million(1000, 0.05)\n",
    "50431\n",
    ">>> # i.e. 50431 days, or 138 years\n",
    "```"
   ]
  },
  {
   "cell_type": "code",
   "execution_count": null,
   "metadata": {
    "ExecuteTime": {
     "end_time": "2020-01-28T03:52:21.235454Z",
     "start_time": "2020-01-28T03:52:21.232057Z"
    }
   },
   "outputs": [],
   "source": [
    "MAX_DAYS_TO_WAIT = 1e10\n",
    "\n",
    "def days_to_one_million(initial_balance, apr):\n",
    "    balance = initial_balance\n",
    "    day = -1\n",
    "    while (balance < 1_000_000):\n",
    "        day = day + 1\n",
    "        balance = get_balance(initial_balance, day, apr)\n",
    "        if day > MAX_DAYS_TO_WAIT:\n",
    "            raise ValueError(\"You'll be dead before you get $1M\")\n",
    "    return day"
   ]
  },
  {
   "cell_type": "code",
   "execution_count": null,
   "metadata": {},
   "outputs": [],
   "source": []
  },
  {
   "cell_type": "code",
   "execution_count": null,
   "metadata": {
    "ExecuteTime": {
     "end_time": "2020-01-28T03:52:21.476404Z",
     "start_time": "2020-01-28T03:52:21.463724Z"
    }
   },
   "outputs": [],
   "source": [
    "days_to_one_million(1000, 0.10)"
   ]
  },
  {
   "cell_type": "markdown",
   "metadata": {},
   "source": [
    "# Some new functions\n",
    "\n",
    "We want to be able to generate some random numbers. This isn't built into Python by default, but it is built into \"functions\" in the `random` module. We access it in the following way:\n",
    "```python\n",
    "import random\n",
    "random.randint(lower, upper)  # picks a random number from lower to upper\n",
    "```\n",
    "\n",
    "Note: In mathematics, a \"function\" says \"same input gives same output\". The `randint` gives _different_ results for the same arguments. Academic computer scientists will use the term **method** instead of function, but almost everyone in industry will call these **function** instead."
   ]
  },
  {
   "cell_type": "code",
   "execution_count": null,
   "metadata": {
    "ExecuteTime": {
     "end_time": "2020-01-28T04:05:50.476228Z",
     "start_time": "2020-01-28T04:05:50.472875Z"
    }
   },
   "outputs": [],
   "source": [
    "import random\n",
    "\n",
    "# Let's run this a few times\n",
    "random.randint(0,5)"
   ]
  },
  {
   "cell_type": "markdown",
   "metadata": {},
   "source": [
    "## Step 1\n",
    "\n",
    "Let's write a function that generates a 4 digit number randomly, with no repeated digits. For example, `1223` would not be allowed because `2` is repeated. \n",
    "\n",
    "Let's call this `get_four_digit_code()`"
   ]
  },
  {
   "cell_type": "code",
   "execution_count": null,
   "metadata": {
    "ExecuteTime": {
     "end_time": "2020-01-28T04:42:52.398473Z",
     "start_time": "2020-01-28T04:42:52.394951Z"
    }
   },
   "outputs": [],
   "source": [
    "def is_unique(L):\n",
    "    return len(L) == len(set(L))"
   ]
  },
  {
   "cell_type": "code",
   "execution_count": null,
   "metadata": {
    "ExecuteTime": {
     "end_time": "2020-01-28T04:43:01.923289Z",
     "start_time": "2020-01-28T04:43:01.917938Z"
    }
   },
   "outputs": [],
   "source": [
    "is_unique('1234')"
   ]
  },
  {
   "cell_type": "code",
   "execution_count": null,
   "metadata": {
    "ExecuteTime": {
     "end_time": "2020-01-28T04:23:36.951825Z",
     "start_time": "2020-01-28T04:23:36.946520Z"
    }
   },
   "outputs": [],
   "source": [
    "def is_valid(number):\n",
    "    if len(str(number)) != 4:\n",
    "        return False\n",
    "    \n",
    "    digit_count = [0 for num in range(10)]\n",
    "    for digit in str(number):\n",
    "        digit_count[int(digit)] += 1\n",
    "        if digit_count[int(digit)] > 1:\n",
    "            return False\n",
    "        \n",
    "    return True\n",
    "    \n",
    "def get_four_digit_code():\n",
    "    \"\"\"Returns a four digit code (no digits repeated)\"\"\"\n",
    "    number = random.randint(1023, 9876)\n",
    "    if is_valid(number):\n",
    "        return number\n",
    "    return get_four_digit_code()"
   ]
  },
  {
   "cell_type": "code",
   "execution_count": null,
   "metadata": {
    "ExecuteTime": {
     "end_time": "2020-01-28T04:27:55.859995Z",
     "start_time": "2020-01-28T04:27:55.857251Z"
    }
   },
   "outputs": [],
   "source": [
    "digits = [num for num in range(10)]  # list(range(10))\n",
    "random.shuffle(digits)"
   ]
  },
  {
   "cell_type": "code",
   "execution_count": null,
   "metadata": {
    "ExecuteTime": {
     "end_time": "2020-01-28T04:27:56.192940Z",
     "start_time": "2020-01-28T04:27:56.188749Z"
    }
   },
   "outputs": [],
   "source": [
    "print(digits)\n",
    "print([str(d) for d in digits[:4]])\n",
    "print(''.join([str(d) for d in digits[:4]]))\n",
    "print(int(''.join([str(d) for d in digits[:4]])))"
   ]
  },
  {
   "cell_type": "code",
   "execution_count": null,
   "metadata": {
    "ExecuteTime": {
     "end_time": "2020-01-28T04:29:17.791779Z",
     "start_time": "2020-01-28T04:29:17.787964Z"
    }
   },
   "outputs": [],
   "source": [
    "def get_four_digit_code():\n",
    "    digits = list(range(10))\n",
    "    random.shuffle(digits)\n",
    "    if digits[0] == 0:\n",
    "        digits = digits[1:]\n",
    "    return int(''.join([str(d) for d in digits[:4]]))"
   ]
  },
  {
   "cell_type": "markdown",
   "metadata": {
    "ExecuteTime": {
     "end_time": "2020-01-24T00:45:47.225121Z",
     "start_time": "2020-01-24T00:45:47.221083Z"
    }
   },
   "source": [
    "## Step 2\n",
    "\n",
    "Suppose we have a number `guess` and a code `code`. Write a function `result = score_guess(guess, code)`, so the returned `result` is a list, such that\n",
    "- `result[0]` is the number of correct digits in the _wrong_ place\n",
    "- `result[1]` is the number of correct digits in the _correct_ place"
   ]
  },
  {
   "cell_type": "code",
   "execution_count": null,
   "metadata": {
    "ExecuteTime": {
     "end_time": "2020-01-24T02:15:03.708137Z",
     "start_time": "2020-01-24T02:15:03.705117Z"
    }
   },
   "outputs": [],
   "source": [
    "def score_guess(guess, code):\n",
    "    \"\"\"Returns [num_correct_wrong_place, num_correct_right_place]\n",
    "    \n",
    "    Compare the two numbers guess and code. It is assumed that guess\n",
    "    and code do not repeat digits (e.g. 1223 would not be allowed for\n",
    "    either number)\n",
    "    \n",
    "    Returns a two element list [num_correct_wrong_place, num_correct_right_place]\n",
    "    where\n",
    "      - num_correct_wrong_place: \n",
    "        the number of digits common to both numbers, but appear in different places\n",
    "      - num_correct_right_place:\n",
    "        the number of digits common to both numbers, in the same place\n",
    "    For example, score_guess(4519, 6549) would return [1, 2] because\n",
    "      - both 4519 and 6549 contain a \"4\", but in different places\n",
    "      - both 4519 and 6549 contain a 5 and 9 in the same places\n",
    "    \"\"\"\n",
    "    pass"
   ]
  },
  {
   "cell_type": "markdown",
   "metadata": {},
   "source": [
    "## Step 3: Write an input validation\n",
    "\n",
    "Write a function that takes a number `guess` and returns True if all the conditions are satisfied:\n",
    "- It is a four digit number\n",
    "- It has no repeated digits\n",
    "If these conditions are not satisfied, returns `False`"
   ]
  },
  {
   "cell_type": "code",
   "execution_count": null,
   "metadata": {
    "ExecuteTime": {
     "end_time": "2020-01-24T02:15:12.384302Z",
     "start_time": "2020-01-24T02:15:12.381664Z"
    }
   },
   "outputs": [],
   "source": [
    "def is_valid_guess(guess):\n",
    "    \"\"\"Checks if guess is a valid guess\"\"\"\n",
    "    pass"
   ]
  },
  {
   "cell_type": "markdown",
   "metadata": {},
   "source": [
    "## Step 4 Put this together into a game\n",
    "\n",
    "Now we put the code together to make the game and play it. We also see a new function, `input(prompt)`, which prints prompt and waits for a response"
   ]
  },
  {
   "cell_type": "code",
   "execution_count": null,
   "metadata": {
    "ExecuteTime": {
     "end_time": "2020-01-24T02:15:41.968902Z",
     "start_time": "2020-01-24T02:15:40.964911Z"
    }
   },
   "outputs": [],
   "source": [
    "result = input(\"Example\")\n",
    "print(result)"
   ]
  },
  {
   "cell_type": "code",
   "execution_count": null,
   "metadata": {
    "ExecuteTime": {
     "end_time": "2020-01-24T02:15:39.045302Z",
     "start_time": "2020-01-24T02:15:16.910791Z"
    }
   },
   "outputs": [],
   "source": [
    "code = get_four_digit_code()\n",
    "\n",
    "my_number = 0\n",
    "turn = 1\n",
    "\n",
    "while (my_number != code):\n",
    "    my_number = int(input('Please give a four digit guess'))\n",
    "    if not is_valid_guess(my_number):\n",
    "        print(f\"{my_number} is not a valid number\")\n",
    "    else:\n",
    "        digit_score = score_guess(my_number, code)\n",
    "        message = f\"\"\"\n",
    "        Turn #{turn}: You guessed {my_number}\n",
    "          You have {digit_score[0]} correct digits in the wrong place\n",
    "          You have {digit_score[1]} correct digits in the right place\n",
    "        \n",
    "        \"\"\"\n",
    "        print(message)\n",
    "        turn = turn + 1\n",
    "\n",
    "print(f\"You guessed the code {code}\")"
   ]
  },
  {
   "cell_type": "code",
   "execution_count": null,
   "metadata": {},
   "outputs": [],
   "source": []
  }
 ],
 "metadata": {
  "kernelspec": {
   "display_name": "Python 3",
   "language": "python",
   "name": "python3"
  },
  "language_info": {
   "codemirror_mode": {
    "name": "ipython",
    "version": 3
   },
   "file_extension": ".py",
   "mimetype": "text/x-python",
   "name": "python",
   "nbconvert_exporter": "python",
   "pygments_lexer": "ipython3",
   "version": "3.7.2"
  },
  "varInspector": {
   "cols": {
    "lenName": 16,
    "lenType": 16,
    "lenVar": 40
   },
   "kernels_config": {
    "python": {
     "delete_cmd_postfix": "",
     "delete_cmd_prefix": "del ",
     "library": "var_list.py",
     "varRefreshCmd": "print(var_dic_list())"
    },
    "r": {
     "delete_cmd_postfix": ") ",
     "delete_cmd_prefix": "rm(",
     "library": "var_list.r",
     "varRefreshCmd": "cat(var_dic_list()) "
    }
   },
   "types_to_exclude": [
    "module",
    "function",
    "builtin_function_or_method",
    "instance",
    "_Feature"
   ],
   "window_display": false
  }
 },
 "nbformat": 4,
 "nbformat_minor": 2
}
