{
 "cells": [
  {
   "cell_type": "markdown",
   "metadata": {},
   "source": [
    "## Dictionaries"
   ]
  },
  {
   "cell_type": "markdown",
   "metadata": {},
   "source": [
    "### Motivating example: Short-comings of lists"
   ]
  },
  {
   "cell_type": "markdown",
   "metadata": {},
   "source": [
    "We have already seen `List` objects as a way of storing data. For a `List`, we use the _index_ to look up the value. We can have _values_ repeated, but not indicies:"
   ]
  },
  {
   "cell_type": "code",
   "execution_count": 1,
   "metadata": {
    "ExecuteTime": {
     "end_time": "2020-01-28T04:44:10.324127Z",
     "start_time": "2020-01-28T04:44:10.320927Z"
    }
   },
   "outputs": [],
   "source": [
    "example_list = [0, 1, 1, 1, 3, 3, 6, 6, 6]"
   ]
  },
  {
   "cell_type": "markdown",
   "metadata": {},
   "source": [
    "In `example_list`, the values `1`, `3` and `6` are all repeated, but the indices run from `0` to `8`. Each entry has a unique index.\n",
    "\n",
    "Sometimes, looking things up by a numerical index is inconvinient. Consider a list of states and capitals:"
   ]
  },
  {
   "cell_type": "code",
   "execution_count": 15,
   "metadata": {
    "ExecuteTime": {
     "end_time": "2020-01-28T04:59:57.568702Z",
     "start_time": "2020-01-28T04:59:57.565259Z"
    }
   },
   "outputs": [],
   "source": [
    "states_and_capitals = [\n",
    "    ['California', 'Sacramento'],\n",
    "    ['Oregon', 'Salem'],\n",
    "    ['Washington', 'Olympia'],\n",
    "    ['Alaska', 'Juneau'],\n",
    "    ['Hawaii', 'Honolulu'],\n",
    "    ['New York', 'Albany'],\n",
    "    ['Maine', 'Portland'],\n",
    "    ['Illinois', 'Springfield']\n",
    "]"
   ]
  },
  {
   "cell_type": "code",
   "execution_count": 3,
   "metadata": {
    "ExecuteTime": {
     "end_time": "2020-01-28T04:46:54.536238Z",
     "start_time": "2020-01-28T04:46:54.526635Z"
    }
   },
   "outputs": [
    {
     "data": {
      "text/plain": [
       "['Washington', 'Olympia']"
      ]
     },
     "execution_count": 3,
     "metadata": {},
     "output_type": "execute_result"
    }
   ],
   "source": [
    "states_and_capitals[2]"
   ]
  },
  {
   "cell_type": "markdown",
   "metadata": {},
   "source": [
    "Suppose we wanted to look up the capital of Hawaii. First we need to iterate through the list. Each element is itself a list. Once we find 'Hawaii', we can set its capital:"
   ]
  },
  {
   "cell_type": "code",
   "execution_count": 16,
   "metadata": {
    "ExecuteTime": {
     "end_time": "2020-01-28T04:59:58.931673Z",
     "start_time": "2020-01-28T04:59:58.927796Z"
    }
   },
   "outputs": [
    {
     "name": "stdout",
     "output_type": "stream",
     "text": [
      "Sacramento\n"
     ]
    }
   ],
   "source": [
    "state_to_find = 'California'\n",
    "capital = ''\n",
    "\n",
    "for state_and_capital in states_and_capitals:\n",
    "    state = state_and_capital[0]\n",
    "    if state == state_to_find:\n",
    "        capital = state_and_capital[1]\n",
    "\n",
    "print(capital)"
   ]
  },
  {
   "cell_type": "markdown",
   "metadata": {},
   "source": [
    "We can make slightly slicker versions of this loop using _variable unpacking_ and _break_ commands, but for the moment, let's just keep the focus on the problem at hand:\n",
    "> Lists are not super convinient for looking up things by a non-index. We _can_ do it by making \"lists of lists\", but it isn't very efficient AND it makes us write a bunch of code that obscures what we are doing.\n",
    "\n",
    "### How a dictionary solves this problem\n",
    "\n",
    "A dictionary allows us to have a `key` to lookup a `value`, where the `key` is any immutable object. Instead of looking a value up by _index_, we look it up by _key_. The idea is similar to a dictionary, where you use the `word` (the key) to look up the meaning (the value). \n",
    "\n",
    "Let's try to make this clearer with the states/capitals example:"
   ]
  },
  {
   "cell_type": "code",
   "execution_count": 38,
   "metadata": {
    "ExecuteTime": {
     "end_time": "2020-01-28T05:08:37.006973Z",
     "start_time": "2020-01-28T05:08:37.003672Z"
    }
   },
   "outputs": [],
   "source": [
    "# syntax is \n",
    "# { key1: value1, key2: value2, ...... }\n",
    "\n",
    "states_and_capitals = {\n",
    "    'California': 'Sacramento',  # California is the key, Sacramento is the value\n",
    "    'Oregon': 'Salem',           \n",
    "    'Washington': 'Olympia',\n",
    "    'Alaska': 'Juneau',\n",
    "    'Hawaii': 'Honolulu',\n",
    "    'New York': 'Albany',\n",
    "    'Maine': 'Portland',\n",
    "    'Illinois': 'Springfield'\n",
    "}"
   ]
  },
  {
   "cell_type": "markdown",
   "metadata": {},
   "source": [
    "We can use the `keys` to look things up"
   ]
  },
  {
   "cell_type": "code",
   "execution_count": 39,
   "metadata": {
    "ExecuteTime": {
     "end_time": "2020-01-28T05:08:38.101644Z",
     "start_time": "2020-01-28T05:08:38.096947Z"
    }
   },
   "outputs": [
    {
     "data": {
      "text/plain": [
       "'Sacramento'"
      ]
     },
     "execution_count": 39,
     "metadata": {},
     "output_type": "execute_result"
    }
   ],
   "source": [
    "states_and_capitals['California']"
   ]
  },
  {
   "cell_type": "markdown",
   "metadata": {},
   "source": [
    "We **cannot** use the values (this will have an error)"
   ]
  },
  {
   "cell_type": "code",
   "execution_count": 40,
   "metadata": {
    "ExecuteTime": {
     "end_time": "2020-01-28T05:08:46.940787Z",
     "start_time": "2020-01-28T05:08:46.938303Z"
    }
   },
   "outputs": [
    {
     "name": "stdout",
     "output_type": "stream",
     "text": [
      "{'California': 'Sacramento', 'Oregon': 'Salem', 'Washington': 'Olympia', 'Alaska': 'Juneau', 'Hawaii': 'Honolulu', 'New York': 'Albany', 'Maine': 'Portland', 'Illinois': 'Springfield'}\n"
     ]
    }
   ],
   "source": [
    "print(states_and_capitals)"
   ]
  },
  {
   "cell_type": "markdown",
   "metadata": {},
   "source": [
    "We can add new keys easily:"
   ]
  },
  {
   "cell_type": "code",
   "execution_count": 41,
   "metadata": {
    "ExecuteTime": {
     "end_time": "2020-01-28T05:08:49.790966Z",
     "start_time": "2020-01-28T05:08:49.787681Z"
    }
   },
   "outputs": [
    {
     "data": {
      "text/plain": [
       "'Olympia'"
      ]
     },
     "execution_count": 41,
     "metadata": {},
     "output_type": "execute_result"
    }
   ],
   "source": [
    "states_and_capitals.get('Washington', 'unknown')"
   ]
  },
  {
   "cell_type": "code",
   "execution_count": 42,
   "metadata": {
    "ExecuteTime": {
     "end_time": "2020-01-28T05:08:53.213367Z",
     "start_time": "2020-01-28T05:08:53.211087Z"
    }
   },
   "outputs": [],
   "source": [
    "states_and_capitals['Texas'] = 'Austin'"
   ]
  },
  {
   "cell_type": "markdown",
   "metadata": {},
   "source": [
    "However, keys have to be unique. If we overwrite a key, we lose the previous value"
   ]
  },
  {
   "cell_type": "code",
   "execution_count": 43,
   "metadata": {
    "ExecuteTime": {
     "end_time": "2020-01-28T05:08:58.551685Z",
     "start_time": "2020-01-28T05:08:58.548727Z"
    }
   },
   "outputs": [
    {
     "name": "stdout",
     "output_type": "stream",
     "text": [
      "Springfield\n"
     ]
    }
   ],
   "source": [
    "print(states_and_capitals['Illinois'])"
   ]
  },
  {
   "cell_type": "code",
   "execution_count": 44,
   "metadata": {
    "ExecuteTime": {
     "end_time": "2020-01-28T05:09:01.555246Z",
     "start_time": "2020-01-28T05:09:01.552319Z"
    }
   },
   "outputs": [
    {
     "name": "stdout",
     "output_type": "stream",
     "text": [
      "Chicago\n"
     ]
    }
   ],
   "source": [
    "states_and_capitals['Illinois'] = 'Chicago'\n",
    "print(states_and_capitals['Illinois'])"
   ]
  },
  {
   "cell_type": "code",
   "execution_count": 45,
   "metadata": {
    "ExecuteTime": {
     "end_time": "2020-01-28T05:09:07.897660Z",
     "start_time": "2020-01-28T05:09:07.895104Z"
    }
   },
   "outputs": [
    {
     "name": "stdout",
     "output_type": "stream",
     "text": [
      "{'California': 'Sacramento', 'Oregon': 'Salem', 'Washington': 'Olympia', 'Alaska': 'Juneau', 'Hawaii': 'Honolulu', 'New York': 'Albany', 'Maine': 'Portland', 'Illinois': 'Chicago', 'Texas': 'Austin'}\n"
     ]
    }
   ],
   "source": [
    "print(states_and_capitals)"
   ]
  },
  {
   "cell_type": "markdown",
   "metadata": {},
   "source": [
    "When dictionaries get big, it can be hard to read them. The `pprint` package does a nice job of printing them for us"
   ]
  },
  {
   "cell_type": "code",
   "execution_count": 46,
   "metadata": {
    "ExecuteTime": {
     "end_time": "2020-01-28T05:09:26.496963Z",
     "start_time": "2020-01-28T05:09:26.492095Z"
    }
   },
   "outputs": [
    {
     "name": "stdout",
     "output_type": "stream",
     "text": [
      "{'Alaska': 'Juneau',\n",
      " 'California': 'Sacramento',\n",
      " 'Hawaii': 'Honolulu',\n",
      " 'Illinois': 'Chicago',\n",
      " 'Maine': 'Portland',\n",
      " 'New York': 'Albany',\n",
      " 'Oregon': 'Salem',\n",
      " 'Texas': 'Austin',\n",
      " 'Washington': 'Olympia'}\n"
     ]
    }
   ],
   "source": [
    "import pprint\n",
    "pprint.pprint(states_and_capitals)"
   ]
  },
  {
   "cell_type": "markdown",
   "metadata": {},
   "source": [
    "We can use the `in` operator to check if a key is in a dictionary. Note it only works on keys!"
   ]
  },
  {
   "cell_type": "code",
   "execution_count": 47,
   "metadata": {
    "ExecuteTime": {
     "end_time": "2020-01-28T05:09:43.082591Z",
     "start_time": "2020-01-28T05:09:43.078913Z"
    }
   },
   "outputs": [
    {
     "data": {
      "text/plain": [
       "True"
      ]
     },
     "execution_count": 47,
     "metadata": {},
     "output_type": "execute_result"
    }
   ],
   "source": [
    "# Note that California is a key\n",
    "'California' in states_and_capitals"
   ]
  },
  {
   "cell_type": "code",
   "execution_count": 48,
   "metadata": {
    "ExecuteTime": {
     "end_time": "2020-01-28T05:09:44.111415Z",
     "start_time": "2020-01-28T05:09:44.108289Z"
    }
   },
   "outputs": [
    {
     "data": {
      "text/plain": [
       "False"
      ]
     },
     "execution_count": 48,
     "metadata": {},
     "output_type": "execute_result"
    }
   ],
   "source": [
    "# Sacramento isn't a key, but it is a value\n",
    "'Sacramento' in states_and_capitals"
   ]
  },
  {
   "cell_type": "code",
   "execution_count": 49,
   "metadata": {
    "ExecuteTime": {
     "end_time": "2020-01-28T05:10:08.443567Z",
     "start_time": "2020-01-28T05:10:08.439489Z"
    }
   },
   "outputs": [
    {
     "data": {
      "text/plain": [
       "False"
      ]
     },
     "execution_count": 49,
     "metadata": {},
     "output_type": "execute_result"
    }
   ],
   "source": [
    "'Rhode Island' in states_and_capitals"
   ]
  },
  {
   "cell_type": "markdown",
   "metadata": {},
   "source": [
    "We cannot access dictionaries by index, only by keys:"
   ]
  },
  {
   "cell_type": "code",
   "execution_count": 50,
   "metadata": {
    "ExecuteTime": {
     "end_time": "2020-01-28T05:10:12.197176Z",
     "start_time": "2020-01-28T05:10:12.191766Z"
    }
   },
   "outputs": [
    {
     "ename": "KeyError",
     "evalue": "0",
     "output_type": "error",
     "traceback": [
      "\u001b[0;31m---------------------------------------------------------------------------\u001b[0m",
      "\u001b[0;31mKeyError\u001b[0m                                  Traceback (most recent call last)",
      "\u001b[0;32m<ipython-input-50-3bc159049909>\u001b[0m in \u001b[0;36m<module>\u001b[0;34m\u001b[0m\n\u001b[1;32m      1\u001b[0m \u001b[0;31m# This will give an error:\u001b[0m\u001b[0;34m\u001b[0m\u001b[0;34m\u001b[0m\u001b[0;34m\u001b[0m\u001b[0m\n\u001b[0;32m----> 2\u001b[0;31m \u001b[0mstates_and_capitals\u001b[0m\u001b[0;34m[\u001b[0m\u001b[0;36m0\u001b[0m\u001b[0;34m]\u001b[0m\u001b[0;34m\u001b[0m\u001b[0;34m\u001b[0m\u001b[0m\n\u001b[0m",
      "\u001b[0;31mKeyError\u001b[0m: 0"
     ]
    }
   ],
   "source": [
    "# This will give an error:\n",
    "states_and_capitals[0]"
   ]
  },
  {
   "cell_type": "markdown",
   "metadata": {},
   "source": [
    "You shouldn't rely on the order of items in a dictionary either. They are not designed to be accessed by position. We can iterate over a dictionary in a `for` loop, but should not rely on the order"
   ]
  },
  {
   "cell_type": "code",
   "execution_count": 51,
   "metadata": {
    "ExecuteTime": {
     "end_time": "2020-01-28T05:10:27.742365Z",
     "start_time": "2020-01-28T05:10:27.738081Z"
    }
   },
   "outputs": [
    {
     "name": "stdout",
     "output_type": "stream",
     "text": [
      "California\n",
      "Oregon\n",
      "Washington\n",
      "Alaska\n",
      "Hawaii\n",
      "New York\n",
      "Maine\n",
      "Illinois\n",
      "Texas\n"
     ]
    }
   ],
   "source": [
    "for state in states_and_capitals:\n",
    "    print(state)"
   ]
  },
  {
   "cell_type": "markdown",
   "metadata": {},
   "source": [
    "## Brief summary of dictionaries\n",
    "\n",
    "- Make them with `{key1: value1, key2: value2, .... }`\n",
    "- Keys must be immutable. Basically use strings, numbers, or tuples as your keys.\n",
    "- Keys cannot repeat, assigning to the same key will overwrite the existing value\n",
    "- Values can repeat\n",
    "- The `in` keyword tests whether a key is in the dictionary or not.\n",
    "- We can mutate a dictionary. \n",
    "  - To add `new_key` to a dictionary `d`, we can write `d[new_key] = .....`\n",
    "  - To remove `old_key` from a dictionary `d`, we can write `del d[old_key]`"
   ]
  },
  {
   "cell_type": "markdown",
   "metadata": {},
   "source": [
    "## Test yourself:\n",
    "\n",
    "We have a menu with the following items on it:\n",
    "\n",
    "| Name | Price |\n",
    "| --- | --- |\n",
    "| Small fries | 1.00 |\n",
    "| Hamburger | 1.00 |\n",
    "| Small drink | 1.00|\n",
    "| Medium drink | 1.00 |\n",
    "| Large drink | 1.00 |\n",
    "| Medium fries | 1.45 |\n",
    "| Large fries | 2.00 |\n",
    "| Cheeseburger | 2.50 |\n",
    "\n",
    "1. Would we be able to make a dictionary `name_to_price` where the keys are names and the values are the price?\n",
    "2. Would we be able to make a dictionary `price_to_name` where the keys are prices and the values are the name?"
   ]
  },
  {
   "cell_type": "code",
   "execution_count": 53,
   "metadata": {
    "ExecuteTime": {
     "end_time": "2020-01-28T05:16:35.224276Z",
     "start_time": "2020-01-28T05:16:35.221179Z"
    }
   },
   "outputs": [],
   "source": [
    "price_to_name = {\n",
    "    1.00: ['Small fries', 'Hamburger', 'Small drink'],\n",
    "    1.45: ['Medium fries'],\n",
    "    2.00: ['Large fries'],\n",
    "    2.50: ['Cheeseburger'] \n",
    "}"
   ]
  },
  {
   "cell_type": "markdown",
   "metadata": {},
   "source": [
    "## Examples of using a dictionary:\n",
    "\n",
    "Dictionaries are quick to add keys, and quick to find keys (they use a trick called _hashing_ that we can talk about if there is interest). Often the idea that \n",
    "\n",
    "1. **Contact book:** e.g. Key: name or id, value: phone number (i.e. a contacts address book)\n",
    "2. **Counters:** e.g. key: thing to be counted, value: number of occurances of thing to be counted\n",
    "3. **Checking uniqueness** e.g. key: thing to be checked, value: arbitrary value. Then check the number of keys is the same as the number of things you started with (if not, there were some repeats)\n",
    "4. **More readable datastructures**: We can get away with storing information in lists such as `[name, age, salary]`, but then we have to remember the order. A dictionaries keys can make it easier for the next person to read.\n"
   ]
  },
  {
   "cell_type": "markdown",
   "metadata": {},
   "source": [
    "## Example: letter counter\n",
    "\n",
    "Given `text`, count how many times each letter appears in text."
   ]
  },
  {
   "cell_type": "code",
   "execution_count": 58,
   "metadata": {
    "ExecuteTime": {
     "end_time": "2020-01-28T05:20:25.618497Z",
     "start_time": "2020-01-28T05:20:25.608555Z"
    }
   },
   "outputs": [
    {
     "name": "stdout",
     "output_type": "stream",
     "text": [
      "[0, 2, 1, 3, 1, 3, 1, 1, 1, 3]\n",
      "Digit 0 appears 0 times in 3.141592653589793\n",
      "Digit 1 appears 2 times in 3.141592653589793\n",
      "Digit 2 appears 1 times in 3.141592653589793\n",
      "Digit 3 appears 3 times in 3.141592653589793\n",
      "Digit 4 appears 1 times in 3.141592653589793\n",
      "Digit 5 appears 3 times in 3.141592653589793\n",
      "Digit 6 appears 1 times in 3.141592653589793\n",
      "Digit 7 appears 1 times in 3.141592653589793\n",
      "Digit 8 appears 1 times in 3.141592653589793\n",
      "Digit 9 appears 3 times in 3.141592653589793\n"
     ]
    }
   ],
   "source": [
    "import math\n",
    "pi_string = str(math.pi)\n",
    "\n",
    "digit_count = [0 for num in range(10)]\n",
    "for digit in pi_string:\n",
    "    if digit.isnumeric():\n",
    "        digit_count[int(digit)] = digit_count[int(digit)] + 1\n",
    "\n",
    "print(digit_count)\n",
    "for index in range(10):\n",
    "    print(f'Digit {index} appears {digit_count[index]} times in {pi_string}')"
   ]
  },
  {
   "cell_type": "code",
   "execution_count": null,
   "metadata": {},
   "outputs": [],
   "source": []
  },
  {
   "cell_type": "code",
   "execution_count": null,
   "metadata": {},
   "outputs": [],
   "source": []
  },
  {
   "cell_type": "code",
   "execution_count": null,
   "metadata": {},
   "outputs": [],
   "source": []
  },
  {
   "cell_type": "code",
   "execution_count": null,
   "metadata": {},
   "outputs": [],
   "source": []
  },
  {
   "cell_type": "code",
   "execution_count": null,
   "metadata": {},
   "outputs": [],
   "source": []
  },
  {
   "cell_type": "code",
   "execution_count": 84,
   "metadata": {
    "ExecuteTime": {
     "end_time": "2020-01-28T05:40:11.831446Z",
     "start_time": "2020-01-28T05:40:11.828142Z"
    }
   },
   "outputs": [],
   "source": [
    "# In Dicken's day, authors were paid by the word\n",
    "#\n",
    "text = \"\"\"\n",
    "It was the best of times, it was the worst of times, it was the age of wisdom, it was the age of foolishness, \n",
    "it was the epoch of belief, it was the epoch of incredulity, it was the season of Light, it was the season of \n",
    "Darkness, it was the spring of hope, it was the winter of despair, we had everything before us, we had nothing \n",
    "before us, we were all going direct to Heaven, we were all going direct the other way—in short, the period was \n",
    "so far like the present period, that some of its noisiest authorities insisted on its being received, for good \n",
    "or for evil, in the superlative degree of comparison only.\n",
    "\"\"\""
   ]
  },
  {
   "cell_type": "code",
   "execution_count": 80,
   "metadata": {
    "ExecuteTime": {
     "end_time": "2020-01-28T05:38:44.421523Z",
     "start_time": "2020-01-28T05:38:44.419271Z"
    }
   },
   "outputs": [],
   "source": [
    "#text = pi_string"
   ]
  },
  {
   "cell_type": "code",
   "execution_count": 90,
   "metadata": {
    "ExecuteTime": {
     "end_time": "2020-01-28T05:46:22.340991Z",
     "start_time": "2020-01-28T05:46:22.335769Z"
    }
   },
   "outputs": [
    {
     "data": {
      "text/plain": [
       "{'it': 10,\n",
       " 'was': 11,\n",
       " 'the': 14,\n",
       " 'best': 1,\n",
       " 'of': 12,\n",
       " 'times,': 2,\n",
       " 'worst': 1,\n",
       " 'age': 2,\n",
       " 'wisdom,': 1,\n",
       " 'foolishness,': 1,\n",
       " 'epoch': 2,\n",
       " 'belief,': 1,\n",
       " 'incredulity,': 1,\n",
       " 'season': 2,\n",
       " 'light,': 1,\n",
       " 'darkness,': 1,\n",
       " 'spring': 1,\n",
       " 'hope,': 1,\n",
       " 'winter': 1,\n",
       " 'despair,': 1,\n",
       " 'we': 4,\n",
       " 'had': 2,\n",
       " 'everything': 1,\n",
       " 'before': 2,\n",
       " 'us,': 2,\n",
       " 'nothing': 1,\n",
       " 'were': 2,\n",
       " 'all': 2,\n",
       " 'going': 2,\n",
       " 'direct': 2,\n",
       " 'to': 1,\n",
       " 'heaven,': 1,\n",
       " 'other': 1,\n",
       " 'way—in': 1,\n",
       " 'short,': 1,\n",
       " 'period': 1,\n",
       " 'so': 1,\n",
       " 'far': 1,\n",
       " 'like': 1,\n",
       " 'present': 1,\n",
       " 'period,': 1,\n",
       " 'that': 1,\n",
       " 'some': 1,\n",
       " 'its': 2,\n",
       " 'noisiest': 1,\n",
       " 'authorities': 1,\n",
       " 'insisted': 1,\n",
       " 'on': 1,\n",
       " 'being': 1,\n",
       " 'received,': 1,\n",
       " 'for': 2,\n",
       " 'good': 1,\n",
       " 'or': 1,\n",
       " 'evil,': 1,\n",
       " 'in': 1,\n",
       " 'superlative': 1,\n",
       " 'degree': 1,\n",
       " 'comparison': 1,\n",
       " 'only.': 1}"
      ]
     },
     "execution_count": 90,
     "metadata": {},
     "output_type": "execute_result"
    }
   ],
   "source": [
    "counter = {}\n",
    "\n",
    "for word in text.lower().split():\n",
    "    counter[word] = counter.get(word, 0) + 1\n",
    "    \n",
    "counter"
   ]
  },
  {
   "cell_type": "code",
   "execution_count": 69,
   "metadata": {
    "ExecuteTime": {
     "end_time": "2020-01-28T05:27:31.034899Z",
     "start_time": "2020-01-28T05:27:31.032029Z"
    }
   },
   "outputs": [],
   "source": [
    "states_and_capitals['Rhode Island'] = 'Providence'"
   ]
  },
  {
   "cell_type": "code",
   "execution_count": 64,
   "metadata": {
    "ExecuteTime": {
     "end_time": "2020-01-28T05:25:47.867943Z",
     "start_time": "2020-01-28T05:25:47.865620Z"
    }
   },
   "outputs": [],
   "source": [
    "counter['it']"
   ]
  },
  {
   "cell_type": "code",
   "execution_count": 65,
   "metadata": {
    "ExecuteTime": {
     "end_time": "2020-01-28T05:25:49.830657Z",
     "start_time": "2020-01-28T05:25:49.827667Z"
    }
   },
   "outputs": [
    {
     "data": {
      "text/plain": [
       "{'it': 0}"
      ]
     },
     "execution_count": 65,
     "metadata": {},
     "output_type": "execute_result"
    }
   ],
   "source": [
    "counter['it'] = 0"
   ]
  },
  {
   "cell_type": "code",
   "execution_count": 89,
   "metadata": {
    "ExecuteTime": {
     "end_time": "2020-01-28T05:44:30.529602Z",
     "start_time": "2020-01-28T05:44:30.523295Z"
    }
   },
   "outputs": [
    {
     "data": {
      "text/plain": [
       "'Sacramento'"
      ]
     },
     "execution_count": 89,
     "metadata": {},
     "output_type": "execute_result"
    }
   ],
   "source": [
    "states_and_capitals.get('California', 'not in the dictionary')"
   ]
  },
  {
   "cell_type": "code",
   "execution_count": null,
   "metadata": {},
   "outputs": [],
   "source": []
  },
  {
   "cell_type": "code",
   "execution_count": null,
   "metadata": {},
   "outputs": [],
   "source": []
  },
  {
   "cell_type": "code",
   "execution_count": null,
   "metadata": {},
   "outputs": [],
   "source": []
  },
  {
   "cell_type": "code",
   "execution_count": null,
   "metadata": {},
   "outputs": [],
   "source": []
  },
  {
   "cell_type": "code",
   "execution_count": null,
   "metadata": {},
   "outputs": [],
   "source": []
  },
  {
   "cell_type": "code",
   "execution_count": null,
   "metadata": {},
   "outputs": [],
   "source": [
    "letter_freq = {}\n",
    "for letter in text:\n",
    "    if letter not in letter_freq:\n",
    "        letter_freq[letter] = 0\n",
    "    letter_freq[letter] += 1"
   ]
  },
  {
   "cell_type": "code",
   "execution_count": null,
   "metadata": {},
   "outputs": [],
   "source": [
    "pprint.pprint(letter_freq)"
   ]
  },
  {
   "cell_type": "markdown",
   "metadata": {},
   "source": [
    "## Sorting"
   ]
  },
  {
   "cell_type": "code",
   "execution_count": null,
   "metadata": {},
   "outputs": [],
   "source": []
  },
  {
   "cell_type": "code",
   "execution_count": null,
   "metadata": {},
   "outputs": [],
   "source": []
  },
  {
   "cell_type": "code",
   "execution_count": null,
   "metadata": {},
   "outputs": [],
   "source": []
  },
  {
   "cell_type": "code",
   "execution_count": null,
   "metadata": {},
   "outputs": [],
   "source": []
  },
  {
   "cell_type": "code",
   "execution_count": null,
   "metadata": {},
   "outputs": [],
   "source": []
  },
  {
   "cell_type": "code",
   "execution_count": null,
   "metadata": {},
   "outputs": [],
   "source": []
  },
  {
   "cell_type": "markdown",
   "metadata": {},
   "source": [
    "## Plotting (sort of)"
   ]
  },
  {
   "cell_type": "code",
   "execution_count": null,
   "metadata": {},
   "outputs": [],
   "source": []
  },
  {
   "cell_type": "code",
   "execution_count": null,
   "metadata": {},
   "outputs": [],
   "source": []
  },
  {
   "cell_type": "code",
   "execution_count": null,
   "metadata": {},
   "outputs": [],
   "source": []
  },
  {
   "cell_type": "code",
   "execution_count": null,
   "metadata": {},
   "outputs": [],
   "source": []
  },
  {
   "cell_type": "code",
   "execution_count": null,
   "metadata": {},
   "outputs": [],
   "source": []
  },
  {
   "cell_type": "code",
   "execution_count": null,
   "metadata": {},
   "outputs": [],
   "source": []
  },
  {
   "cell_type": "code",
   "execution_count": null,
   "metadata": {},
   "outputs": [],
   "source": []
  },
  {
   "cell_type": "markdown",
   "metadata": {},
   "source": [
    "## Could we count words instead?"
   ]
  },
  {
   "cell_type": "code",
   "execution_count": null,
   "metadata": {},
   "outputs": [],
   "source": []
  },
  {
   "cell_type": "code",
   "execution_count": null,
   "metadata": {},
   "outputs": [],
   "source": []
  },
  {
   "cell_type": "code",
   "execution_count": null,
   "metadata": {},
   "outputs": [],
   "source": []
  },
  {
   "cell_type": "code",
   "execution_count": null,
   "metadata": {},
   "outputs": [],
   "source": []
  },
  {
   "cell_type": "code",
   "execution_count": null,
   "metadata": {},
   "outputs": [],
   "source": []
  },
  {
   "cell_type": "code",
   "execution_count": null,
   "metadata": {},
   "outputs": [],
   "source": []
  },
  {
   "cell_type": "code",
   "execution_count": null,
   "metadata": {},
   "outputs": [],
   "source": []
  },
  {
   "cell_type": "code",
   "execution_count": null,
   "metadata": {},
   "outputs": [],
   "source": []
  },
  {
   "cell_type": "markdown",
   "metadata": {},
   "source": [
    "## Scrabble"
   ]
  },
  {
   "cell_type": "code",
   "execution_count": 91,
   "metadata": {
    "ExecuteTime": {
     "end_time": "2020-01-28T05:47:35.290145Z",
     "start_time": "2020-01-28T05:47:35.284144Z"
    }
   },
   "outputs": [],
   "source": [
    "TILE_SCORES = {\n",
    "    'A': 1, 'B': 3, 'C': 3, 'D': 2, 'E': 1,\n",
    "    'F': 4, 'G': 2, 'H': 4, 'I': 1, 'J': 8,\n",
    "    'K': 5, 'L': 1, 'M': 3, 'N': 1, 'O': 1,\n",
    "    'P': 3, 'Q':10, 'R': 1, 'S': 1, 'T': 1,\n",
    "    'U': 1, 'V': 4, 'W': 4, 'X': 8, 'Y': 4,\n",
    "    'Z': 10\n",
    "}"
   ]
  },
  {
   "cell_type": "markdown",
   "metadata": {},
   "source": [
    "Write a function `score_word(word)` that takes `word` (e.g. \"DOCTOR\") and returns the score, where each letter's score is the value in `TILE_SCORES` (in this case 2+1+3+1+1+1 = 9 is the score for DOCTOR).\n",
    "\n",
    "Bonus: you should make it case-insensitive, e.g. both `score_word(\"DOCTOR\")` and `score_word(\"doctor\")` return 9"
   ]
  },
  {
   "cell_type": "code",
   "execution_count": null,
   "metadata": {},
   "outputs": [],
   "source": [
    "def score_word(word):\n",
    "    pass"
   ]
  },
  {
   "cell_type": "code",
   "execution_count": null,
   "metadata": {},
   "outputs": [],
   "source": []
  },
  {
   "cell_type": "code",
   "execution_count": null,
   "metadata": {},
   "outputs": [],
   "source": [
    "score_word(\"DOCTOR\")"
   ]
  },
  {
   "cell_type": "code",
   "execution_count": null,
   "metadata": {},
   "outputs": [],
   "source": [
    "score_word(\"doctor\")"
   ]
  },
  {
   "cell_type": "code",
   "execution_count": null,
   "metadata": {},
   "outputs": [],
   "source": []
  },
  {
   "cell_type": "code",
   "execution_count": null,
   "metadata": {},
   "outputs": [],
   "source": []
  },
  {
   "cell_type": "markdown",
   "metadata": {},
   "source": [
    "## Loading scrabble words\n",
    "\n",
    "Let's load up a dictionary of (all?) scrabble words from a file."
   ]
  },
  {
   "cell_type": "code",
   "execution_count": 92,
   "metadata": {
    "ExecuteTime": {
     "end_time": "2020-01-28T05:48:17.185066Z",
     "start_time": "2020-01-28T05:48:17.146437Z"
    }
   },
   "outputs": [
    {
     "data": {
      "text/plain": [
       "['AA',\n",
       " 'AAH',\n",
       " 'AAHED',\n",
       " 'AAHING',\n",
       " 'AAHS',\n",
       " 'AAL',\n",
       " 'AALII',\n",
       " 'AALIIS',\n",
       " 'AALS',\n",
       " 'AARDVARK']"
      ]
     },
     "execution_count": 92,
     "metadata": {},
     "output_type": "execute_result"
    }
   ],
   "source": [
    "with open('words.txt') as f:\n",
    "    WORDS = [w.strip() for w in f.readlines()]\n",
    "WORDS[:10]"
   ]
  },
  {
   "cell_type": "markdown",
   "metadata": {},
   "source": [
    "These words are all in capitals. \n",
    "\n",
    "Question: What are the 10 highest scoring scrabble words?"
   ]
  },
  {
   "cell_type": "code",
   "execution_count": null,
   "metadata": {},
   "outputs": [],
   "source": []
  },
  {
   "cell_type": "code",
   "execution_count": null,
   "metadata": {},
   "outputs": [],
   "source": []
  },
  {
   "cell_type": "code",
   "execution_count": null,
   "metadata": {},
   "outputs": [],
   "source": []
  },
  {
   "cell_type": "code",
   "execution_count": null,
   "metadata": {},
   "outputs": [],
   "source": []
  },
  {
   "cell_type": "code",
   "execution_count": null,
   "metadata": {},
   "outputs": [],
   "source": []
  },
  {
   "cell_type": "markdown",
   "metadata": {},
   "source": [
    "## ScrabbleBot\n",
    "\n",
    "Write a function `score_tiles(tiles)` that takes a list of tiles, and returns the score _and_ a highest scoring word you can make from those tiles. The word must be a valid word that appears in the array `WORDS`\n",
    "\n",
    "For example\n",
    "\n",
    "```python\n",
    ">>> score_tiles(['C', 'A', 'T'])\n",
    "[5, 'CAT'] # might also return [5, 'ACT'] as a valid word\n",
    ">>> score_tiles(['Q', 'Z', 'A', 'T'])\n",
    "[12, 'QAT']  # Apparently QAT is a word, but we don't have words with\n",
    "             # Q, Z and only A/T in them, so we cannot use all tiles.\n",
    "```\n",
    "\n",
    "Hint: \n",
    "- Any anagrams have the same tiles, so they will have the same score\n",
    "- You might want a function `can_make_from_tiles(word, tiles)` to help you"
   ]
  },
  {
   "cell_type": "code",
   "execution_count": null,
   "metadata": {},
   "outputs": [],
   "source": [
    "# A potentially helpful dictionary (keys are words, values are scores)\n",
    "# Use of a dictionary comprehension\n",
    "SCORES = {w: score_word(w) for w in WORDS}"
   ]
  },
  {
   "cell_type": "code",
   "execution_count": null,
   "metadata": {},
   "outputs": [],
   "source": [
    "def can_make_from_tiles(word, tiles):\n",
    "    pass"
   ]
  },
  {
   "cell_type": "code",
   "execution_count": null,
   "metadata": {},
   "outputs": [],
   "source": [
    "def score_tiles(tiles):\n",
    "    pass"
   ]
  },
  {
   "cell_type": "code",
   "execution_count": null,
   "metadata": {},
   "outputs": [],
   "source": [
    "score_tiles(['Q', 'Z', 'A', 'T'])"
   ]
  },
  {
   "cell_type": "code",
   "execution_count": null,
   "metadata": {},
   "outputs": [],
   "source": []
  },
  {
   "cell_type": "code",
   "execution_count": null,
   "metadata": {},
   "outputs": [],
   "source": []
  },
  {
   "cell_type": "code",
   "execution_count": null,
   "metadata": {},
   "outputs": [],
   "source": []
  },
  {
   "cell_type": "code",
   "execution_count": null,
   "metadata": {},
   "outputs": [],
   "source": []
  },
  {
   "cell_type": "code",
   "execution_count": null,
   "metadata": {},
   "outputs": [],
   "source": []
  },
  {
   "cell_type": "code",
   "execution_count": null,
   "metadata": {},
   "outputs": [],
   "source": []
  },
  {
   "cell_type": "markdown",
   "metadata": {},
   "source": [
    "## Telephone words\n",
    "\n",
    "We can convert words into numbers using the telephone keypad:\n",
    "\n",
    "![Telephone keypad](keypad.png)\n",
    "\n",
    "For example `1-888-WAIT-WAI` (the number for NPRs \"Wait, Wait, Don't tell me\") can be decoded as `1-888-924-8924`.\n",
    "\n",
    "1. Is it possible, given a string like `1-888-WAIT-WAI` to return a _unique_ number like `18889248924`?\n",
    "2. Is is possible, given a number like `18889248924` to return a _unique_ number/string like `1888WAITWAI`?\n"
   ]
  },
  {
   "cell_type": "code",
   "execution_count": null,
   "metadata": {
    "ExecuteTime": {
     "end_time": "2020-01-28T02:24:19.539683Z",
     "start_time": "2020-01-28T02:24:19.535433Z"
    }
   },
   "outputs": [],
   "source": [
    "NUM_TO_LETTERS = {\n",
    "    0: '',\n",
    "    1: '',\n",
    "    2: 'ABC',\n",
    "    3: 'DEF',\n",
    "    4: 'GHI',\n",
    "    5: 'JKL',\n",
    "    6: 'MNO',\n",
    "    7: 'PQRS',\n",
    "    8: 'TUV',\n",
    "    9: 'WXYZ'\n",
    "}\n",
    "\n",
    "NUM_TO_LETTERS_LIST = {num: list(value) for num, value in NUM_TO_LETTERS.items()}"
   ]
  },
  {
   "cell_type": "code",
   "execution_count": null,
   "metadata": {
    "ExecuteTime": {
     "end_time": "2020-01-28T02:24:24.963481Z",
     "start_time": "2020-01-28T02:24:24.954607Z"
    }
   },
   "outputs": [],
   "source": [
    "NUM_TO_LETTERS_LIST"
   ]
  },
  {
   "cell_type": "code",
   "execution_count": null,
   "metadata": {
    "ExecuteTime": {
     "end_time": "2020-01-28T02:24:55.845544Z",
     "start_time": "2020-01-28T02:24:55.843087Z"
    }
   },
   "outputs": [],
   "source": [
    "# Can you make a dictionary that has a letter as a key, and a number as a value?"
   ]
  },
  {
   "cell_type": "code",
   "execution_count": null,
   "metadata": {},
   "outputs": [],
   "source": []
  },
  {
   "cell_type": "code",
   "execution_count": null,
   "metadata": {},
   "outputs": [],
   "source": []
  },
  {
   "cell_type": "code",
   "execution_count": null,
   "metadata": {},
   "outputs": [],
   "source": []
  },
  {
   "cell_type": "code",
   "execution_count": null,
   "metadata": {},
   "outputs": [],
   "source": []
  },
  {
   "cell_type": "code",
   "execution_count": null,
   "metadata": {},
   "outputs": [],
   "source": []
  },
  {
   "cell_type": "code",
   "execution_count": null,
   "metadata": {},
   "outputs": [],
   "source": []
  },
  {
   "cell_type": "code",
   "execution_count": null,
   "metadata": {},
   "outputs": [],
   "source": []
  },
  {
   "cell_type": "code",
   "execution_count": null,
   "metadata": {},
   "outputs": [],
   "source": []
  },
  {
   "cell_type": "code",
   "execution_count": null,
   "metadata": {},
   "outputs": [],
   "source": []
  },
  {
   "cell_type": "code",
   "execution_count": null,
   "metadata": {},
   "outputs": [],
   "source": []
  },
  {
   "cell_type": "code",
   "execution_count": null,
   "metadata": {},
   "outputs": [],
   "source": []
  },
  {
   "cell_type": "code",
   "execution_count": null,
   "metadata": {},
   "outputs": [],
   "source": []
  },
  {
   "cell_type": "code",
   "execution_count": null,
   "metadata": {},
   "outputs": [],
   "source": []
  },
  {
   "cell_type": "markdown",
   "metadata": {},
   "source": [
    "## Exercises\n",
    "\n",
    "1. Write a function `decode_to_number(alpha_number)` that returns the number after replacing the letters with numbers (e.g. `decode_to_number(\"1-888-WAIT-WAI\")` would return `18889248924`\n",
    "\n",
    "2. Write a function `get_all_alpha_numbers(phone_number)` the returns a list of all \"alphanumbers\" you can make from `phone_number`. The letters should correspond to actual words in `WORDS`. For example  \n",
    "  - `get_all_alpha_numbers(18889248924)` would return a list containing `'1888WAIT924'`, but not `1888WAITWAI` because `WAI` isn't a word. \n",
    "  - `get_all_alpha_numbers(188892489248)` should return `1888WAITWAIT` as one of the words."
   ]
  },
  {
   "cell_type": "code",
   "execution_count": null,
   "metadata": {},
   "outputs": [],
   "source": []
  },
  {
   "cell_type": "code",
   "execution_count": null,
   "metadata": {},
   "outputs": [],
   "source": []
  },
  {
   "cell_type": "code",
   "execution_count": null,
   "metadata": {},
   "outputs": [],
   "source": []
  },
  {
   "cell_type": "code",
   "execution_count": null,
   "metadata": {},
   "outputs": [],
   "source": []
  },
  {
   "cell_type": "code",
   "execution_count": null,
   "metadata": {},
   "outputs": [],
   "source": []
  },
  {
   "cell_type": "code",
   "execution_count": null,
   "metadata": {},
   "outputs": [],
   "source": []
  },
  {
   "cell_type": "code",
   "execution_count": null,
   "metadata": {},
   "outputs": [],
   "source": []
  },
  {
   "cell_type": "code",
   "execution_count": null,
   "metadata": {},
   "outputs": [],
   "source": []
  }
 ],
 "metadata": {
  "kernelspec": {
   "display_name": "Python 3",
   "language": "python",
   "name": "python3"
  },
  "language_info": {
   "codemirror_mode": {
    "name": "ipython",
    "version": 3
   },
   "file_extension": ".py",
   "mimetype": "text/x-python",
   "name": "python",
   "nbconvert_exporter": "python",
   "pygments_lexer": "ipython3",
   "version": "3.7.2"
  },
  "varInspector": {
   "cols": {
    "lenName": 16,
    "lenType": 16,
    "lenVar": 40
   },
   "kernels_config": {
    "python": {
     "delete_cmd_postfix": "",
     "delete_cmd_prefix": "del ",
     "library": "var_list.py",
     "varRefreshCmd": "print(var_dic_list())"
    },
    "r": {
     "delete_cmd_postfix": ") ",
     "delete_cmd_prefix": "rm(",
     "library": "var_list.r",
     "varRefreshCmd": "cat(var_dic_list()) "
    }
   },
   "types_to_exclude": [
    "module",
    "function",
    "builtin_function_or_method",
    "instance",
    "_Feature"
   ],
   "window_display": false
  }
 },
 "nbformat": 4,
 "nbformat_minor": 2
}
