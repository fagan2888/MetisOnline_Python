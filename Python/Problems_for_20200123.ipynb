{
 "cells": [
  {
   "cell_type": "markdown",
   "metadata": {},
   "source": [
    "## Are two words anagrams?\n",
    "\n",
    "Write a function `are_anagrams(word1, word2)`, that checks if two words are anagrams or not. If they are anagrams, return `True`, otherwise return `False`.\n",
    "\n",
    "Examples:\n",
    "```python\n",
    ">>> are_anagrams('debit card','bad credit')\n",
    "True\n",
    ">>> are_anagrams('The eyes', 'They see')\n",
    "True\n",
    ">>> are_anagrams('adam', 'dama')\n",
    "True\n",
    ">>> are_anagrams('adam', 'mad')\n",
    "False\n",
    "```"
   ]
  },
  {
   "cell_type": "code",
   "execution_count": null,
   "metadata": {
    "ExecuteTime": {
     "end_time": "2020-01-24T02:18:17.754011Z",
     "start_time": "2020-01-24T02:18:17.750122Z"
    }
   },
   "outputs": [],
   "source": [
    "def are_anagrams(word1, word2):\n",
    "    pass"
   ]
  },
  {
   "cell_type": "code",
   "execution_count": null,
   "metadata": {},
   "outputs": [],
   "source": []
  },
  {
   "cell_type": "code",
   "execution_count": null,
   "metadata": {},
   "outputs": [],
   "source": []
  },
  {
   "cell_type": "code",
   "execution_count": null,
   "metadata": {},
   "outputs": [],
   "source": []
  },
  {
   "cell_type": "code",
   "execution_count": null,
   "metadata": {},
   "outputs": [],
   "source": []
  },
  {
   "cell_type": "code",
   "execution_count": null,
   "metadata": {},
   "outputs": [],
   "source": []
  },
  {
   "cell_type": "markdown",
   "metadata": {},
   "source": [
    "# Who wants to be a millionaire\n",
    "\n",
    "We have looked at writing functions to look at bank transfers already. Now let's look at the world of compound interest.Let's review the mathematics of compound interest first.\n",
    "\n",
    "Let's say we have a 10%  annual interest rate (**sign me up!**), and start with 100.00 in my bank account. How much do I have after one year? The answer if the interest isn't compounded is\n",
    "$$\\text{interest after 1 year} = \\$100.00 * (1 + 0.10) = \\$110.00 $$\n",
    "\n",
    "If we compound the interest every 6 months, then \"10% per year\" is actually \"5% per 6 months\". Then we get\n",
    "$$\\text{interest after 6 months} = $100.00 * (1 + 0.05) = \\$105.00 $$\n",
    "and\n",
    "$$\\text{interest after 1 year} = \\$105.00 * (1 + 0.05) = \\$110.25 $$\n",
    "Note we could rewrite this as\n",
    "$$\\text{interest after 1 year} = \\$100.00 * \\left(1 + \\frac{0.10}{2}\\right)^2 = \\$110.25 $$\n",
    "\n",
    "If we compound interest every month, then \"10% per year\" is \"(10/12)% per month\", and we apply it 12 times. The formula is\n",
    "$$\\text{interest after 1 year} = \\$100.00 * \\left(1 + \\frac{0.10}{12}\\right)^{12} = \\$110.47$$\n",
    "\n",
    "If we compound interest every _day_ , then \"10% per year\" is \"(10/365)% per day\", and we applt it 365 times for a year. The formula is then \n",
    "$$\\text{interest after 1 year} = \\$100.00 * \\left(1 + \\frac{0.10}{365}\\right)^{365} = \\$110.52$$\n",
    "\n"
   ]
  },
  {
   "cell_type": "markdown",
   "metadata": {},
   "source": [
    "## Exercise \n",
    "\n",
    "Write a function\n",
    "```python\n",
    "get_balance(initial_balance, num_days, annual_interest_rate)\n",
    "```\n",
    "\n",
    "Gets the balance if we started with `initial_balance` after `num_days`, if there is an interest rate of `annual_interest_rate`, compounded daily\n",
    "\n",
    "Examples:\n",
    "```python\n",
    ">>> # put $1k in a 0% account for a year\n",
    ">>> get_balance(1000.00, 365, 0.0) \n",
    "1000.00\n",
    "\n",
    ">>> # put $1k in a 4% APR account for a year. Note that because of compound interest\n",
    ">>> # the number is bigger than $1040 ($40 is 4% of $1k) \n",
    ">>> get_balance(1000.00, 365, 0.04)  # put $1k in a 4% APR accoun\n",
    "$1040.8085\n",
    "```\n",
    "\n",
    "### Skills\n",
    "\n",
    "- Practice writing functions\n",
    "- Docstring best practices\n",
    "- Using keyword arguments for clarity\n",
    "- Calculation of compound interest\n",
    "- Use of for loops and/or exponents"
   ]
  },
  {
   "cell_type": "code",
   "execution_count": null,
   "metadata": {},
   "outputs": [],
   "source": []
  },
  {
   "cell_type": "code",
   "execution_count": null,
   "metadata": {},
   "outputs": [],
   "source": []
  },
  {
   "cell_type": "code",
   "execution_count": null,
   "metadata": {},
   "outputs": [],
   "source": []
  },
  {
   "cell_type": "code",
   "execution_count": null,
   "metadata": {},
   "outputs": [],
   "source": []
  },
  {
   "cell_type": "code",
   "execution_count": null,
   "metadata": {},
   "outputs": [],
   "source": []
  },
  {
   "cell_type": "code",
   "execution_count": null,
   "metadata": {},
   "outputs": [],
   "source": []
  },
  {
   "cell_type": "code",
   "execution_count": null,
   "metadata": {},
   "outputs": [],
   "source": []
  },
  {
   "cell_type": "markdown",
   "metadata": {},
   "source": [
    "## How long to be a millionaire?\n",
    "\n",
    "Write a function given an interest rate and an initial balance, how many days it would take for the balance reaching one million dollars. That is, what is the _smallest_ number of days we would have to wait before we reach one million dollars or more?\n",
    "\n",
    "Example:\n",
    "```python\n",
    ">>> # Start with $1000 initial balance, with a 5% APR (compounded daily)\n",
    ">>> # How many days until we hit more than one million dollars?\n",
    ">>> days_to_one_million(1000, 0.05)\n",
    "50431\n",
    ">>> # i.e. 50431 days, or 138 years\n",
    "```"
   ]
  },
  {
   "cell_type": "code",
   "execution_count": null,
   "metadata": {},
   "outputs": [],
   "source": []
  },
  {
   "cell_type": "code",
   "execution_count": null,
   "metadata": {},
   "outputs": [],
   "source": []
  },
  {
   "cell_type": "code",
   "execution_count": null,
   "metadata": {},
   "outputs": [],
   "source": []
  },
  {
   "cell_type": "markdown",
   "metadata": {},
   "source": [
    "# Some new functions\n",
    "\n",
    "We want to be able to generate some random numbers. This isn't built into Python by default, but it is built into \"functions\" in the `random` module. We access it in the following way:\n",
    "```python\n",
    "import random\n",
    "random.randint(lower, upper)  # picks a random number from lower to upper\n",
    "```\n",
    "\n",
    "Note: In mathematics, a \"function\" says \"same input gives same output\". The `randint` gives _different_ results for the same arguments. Academic computer scientists will use the term **method** instead of function, but almost everyone in industry will call these **function** instead."
   ]
  },
  {
   "cell_type": "code",
   "execution_count": null,
   "metadata": {
    "ExecuteTime": {
     "end_time": "2020-01-24T00:53:10.758815Z",
     "start_time": "2020-01-24T00:53:10.743429Z"
    }
   },
   "outputs": [],
   "source": [
    "import random\n",
    "\n",
    "# Let's run this a few times\n",
    "random.randint(0,5)"
   ]
  },
  {
   "cell_type": "markdown",
   "metadata": {},
   "source": [
    "## Step 1\n",
    "\n",
    "Let's write a function that generates a 4 digit number randomly, with no repeated digits. For example, `1223` would not be allowed because `2` is repeated. \n",
    "\n",
    "Let's call this `get_four_digit_code()`"
   ]
  },
  {
   "cell_type": "code",
   "execution_count": null,
   "metadata": {
    "ExecuteTime": {
     "end_time": "2020-01-24T00:55:06.498217Z",
     "start_time": "2020-01-24T00:55:06.482719Z"
    }
   },
   "outputs": [],
   "source": [
    "def get_four_digit_code():\n",
    "    \"\"\"Returns a four digit code (no digits repeated)\"\"\"\n",
    "    pass"
   ]
  },
  {
   "cell_type": "markdown",
   "metadata": {
    "ExecuteTime": {
     "end_time": "2020-01-24T00:45:47.225121Z",
     "start_time": "2020-01-24T00:45:47.221083Z"
    }
   },
   "source": [
    "## Step 2\n",
    "\n",
    "Suppose we have a number `guess` and a code `code`. Write a function `result = score_guess(guess, code)`, so the returned `result` is a list, such that\n",
    "- `result[0]` is the number of correct digits in the _wrong_ place\n",
    "- `result[1]` is the number of correct digits in the _correct_ place"
   ]
  },
  {
   "cell_type": "code",
   "execution_count": null,
   "metadata": {
    "ExecuteTime": {
     "end_time": "2020-01-24T02:15:03.708137Z",
     "start_time": "2020-01-24T02:15:03.705117Z"
    }
   },
   "outputs": [],
   "source": [
    "def score_guess(guess, code):\n",
    "    \"\"\"Returns [num_correct_wrong_place, num_correct_right_place]\n",
    "    \n",
    "    Compare the two numbers guess and code. It is assumed that guess\n",
    "    and code do not repeat digits (e.g. 1223 would not be allowed for\n",
    "    either number)\n",
    "    \n",
    "    Returns a two element list [num_correct_wrong_place, num_correct_right_place]\n",
    "    where\n",
    "      - num_correct_wrong_place: \n",
    "        the number of digits common to both numbers, but appear in different places\n",
    "      - num_correct_right_place:\n",
    "        the number of digits common to both numbers, in the same place\n",
    "    For example, score_guess(4519, 6549) would return [1, 2] because\n",
    "      - both 4519 and 6549 contain a \"4\", but in different places\n",
    "      - both 4519 and 6549 contain a 5 and 9 in the same places\n",
    "    \"\"\"\n",
    "    pass"
   ]
  },
  {
   "cell_type": "markdown",
   "metadata": {},
   "source": [
    "## Step 3: Write an input validation\n",
    "\n",
    "Write a function that takes a number `guess` and returns True if all the conditions are satisfied:\n",
    "- It is a four digit number\n",
    "- It has no repeated digits\n",
    "If these conditions are not satisfied, returns `False`"
   ]
  },
  {
   "cell_type": "code",
   "execution_count": null,
   "metadata": {
    "ExecuteTime": {
     "end_time": "2020-01-24T02:15:12.384302Z",
     "start_time": "2020-01-24T02:15:12.381664Z"
    }
   },
   "outputs": [],
   "source": [
    "def is_valid_guess(guess):\n",
    "    \"\"\"Checks if guess is a valid guess\"\"\"\n",
    "    pass"
   ]
  },
  {
   "cell_type": "markdown",
   "metadata": {},
   "source": [
    "## Step 4 Put this together into a game\n",
    "\n",
    "Now we put the code together to make the game and play it. We also see a new function, `input(prompt)`, which prints prompt and waits for a response"
   ]
  },
  {
   "cell_type": "code",
   "execution_count": null,
   "metadata": {
    "ExecuteTime": {
     "end_time": "2020-01-24T02:15:41.968902Z",
     "start_time": "2020-01-24T02:15:40.964911Z"
    }
   },
   "outputs": [],
   "source": [
    "result = input(\"Example\")\n",
    "print(result)"
   ]
  },
  {
   "cell_type": "code",
   "execution_count": null,
   "metadata": {
    "ExecuteTime": {
     "end_time": "2020-01-24T02:15:39.045302Z",
     "start_time": "2020-01-24T02:15:16.910791Z"
    }
   },
   "outputs": [],
   "source": [
    "code = get_four_digit_code()\n",
    "\n",
    "guess = 0\n",
    "turn = 1\n",
    "\n",
    "while (guess != code):\n",
    "    my_number = int(input('Please give a four digit guess'))\n",
    "    if not is_valid_guess(my_number):\n",
    "        print(f\"{my_number} is not a valid number\")\n",
    "    else:\n",
    "        digit_score = score_guess(my_number, code)\n",
    "        message = f\"\"\"\n",
    "        Turn #{turn}: You guessed {my_number}\n",
    "          You have {digit_score[0]} correct digits in the wrong place\n",
    "          You have {digit_score[1]} correct digits in the right place\n",
    "        \n",
    "        \"\"\"\n",
    "        print(message)\n",
    "        turn = turn + 1\n",
    "\n",
    "print(f\"You guessed the code {code}\")"
   ]
  },
  {
   "cell_type": "code",
   "execution_count": null,
   "metadata": {},
   "outputs": [],
   "source": []
  }
 ],
 "metadata": {
  "kernelspec": {
   "display_name": "Python 3",
   "language": "python",
   "name": "python3"
  },
  "language_info": {
   "codemirror_mode": {
    "name": "ipython",
    "version": 3
   },
   "file_extension": ".py",
   "mimetype": "text/x-python",
   "name": "python",
   "nbconvert_exporter": "python",
   "pygments_lexer": "ipython3",
   "version": "3.7.2"
  },
  "varInspector": {
   "cols": {
    "lenName": 16,
    "lenType": 16,
    "lenVar": 40
   },
   "kernels_config": {
    "python": {
     "delete_cmd_postfix": "",
     "delete_cmd_prefix": "del ",
     "library": "var_list.py",
     "varRefreshCmd": "print(var_dic_list())"
    },
    "r": {
     "delete_cmd_postfix": ") ",
     "delete_cmd_prefix": "rm(",
     "library": "var_list.r",
     "varRefreshCmd": "cat(var_dic_list()) "
    }
   },
   "types_to_exclude": [
    "module",
    "function",
    "builtin_function_or_method",
    "instance",
    "_Feature"
   ],
   "window_display": false
  }
 },
 "nbformat": 4,
 "nbformat_minor": 2
}
