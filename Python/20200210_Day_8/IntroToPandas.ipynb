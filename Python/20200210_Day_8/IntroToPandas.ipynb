{
 "cells": [
  {
   "cell_type": "markdown",
   "metadata": {},
   "source": [
    "# Introduction to Pandas\n",
    "\n",
    "- Learn about Pandas DataFrames\n",
    "- Learn about Pandas Series"
   ]
  },
  {
   "cell_type": "code",
   "execution_count": 1,
   "metadata": {
    "ExecuteTime": {
     "end_time": "2020-02-11T04:10:04.861221Z",
     "start_time": "2020-02-11T04:10:04.183440Z"
    }
   },
   "outputs": [],
   "source": [
    "import pandas as pd\n",
    "import numpy as np\n",
    "\n",
    "%matplotlib inline"
   ]
  },
  {
   "cell_type": "markdown",
   "metadata": {},
   "source": [
    "A Pandas dataframe is almost like an Excel table that we can manipulate in Python. The most inconvienient thing about them is creating them in the first place, if we enter the data manually. We will look at two different examples:\n",
    "\n",
    "- Loading data manually\n",
    "- Loading data from an external source (comma separated file)\n"
   ]
  },
  {
   "cell_type": "markdown",
   "metadata": {},
   "source": [
    "## Loading data manually\n",
    "\n",
    "We have seen our example of loading state information:"
   ]
  },
  {
   "cell_type": "code",
   "execution_count": 2,
   "metadata": {
    "ExecuteTime": {
     "end_time": "2020-02-11T04:10:29.536183Z",
     "start_time": "2020-02-11T04:10:29.530510Z"
    }
   },
   "outputs": [],
   "source": [
    "state_info = [\n",
    "     ['CA', 39_560_000, 163_694, 'Sacramento', 'California'],\n",
    "     ['WA', 7_536_000 ,71_297, 'Olympia', 'Washington'],\n",
    "     ['TX', 28_995_881 , 268_596, 'Austin', 'Texas'],\n",
    "     ['OR', 4_190_713, 98_378, 'Salem', 'Oregon'],\n",
    "     ['WY', 578_759 ,97_914, 'Cheyenne', 'Wyoming'],\n",
    "     ['IL', 12_671_821, 57_914, 'Springfield', 'Illinois'],\n",
    "     ['HI', 1_420_491 , 10_931, 'Honolulu', 'Hawaii'],\n",
    "     ['AK', 710_249, 663_268, 'Juneau', 'Alaska'],\n",
    "     ['NY', 19_453_561, 54_555, 'Albany', 'New York']\n",
    "]"
   ]
  },
  {
   "cell_type": "markdown",
   "metadata": {},
   "source": [
    "Let's load this into a dataframe. Our dataframe will interpret each element in `state_info` as its own entry. We will also give the columns their own names:"
   ]
  },
  {
   "cell_type": "code",
   "execution_count": 3,
   "metadata": {
    "ExecuteTime": {
     "end_time": "2020-02-11T04:11:06.516553Z",
     "start_time": "2020-02-11T04:11:06.489249Z"
    }
   },
   "outputs": [
    {
     "data": {
      "text/html": [
       "<div>\n",
       "<style scoped>\n",
       "    .dataframe tbody tr th:only-of-type {\n",
       "        vertical-align: middle;\n",
       "    }\n",
       "\n",
       "    .dataframe tbody tr th {\n",
       "        vertical-align: top;\n",
       "    }\n",
       "\n",
       "    .dataframe thead th {\n",
       "        text-align: right;\n",
       "    }\n",
       "</style>\n",
       "<table border=\"1\" class=\"dataframe\">\n",
       "  <thead>\n",
       "    <tr style=\"text-align: right;\">\n",
       "      <th></th>\n",
       "      <th>abb</th>\n",
       "      <th>pop</th>\n",
       "      <th>area</th>\n",
       "      <th>captial</th>\n",
       "      <th>state</th>\n",
       "    </tr>\n",
       "  </thead>\n",
       "  <tbody>\n",
       "    <tr>\n",
       "      <th>0</th>\n",
       "      <td>CA</td>\n",
       "      <td>39560000</td>\n",
       "      <td>163694</td>\n",
       "      <td>Sacramento</td>\n",
       "      <td>California</td>\n",
       "    </tr>\n",
       "    <tr>\n",
       "      <th>1</th>\n",
       "      <td>WA</td>\n",
       "      <td>7536000</td>\n",
       "      <td>71297</td>\n",
       "      <td>Olympia</td>\n",
       "      <td>Washington</td>\n",
       "    </tr>\n",
       "    <tr>\n",
       "      <th>2</th>\n",
       "      <td>TX</td>\n",
       "      <td>28995881</td>\n",
       "      <td>268596</td>\n",
       "      <td>Austin</td>\n",
       "      <td>Texas</td>\n",
       "    </tr>\n",
       "    <tr>\n",
       "      <th>3</th>\n",
       "      <td>OR</td>\n",
       "      <td>4190713</td>\n",
       "      <td>98378</td>\n",
       "      <td>Salem</td>\n",
       "      <td>Oregon</td>\n",
       "    </tr>\n",
       "    <tr>\n",
       "      <th>4</th>\n",
       "      <td>WY</td>\n",
       "      <td>578759</td>\n",
       "      <td>97914</td>\n",
       "      <td>Cheyenne</td>\n",
       "      <td>Wyoming</td>\n",
       "    </tr>\n",
       "    <tr>\n",
       "      <th>5</th>\n",
       "      <td>IL</td>\n",
       "      <td>12671821</td>\n",
       "      <td>57914</td>\n",
       "      <td>Springfield</td>\n",
       "      <td>Illinois</td>\n",
       "    </tr>\n",
       "    <tr>\n",
       "      <th>6</th>\n",
       "      <td>HI</td>\n",
       "      <td>1420491</td>\n",
       "      <td>10931</td>\n",
       "      <td>Honolulu</td>\n",
       "      <td>Hawaii</td>\n",
       "    </tr>\n",
       "    <tr>\n",
       "      <th>7</th>\n",
       "      <td>AK</td>\n",
       "      <td>710249</td>\n",
       "      <td>663268</td>\n",
       "      <td>Juneau</td>\n",
       "      <td>Alaska</td>\n",
       "    </tr>\n",
       "    <tr>\n",
       "      <th>8</th>\n",
       "      <td>NY</td>\n",
       "      <td>19453561</td>\n",
       "      <td>54555</td>\n",
       "      <td>Albany</td>\n",
       "      <td>New York</td>\n",
       "    </tr>\n",
       "  </tbody>\n",
       "</table>\n",
       "</div>"
      ],
      "text/plain": [
       "  abb       pop    area      captial       state\n",
       "0  CA  39560000  163694   Sacramento  California\n",
       "1  WA   7536000   71297      Olympia  Washington\n",
       "2  TX  28995881  268596       Austin       Texas\n",
       "3  OR   4190713   98378        Salem      Oregon\n",
       "4  WY    578759   97914     Cheyenne     Wyoming\n",
       "5  IL  12671821   57914  Springfield    Illinois\n",
       "6  HI   1420491   10931     Honolulu      Hawaii\n",
       "7  AK    710249  663268       Juneau      Alaska\n",
       "8  NY  19453561   54555       Albany    New York"
      ]
     },
     "execution_count": 3,
     "metadata": {},
     "output_type": "execute_result"
    }
   ],
   "source": [
    "state_frame = pd.DataFrame(state_info, columns=['abb', 'pop', 'area', 'captial', 'state'])\n",
    "state_frame"
   ]
  },
  {
   "cell_type": "markdown",
   "metadata": {},
   "source": [
    "Another very common way to see dataframes being created is to enter a column at a time, rather than a field at a time. We do this by passing in a dictionary. Unfortunately, both syntaxes are pretty common, so we will have to be at least a little familiar with both of them"
   ]
  },
  {
   "cell_type": "code",
   "execution_count": 4,
   "metadata": {
    "ExecuteTime": {
     "end_time": "2020-02-11T04:15:05.096390Z",
     "start_time": "2020-02-11T04:15:05.092719Z"
    }
   },
   "outputs": [],
   "source": [
    "state_info_dict = {\n",
    "    'abb': ['CA', 'WA', 'TX', 'OR', 'WY', 'IL', 'HI', 'AK', 'NY'],\n",
    "    'pop': (39560000, 7536000, 28995881, 4190713, 578759, 12671821, 1420491, 710249, 19453561),\n",
    "   'area': (163694, 71297, 268596, 98378, 97914, 57914, 10931, 663268, 54555),\n",
    "   'capital': ('Sacramento', 'Olympia','Austin', 'Salem', 'Cheyenne', 'Springfield',\n",
    "              'Honolulu', 'Juneau', 'Albany'),\n",
    " 'state': ('California', 'Washington', 'Texas', 'Oregon', 'Wyoming', 'Illinois', \n",
    "           'Hawaii', 'Alaska', 'New York')\n",
    "}"
   ]
  },
  {
   "cell_type": "code",
   "execution_count": 5,
   "metadata": {
    "ExecuteTime": {
     "end_time": "2020-02-11T04:15:34.289499Z",
     "start_time": "2020-02-11T04:15:34.280281Z"
    }
   },
   "outputs": [
    {
     "data": {
      "text/html": [
       "<div>\n",
       "<style scoped>\n",
       "    .dataframe tbody tr th:only-of-type {\n",
       "        vertical-align: middle;\n",
       "    }\n",
       "\n",
       "    .dataframe tbody tr th {\n",
       "        vertical-align: top;\n",
       "    }\n",
       "\n",
       "    .dataframe thead th {\n",
       "        text-align: right;\n",
       "    }\n",
       "</style>\n",
       "<table border=\"1\" class=\"dataframe\">\n",
       "  <thead>\n",
       "    <tr style=\"text-align: right;\">\n",
       "      <th></th>\n",
       "      <th>abb</th>\n",
       "      <th>pop</th>\n",
       "      <th>area</th>\n",
       "      <th>capital</th>\n",
       "      <th>state</th>\n",
       "    </tr>\n",
       "  </thead>\n",
       "  <tbody>\n",
       "    <tr>\n",
       "      <th>0</th>\n",
       "      <td>CA</td>\n",
       "      <td>39560000</td>\n",
       "      <td>163694</td>\n",
       "      <td>Sacramento</td>\n",
       "      <td>California</td>\n",
       "    </tr>\n",
       "    <tr>\n",
       "      <th>1</th>\n",
       "      <td>WA</td>\n",
       "      <td>7536000</td>\n",
       "      <td>71297</td>\n",
       "      <td>Olympia</td>\n",
       "      <td>Washington</td>\n",
       "    </tr>\n",
       "    <tr>\n",
       "      <th>2</th>\n",
       "      <td>TX</td>\n",
       "      <td>28995881</td>\n",
       "      <td>268596</td>\n",
       "      <td>Austin</td>\n",
       "      <td>Texas</td>\n",
       "    </tr>\n",
       "    <tr>\n",
       "      <th>3</th>\n",
       "      <td>OR</td>\n",
       "      <td>4190713</td>\n",
       "      <td>98378</td>\n",
       "      <td>Salem</td>\n",
       "      <td>Oregon</td>\n",
       "    </tr>\n",
       "    <tr>\n",
       "      <th>4</th>\n",
       "      <td>WY</td>\n",
       "      <td>578759</td>\n",
       "      <td>97914</td>\n",
       "      <td>Cheyenne</td>\n",
       "      <td>Wyoming</td>\n",
       "    </tr>\n",
       "    <tr>\n",
       "      <th>5</th>\n",
       "      <td>IL</td>\n",
       "      <td>12671821</td>\n",
       "      <td>57914</td>\n",
       "      <td>Springfield</td>\n",
       "      <td>Illinois</td>\n",
       "    </tr>\n",
       "    <tr>\n",
       "      <th>6</th>\n",
       "      <td>HI</td>\n",
       "      <td>1420491</td>\n",
       "      <td>10931</td>\n",
       "      <td>Honolulu</td>\n",
       "      <td>Hawaii</td>\n",
       "    </tr>\n",
       "    <tr>\n",
       "      <th>7</th>\n",
       "      <td>AK</td>\n",
       "      <td>710249</td>\n",
       "      <td>663268</td>\n",
       "      <td>Juneau</td>\n",
       "      <td>Alaska</td>\n",
       "    </tr>\n",
       "    <tr>\n",
       "      <th>8</th>\n",
       "      <td>NY</td>\n",
       "      <td>19453561</td>\n",
       "      <td>54555</td>\n",
       "      <td>Albany</td>\n",
       "      <td>New York</td>\n",
       "    </tr>\n",
       "  </tbody>\n",
       "</table>\n",
       "</div>"
      ],
      "text/plain": [
       "  abb       pop    area      capital       state\n",
       "0  CA  39560000  163694   Sacramento  California\n",
       "1  WA   7536000   71297      Olympia  Washington\n",
       "2  TX  28995881  268596       Austin       Texas\n",
       "3  OR   4190713   98378        Salem      Oregon\n",
       "4  WY    578759   97914     Cheyenne     Wyoming\n",
       "5  IL  12671821   57914  Springfield    Illinois\n",
       "6  HI   1420491   10931     Honolulu      Hawaii\n",
       "7  AK    710249  663268       Juneau      Alaska\n",
       "8  NY  19453561   54555       Albany    New York"
      ]
     },
     "execution_count": 5,
     "metadata": {},
     "output_type": "execute_result"
    }
   ],
   "source": [
    "# a dictionary transforms each KEY into a column name, and the values as the entries\n",
    "# note this is the same dataframe as before.\n",
    "pd.DataFrame(state_info_dict)"
   ]
  },
  {
   "cell_type": "markdown",
   "metadata": {},
   "source": [
    "There are a _lot_ of different methods defined on dataframes. Let's take a look at a few examples:"
   ]
  },
  {
   "cell_type": "code",
   "execution_count": 8,
   "metadata": {
    "ExecuteTime": {
     "end_time": "2020-02-11T04:19:46.174951Z",
     "start_time": "2020-02-11T04:19:46.171363Z"
    }
   },
   "outputs": [
    {
     "data": {
      "text/plain": [
       "'0.25.3'"
      ]
     },
     "execution_count": 8,
     "metadata": {},
     "output_type": "execute_result"
    }
   ],
   "source": [
    "pd.__version__"
   ]
  },
  {
   "cell_type": "code",
   "execution_count": 6,
   "metadata": {
    "ExecuteTime": {
     "end_time": "2020-02-11T04:15:56.991773Z",
     "start_time": "2020-02-11T04:15:56.984430Z"
    }
   },
   "outputs": [
    {
     "name": "stdout",
     "output_type": "stream",
     "text": [
      "<class 'pandas.core.frame.DataFrame'>\n",
      "RangeIndex: 9 entries, 0 to 8\n",
      "Data columns (total 5 columns):\n",
      "abb        9 non-null object\n",
      "pop        9 non-null int64\n",
      "area       9 non-null int64\n",
      "captial    9 non-null object\n",
      "state      9 non-null object\n",
      "dtypes: int64(2), object(3)\n",
      "memory usage: 488.0+ bytes\n"
     ]
    }
   ],
   "source": [
    "state_frame.info()"
   ]
  },
  {
   "cell_type": "markdown",
   "metadata": {},
   "source": [
    "This lets us know what the names of the columns are at a glance, what types are stored, and how many of them are in each column."
   ]
  },
  {
   "cell_type": "code",
   "execution_count": 9,
   "metadata": {
    "ExecuteTime": {
     "end_time": "2020-02-11T04:20:42.796211Z",
     "start_time": "2020-02-11T04:20:42.776514Z"
    }
   },
   "outputs": [
    {
     "data": {
      "text/html": [
       "<div>\n",
       "<style scoped>\n",
       "    .dataframe tbody tr th:only-of-type {\n",
       "        vertical-align: middle;\n",
       "    }\n",
       "\n",
       "    .dataframe tbody tr th {\n",
       "        vertical-align: top;\n",
       "    }\n",
       "\n",
       "    .dataframe thead th {\n",
       "        text-align: right;\n",
       "    }\n",
       "</style>\n",
       "<table border=\"1\" class=\"dataframe\">\n",
       "  <thead>\n",
       "    <tr style=\"text-align: right;\">\n",
       "      <th></th>\n",
       "      <th>pop</th>\n",
       "      <th>area</th>\n",
       "    </tr>\n",
       "  </thead>\n",
       "  <tbody>\n",
       "    <tr>\n",
       "      <th>count</th>\n",
       "      <td>9.000000e+00</td>\n",
       "      <td>9.000000</td>\n",
       "    </tr>\n",
       "    <tr>\n",
       "      <th>mean</th>\n",
       "      <td>1.279083e+07</td>\n",
       "      <td>165171.888889</td>\n",
       "    </tr>\n",
       "    <tr>\n",
       "      <th>std</th>\n",
       "      <td>1.391732e+07</td>\n",
       "      <td>201285.435214</td>\n",
       "    </tr>\n",
       "    <tr>\n",
       "      <th>min</th>\n",
       "      <td>5.787590e+05</td>\n",
       "      <td>10931.000000</td>\n",
       "    </tr>\n",
       "    <tr>\n",
       "      <th>25%</th>\n",
       "      <td>1.420491e+06</td>\n",
       "      <td>57914.000000</td>\n",
       "    </tr>\n",
       "    <tr>\n",
       "      <th>50%</th>\n",
       "      <td>7.536000e+06</td>\n",
       "      <td>97914.000000</td>\n",
       "    </tr>\n",
       "    <tr>\n",
       "      <th>75%</th>\n",
       "      <td>1.945356e+07</td>\n",
       "      <td>163694.000000</td>\n",
       "    </tr>\n",
       "    <tr>\n",
       "      <th>max</th>\n",
       "      <td>3.956000e+07</td>\n",
       "      <td>663268.000000</td>\n",
       "    </tr>\n",
       "  </tbody>\n",
       "</table>\n",
       "</div>"
      ],
      "text/plain": [
       "                pop           area\n",
       "count  9.000000e+00       9.000000\n",
       "mean   1.279083e+07  165171.888889\n",
       "std    1.391732e+07  201285.435214\n",
       "min    5.787590e+05   10931.000000\n",
       "25%    1.420491e+06   57914.000000\n",
       "50%    7.536000e+06   97914.000000\n",
       "75%    1.945356e+07  163694.000000\n",
       "max    3.956000e+07  663268.000000"
      ]
     },
     "execution_count": 9,
     "metadata": {},
     "output_type": "execute_result"
    }
   ],
   "source": [
    "# We can summarize the data\n",
    "state_frame.describe()"
   ]
  },
  {
   "cell_type": "code",
   "execution_count": 10,
   "metadata": {
    "ExecuteTime": {
     "end_time": "2020-02-11T04:21:48.977926Z",
     "start_time": "2020-02-11T04:21:48.962474Z"
    }
   },
   "outputs": [
    {
     "data": {
      "text/html": [
       "<div>\n",
       "<style scoped>\n",
       "    .dataframe tbody tr th:only-of-type {\n",
       "        vertical-align: middle;\n",
       "    }\n",
       "\n",
       "    .dataframe tbody tr th {\n",
       "        vertical-align: top;\n",
       "    }\n",
       "\n",
       "    .dataframe thead th {\n",
       "        text-align: right;\n",
       "    }\n",
       "</style>\n",
       "<table border=\"1\" class=\"dataframe\">\n",
       "  <thead>\n",
       "    <tr style=\"text-align: right;\">\n",
       "      <th></th>\n",
       "      <th>pop</th>\n",
       "      <th>area</th>\n",
       "    </tr>\n",
       "  </thead>\n",
       "  <tbody>\n",
       "    <tr>\n",
       "      <th>count</th>\n",
       "      <td>9</td>\n",
       "      <td>9</td>\n",
       "    </tr>\n",
       "    <tr>\n",
       "      <th>mean</th>\n",
       "      <td>12790830</td>\n",
       "      <td>165171</td>\n",
       "    </tr>\n",
       "    <tr>\n",
       "      <th>std</th>\n",
       "      <td>13917315</td>\n",
       "      <td>201285</td>\n",
       "    </tr>\n",
       "    <tr>\n",
       "      <th>min</th>\n",
       "      <td>578759</td>\n",
       "      <td>10931</td>\n",
       "    </tr>\n",
       "    <tr>\n",
       "      <th>25%</th>\n",
       "      <td>1420491</td>\n",
       "      <td>57914</td>\n",
       "    </tr>\n",
       "    <tr>\n",
       "      <th>50%</th>\n",
       "      <td>7536000</td>\n",
       "      <td>97914</td>\n",
       "    </tr>\n",
       "    <tr>\n",
       "      <th>75%</th>\n",
       "      <td>19453561</td>\n",
       "      <td>163694</td>\n",
       "    </tr>\n",
       "    <tr>\n",
       "      <th>max</th>\n",
       "      <td>39560000</td>\n",
       "      <td>663268</td>\n",
       "    </tr>\n",
       "  </tbody>\n",
       "</table>\n",
       "</div>"
      ],
      "text/plain": [
       "            pop    area\n",
       "count         9       9\n",
       "mean   12790830  165171\n",
       "std    13917315  201285\n",
       "min      578759   10931\n",
       "25%     1420491   57914\n",
       "50%     7536000   97914\n",
       "75%    19453561  163694\n",
       "max    39560000  663268"
      ]
     },
     "execution_count": 10,
     "metadata": {},
     "output_type": "execute_result"
    }
   ],
   "source": [
    "# We can summarize the data, converting it to an int\n",
    "# which also forces the formatting to be nicer\n",
    "state_frame.describe().astype(int)"
   ]
  },
  {
   "cell_type": "markdown",
   "metadata": {},
   "source": [
    "We can find the \"average\" properties of numeric columns, such as the minimum, maximum, average (mean and median) of a particular column. \n",
    "\n",
    "Note that these concepts only really make sense for numeric columns (we could _debate_ median for strings) so it automatically filters down to the numeric columsn `pop` and `area`."
   ]
  },
  {
   "cell_type": "code",
   "execution_count": 11,
   "metadata": {
    "ExecuteTime": {
     "end_time": "2020-02-11T04:23:12.633594Z",
     "start_time": "2020-02-11T04:23:12.626525Z"
    }
   },
   "outputs": [
    {
     "data": {
      "text/html": [
       "<div>\n",
       "<style scoped>\n",
       "    .dataframe tbody tr th:only-of-type {\n",
       "        vertical-align: middle;\n",
       "    }\n",
       "\n",
       "    .dataframe tbody tr th {\n",
       "        vertical-align: top;\n",
       "    }\n",
       "\n",
       "    .dataframe thead th {\n",
       "        text-align: right;\n",
       "    }\n",
       "</style>\n",
       "<table border=\"1\" class=\"dataframe\">\n",
       "  <thead>\n",
       "    <tr style=\"text-align: right;\">\n",
       "      <th></th>\n",
       "      <th>abb</th>\n",
       "      <th>pop</th>\n",
       "      <th>area</th>\n",
       "      <th>captial</th>\n",
       "      <th>state</th>\n",
       "    </tr>\n",
       "  </thead>\n",
       "  <tbody>\n",
       "    <tr>\n",
       "      <th>0</th>\n",
       "      <td>CA</td>\n",
       "      <td>39560000</td>\n",
       "      <td>163694</td>\n",
       "      <td>Sacramento</td>\n",
       "      <td>California</td>\n",
       "    </tr>\n",
       "    <tr>\n",
       "      <th>1</th>\n",
       "      <td>WA</td>\n",
       "      <td>7536000</td>\n",
       "      <td>71297</td>\n",
       "      <td>Olympia</td>\n",
       "      <td>Washington</td>\n",
       "    </tr>\n",
       "    <tr>\n",
       "      <th>2</th>\n",
       "      <td>TX</td>\n",
       "      <td>28995881</td>\n",
       "      <td>268596</td>\n",
       "      <td>Austin</td>\n",
       "      <td>Texas</td>\n",
       "    </tr>\n",
       "    <tr>\n",
       "      <th>3</th>\n",
       "      <td>OR</td>\n",
       "      <td>4190713</td>\n",
       "      <td>98378</td>\n",
       "      <td>Salem</td>\n",
       "      <td>Oregon</td>\n",
       "    </tr>\n",
       "    <tr>\n",
       "      <th>4</th>\n",
       "      <td>WY</td>\n",
       "      <td>578759</td>\n",
       "      <td>97914</td>\n",
       "      <td>Cheyenne</td>\n",
       "      <td>Wyoming</td>\n",
       "    </tr>\n",
       "    <tr>\n",
       "      <th>5</th>\n",
       "      <td>IL</td>\n",
       "      <td>12671821</td>\n",
       "      <td>57914</td>\n",
       "      <td>Springfield</td>\n",
       "      <td>Illinois</td>\n",
       "    </tr>\n",
       "    <tr>\n",
       "      <th>6</th>\n",
       "      <td>HI</td>\n",
       "      <td>1420491</td>\n",
       "      <td>10931</td>\n",
       "      <td>Honolulu</td>\n",
       "      <td>Hawaii</td>\n",
       "    </tr>\n",
       "    <tr>\n",
       "      <th>7</th>\n",
       "      <td>AK</td>\n",
       "      <td>710249</td>\n",
       "      <td>663268</td>\n",
       "      <td>Juneau</td>\n",
       "      <td>Alaska</td>\n",
       "    </tr>\n",
       "    <tr>\n",
       "      <th>8</th>\n",
       "      <td>NY</td>\n",
       "      <td>19453561</td>\n",
       "      <td>54555</td>\n",
       "      <td>Albany</td>\n",
       "      <td>New York</td>\n",
       "    </tr>\n",
       "  </tbody>\n",
       "</table>\n",
       "</div>"
      ],
      "text/plain": [
       "  abb       pop    area      captial       state\n",
       "0  CA  39560000  163694   Sacramento  California\n",
       "1  WA   7536000   71297      Olympia  Washington\n",
       "2  TX  28995881  268596       Austin       Texas\n",
       "3  OR   4190713   98378        Salem      Oregon\n",
       "4  WY    578759   97914     Cheyenne     Wyoming\n",
       "5  IL  12671821   57914  Springfield    Illinois\n",
       "6  HI   1420491   10931     Honolulu      Hawaii\n",
       "7  AK    710249  663268       Juneau      Alaska\n",
       "8  NY  19453561   54555       Albany    New York"
      ]
     },
     "execution_count": 11,
     "metadata": {},
     "output_type": "execute_result"
    }
   ],
   "source": [
    "# state_frame itself hasn't changed:\n",
    "state_frame"
   ]
  },
  {
   "cell_type": "markdown",
   "metadata": {},
   "source": [
    "We can also select a particular column by name:"
   ]
  },
  {
   "cell_type": "code",
   "execution_count": 12,
   "metadata": {
    "ExecuteTime": {
     "end_time": "2020-02-11T04:23:32.772373Z",
     "start_time": "2020-02-11T04:23:32.767853Z"
    }
   },
   "outputs": [
    {
     "data": {
      "text/plain": [
       "0    39560000\n",
       "1     7536000\n",
       "2    28995881\n",
       "3     4190713\n",
       "4      578759\n",
       "5    12671821\n",
       "6     1420491\n",
       "7      710249\n",
       "8    19453561\n",
       "Name: pop, dtype: int64"
      ]
     },
     "execution_count": 12,
     "metadata": {},
     "output_type": "execute_result"
    }
   ],
   "source": [
    "state_frame['pop']"
   ]
  },
  {
   "cell_type": "markdown",
   "metadata": {},
   "source": [
    "Note the numbers down the side (called the _index_) match the numbers in the original dataframe.\n",
    "\n",
    "We can sort by population using the name of the column:"
   ]
  },
  {
   "cell_type": "code",
   "execution_count": 36,
   "metadata": {
    "ExecuteTime": {
     "end_time": "2020-02-11T04:33:57.121806Z",
     "start_time": "2020-02-11T04:33:57.107755Z"
    }
   },
   "outputs": [
    {
     "data": {
      "text/html": [
       "<div>\n",
       "<style scoped>\n",
       "    .dataframe tbody tr th:only-of-type {\n",
       "        vertical-align: middle;\n",
       "    }\n",
       "\n",
       "    .dataframe tbody tr th {\n",
       "        vertical-align: top;\n",
       "    }\n",
       "\n",
       "    .dataframe thead th {\n",
       "        text-align: right;\n",
       "    }\n",
       "</style>\n",
       "<table border=\"1\" class=\"dataframe\">\n",
       "  <thead>\n",
       "    <tr style=\"text-align: right;\">\n",
       "      <th></th>\n",
       "      <th>abb</th>\n",
       "      <th>pop</th>\n",
       "      <th>area</th>\n",
       "      <th>captial</th>\n",
       "    </tr>\n",
       "    <tr>\n",
       "      <th>state</th>\n",
       "      <th></th>\n",
       "      <th></th>\n",
       "      <th></th>\n",
       "      <th></th>\n",
       "    </tr>\n",
       "  </thead>\n",
       "  <tbody>\n",
       "    <tr>\n",
       "      <th>Wyoming</th>\n",
       "      <td>WY</td>\n",
       "      <td>578759</td>\n",
       "      <td>97914</td>\n",
       "      <td>Cheyenne</td>\n",
       "    </tr>\n",
       "    <tr>\n",
       "      <th>Alaska</th>\n",
       "      <td>AK</td>\n",
       "      <td>710249</td>\n",
       "      <td>663268</td>\n",
       "      <td>Juneau</td>\n",
       "    </tr>\n",
       "    <tr>\n",
       "      <th>Hawaii</th>\n",
       "      <td>HI</td>\n",
       "      <td>1420491</td>\n",
       "      <td>10931</td>\n",
       "      <td>Honolulu</td>\n",
       "    </tr>\n",
       "    <tr>\n",
       "      <th>Oregon</th>\n",
       "      <td>OR</td>\n",
       "      <td>4190713</td>\n",
       "      <td>98378</td>\n",
       "      <td>Salem</td>\n",
       "    </tr>\n",
       "    <tr>\n",
       "      <th>Washington</th>\n",
       "      <td>WA</td>\n",
       "      <td>7536000</td>\n",
       "      <td>71297</td>\n",
       "      <td>Olympia</td>\n",
       "    </tr>\n",
       "    <tr>\n",
       "      <th>Illinois</th>\n",
       "      <td>IL</td>\n",
       "      <td>12671821</td>\n",
       "      <td>57914</td>\n",
       "      <td>Springfield</td>\n",
       "    </tr>\n",
       "    <tr>\n",
       "      <th>New York</th>\n",
       "      <td>NY</td>\n",
       "      <td>19453561</td>\n",
       "      <td>54555</td>\n",
       "      <td>Albany</td>\n",
       "    </tr>\n",
       "    <tr>\n",
       "      <th>Texas</th>\n",
       "      <td>TX</td>\n",
       "      <td>28995881</td>\n",
       "      <td>268596</td>\n",
       "      <td>Austin</td>\n",
       "    </tr>\n",
       "    <tr>\n",
       "      <th>California</th>\n",
       "      <td>CA</td>\n",
       "      <td>39560000</td>\n",
       "      <td>163694</td>\n",
       "      <td>Sacramento</td>\n",
       "    </tr>\n",
       "  </tbody>\n",
       "</table>\n",
       "</div>"
      ],
      "text/plain": [
       "           abb       pop    area      captial\n",
       "state                                        \n",
       "Wyoming     WY    578759   97914     Cheyenne\n",
       "Alaska      AK    710249  663268       Juneau\n",
       "Hawaii      HI   1420491   10931     Honolulu\n",
       "Oregon      OR   4190713   98378        Salem\n",
       "Washington  WA   7536000   71297      Olympia\n",
       "Illinois    IL  12671821   57914  Springfield\n",
       "New York    NY  19453561   54555       Albany\n",
       "Texas       TX  28995881  268596       Austin\n",
       "California  CA  39560000  163694   Sacramento"
      ]
     },
     "execution_count": 36,
     "metadata": {},
     "output_type": "execute_result"
    }
   ],
   "source": [
    "sorted_state_frame = state_frame.sort_values(['pop', 'area'], ascending=[True, False])\n",
    "sorted_state_frame.set_index('state')"
   ]
  },
  {
   "cell_type": "markdown",
   "metadata": {},
   "source": [
    "Note the _index_ (far left column) is still in the original order. This is a really nice property, because it allows us to \"realign\" or keep track of the rows, even if we have sorted them.\n",
    "\n",
    "We can use the index to get a particular row too:"
   ]
  },
  {
   "cell_type": "code",
   "execution_count": 46,
   "metadata": {
    "ExecuteTime": {
     "end_time": "2020-02-11T04:36:01.764479Z",
     "start_time": "2020-02-11T04:36:01.758135Z"
    }
   },
   "outputs": [
    {
     "data": {
      "text/plain": [
       "abb                CA\n",
       "pop          39560000\n",
       "area           163694\n",
       "captial    Sacramento\n",
       "state      California\n",
       "Name: 0, dtype: object"
      ]
     },
     "execution_count": 46,
     "metadata": {},
     "output_type": "execute_result"
    }
   ],
   "source": [
    "# get the INDEX 0 (doesn't depend on sort)\n",
    "sorted_state_frame.loc[0]"
   ]
  },
  {
   "cell_type": "code",
   "execution_count": 49,
   "metadata": {
    "ExecuteTime": {
     "end_time": "2020-02-11T04:36:49.078154Z",
     "start_time": "2020-02-11T04:36:49.073739Z"
    }
   },
   "outputs": [
    {
     "data": {
      "text/plain": [
       "abb              WY\n",
       "pop          578759\n",
       "area          97914\n",
       "captial    Cheyenne\n",
       "state       Wyoming\n",
       "Name: 4, dtype: object"
      ]
     },
     "execution_count": 49,
     "metadata": {},
     "output_type": "execute_result"
    }
   ],
   "source": [
    "# get the 0th row (ie _integer_ position 0) -- does depend on sort\n",
    "sorted_state_frame.iloc[0]"
   ]
  },
  {
   "cell_type": "markdown",
   "metadata": {},
   "source": [
    "We can use `loc` with an `index` and a `column` name to grab a specific element:"
   ]
  },
  {
   "cell_type": "code",
   "execution_count": 60,
   "metadata": {
    "ExecuteTime": {
     "end_time": "2020-02-11T04:39:20.920998Z",
     "start_time": "2020-02-11T04:39:20.916270Z"
    }
   },
   "outputs": [
    {
     "data": {
      "text/plain": [
       "'Springfield'"
      ]
     },
     "execution_count": 60,
     "metadata": {},
     "output_type": "execute_result"
    }
   ],
   "source": [
    "# get the capital of index 0\n",
    "# note the order: [row index, column name]\n",
    "#      this order is the same as how we will reference matrices in future lectures\n",
    "sorted_state_frame.loc[5, 'captial']"
   ]
  },
  {
   "cell_type": "markdown",
   "metadata": {},
   "source": [
    "We can also create new columns, such as population density:"
   ]
  },
  {
   "cell_type": "code",
   "execution_count": 61,
   "metadata": {
    "ExecuteTime": {
     "end_time": "2020-02-11T04:39:46.596961Z",
     "start_time": "2020-02-11T04:39:46.590243Z"
    }
   },
   "outputs": [],
   "source": [
    "sorted_state_frame['pop_density'] = sorted_state_frame['pop'] / sorted_state_frame['area']"
   ]
  },
  {
   "cell_type": "code",
   "execution_count": 71,
   "metadata": {
    "ExecuteTime": {
     "end_time": "2020-02-11T04:47:52.889774Z",
     "start_time": "2020-02-11T04:47:52.886776Z"
    }
   },
   "outputs": [],
   "source": [
    "sorted_state_frame['is_high_pop_density'] = (sorted_state_frame['pop_density']  > 100)"
   ]
  },
  {
   "cell_type": "code",
   "execution_count": null,
   "metadata": {},
   "outputs": [],
   "source": []
  },
  {
   "cell_type": "code",
   "execution_count": null,
   "metadata": {},
   "outputs": [],
   "source": []
  },
  {
   "cell_type": "code",
   "execution_count": null,
   "metadata": {},
   "outputs": [],
   "source": []
  },
  {
   "cell_type": "code",
   "execution_count": null,
   "metadata": {},
   "outputs": [],
   "source": []
  },
  {
   "cell_type": "code",
   "execution_count": 72,
   "metadata": {
    "ExecuteTime": {
     "end_time": "2020-02-11T04:47:54.981849Z",
     "start_time": "2020-02-11T04:47:54.972998Z"
    }
   },
   "outputs": [
    {
     "data": {
      "text/html": [
       "<div>\n",
       "<style scoped>\n",
       "    .dataframe tbody tr th:only-of-type {\n",
       "        vertical-align: middle;\n",
       "    }\n",
       "\n",
       "    .dataframe tbody tr th {\n",
       "        vertical-align: top;\n",
       "    }\n",
       "\n",
       "    .dataframe thead th {\n",
       "        text-align: right;\n",
       "    }\n",
       "</style>\n",
       "<table border=\"1\" class=\"dataframe\">\n",
       "  <thead>\n",
       "    <tr style=\"text-align: right;\">\n",
       "      <th></th>\n",
       "      <th>abb</th>\n",
       "      <th>pop</th>\n",
       "      <th>area</th>\n",
       "      <th>captial</th>\n",
       "      <th>state</th>\n",
       "      <th>pop_density</th>\n",
       "      <th>is_high_pop_density</th>\n",
       "      <th>stevens_result</th>\n",
       "    </tr>\n",
       "  </thead>\n",
       "  <tbody>\n",
       "    <tr>\n",
       "      <th>4</th>\n",
       "      <td>WY</td>\n",
       "      <td>578759</td>\n",
       "      <td>97914</td>\n",
       "      <td>Cheyenne</td>\n",
       "      <td>Wyoming</td>\n",
       "      <td>5.910891</td>\n",
       "      <td>False</td>\n",
       "      <td>5.666861e+10</td>\n",
       "    </tr>\n",
       "    <tr>\n",
       "      <th>7</th>\n",
       "      <td>AK</td>\n",
       "      <td>710249</td>\n",
       "      <td>663268</td>\n",
       "      <td>Juneau</td>\n",
       "      <td>Alaska</td>\n",
       "      <td>1.070833</td>\n",
       "      <td>False</td>\n",
       "      <td>1.070833e+00</td>\n",
       "    </tr>\n",
       "    <tr>\n",
       "      <th>6</th>\n",
       "      <td>HI</td>\n",
       "      <td>1420491</td>\n",
       "      <td>10931</td>\n",
       "      <td>Honolulu</td>\n",
       "      <td>Hawaii</td>\n",
       "      <td>129.950691</td>\n",
       "      <td>True</td>\n",
       "      <td>1.299507e+02</td>\n",
       "    </tr>\n",
       "    <tr>\n",
       "      <th>3</th>\n",
       "      <td>OR</td>\n",
       "      <td>4190713</td>\n",
       "      <td>98378</td>\n",
       "      <td>Salem</td>\n",
       "      <td>Oregon</td>\n",
       "      <td>42.598071</td>\n",
       "      <td>False</td>\n",
       "      <td>4.259807e+01</td>\n",
       "    </tr>\n",
       "    <tr>\n",
       "      <th>1</th>\n",
       "      <td>WA</td>\n",
       "      <td>7536000</td>\n",
       "      <td>71297</td>\n",
       "      <td>Olympia</td>\n",
       "      <td>Washington</td>\n",
       "      <td>105.698697</td>\n",
       "      <td>True</td>\n",
       "      <td>5.372942e+11</td>\n",
       "    </tr>\n",
       "    <tr>\n",
       "      <th>5</th>\n",
       "      <td>IL</td>\n",
       "      <td>12671821</td>\n",
       "      <td>57914</td>\n",
       "      <td>Springfield</td>\n",
       "      <td>Illinois</td>\n",
       "      <td>218.804106</td>\n",
       "      <td>True</td>\n",
       "      <td>2.188041e+02</td>\n",
       "    </tr>\n",
       "    <tr>\n",
       "      <th>8</th>\n",
       "      <td>NY</td>\n",
       "      <td>19453561</td>\n",
       "      <td>54555</td>\n",
       "      <td>Albany</td>\n",
       "      <td>New York</td>\n",
       "      <td>356.586216</td>\n",
       "      <td>True</td>\n",
       "      <td>3.565862e+02</td>\n",
       "    </tr>\n",
       "    <tr>\n",
       "      <th>2</th>\n",
       "      <td>TX</td>\n",
       "      <td>28995881</td>\n",
       "      <td>268596</td>\n",
       "      <td>Austin</td>\n",
       "      <td>Texas</td>\n",
       "      <td>107.953510</td>\n",
       "      <td>True</td>\n",
       "      <td>1.079535e+02</td>\n",
       "    </tr>\n",
       "    <tr>\n",
       "      <th>0</th>\n",
       "      <td>CA</td>\n",
       "      <td>39560000</td>\n",
       "      <td>163694</td>\n",
       "      <td>Sacramento</td>\n",
       "      <td>California</td>\n",
       "      <td>241.670434</td>\n",
       "      <td>True</td>\n",
       "      <td>2.416704e+02</td>\n",
       "    </tr>\n",
       "  </tbody>\n",
       "</table>\n",
       "</div>"
      ],
      "text/plain": [
       "  abb       pop    area      captial       state  pop_density  \\\n",
       "4  WY    578759   97914     Cheyenne     Wyoming     5.910891   \n",
       "7  AK    710249  663268       Juneau      Alaska     1.070833   \n",
       "6  HI   1420491   10931     Honolulu      Hawaii   129.950691   \n",
       "3  OR   4190713   98378        Salem      Oregon    42.598071   \n",
       "1  WA   7536000   71297      Olympia  Washington   105.698697   \n",
       "5  IL  12671821   57914  Springfield    Illinois   218.804106   \n",
       "8  NY  19453561   54555       Albany    New York   356.586216   \n",
       "2  TX  28995881  268596       Austin       Texas   107.953510   \n",
       "0  CA  39560000  163694   Sacramento  California   241.670434   \n",
       "\n",
       "   is_high_pop_density  stevens_result  \n",
       "4                False    5.666861e+10  \n",
       "7                False    1.070833e+00  \n",
       "6                 True    1.299507e+02  \n",
       "3                False    4.259807e+01  \n",
       "1                 True    5.372942e+11  \n",
       "5                 True    2.188041e+02  \n",
       "8                 True    3.565862e+02  \n",
       "2                 True    1.079535e+02  \n",
       "0                 True    2.416704e+02  "
      ]
     },
     "execution_count": 72,
     "metadata": {},
     "output_type": "execute_result"
    }
   ],
   "source": [
    "sorted_state_frame"
   ]
  },
  {
   "cell_type": "markdown",
   "metadata": {},
   "source": [
    "## Reading in Data\n",
    "\n",
    "The dataset above isn't particularly big, and there is a limited amount we can do with it. It is not pleasant to enter large dataframes manually using this method. It is much more common to get an external data source, read it into pandas, and then start manipulating it.\n",
    "\n",
    "One of the most common types of data we will look at are comma separated files (CSV). Pandas has a great method, `read_csv` that will allow us to enter the name of a file -- or a URL -- and will read the data for us "
   ]
  },
  {
   "cell_type": "code",
   "execution_count": 74,
   "metadata": {
    "ExecuteTime": {
     "end_time": "2020-02-11T04:49:16.723782Z",
     "start_time": "2020-02-11T04:49:16.721590Z"
    }
   },
   "outputs": [],
   "source": [
    "# Go look at this in your browser\n",
    "URL = 'https://raw.githubusercontent.com/vega/vega/master/docs/data/seattle-weather.csv'"
   ]
  },
  {
   "cell_type": "code",
   "execution_count": 85,
   "metadata": {
    "ExecuteTime": {
     "end_time": "2020-02-11T04:54:04.386359Z",
     "start_time": "2020-02-11T04:54:03.857450Z"
    }
   },
   "outputs": [],
   "source": [
    "seattle_weather = pd.read_csv(URL)"
   ]
  },
  {
   "cell_type": "code",
   "execution_count": 86,
   "metadata": {
    "ExecuteTime": {
     "end_time": "2020-02-11T04:54:04.399743Z",
     "start_time": "2020-02-11T04:54:04.387655Z"
    }
   },
   "outputs": [
    {
     "data": {
      "text/html": [
       "<div>\n",
       "<style scoped>\n",
       "    .dataframe tbody tr th:only-of-type {\n",
       "        vertical-align: middle;\n",
       "    }\n",
       "\n",
       "    .dataframe tbody tr th {\n",
       "        vertical-align: top;\n",
       "    }\n",
       "\n",
       "    .dataframe thead th {\n",
       "        text-align: right;\n",
       "    }\n",
       "</style>\n",
       "<table border=\"1\" class=\"dataframe\">\n",
       "  <thead>\n",
       "    <tr style=\"text-align: right;\">\n",
       "      <th></th>\n",
       "      <th>date</th>\n",
       "      <th>precipitation</th>\n",
       "      <th>temp_max</th>\n",
       "      <th>temp_min</th>\n",
       "      <th>wind</th>\n",
       "      <th>weather</th>\n",
       "    </tr>\n",
       "  </thead>\n",
       "  <tbody>\n",
       "    <tr>\n",
       "      <th>0</th>\n",
       "      <td>2012/01/01</td>\n",
       "      <td>0.0</td>\n",
       "      <td>12.8</td>\n",
       "      <td>5.0</td>\n",
       "      <td>4.7</td>\n",
       "      <td>drizzle</td>\n",
       "    </tr>\n",
       "    <tr>\n",
       "      <th>1</th>\n",
       "      <td>2012/01/02</td>\n",
       "      <td>10.9</td>\n",
       "      <td>10.6</td>\n",
       "      <td>2.8</td>\n",
       "      <td>4.5</td>\n",
       "      <td>rain</td>\n",
       "    </tr>\n",
       "    <tr>\n",
       "      <th>2</th>\n",
       "      <td>2012/01/03</td>\n",
       "      <td>0.8</td>\n",
       "      <td>11.7</td>\n",
       "      <td>7.2</td>\n",
       "      <td>2.3</td>\n",
       "      <td>rain</td>\n",
       "    </tr>\n",
       "    <tr>\n",
       "      <th>3</th>\n",
       "      <td>2012/01/04</td>\n",
       "      <td>20.3</td>\n",
       "      <td>12.2</td>\n",
       "      <td>5.6</td>\n",
       "      <td>4.7</td>\n",
       "      <td>rain</td>\n",
       "    </tr>\n",
       "    <tr>\n",
       "      <th>4</th>\n",
       "      <td>2012/01/05</td>\n",
       "      <td>1.3</td>\n",
       "      <td>8.9</td>\n",
       "      <td>2.8</td>\n",
       "      <td>6.1</td>\n",
       "      <td>rain</td>\n",
       "    </tr>\n",
       "    <tr>\n",
       "      <th>...</th>\n",
       "      <td>...</td>\n",
       "      <td>...</td>\n",
       "      <td>...</td>\n",
       "      <td>...</td>\n",
       "      <td>...</td>\n",
       "      <td>...</td>\n",
       "    </tr>\n",
       "    <tr>\n",
       "      <th>1456</th>\n",
       "      <td>2015/12/27</td>\n",
       "      <td>8.6</td>\n",
       "      <td>4.4</td>\n",
       "      <td>1.7</td>\n",
       "      <td>2.9</td>\n",
       "      <td>fog</td>\n",
       "    </tr>\n",
       "    <tr>\n",
       "      <th>1457</th>\n",
       "      <td>2015/12/28</td>\n",
       "      <td>1.5</td>\n",
       "      <td>5.0</td>\n",
       "      <td>1.7</td>\n",
       "      <td>1.3</td>\n",
       "      <td>fog</td>\n",
       "    </tr>\n",
       "    <tr>\n",
       "      <th>1458</th>\n",
       "      <td>2015/12/29</td>\n",
       "      <td>0.0</td>\n",
       "      <td>7.2</td>\n",
       "      <td>0.6</td>\n",
       "      <td>2.6</td>\n",
       "      <td>fog</td>\n",
       "    </tr>\n",
       "    <tr>\n",
       "      <th>1459</th>\n",
       "      <td>2015/12/30</td>\n",
       "      <td>0.0</td>\n",
       "      <td>5.6</td>\n",
       "      <td>-1.0</td>\n",
       "      <td>3.4</td>\n",
       "      <td>sun</td>\n",
       "    </tr>\n",
       "    <tr>\n",
       "      <th>1460</th>\n",
       "      <td>2015/12/31</td>\n",
       "      <td>0.0</td>\n",
       "      <td>5.6</td>\n",
       "      <td>-2.1</td>\n",
       "      <td>3.5</td>\n",
       "      <td>sun</td>\n",
       "    </tr>\n",
       "  </tbody>\n",
       "</table>\n",
       "<p>1461 rows × 6 columns</p>\n",
       "</div>"
      ],
      "text/plain": [
       "            date  precipitation  temp_max  temp_min  wind  weather\n",
       "0     2012/01/01            0.0      12.8       5.0   4.7  drizzle\n",
       "1     2012/01/02           10.9      10.6       2.8   4.5     rain\n",
       "2     2012/01/03            0.8      11.7       7.2   2.3     rain\n",
       "3     2012/01/04           20.3      12.2       5.6   4.7     rain\n",
       "4     2012/01/05            1.3       8.9       2.8   6.1     rain\n",
       "...          ...            ...       ...       ...   ...      ...\n",
       "1456  2015/12/27            8.6       4.4       1.7   2.9      fog\n",
       "1457  2015/12/28            1.5       5.0       1.7   1.3      fog\n",
       "1458  2015/12/29            0.0       7.2       0.6   2.6      fog\n",
       "1459  2015/12/30            0.0       5.6      -1.0   3.4      sun\n",
       "1460  2015/12/31            0.0       5.6      -2.1   3.5      sun\n",
       "\n",
       "[1461 rows x 6 columns]"
      ]
     },
     "execution_count": 86,
     "metadata": {},
     "output_type": "execute_result"
    }
   ],
   "source": [
    "seattle_weather"
   ]
  },
  {
   "cell_type": "markdown",
   "metadata": {},
   "source": [
    "Note that we have just read in 1461 rows of data! We also have different types of data:\n",
    "- `date`\n",
    "- `precipitation`, `temp_max`, `temp_min`, `wind` (all floats)\n",
    "- `weather` (strings)"
   ]
  },
  {
   "cell_type": "markdown",
   "metadata": {},
   "source": [
    "Let's look at the types according to Pandas:"
   ]
  },
  {
   "cell_type": "code",
   "execution_count": 77,
   "metadata": {
    "ExecuteTime": {
     "end_time": "2020-02-11T04:50:46.063014Z",
     "start_time": "2020-02-11T04:50:46.057817Z"
    }
   },
   "outputs": [
    {
     "name": "stdout",
     "output_type": "stream",
     "text": [
      "<class 'pandas.core.frame.DataFrame'>\n",
      "RangeIndex: 1461 entries, 0 to 1460\n",
      "Data columns (total 6 columns):\n",
      "date             1461 non-null object\n",
      "precipitation    1461 non-null float64\n",
      "temp_max         1461 non-null float64\n",
      "temp_min         1461 non-null float64\n",
      "wind             1461 non-null float64\n",
      "weather          1461 non-null object\n",
      "dtypes: float64(4), object(2)\n",
      "memory usage: 68.6+ KB\n"
     ]
    }
   ],
   "source": [
    "seattle_weather.info()"
   ]
  },
  {
   "cell_type": "markdown",
   "metadata": {},
   "source": [
    "Pandas (at least version before 1.0.0) takes string columns to be numbers. Pandas can do a lot of cool things with dates, so let's convert that now"
   ]
  },
  {
   "cell_type": "code",
   "execution_count": 88,
   "metadata": {
    "ExecuteTime": {
     "end_time": "2020-02-11T04:55:15.888008Z",
     "start_time": "2020-02-11T04:55:15.878883Z"
    }
   },
   "outputs": [
    {
     "name": "stdout",
     "output_type": "stream",
     "text": [
      "<class 'pandas.core.frame.DataFrame'>\n",
      "RangeIndex: 1461 entries, 0 to 1460\n",
      "Data columns (total 6 columns):\n",
      "date             1461 non-null datetime64[ns]\n",
      "precipitation    1461 non-null float64\n",
      "temp_max         1461 non-null float64\n",
      "temp_min         1461 non-null float64\n",
      "wind             1461 non-null float64\n",
      "weather          1461 non-null object\n",
      "dtypes: datetime64[ns](1), float64(4), object(1)\n",
      "memory usage: 68.6+ KB\n"
     ]
    }
   ],
   "source": [
    "seattle_weather['date'] = pd.to_datetime(seattle_weather['date'])\n",
    "seattle_weather.info()"
   ]
  },
  {
   "cell_type": "markdown",
   "metadata": {},
   "source": [
    "We can use `.head(n=....)` to look at the first `n` rows of data, which is helpful for just \"getting a feel\" for the data:"
   ]
  },
  {
   "cell_type": "code",
   "execution_count": 89,
   "metadata": {
    "ExecuteTime": {
     "end_time": "2020-02-11T04:55:16.554847Z",
     "start_time": "2020-02-11T04:55:16.544656Z"
    }
   },
   "outputs": [
    {
     "data": {
      "text/html": [
       "<div>\n",
       "<style scoped>\n",
       "    .dataframe tbody tr th:only-of-type {\n",
       "        vertical-align: middle;\n",
       "    }\n",
       "\n",
       "    .dataframe tbody tr th {\n",
       "        vertical-align: top;\n",
       "    }\n",
       "\n",
       "    .dataframe thead th {\n",
       "        text-align: right;\n",
       "    }\n",
       "</style>\n",
       "<table border=\"1\" class=\"dataframe\">\n",
       "  <thead>\n",
       "    <tr style=\"text-align: right;\">\n",
       "      <th></th>\n",
       "      <th>date</th>\n",
       "      <th>precipitation</th>\n",
       "      <th>temp_max</th>\n",
       "      <th>temp_min</th>\n",
       "      <th>wind</th>\n",
       "      <th>weather</th>\n",
       "    </tr>\n",
       "  </thead>\n",
       "  <tbody>\n",
       "    <tr>\n",
       "      <th>0</th>\n",
       "      <td>2012-01-01</td>\n",
       "      <td>0.0</td>\n",
       "      <td>12.8</td>\n",
       "      <td>5.0</td>\n",
       "      <td>4.7</td>\n",
       "      <td>drizzle</td>\n",
       "    </tr>\n",
       "    <tr>\n",
       "      <th>1</th>\n",
       "      <td>2012-01-02</td>\n",
       "      <td>10.9</td>\n",
       "      <td>10.6</td>\n",
       "      <td>2.8</td>\n",
       "      <td>4.5</td>\n",
       "      <td>rain</td>\n",
       "    </tr>\n",
       "    <tr>\n",
       "      <th>2</th>\n",
       "      <td>2012-01-03</td>\n",
       "      <td>0.8</td>\n",
       "      <td>11.7</td>\n",
       "      <td>7.2</td>\n",
       "      <td>2.3</td>\n",
       "      <td>rain</td>\n",
       "    </tr>\n",
       "    <tr>\n",
       "      <th>3</th>\n",
       "      <td>2012-01-04</td>\n",
       "      <td>20.3</td>\n",
       "      <td>12.2</td>\n",
       "      <td>5.6</td>\n",
       "      <td>4.7</td>\n",
       "      <td>rain</td>\n",
       "    </tr>\n",
       "    <tr>\n",
       "      <th>4</th>\n",
       "      <td>2012-01-05</td>\n",
       "      <td>1.3</td>\n",
       "      <td>8.9</td>\n",
       "      <td>2.8</td>\n",
       "      <td>6.1</td>\n",
       "      <td>rain</td>\n",
       "    </tr>\n",
       "  </tbody>\n",
       "</table>\n",
       "</div>"
      ],
      "text/plain": [
       "        date  precipitation  temp_max  temp_min  wind  weather\n",
       "0 2012-01-01            0.0      12.8       5.0   4.7  drizzle\n",
       "1 2012-01-02           10.9      10.6       2.8   4.5     rain\n",
       "2 2012-01-03            0.8      11.7       7.2   2.3     rain\n",
       "3 2012-01-04           20.3      12.2       5.6   4.7     rain\n",
       "4 2012-01-05            1.3       8.9       2.8   6.1     rain"
      ]
     },
     "execution_count": 89,
     "metadata": {},
     "output_type": "execute_result"
    }
   ],
   "source": [
    "seattle_weather.head()"
   ]
  },
  {
   "cell_type": "markdown",
   "metadata": {},
   "source": [
    "What if we were interested in the average rainfall? We could use `.describe()`:"
   ]
  },
  {
   "cell_type": "code",
   "execution_count": 90,
   "metadata": {
    "ExecuteTime": {
     "end_time": "2020-02-11T04:55:17.870432Z",
     "start_time": "2020-02-11T04:55:17.847613Z"
    }
   },
   "outputs": [
    {
     "data": {
      "text/html": [
       "<div>\n",
       "<style scoped>\n",
       "    .dataframe tbody tr th:only-of-type {\n",
       "        vertical-align: middle;\n",
       "    }\n",
       "\n",
       "    .dataframe tbody tr th {\n",
       "        vertical-align: top;\n",
       "    }\n",
       "\n",
       "    .dataframe thead th {\n",
       "        text-align: right;\n",
       "    }\n",
       "</style>\n",
       "<table border=\"1\" class=\"dataframe\">\n",
       "  <thead>\n",
       "    <tr style=\"text-align: right;\">\n",
       "      <th></th>\n",
       "      <th>precipitation</th>\n",
       "      <th>temp_max</th>\n",
       "      <th>temp_min</th>\n",
       "      <th>wind</th>\n",
       "    </tr>\n",
       "  </thead>\n",
       "  <tbody>\n",
       "    <tr>\n",
       "      <th>count</th>\n",
       "      <td>1461.000000</td>\n",
       "      <td>1461.000000</td>\n",
       "      <td>1461.000000</td>\n",
       "      <td>1461.000000</td>\n",
       "    </tr>\n",
       "    <tr>\n",
       "      <th>mean</th>\n",
       "      <td>3.029432</td>\n",
       "      <td>16.439083</td>\n",
       "      <td>8.234771</td>\n",
       "      <td>3.241136</td>\n",
       "    </tr>\n",
       "    <tr>\n",
       "      <th>std</th>\n",
       "      <td>6.680194</td>\n",
       "      <td>7.349758</td>\n",
       "      <td>5.023004</td>\n",
       "      <td>1.437825</td>\n",
       "    </tr>\n",
       "    <tr>\n",
       "      <th>min</th>\n",
       "      <td>0.000000</td>\n",
       "      <td>-1.600000</td>\n",
       "      <td>-7.100000</td>\n",
       "      <td>0.400000</td>\n",
       "    </tr>\n",
       "    <tr>\n",
       "      <th>25%</th>\n",
       "      <td>0.000000</td>\n",
       "      <td>10.600000</td>\n",
       "      <td>4.400000</td>\n",
       "      <td>2.200000</td>\n",
       "    </tr>\n",
       "    <tr>\n",
       "      <th>50%</th>\n",
       "      <td>0.000000</td>\n",
       "      <td>15.600000</td>\n",
       "      <td>8.300000</td>\n",
       "      <td>3.000000</td>\n",
       "    </tr>\n",
       "    <tr>\n",
       "      <th>75%</th>\n",
       "      <td>2.800000</td>\n",
       "      <td>22.200000</td>\n",
       "      <td>12.200000</td>\n",
       "      <td>4.000000</td>\n",
       "    </tr>\n",
       "    <tr>\n",
       "      <th>max</th>\n",
       "      <td>55.900000</td>\n",
       "      <td>35.600000</td>\n",
       "      <td>18.300000</td>\n",
       "      <td>9.500000</td>\n",
       "    </tr>\n",
       "  </tbody>\n",
       "</table>\n",
       "</div>"
      ],
      "text/plain": [
       "       precipitation     temp_max     temp_min         wind\n",
       "count    1461.000000  1461.000000  1461.000000  1461.000000\n",
       "mean        3.029432    16.439083     8.234771     3.241136\n",
       "std         6.680194     7.349758     5.023004     1.437825\n",
       "min         0.000000    -1.600000    -7.100000     0.400000\n",
       "25%         0.000000    10.600000     4.400000     2.200000\n",
       "50%         0.000000    15.600000     8.300000     3.000000\n",
       "75%         2.800000    22.200000    12.200000     4.000000\n",
       "max        55.900000    35.600000    18.300000     9.500000"
      ]
     },
     "execution_count": 90,
     "metadata": {},
     "output_type": "execute_result"
    }
   ],
   "source": [
    "# find all the averages -- returns a dataframe\n",
    "seattle_weather.describe()"
   ]
  },
  {
   "cell_type": "code",
   "execution_count": 91,
   "metadata": {
    "ExecuteTime": {
     "end_time": "2020-02-11T04:56:28.726097Z",
     "start_time": "2020-02-11T04:56:28.702728Z"
    }
   },
   "outputs": [
    {
     "data": {
      "text/plain": [
       "count    1461.000000\n",
       "mean        3.029432\n",
       "std         6.680194\n",
       "min         0.000000\n",
       "25%         0.000000\n",
       "50%         0.000000\n",
       "75%         2.800000\n",
       "max        55.900000\n",
       "Name: precipitation, dtype: float64"
      ]
     },
     "execution_count": 91,
     "metadata": {},
     "output_type": "execute_result"
    }
   ],
   "source": [
    "# just grab the \"precipitation\" column of that dataframe\n",
    "seattle_weather.describe()['precipitation']"
   ]
  },
  {
   "cell_type": "code",
   "execution_count": 93,
   "metadata": {
    "ExecuteTime": {
     "end_time": "2020-02-11T04:56:49.482761Z",
     "start_time": "2020-02-11T04:56:49.478793Z"
    }
   },
   "outputs": [
    {
     "data": {
      "text/plain": [
       "3.02943189596167"
      ]
     },
     "execution_count": 93,
     "metadata": {},
     "output_type": "execute_result"
    }
   ],
   "source": [
    "# Or, just grab the `precipitation` column and calculate the mean\n",
    "seattle_weather['precipitation'].mean()"
   ]
  },
  {
   "cell_type": "markdown",
   "metadata": {},
   "source": [
    "How many different \"types\" of weather are there? How often do they occur?"
   ]
  },
  {
   "cell_type": "code",
   "execution_count": 95,
   "metadata": {
    "ExecuteTime": {
     "end_time": "2020-02-11T04:57:29.666015Z",
     "start_time": "2020-02-11T04:57:29.658814Z"
    }
   },
   "outputs": [
    {
     "data": {
      "text/plain": [
       "sun        714\n",
       "fog        411\n",
       "rain       259\n",
       "drizzle     54\n",
       "snow        23\n",
       "Name: weather, dtype: int64"
      ]
     },
     "execution_count": 95,
     "metadata": {},
     "output_type": "execute_result"
    }
   ],
   "source": [
    "seattle_weather['weather'].value_counts()"
   ]
  },
  {
   "cell_type": "markdown",
   "metadata": {},
   "source": [
    "### Indexing\n",
    "\n",
    "How can we look at just the snow days?"
   ]
  },
  {
   "cell_type": "code",
   "execution_count": 100,
   "metadata": {
    "ExecuteTime": {
     "end_time": "2020-02-11T04:59:57.298662Z",
     "start_time": "2020-02-11T04:59:57.292818Z"
    }
   },
   "outputs": [
    {
     "data": {
      "text/plain": [
       "0       False\n",
       "1       False\n",
       "2       False\n",
       "3       False\n",
       "4       False\n",
       "        ...  \n",
       "1456    False\n",
       "1457    False\n",
       "1458    False\n",
       "1459    False\n",
       "1460    False\n",
       "Name: weather, Length: 1461, dtype: bool"
      ]
     },
     "execution_count": 100,
     "metadata": {},
     "output_type": "execute_result"
    }
   ],
   "source": [
    "# This checks every row, and returns True or False for that row\n",
    "# i.e. it doesn't only return one value, it returns a whole series\n",
    "seattle_weather['weather'] == 'snow'"
   ]
  },
  {
   "cell_type": "code",
   "execution_count": 101,
   "metadata": {
    "ExecuteTime": {
     "end_time": "2020-02-11T05:00:21.727266Z",
     "start_time": "2020-02-11T05:00:21.708953Z"
    }
   },
   "outputs": [
    {
     "data": {
      "text/html": [
       "<div>\n",
       "<style scoped>\n",
       "    .dataframe tbody tr th:only-of-type {\n",
       "        vertical-align: middle;\n",
       "    }\n",
       "\n",
       "    .dataframe tbody tr th {\n",
       "        vertical-align: top;\n",
       "    }\n",
       "\n",
       "    .dataframe thead th {\n",
       "        text-align: right;\n",
       "    }\n",
       "</style>\n",
       "<table border=\"1\" class=\"dataframe\">\n",
       "  <thead>\n",
       "    <tr style=\"text-align: right;\">\n",
       "      <th></th>\n",
       "      <th>date</th>\n",
       "      <th>precipitation</th>\n",
       "      <th>temp_max</th>\n",
       "      <th>temp_min</th>\n",
       "      <th>wind</th>\n",
       "      <th>weather</th>\n",
       "    </tr>\n",
       "  </thead>\n",
       "  <tbody>\n",
       "    <tr>\n",
       "      <th>13</th>\n",
       "      <td>2012-01-14</td>\n",
       "      <td>4.1</td>\n",
       "      <td>4.4</td>\n",
       "      <td>0.6</td>\n",
       "      <td>5.3</td>\n",
       "      <td>snow</td>\n",
       "    </tr>\n",
       "    <tr>\n",
       "      <th>14</th>\n",
       "      <td>2012-01-15</td>\n",
       "      <td>5.3</td>\n",
       "      <td>1.1</td>\n",
       "      <td>-3.3</td>\n",
       "      <td>3.2</td>\n",
       "      <td>snow</td>\n",
       "    </tr>\n",
       "    <tr>\n",
       "      <th>15</th>\n",
       "      <td>2012-01-16</td>\n",
       "      <td>2.5</td>\n",
       "      <td>1.7</td>\n",
       "      <td>-2.8</td>\n",
       "      <td>5.0</td>\n",
       "      <td>snow</td>\n",
       "    </tr>\n",
       "    <tr>\n",
       "      <th>16</th>\n",
       "      <td>2012-01-17</td>\n",
       "      <td>8.1</td>\n",
       "      <td>3.3</td>\n",
       "      <td>0.0</td>\n",
       "      <td>5.6</td>\n",
       "      <td>snow</td>\n",
       "    </tr>\n",
       "    <tr>\n",
       "      <th>17</th>\n",
       "      <td>2012-01-18</td>\n",
       "      <td>19.8</td>\n",
       "      <td>0.0</td>\n",
       "      <td>-2.8</td>\n",
       "      <td>5.0</td>\n",
       "      <td>snow</td>\n",
       "    </tr>\n",
       "    <tr>\n",
       "      <th>18</th>\n",
       "      <td>2012-01-19</td>\n",
       "      <td>15.2</td>\n",
       "      <td>-1.1</td>\n",
       "      <td>-2.8</td>\n",
       "      <td>1.6</td>\n",
       "      <td>snow</td>\n",
       "    </tr>\n",
       "    <tr>\n",
       "      <th>19</th>\n",
       "      <td>2012-01-20</td>\n",
       "      <td>13.5</td>\n",
       "      <td>7.2</td>\n",
       "      <td>-1.1</td>\n",
       "      <td>2.3</td>\n",
       "      <td>snow</td>\n",
       "    </tr>\n",
       "    <tr>\n",
       "      <th>56</th>\n",
       "      <td>2012-02-26</td>\n",
       "      <td>1.3</td>\n",
       "      <td>5.0</td>\n",
       "      <td>-1.1</td>\n",
       "      <td>3.4</td>\n",
       "      <td>snow</td>\n",
       "    </tr>\n",
       "    <tr>\n",
       "      <th>58</th>\n",
       "      <td>2012-02-28</td>\n",
       "      <td>3.6</td>\n",
       "      <td>6.7</td>\n",
       "      <td>-0.6</td>\n",
       "      <td>4.2</td>\n",
       "      <td>snow</td>\n",
       "    </tr>\n",
       "    <tr>\n",
       "      <th>59</th>\n",
       "      <td>2012-02-29</td>\n",
       "      <td>0.8</td>\n",
       "      <td>5.0</td>\n",
       "      <td>1.1</td>\n",
       "      <td>7.0</td>\n",
       "      <td>snow</td>\n",
       "    </tr>\n",
       "    <tr>\n",
       "      <th>65</th>\n",
       "      <td>2012-03-06</td>\n",
       "      <td>0.5</td>\n",
       "      <td>6.7</td>\n",
       "      <td>0.0</td>\n",
       "      <td>2.7</td>\n",
       "      <td>snow</td>\n",
       "    </tr>\n",
       "    <tr>\n",
       "      <th>71</th>\n",
       "      <td>2012-03-12</td>\n",
       "      <td>19.3</td>\n",
       "      <td>8.3</td>\n",
       "      <td>0.6</td>\n",
       "      <td>6.2</td>\n",
       "      <td>snow</td>\n",
       "    </tr>\n",
       "    <tr>\n",
       "      <th>72</th>\n",
       "      <td>2012-03-13</td>\n",
       "      <td>9.4</td>\n",
       "      <td>5.6</td>\n",
       "      <td>0.6</td>\n",
       "      <td>5.3</td>\n",
       "      <td>snow</td>\n",
       "    </tr>\n",
       "    <tr>\n",
       "      <th>74</th>\n",
       "      <td>2012-03-15</td>\n",
       "      <td>23.9</td>\n",
       "      <td>11.1</td>\n",
       "      <td>5.6</td>\n",
       "      <td>5.8</td>\n",
       "      <td>snow</td>\n",
       "    </tr>\n",
       "    <tr>\n",
       "      <th>76</th>\n",
       "      <td>2012-03-17</td>\n",
       "      <td>9.4</td>\n",
       "      <td>10.0</td>\n",
       "      <td>0.6</td>\n",
       "      <td>3.8</td>\n",
       "      <td>snow</td>\n",
       "    </tr>\n",
       "    <tr>\n",
       "      <th>95</th>\n",
       "      <td>2012-04-05</td>\n",
       "      <td>4.6</td>\n",
       "      <td>9.4</td>\n",
       "      <td>2.8</td>\n",
       "      <td>1.8</td>\n",
       "      <td>snow</td>\n",
       "    </tr>\n",
       "    <tr>\n",
       "      <th>349</th>\n",
       "      <td>2012-12-15</td>\n",
       "      <td>5.3</td>\n",
       "      <td>4.4</td>\n",
       "      <td>0.6</td>\n",
       "      <td>5.1</td>\n",
       "      <td>snow</td>\n",
       "    </tr>\n",
       "    <tr>\n",
       "      <th>350</th>\n",
       "      <td>2012-12-16</td>\n",
       "      <td>22.6</td>\n",
       "      <td>6.7</td>\n",
       "      <td>3.3</td>\n",
       "      <td>5.5</td>\n",
       "      <td>snow</td>\n",
       "    </tr>\n",
       "    <tr>\n",
       "      <th>352</th>\n",
       "      <td>2012-12-18</td>\n",
       "      <td>3.3</td>\n",
       "      <td>3.9</td>\n",
       "      <td>0.6</td>\n",
       "      <td>5.3</td>\n",
       "      <td>snow</td>\n",
       "    </tr>\n",
       "    <tr>\n",
       "      <th>353</th>\n",
       "      <td>2012-12-19</td>\n",
       "      <td>13.7</td>\n",
       "      <td>8.3</td>\n",
       "      <td>1.7</td>\n",
       "      <td>5.8</td>\n",
       "      <td>snow</td>\n",
       "    </tr>\n",
       "    <tr>\n",
       "      <th>359</th>\n",
       "      <td>2012-12-25</td>\n",
       "      <td>13.5</td>\n",
       "      <td>5.6</td>\n",
       "      <td>2.8</td>\n",
       "      <td>4.2</td>\n",
       "      <td>snow</td>\n",
       "    </tr>\n",
       "    <tr>\n",
       "      <th>375</th>\n",
       "      <td>2013-01-10</td>\n",
       "      <td>0.3</td>\n",
       "      <td>3.3</td>\n",
       "      <td>-0.6</td>\n",
       "      <td>2.1</td>\n",
       "      <td>snow</td>\n",
       "    </tr>\n",
       "    <tr>\n",
       "      <th>445</th>\n",
       "      <td>2013-03-21</td>\n",
       "      <td>8.1</td>\n",
       "      <td>10.0</td>\n",
       "      <td>2.2</td>\n",
       "      <td>4.9</td>\n",
       "      <td>snow</td>\n",
       "    </tr>\n",
       "  </tbody>\n",
       "</table>\n",
       "</div>"
      ],
      "text/plain": [
       "          date  precipitation  temp_max  temp_min  wind weather\n",
       "13  2012-01-14            4.1       4.4       0.6   5.3    snow\n",
       "14  2012-01-15            5.3       1.1      -3.3   3.2    snow\n",
       "15  2012-01-16            2.5       1.7      -2.8   5.0    snow\n",
       "16  2012-01-17            8.1       3.3       0.0   5.6    snow\n",
       "17  2012-01-18           19.8       0.0      -2.8   5.0    snow\n",
       "18  2012-01-19           15.2      -1.1      -2.8   1.6    snow\n",
       "19  2012-01-20           13.5       7.2      -1.1   2.3    snow\n",
       "56  2012-02-26            1.3       5.0      -1.1   3.4    snow\n",
       "58  2012-02-28            3.6       6.7      -0.6   4.2    snow\n",
       "59  2012-02-29            0.8       5.0       1.1   7.0    snow\n",
       "65  2012-03-06            0.5       6.7       0.0   2.7    snow\n",
       "71  2012-03-12           19.3       8.3       0.6   6.2    snow\n",
       "72  2012-03-13            9.4       5.6       0.6   5.3    snow\n",
       "74  2012-03-15           23.9      11.1       5.6   5.8    snow\n",
       "76  2012-03-17            9.4      10.0       0.6   3.8    snow\n",
       "95  2012-04-05            4.6       9.4       2.8   1.8    snow\n",
       "349 2012-12-15            5.3       4.4       0.6   5.1    snow\n",
       "350 2012-12-16           22.6       6.7       3.3   5.5    snow\n",
       "352 2012-12-18            3.3       3.9       0.6   5.3    snow\n",
       "353 2012-12-19           13.7       8.3       1.7   5.8    snow\n",
       "359 2012-12-25           13.5       5.6       2.8   4.2    snow\n",
       "375 2013-01-10            0.3       3.3      -0.6   2.1    snow\n",
       "445 2013-03-21            8.1      10.0       2.2   4.9    snow"
      ]
     },
     "execution_count": 101,
     "metadata": {},
     "output_type": "execute_result"
    }
   ],
   "source": [
    "mask = (seattle_weather['weather'] == 'snow')\n",
    "\n",
    "# We can pass in a Series of True/False, and we will get \n",
    "# only the \"True\" rows. This is called boolean masking\n",
    "seattle_weather[mask]"
   ]
  },
  {
   "cell_type": "code",
   "execution_count": 102,
   "metadata": {
    "ExecuteTime": {
     "end_time": "2020-02-11T05:01:35.952257Z",
     "start_time": "2020-02-11T05:01:35.947340Z"
    }
   },
   "outputs": [
    {
     "data": {
      "text/plain": [
       "0       12.8\n",
       "1       10.6\n",
       "2       11.7\n",
       "3       12.2\n",
       "4        8.9\n",
       "        ... \n",
       "1456     4.4\n",
       "1457     5.0\n",
       "1458     7.2\n",
       "1459     5.6\n",
       "1460     5.6\n",
       "Name: temp_max, Length: 1461, dtype: float64"
      ]
     },
     "execution_count": 102,
     "metadata": {},
     "output_type": "execute_result"
    }
   ],
   "source": [
    "# Note the same syntax df[.....] has different behavior depending on\n",
    "# what is passed in: \n",
    "# df[mask] are the rows for which the mask is true\n",
    "# df['col_name'] is the series of that column\n",
    "seattle_weather['temp_max']"
   ]
  },
  {
   "cell_type": "code",
   "execution_count": 110,
   "metadata": {
    "ExecuteTime": {
     "end_time": "2020-02-11T05:07:25.702568Z",
     "start_time": "2020-02-11T05:07:25.697505Z"
    }
   },
   "outputs": [
    {
     "data": {
      "text/plain": [
       "9.04782608695652"
      ]
     },
     "execution_count": 110,
     "metadata": {},
     "output_type": "execute_result"
    }
   ],
   "source": [
    "# What is the average precipitation on snow days?\n",
    "seattle_weather.loc[mask, 'precipitation'].mean()"
   ]
  },
  {
   "cell_type": "code",
   "execution_count": 105,
   "metadata": {
    "ExecuteTime": {
     "end_time": "2020-02-11T05:04:09.927074Z",
     "start_time": "2020-02-11T05:04:09.922352Z"
    }
   },
   "outputs": [
    {
     "data": {
      "text/plain": [
       "3.02943189596167"
      ]
     },
     "execution_count": 105,
     "metadata": {},
     "output_type": "execute_result"
    }
   ],
   "source": [
    "# the average rain on ALL days\n",
    "seattle_weather['precipitation'].mean()"
   ]
  },
  {
   "cell_type": "code",
   "execution_count": 111,
   "metadata": {
    "ExecuteTime": {
     "end_time": "2020-02-11T05:07:53.221604Z",
     "start_time": "2020-02-11T05:07:53.216785Z"
    }
   },
   "outputs": [
    {
     "data": {
      "text/plain": [
       "2.9331710709318495"
      ]
     },
     "execution_count": 111,
     "metadata": {},
     "output_type": "execute_result"
    }
   ],
   "source": [
    "# the average rain on all NON-SNOWY days\n",
    "seattle_weather.loc[~mask, 'precipitation'].mean()"
   ]
  },
  {
   "cell_type": "code",
   "execution_count": 112,
   "metadata": {
    "ExecuteTime": {
     "end_time": "2020-02-11T05:08:59.463063Z",
     "start_time": "2020-02-11T05:08:59.457811Z"
    }
   },
   "outputs": [
    {
     "data": {
      "text/plain": [
       "5.103474903474904"
      ]
     },
     "execution_count": 112,
     "metadata": {},
     "output_type": "execute_result"
    }
   ],
   "source": [
    "rain_mask = (seattle_weather['weather'] == 'rain')\n",
    "seattle_weather.loc[rain_mask, 'precipitation'].mean()"
   ]
  },
  {
   "cell_type": "code",
   "execution_count": 114,
   "metadata": {
    "ExecuteTime": {
     "end_time": "2020-02-11T05:09:30.968675Z",
     "start_time": "2020-02-11T05:09:30.963503Z"
    }
   },
   "outputs": [
    {
     "data": {
      "text/plain": [
       "0.33529411764705885"
      ]
     },
     "execution_count": 114,
     "metadata": {},
     "output_type": "execute_result"
    }
   ],
   "source": [
    "sun_mask = (seattle_weather['weather'] == 'sun')\n",
    "seattle_weather.loc[sun_mask, 'precipitation'].mean()"
   ]
  },
  {
   "cell_type": "code",
   "execution_count": 115,
   "metadata": {
    "ExecuteTime": {
     "end_time": "2020-02-11T05:09:54.385390Z",
     "start_time": "2020-02-11T05:09:54.380025Z"
    }
   },
   "outputs": [
    {
     "data": {
      "text/plain": [
       "sun        714\n",
       "fog        411\n",
       "rain       259\n",
       "drizzle     54\n",
       "snow        23\n",
       "Name: weather, dtype: int64"
      ]
     },
     "execution_count": 115,
     "metadata": {},
     "output_type": "execute_result"
    }
   ],
   "source": [
    "seattle_weather['weather'].value_counts()"
   ]
  },
  {
   "cell_type": "code",
   "execution_count": 119,
   "metadata": {
    "ExecuteTime": {
     "end_time": "2020-02-11T05:12:47.939608Z",
     "start_time": "2020-02-11T05:12:47.927371Z"
    }
   },
   "outputs": [
    {
     "data": {
      "text/html": [
       "<div>\n",
       "<style scoped>\n",
       "    .dataframe tbody tr th:only-of-type {\n",
       "        vertical-align: middle;\n",
       "    }\n",
       "\n",
       "    .dataframe tbody tr th {\n",
       "        vertical-align: top;\n",
       "    }\n",
       "\n",
       "    .dataframe thead th {\n",
       "        text-align: right;\n",
       "    }\n",
       "</style>\n",
       "<table border=\"1\" class=\"dataframe\">\n",
       "  <thead>\n",
       "    <tr style=\"text-align: right;\">\n",
       "      <th></th>\n",
       "      <th>precipitation</th>\n",
       "      <th>temp_max</th>\n",
       "    </tr>\n",
       "    <tr>\n",
       "      <th>weather</th>\n",
       "      <th></th>\n",
       "      <th></th>\n",
       "    </tr>\n",
       "  </thead>\n",
       "  <tbody>\n",
       "    <tr>\n",
       "      <th>drizzle</th>\n",
       "      <td>0.018519</td>\n",
       "      <td>15.909259</td>\n",
       "    </tr>\n",
       "    <tr>\n",
       "      <th>fog</th>\n",
       "      <td>6.461557</td>\n",
       "      <td>14.470316</td>\n",
       "    </tr>\n",
       "    <tr>\n",
       "      <th>rain</th>\n",
       "      <td>5.103475</td>\n",
       "      <td>12.584942</td>\n",
       "    </tr>\n",
       "    <tr>\n",
       "      <th>snow</th>\n",
       "      <td>9.047826</td>\n",
       "      <td>5.504348</td>\n",
       "    </tr>\n",
       "    <tr>\n",
       "      <th>sun</th>\n",
       "      <td>0.335294</td>\n",
       "      <td>19.362745</td>\n",
       "    </tr>\n",
       "  </tbody>\n",
       "</table>\n",
       "</div>"
      ],
      "text/plain": [
       "         precipitation   temp_max\n",
       "weather                          \n",
       "drizzle       0.018519  15.909259\n",
       "fog           6.461557  14.470316\n",
       "rain          5.103475  12.584942\n",
       "snow          9.047826   5.504348\n",
       "sun           0.335294  19.362745"
      ]
     },
     "execution_count": 119,
     "metadata": {},
     "output_type": "execute_result"
    }
   ],
   "source": [
    "seattle_weather.groupby('weather')['precipitation', 'temp_max'].mean()"
   ]
  },
  {
   "cell_type": "code",
   "execution_count": 118,
   "metadata": {
    "ExecuteTime": {
     "end_time": "2020-02-11T05:11:36.945566Z",
     "start_time": "2020-02-11T05:11:36.934592Z"
    }
   },
   "outputs": [
    {
     "data": {
      "text/html": [
       "<div>\n",
       "<style scoped>\n",
       "    .dataframe tbody tr th:only-of-type {\n",
       "        vertical-align: middle;\n",
       "    }\n",
       "\n",
       "    .dataframe tbody tr th {\n",
       "        vertical-align: top;\n",
       "    }\n",
       "\n",
       "    .dataframe thead th {\n",
       "        text-align: right;\n",
       "    }\n",
       "</style>\n",
       "<table border=\"1\" class=\"dataframe\">\n",
       "  <thead>\n",
       "    <tr style=\"text-align: right;\">\n",
       "      <th></th>\n",
       "      <th>date</th>\n",
       "      <th>precipitation</th>\n",
       "      <th>temp_max</th>\n",
       "      <th>temp_min</th>\n",
       "      <th>wind</th>\n",
       "      <th>weather</th>\n",
       "    </tr>\n",
       "  </thead>\n",
       "  <tbody>\n",
       "    <tr>\n",
       "      <th>0</th>\n",
       "      <td>2012-01-01</td>\n",
       "      <td>0.0</td>\n",
       "      <td>12.8</td>\n",
       "      <td>5.0</td>\n",
       "      <td>4.7</td>\n",
       "      <td>drizzle</td>\n",
       "    </tr>\n",
       "    <tr>\n",
       "      <th>1</th>\n",
       "      <td>2012-01-02</td>\n",
       "      <td>10.9</td>\n",
       "      <td>10.6</td>\n",
       "      <td>2.8</td>\n",
       "      <td>4.5</td>\n",
       "      <td>rain</td>\n",
       "    </tr>\n",
       "    <tr>\n",
       "      <th>2</th>\n",
       "      <td>2012-01-03</td>\n",
       "      <td>0.8</td>\n",
       "      <td>11.7</td>\n",
       "      <td>7.2</td>\n",
       "      <td>2.3</td>\n",
       "      <td>rain</td>\n",
       "    </tr>\n",
       "    <tr>\n",
       "      <th>3</th>\n",
       "      <td>2012-01-04</td>\n",
       "      <td>20.3</td>\n",
       "      <td>12.2</td>\n",
       "      <td>5.6</td>\n",
       "      <td>4.7</td>\n",
       "      <td>rain</td>\n",
       "    </tr>\n",
       "    <tr>\n",
       "      <th>4</th>\n",
       "      <td>2012-01-05</td>\n",
       "      <td>1.3</td>\n",
       "      <td>8.9</td>\n",
       "      <td>2.8</td>\n",
       "      <td>6.1</td>\n",
       "      <td>rain</td>\n",
       "    </tr>\n",
       "  </tbody>\n",
       "</table>\n",
       "</div>"
      ],
      "text/plain": [
       "        date  precipitation  temp_max  temp_min  wind  weather\n",
       "0 2012-01-01            0.0      12.8       5.0   4.7  drizzle\n",
       "1 2012-01-02           10.9      10.6       2.8   4.5     rain\n",
       "2 2012-01-03            0.8      11.7       7.2   2.3     rain\n",
       "3 2012-01-04           20.3      12.2       5.6   4.7     rain\n",
       "4 2012-01-05            1.3       8.9       2.8   6.1     rain"
      ]
     },
     "execution_count": 118,
     "metadata": {},
     "output_type": "execute_result"
    }
   ],
   "source": [
    "seattle_weather.head()"
   ]
  },
  {
   "cell_type": "code",
   "execution_count": 127,
   "metadata": {
    "ExecuteTime": {
     "end_time": "2020-02-11T05:18:29.436811Z",
     "start_time": "2020-02-11T05:18:29.186443Z"
    }
   },
   "outputs": [
    {
     "data": {
      "image/png": "[encoded data removed]",
      "text/plain": [
       "<Figure size 720x720 with 1 Axes>"
      ]
     },
     "metadata": {
      "needs_background": "light"
     },
     "output_type": "display_data"
    }
   ],
   "source": [
    "seattle_weather.plot('date', 'temp_max', figsize=(10,10));"
   ]
  },
  {
   "cell_type": "code",
   "execution_count": null,
   "metadata": {},
   "outputs": [],
   "source": []
  },
  {
   "cell_type": "code",
   "execution_count": null,
   "metadata": {},
   "outputs": [],
   "source": []
  },
  {
   "cell_type": "code",
   "execution_count": null,
   "metadata": {},
   "outputs": [],
   "source": []
  },
  {
   "cell_type": "code",
   "execution_count": null,
   "metadata": {},
   "outputs": [],
   "source": []
  },
  {
   "cell_type": "code",
   "execution_count": null,
   "metadata": {},
   "outputs": [],
   "source": []
  },
  {
   "cell_type": "code",
   "execution_count": null,
   "metadata": {},
   "outputs": [],
   "source": []
  },
  {
   "cell_type": "code",
   "execution_count": null,
   "metadata": {},
   "outputs": [],
   "source": []
  },
  {
   "cell_type": "code",
   "execution_count": null,
   "metadata": {},
   "outputs": [],
   "source": []
  },
  {
   "cell_type": "code",
   "execution_count": null,
   "metadata": {},
   "outputs": [],
   "source": []
  },
  {
   "cell_type": "markdown",
   "metadata": {},
   "source": [
    "__Overview:__\n",
    "- Merging, Joining, and Concatenating using Pandas Dataframes are very useful, however, advanced for the beginner programmer\n",
    "- However, the does not mean we can't explore the basics of what merging, joining, and concatenating is and how we can do it in Pandas \n",
    "- The full documentation for Merge, Join, and Concatenate can be found [here](http://pandas.pydata.org/pandas-docs/stable/merging.html)\n",
    "- All 3 methods below, in their own way, describe the act of combining together Series and DataFrame objects with some logic to handle the indexes of the objects you are combining:\n",
    "> 1. __Concatenating Objects:__ Concatenating objects in Pandas is done using the `concat` or the `append` function and you can think of this as \"gluing together\" multiple DataFrames or Series \n",
    "> 2. __Merging Objects:__ Merging objects in Pandas is done using the `merge` function and replicates [SQL Joins](https://en.wikipedia.org/wiki/Join_(SQL))\n",
    "> 3. __Joining Objects:__ Joining objects in Pandas is done using the `join` function and can be used for combining the columns of two potentially differently-indexed DataFrames into a single result DataFrame\n",
    "\n",
    "__Helpful Points:__\n",
    "1. We actually have already concatenated DataFrames above when we added a new row to an existing DataFrame \n",
    "2. Remember that indexes are very important to DataFrames and most of the \"logic\" that these methods employ revolve around what to do with DataFrames/Series that have different indexes\n",
    "3. SQL and Databases is definitely not required knowledge for this course, but further reading on Data Models (for your interest only) can be found [here](https://en.wikipedia.org/wiki/One-to-one_(data_model)) for __One-to-One Relationships__ and [here](https://en.wikipedia.org/wiki/Many-to-many_(data_model)) for __Many-to-Many Relationships__\n",
    "\n",
    "__Practice:__ Examples of Advanced Manipulation of Pandas - Merge/Join/Concatenate in Python"
   ]
  },
  {
   "cell_type": "code",
   "execution_count": null,
   "metadata": {
    "ExecuteTime": {
     "end_time": "2020-02-11T01:34:57.757340Z",
     "start_time": "2020-02-11T01:34:54.382173Z"
    }
   },
   "outputs": [],
   "source": [
    "import pandas as pd\n",
    "import numpy as np "
   ]
  },
  {
   "cell_type": "code",
   "execution_count": null,
   "metadata": {
    "ExecuteTime": {
     "end_time": "2020-02-11T01:34:57.769315Z",
     "start_time": "2020-02-11T01:34:57.759403Z"
    }
   },
   "outputs": [],
   "source": [
    "# initialize 3 data frames to concatenate with same column names and index labels \n",
    "df1 = pd.DataFrame({'A': ['A0', 'A1'],\n",
    "                    'B': ['B0', 'B1']},\n",
    "                     index=[0, 1])\n",
    " \n",
    "df2 = pd.DataFrame({'A': ['A2', 'A3'],\n",
    "                    'B': ['B2', 'B3']},\n",
    "                     index=[2, 3])\n",
    "\n",
    "df3 = pd.DataFrame({'B': ['B2', 'B7'],\n",
    "                    'F': ['F2', 'F3']},\n",
    "                     index=[1, 5])"
   ]
  },
  {
   "cell_type": "code",
   "execution_count": null,
   "metadata": {
    "ExecuteTime": {
     "end_time": "2020-02-11T01:34:57.793887Z",
     "start_time": "2020-02-11T01:34:57.770936Z"
    }
   },
   "outputs": [],
   "source": [
    "df1"
   ]
  },
  {
   "cell_type": "code",
   "execution_count": null,
   "metadata": {
    "ExecuteTime": {
     "end_time": "2020-02-11T01:34:57.865058Z",
     "start_time": "2020-02-11T01:34:57.859786Z"
    }
   },
   "outputs": [],
   "source": [
    "df2"
   ]
  },
  {
   "cell_type": "code",
   "execution_count": null,
   "metadata": {
    "ExecuteTime": {
     "end_time": "2020-02-11T01:34:57.888164Z",
     "start_time": "2020-02-11T01:34:57.883050Z"
    }
   },
   "outputs": [],
   "source": [
    "df3"
   ]
  },
  {
   "cell_type": "markdown",
   "metadata": {},
   "source": [
    "### Concatenating Two DataFrames with Different Indexes"
   ]
  },
  {
   "cell_type": "markdown",
   "metadata": {},
   "source": [
    "#### Using Concat"
   ]
  },
  {
   "cell_type": "code",
   "execution_count": null,
   "metadata": {
    "ExecuteTime": {
     "end_time": "2020-02-11T01:34:57.909586Z",
     "start_time": "2020-02-11T01:34:57.904247Z"
    }
   },
   "outputs": [],
   "source": [
    "result = pd.concat([df1, df2]) # concatenate one dataframe on another along rows \n",
    "result"
   ]
  },
  {
   "cell_type": "markdown",
   "metadata": {},
   "source": [
    "#### Using Append"
   ]
  },
  {
   "cell_type": "code",
   "execution_count": null,
   "metadata": {
    "ExecuteTime": {
     "end_time": "2020-02-11T01:34:57.937033Z",
     "start_time": "2020-02-11T01:34:57.931711Z"
    }
   },
   "outputs": [],
   "source": [
    "a_result = df1.append(df2)\n",
    "a_result"
   ]
  },
  {
   "cell_type": "markdown",
   "metadata": {},
   "source": [
    "### Concatenating Two DataFrames with Same Indexes"
   ]
  },
  {
   "cell_type": "markdown",
   "metadata": {},
   "source": [
    "#### Using Concat"
   ]
  },
  {
   "cell_type": "code",
   "execution_count": null,
   "metadata": {
    "ExecuteTime": {
     "end_time": "2020-02-11T01:34:59.470652Z",
     "start_time": "2020-02-11T01:34:59.451391Z"
    }
   },
   "outputs": [],
   "source": [
    "# option 1 (finds unique columns, duplicates rows)\n",
    "result = pd.concat([df1, df3], axis = 0) # concatenate one dataframe on another along rows\n",
    "result"
   ]
  },
  {
   "cell_type": "code",
   "execution_count": null,
   "metadata": {
    "ExecuteTime": {
     "end_time": "2020-02-11T01:34:59.729421Z",
     "start_time": "2020-02-11T01:34:59.716436Z"
    }
   },
   "outputs": [],
   "source": [
    "# option 2 (finds unique rows, duplicates columns)\n",
    "result_1 = pd.concat([df1, df3], axis = 1) # concatenate one dataframe on another along columns\n",
    "result_1"
   ]
  },
  {
   "cell_type": "code",
   "execution_count": null,
   "metadata": {
    "ExecuteTime": {
     "end_time": "2020-02-11T01:34:59.976113Z",
     "start_time": "2020-02-11T01:34:59.967697Z"
    }
   },
   "outputs": [],
   "source": [
    "# option 3 (uses only index from df1)\n",
    "result_2 = pd.concat([df1, df3], axis = 1, join_axes=[df1.index]) # concatenate one dataframe on another along columns\n",
    "result_2"
   ]
  },
  {
   "cell_type": "code",
   "execution_count": null,
   "metadata": {
    "ExecuteTime": {
     "end_time": "2020-02-11T01:35:00.328464Z",
     "start_time": "2020-02-11T01:35:00.319139Z"
    }
   },
   "outputs": [],
   "source": [
    "# option 4 (ignores and resets index)\n",
    "result_3 = pd.concat([df1, df3], ignore_index = True) # same as option 1 but with reset index \n",
    "result_3"
   ]
  },
  {
   "cell_type": "markdown",
   "metadata": {},
   "source": [
    "#### Using Append"
   ]
  },
  {
   "cell_type": "code",
   "execution_count": null,
   "metadata": {
    "ExecuteTime": {
     "end_time": "2020-02-11T01:35:00.918265Z",
     "start_time": "2020-02-11T01:35:00.898871Z"
    }
   },
   "outputs": [],
   "source": [
    "a_result_1 = df1.append([df3]) # same as option 1 above\n",
    "a_result_1"
   ]
  },
  {
   "cell_type": "code",
   "execution_count": null,
   "metadata": {
    "ExecuteTime": {
     "end_time": "2020-02-11T01:35:01.156644Z",
     "start_time": "2020-02-11T01:35:01.148175Z"
    },
    "scrolled": true
   },
   "outputs": [],
   "source": [
    "a_result_2 = df1.append([df3], ignore_index = True) # same as option 4 above\n",
    "a_result_2"
   ]
  },
  {
   "cell_type": "markdown",
   "metadata": {},
   "source": [
    "## Merge\n",
    "\n",
    "Let's create some new DataFrames to practice merging."
   ]
  },
  {
   "cell_type": "code",
   "execution_count": 137,
   "metadata": {
    "ExecuteTime": {
     "end_time": "2020-02-11T05:31:25.461234Z",
     "start_time": "2020-02-11T05:31:25.449042Z"
    }
   },
   "outputs": [],
   "source": [
    "raw_data_1 = {\n",
    "        'department_id': ['1', '2', '3'],\n",
    "        'first_name': ['Gordon', 'Roberto', 'Jerod'], \n",
    "        'last_name': ['Dri', 'Reif', 'Rubalcava']}\n",
    "df_a = pd.DataFrame(raw_data_1, columns = ['department_id', 'first_name', 'last_name'])\n",
    "\n",
    "raw_data_2 = {\n",
    "        'department_id': ['2', '3', '4', '10'],\n",
    "        'first_name': ['Jason', 'Zach', 'Paul', 'Damien'], \n",
    "        'last_name': ['Moss', 'Miller', 'Trowbridge', 'Martin']}\n",
    "df_b = pd.DataFrame(raw_data_2, columns = ['department_id', 'first_name', 'last_name'])\n",
    "\n",
    "raw_data_3 = {\n",
    "        'department_id': ['1', '2', '3', '4', '5'],\n",
    "        'manager_id': ['12', '24', '13', '4', '123']}\n",
    "df_c = pd.DataFrame(raw_data_3, columns = ['department_id', 'manager_id'])"
   ]
  },
  {
   "cell_type": "code",
   "execution_count": 138,
   "metadata": {
    "ExecuteTime": {
     "end_time": "2020-02-11T05:31:26.077485Z",
     "start_time": "2020-02-11T05:31:26.071174Z"
    }
   },
   "outputs": [
    {
     "data": {
      "text/html": [
       "<div>\n",
       "<style scoped>\n",
       "    .dataframe tbody tr th:only-of-type {\n",
       "        vertical-align: middle;\n",
       "    }\n",
       "\n",
       "    .dataframe tbody tr th {\n",
       "        vertical-align: top;\n",
       "    }\n",
       "\n",
       "    .dataframe thead th {\n",
       "        text-align: right;\n",
       "    }\n",
       "</style>\n",
       "<table border=\"1\" class=\"dataframe\">\n",
       "  <thead>\n",
       "    <tr style=\"text-align: right;\">\n",
       "      <th></th>\n",
       "      <th>department_id</th>\n",
       "      <th>first_name</th>\n",
       "      <th>last_name</th>\n",
       "    </tr>\n",
       "  </thead>\n",
       "  <tbody>\n",
       "    <tr>\n",
       "      <th>0</th>\n",
       "      <td>1</td>\n",
       "      <td>Gordon</td>\n",
       "      <td>Dri</td>\n",
       "    </tr>\n",
       "    <tr>\n",
       "      <th>1</th>\n",
       "      <td>2</td>\n",
       "      <td>Roberto</td>\n",
       "      <td>Reif</td>\n",
       "    </tr>\n",
       "    <tr>\n",
       "      <th>2</th>\n",
       "      <td>3</td>\n",
       "      <td>Jerod</td>\n",
       "      <td>Rubalcava</td>\n",
       "    </tr>\n",
       "  </tbody>\n",
       "</table>\n",
       "</div>"
      ],
      "text/plain": [
       "  department_id first_name  last_name\n",
       "0             1     Gordon        Dri\n",
       "1             2    Roberto       Reif\n",
       "2             3      Jerod  Rubalcava"
      ]
     },
     "execution_count": 138,
     "metadata": {},
     "output_type": "execute_result"
    }
   ],
   "source": [
    "df_a"
   ]
  },
  {
   "cell_type": "code",
   "execution_count": 139,
   "metadata": {
    "ExecuteTime": {
     "end_time": "2020-02-11T05:31:26.862445Z",
     "start_time": "2020-02-11T05:31:26.854819Z"
    }
   },
   "outputs": [
    {
     "data": {
      "text/html": [
       "<div>\n",
       "<style scoped>\n",
       "    .dataframe tbody tr th:only-of-type {\n",
       "        vertical-align: middle;\n",
       "    }\n",
       "\n",
       "    .dataframe tbody tr th {\n",
       "        vertical-align: top;\n",
       "    }\n",
       "\n",
       "    .dataframe thead th {\n",
       "        text-align: right;\n",
       "    }\n",
       "</style>\n",
       "<table border=\"1\" class=\"dataframe\">\n",
       "  <thead>\n",
       "    <tr style=\"text-align: right;\">\n",
       "      <th></th>\n",
       "      <th>department_id</th>\n",
       "      <th>first_name</th>\n",
       "      <th>last_name</th>\n",
       "    </tr>\n",
       "  </thead>\n",
       "  <tbody>\n",
       "    <tr>\n",
       "      <th>0</th>\n",
       "      <td>2</td>\n",
       "      <td>Jason</td>\n",
       "      <td>Moss</td>\n",
       "    </tr>\n",
       "    <tr>\n",
       "      <th>1</th>\n",
       "      <td>3</td>\n",
       "      <td>Zach</td>\n",
       "      <td>Miller</td>\n",
       "    </tr>\n",
       "    <tr>\n",
       "      <th>2</th>\n",
       "      <td>4</td>\n",
       "      <td>Paul</td>\n",
       "      <td>Trowbridge</td>\n",
       "    </tr>\n",
       "    <tr>\n",
       "      <th>3</th>\n",
       "      <td>10</td>\n",
       "      <td>Damien</td>\n",
       "      <td>Martin</td>\n",
       "    </tr>\n",
       "  </tbody>\n",
       "</table>\n",
       "</div>"
      ],
      "text/plain": [
       "  department_id first_name   last_name\n",
       "0             2      Jason        Moss\n",
       "1             3       Zach      Miller\n",
       "2             4       Paul  Trowbridge\n",
       "3            10     Damien      Martin"
      ]
     },
     "execution_count": 139,
     "metadata": {},
     "output_type": "execute_result"
    }
   ],
   "source": [
    "df_b"
   ]
  },
  {
   "cell_type": "code",
   "execution_count": 140,
   "metadata": {
    "ExecuteTime": {
     "end_time": "2020-02-11T05:31:27.977877Z",
     "start_time": "2020-02-11T05:31:27.971957Z"
    }
   },
   "outputs": [
    {
     "data": {
      "text/html": [
       "<div>\n",
       "<style scoped>\n",
       "    .dataframe tbody tr th:only-of-type {\n",
       "        vertical-align: middle;\n",
       "    }\n",
       "\n",
       "    .dataframe tbody tr th {\n",
       "        vertical-align: top;\n",
       "    }\n",
       "\n",
       "    .dataframe thead th {\n",
       "        text-align: right;\n",
       "    }\n",
       "</style>\n",
       "<table border=\"1\" class=\"dataframe\">\n",
       "  <thead>\n",
       "    <tr style=\"text-align: right;\">\n",
       "      <th></th>\n",
       "      <th>department_id</th>\n",
       "      <th>manager_id</th>\n",
       "    </tr>\n",
       "  </thead>\n",
       "  <tbody>\n",
       "    <tr>\n",
       "      <th>0</th>\n",
       "      <td>1</td>\n",
       "      <td>12</td>\n",
       "    </tr>\n",
       "    <tr>\n",
       "      <th>1</th>\n",
       "      <td>2</td>\n",
       "      <td>24</td>\n",
       "    </tr>\n",
       "    <tr>\n",
       "      <th>2</th>\n",
       "      <td>3</td>\n",
       "      <td>13</td>\n",
       "    </tr>\n",
       "    <tr>\n",
       "      <th>3</th>\n",
       "      <td>4</td>\n",
       "      <td>4</td>\n",
       "    </tr>\n",
       "    <tr>\n",
       "      <th>4</th>\n",
       "      <td>5</td>\n",
       "      <td>123</td>\n",
       "    </tr>\n",
       "  </tbody>\n",
       "</table>\n",
       "</div>"
      ],
      "text/plain": [
       "  department_id manager_id\n",
       "0             1         12\n",
       "1             2         24\n",
       "2             3         13\n",
       "3             4          4\n",
       "4             5        123"
      ]
     },
     "execution_count": 140,
     "metadata": {},
     "output_type": "execute_result"
    }
   ],
   "source": [
    "df_c"
   ]
  },
  {
   "cell_type": "markdown",
   "metadata": {},
   "source": [
    "### Merging On Columns"
   ]
  },
  {
   "cell_type": "code",
   "execution_count": 141,
   "metadata": {
    "ExecuteTime": {
     "end_time": "2020-02-11T05:31:30.628792Z",
     "start_time": "2020-02-11T05:31:30.618550Z"
    }
   },
   "outputs": [
    {
     "data": {
      "text/html": [
       "<div>\n",
       "<style scoped>\n",
       "    .dataframe tbody tr th:only-of-type {\n",
       "        vertical-align: middle;\n",
       "    }\n",
       "\n",
       "    .dataframe tbody tr th {\n",
       "        vertical-align: top;\n",
       "    }\n",
       "\n",
       "    .dataframe thead th {\n",
       "        text-align: right;\n",
       "    }\n",
       "</style>\n",
       "<table border=\"1\" class=\"dataframe\">\n",
       "  <thead>\n",
       "    <tr style=\"text-align: right;\">\n",
       "      <th></th>\n",
       "      <th>index</th>\n",
       "      <th>department_id</th>\n",
       "      <th>first_name</th>\n",
       "      <th>last_name</th>\n",
       "    </tr>\n",
       "  </thead>\n",
       "  <tbody>\n",
       "    <tr>\n",
       "      <th>0</th>\n",
       "      <td>0</td>\n",
       "      <td>1</td>\n",
       "      <td>Gordon</td>\n",
       "      <td>Dri</td>\n",
       "    </tr>\n",
       "    <tr>\n",
       "      <th>1</th>\n",
       "      <td>1</td>\n",
       "      <td>2</td>\n",
       "      <td>Roberto</td>\n",
       "      <td>Reif</td>\n",
       "    </tr>\n",
       "    <tr>\n",
       "      <th>2</th>\n",
       "      <td>2</td>\n",
       "      <td>3</td>\n",
       "      <td>Jerod</td>\n",
       "      <td>Rubalcava</td>\n",
       "    </tr>\n",
       "    <tr>\n",
       "      <th>3</th>\n",
       "      <td>0</td>\n",
       "      <td>2</td>\n",
       "      <td>Jason</td>\n",
       "      <td>Moss</td>\n",
       "    </tr>\n",
       "    <tr>\n",
       "      <th>4</th>\n",
       "      <td>1</td>\n",
       "      <td>3</td>\n",
       "      <td>Zach</td>\n",
       "      <td>Miller</td>\n",
       "    </tr>\n",
       "    <tr>\n",
       "      <th>5</th>\n",
       "      <td>2</td>\n",
       "      <td>4</td>\n",
       "      <td>Paul</td>\n",
       "      <td>Trowbridge</td>\n",
       "    </tr>\n",
       "    <tr>\n",
       "      <th>6</th>\n",
       "      <td>3</td>\n",
       "      <td>10</td>\n",
       "      <td>Damien</td>\n",
       "      <td>Martin</td>\n",
       "    </tr>\n",
       "  </tbody>\n",
       "</table>\n",
       "</div>"
      ],
      "text/plain": [
       "   index department_id first_name   last_name\n",
       "0      0             1     Gordon         Dri\n",
       "1      1             2    Roberto        Reif\n",
       "2      2             3      Jerod   Rubalcava\n",
       "3      0             2      Jason        Moss\n",
       "4      1             3       Zach      Miller\n",
       "5      2             4       Paul  Trowbridge\n",
       "6      3            10     Damien      Martin"
      ]
     },
     "execution_count": 141,
     "metadata": {},
     "output_type": "execute_result"
    }
   ],
   "source": [
    "all_employees = pd.concat([df_a, df_b]).reset_index()\n",
    "all_employees"
   ]
  },
  {
   "cell_type": "code",
   "execution_count": 142,
   "metadata": {
    "ExecuteTime": {
     "end_time": "2020-02-11T05:31:51.052691Z",
     "start_time": "2020-02-11T05:31:51.038914Z"
    },
    "scrolled": false
   },
   "outputs": [
    {
     "data": {
      "text/html": [
       "<div>\n",
       "<style scoped>\n",
       "    .dataframe tbody tr th:only-of-type {\n",
       "        vertical-align: middle;\n",
       "    }\n",
       "\n",
       "    .dataframe tbody tr th {\n",
       "        vertical-align: top;\n",
       "    }\n",
       "\n",
       "    .dataframe thead th {\n",
       "        text-align: right;\n",
       "    }\n",
       "</style>\n",
       "<table border=\"1\" class=\"dataframe\">\n",
       "  <thead>\n",
       "    <tr style=\"text-align: right;\">\n",
       "      <th></th>\n",
       "      <th>index</th>\n",
       "      <th>department_id</th>\n",
       "      <th>first_name</th>\n",
       "      <th>last_name</th>\n",
       "      <th>manager_id</th>\n",
       "    </tr>\n",
       "  </thead>\n",
       "  <tbody>\n",
       "    <tr>\n",
       "      <th>0</th>\n",
       "      <td>0</td>\n",
       "      <td>1</td>\n",
       "      <td>Gordon</td>\n",
       "      <td>Dri</td>\n",
       "      <td>12</td>\n",
       "    </tr>\n",
       "    <tr>\n",
       "      <th>1</th>\n",
       "      <td>1</td>\n",
       "      <td>2</td>\n",
       "      <td>Roberto</td>\n",
       "      <td>Reif</td>\n",
       "      <td>24</td>\n",
       "    </tr>\n",
       "    <tr>\n",
       "      <th>2</th>\n",
       "      <td>0</td>\n",
       "      <td>2</td>\n",
       "      <td>Jason</td>\n",
       "      <td>Moss</td>\n",
       "      <td>24</td>\n",
       "    </tr>\n",
       "    <tr>\n",
       "      <th>3</th>\n",
       "      <td>2</td>\n",
       "      <td>3</td>\n",
       "      <td>Jerod</td>\n",
       "      <td>Rubalcava</td>\n",
       "      <td>13</td>\n",
       "    </tr>\n",
       "    <tr>\n",
       "      <th>4</th>\n",
       "      <td>1</td>\n",
       "      <td>3</td>\n",
       "      <td>Zach</td>\n",
       "      <td>Miller</td>\n",
       "      <td>13</td>\n",
       "    </tr>\n",
       "    <tr>\n",
       "      <th>5</th>\n",
       "      <td>2</td>\n",
       "      <td>4</td>\n",
       "      <td>Paul</td>\n",
       "      <td>Trowbridge</td>\n",
       "      <td>4</td>\n",
       "    </tr>\n",
       "  </tbody>\n",
       "</table>\n",
       "</div>"
      ],
      "text/plain": [
       "   index department_id first_name   last_name manager_id\n",
       "0      0             1     Gordon         Dri         12\n",
       "1      1             2    Roberto        Reif         24\n",
       "2      0             2      Jason        Moss         24\n",
       "3      2             3      Jerod   Rubalcava         13\n",
       "4      1             3       Zach      Miller         13\n",
       "5      2             4       Paul  Trowbridge          4"
      ]
     },
     "execution_count": 142,
     "metadata": {},
     "output_type": "execute_result"
    }
   ],
   "source": [
    "pd.merge(all_employees, df_c, on = \"department_id\") # concatenate 2 employee df and then merge with department info df"
   ]
  },
  {
   "cell_type": "code",
   "execution_count": 146,
   "metadata": {
    "ExecuteTime": {
     "end_time": "2020-02-11T05:33:01.951835Z",
     "start_time": "2020-02-11T05:33:01.936471Z"
    },
    "scrolled": true
   },
   "outputs": [
    {
     "data": {
      "text/html": [
       "<div>\n",
       "<style scoped>\n",
       "    .dataframe tbody tr th:only-of-type {\n",
       "        vertical-align: middle;\n",
       "    }\n",
       "\n",
       "    .dataframe tbody tr th {\n",
       "        vertical-align: top;\n",
       "    }\n",
       "\n",
       "    .dataframe thead th {\n",
       "        text-align: right;\n",
       "    }\n",
       "</style>\n",
       "<table border=\"1\" class=\"dataframe\">\n",
       "  <thead>\n",
       "    <tr style=\"text-align: right;\">\n",
       "      <th></th>\n",
       "      <th>index</th>\n",
       "      <th>department_id</th>\n",
       "      <th>first_name</th>\n",
       "      <th>last_name</th>\n",
       "      <th>manager_id</th>\n",
       "    </tr>\n",
       "  </thead>\n",
       "  <tbody>\n",
       "    <tr>\n",
       "      <th>0</th>\n",
       "      <td>0.0</td>\n",
       "      <td>1</td>\n",
       "      <td>Gordon</td>\n",
       "      <td>Dri</td>\n",
       "      <td>12</td>\n",
       "    </tr>\n",
       "    <tr>\n",
       "      <th>1</th>\n",
       "      <td>1.0</td>\n",
       "      <td>2</td>\n",
       "      <td>Roberto</td>\n",
       "      <td>Reif</td>\n",
       "      <td>24</td>\n",
       "    </tr>\n",
       "    <tr>\n",
       "      <th>2</th>\n",
       "      <td>0.0</td>\n",
       "      <td>2</td>\n",
       "      <td>Jason</td>\n",
       "      <td>Moss</td>\n",
       "      <td>24</td>\n",
       "    </tr>\n",
       "    <tr>\n",
       "      <th>3</th>\n",
       "      <td>2.0</td>\n",
       "      <td>3</td>\n",
       "      <td>Jerod</td>\n",
       "      <td>Rubalcava</td>\n",
       "      <td>13</td>\n",
       "    </tr>\n",
       "    <tr>\n",
       "      <th>4</th>\n",
       "      <td>1.0</td>\n",
       "      <td>3</td>\n",
       "      <td>Zach</td>\n",
       "      <td>Miller</td>\n",
       "      <td>13</td>\n",
       "    </tr>\n",
       "    <tr>\n",
       "      <th>5</th>\n",
       "      <td>2.0</td>\n",
       "      <td>4</td>\n",
       "      <td>Paul</td>\n",
       "      <td>Trowbridge</td>\n",
       "      <td>4</td>\n",
       "    </tr>\n",
       "    <tr>\n",
       "      <th>6</th>\n",
       "      <td>3.0</td>\n",
       "      <td>10</td>\n",
       "      <td>Damien</td>\n",
       "      <td>Martin</td>\n",
       "      <td>NaN</td>\n",
       "    </tr>\n",
       "    <tr>\n",
       "      <th>7</th>\n",
       "      <td>NaN</td>\n",
       "      <td>5</td>\n",
       "      <td>NaN</td>\n",
       "      <td>NaN</td>\n",
       "      <td>123</td>\n",
       "    </tr>\n",
       "  </tbody>\n",
       "</table>\n",
       "</div>"
      ],
      "text/plain": [
       "   index department_id first_name   last_name manager_id\n",
       "0    0.0             1     Gordon         Dri         12\n",
       "1    1.0             2    Roberto        Reif         24\n",
       "2    0.0             2      Jason        Moss         24\n",
       "3    2.0             3      Jerod   Rubalcava         13\n",
       "4    1.0             3       Zach      Miller         13\n",
       "5    2.0             4       Paul  Trowbridge          4\n",
       "6    3.0            10     Damien      Martin        NaN\n",
       "7    NaN             5        NaN         NaN        123"
      ]
     },
     "execution_count": 146,
     "metadata": {},
     "output_type": "execute_result"
    }
   ],
   "source": [
    "pd.merge(all_employees, df_c, left_on = \"department_id\", right_on = \"department_id\", how='outer') # same as above "
   ]
  },
  {
   "cell_type": "markdown",
   "metadata": {},
   "source": [
    "### Merging on Indexes"
   ]
  },
  {
   "cell_type": "code",
   "execution_count": null,
   "metadata": {
    "ExecuteTime": {
     "end_time": "2020-02-11T01:35:07.276977Z",
     "start_time": "2020-02-11T01:35:07.267664Z"
    },
    "scrolled": true
   },
   "outputs": [],
   "source": [
    "pd.merge(df_a, df_b, right_index = True, left_index = True) # merge based on indexes \n"
   ]
  },
  {
   "cell_type": "markdown",
   "metadata": {},
   "source": [
    "### Outer Join\n",
    "\n",
    "__[Outer Join](https://blog.codinghorror.com/a-visual-explanation-of-sql-joins/):__ “Full outer join produces the set of all records in Table A and Table B, with matching records from both sides where available. If there is no match, the missing side will contain null.”\n",
    "\n",
    "- Don't worry about the terminology and definition, this is just for your reference. Just keep this method in your \"toolkit\" in the event that one of your use cases demands that your result is as appears below"
   ]
  },
  {
   "cell_type": "code",
   "execution_count": null,
   "metadata": {
    "ExecuteTime": {
     "end_time": "2019-12-03T23:53:46.099220Z",
     "start_time": "2019-12-03T23:53:46.076740Z"
    },
    "scrolled": true
   },
   "outputs": [],
   "source": [
    "pd.merge(df_a, df_b, on='department_id', how='outer')"
   ]
  },
  {
   "cell_type": "markdown",
   "metadata": {},
   "source": [
    "### Inner Join\n",
    "\n",
    "__[Inner Join](https://blog.codinghorror.com/a-visual-explanation-of-sql-joins/):__ “Inner join produces only the set of records that match in both Table A and Table B.”\n",
    "\n",
    "- Don't worry about the terminology and definition, this is just for your reference. Just keep this method in your \"toolkit\" in the event that one of your use cases demands that your result is as appears below"
   ]
  },
  {
   "cell_type": "code",
   "execution_count": null,
   "metadata": {
    "ExecuteTime": {
     "end_time": "2019-12-03T23:53:53.746474Z",
     "start_time": "2019-12-03T23:53:53.733167Z"
    },
    "scrolled": true
   },
   "outputs": [],
   "source": [
    "pd.merge(df_a, df_b, on='department_id', how='inner')"
   ]
  },
  {
   "cell_type": "markdown",
   "metadata": {},
   "source": [
    "### Left Join\n",
    "\n",
    "__[Left Join](https://blog.codinghorror.com/a-visual-explanation-of-sql-joins/):__ \"Left outer join produces a complete set of records from Table A, with the matching records (where available) in Table B. If there is no match, the right side will contain null.”\n",
    "\n",
    "- Don't worry about the terminology and definition, this is just for your reference. Just keep this method in your \"toolkit\" in the event that one of your use cases demands that your result is as appears below"
   ]
  },
  {
   "cell_type": "code",
   "execution_count": null,
   "metadata": {
    "ExecuteTime": {
     "end_time": "2019-12-03T23:54:36.913039Z",
     "start_time": "2019-12-03T23:54:36.895039Z"
    },
    "scrolled": false
   },
   "outputs": [],
   "source": [
    "pd.merge(df_a, df_b, on='department_id', how='left')"
   ]
  },
  {
   "cell_type": "markdown",
   "metadata": {},
   "source": [
    "### Right Join\n",
    "\n",
    "__[Right Join](https://en.wikipedia.org/wiki/Relational_algebra#Right_outer_join_(%E2%9F%96)):__ \"Right outer join produces a complete set of records from Table B, with the matching records (where available) in Table A. If there is no match, the right side will contain null.”\n",
    "\n",
    "- Don't worry about the terminology and definition, this is just for your reference. Just keep this method in your \"toolkit\" in the event that one of your use cases demands that your result is as appears below"
   ]
  },
  {
   "cell_type": "code",
   "execution_count": null,
   "metadata": {
    "ExecuteTime": {
     "end_time": "2019-12-03T23:54:44.197754Z",
     "start_time": "2019-12-03T23:54:44.182702Z"
    },
    "scrolled": true
   },
   "outputs": [],
   "source": [
    "pd.merge(df_a, df_b, on='department_id', how='right')"
   ]
  },
  {
   "cell_type": "markdown",
   "metadata": {},
   "source": [
    "## Join"
   ]
  },
  {
   "cell_type": "code",
   "execution_count": null,
   "metadata": {
    "ExecuteTime": {
     "end_time": "2019-12-03T23:55:11.737443Z",
     "start_time": "2019-12-03T23:55:11.726112Z"
    }
   },
   "outputs": [],
   "source": [
    "raw_data_1 = {\n",
    "        'first_name': ['Gordon', 'Roberto', 'Jerod'],\n",
    "        'last_name': ['Dri', 'Reif', 'Rubalcava']}\n",
    "df_a = pd.DataFrame(raw_data_1, index = ['employee_1', 'employee_2', 'employee_3'])\n",
    "\n",
    "raw_data_1 = {\n",
    "        'department_id': ['1', '2', '2'],\n",
    "        'team_id': ['3', '3', '3']}\n",
    "df_b = pd.DataFrame(raw_data_1, index = ['employee_1', 'employee_3', 'employee_4'])"
   ]
  },
  {
   "cell_type": "code",
   "execution_count": null,
   "metadata": {
    "ExecuteTime": {
     "end_time": "2019-12-03T23:55:13.368364Z",
     "start_time": "2019-12-03T23:55:13.360298Z"
    }
   },
   "outputs": [],
   "source": [
    "df_a"
   ]
  },
  {
   "cell_type": "code",
   "execution_count": null,
   "metadata": {
    "ExecuteTime": {
     "end_time": "2019-12-03T23:55:15.733245Z",
     "start_time": "2019-12-03T23:55:15.725418Z"
    }
   },
   "outputs": [],
   "source": [
    "df_b"
   ]
  },
  {
   "cell_type": "markdown",
   "metadata": {},
   "source": [
    "### Left Join"
   ]
  },
  {
   "cell_type": "code",
   "execution_count": null,
   "metadata": {
    "ExecuteTime": {
     "end_time": "2019-12-03T23:55:22.053340Z",
     "start_time": "2019-12-03T23:55:22.039211Z"
    }
   },
   "outputs": [],
   "source": [
    "df_a.join(df_b)"
   ]
  },
  {
   "cell_type": "code",
   "execution_count": null,
   "metadata": {
    "ExecuteTime": {
     "end_time": "2019-12-03T23:55:38.836436Z",
     "start_time": "2019-12-03T23:55:38.824298Z"
    },
    "scrolled": true
   },
   "outputs": [],
   "source": [
    "df_a.join(df_b, how = \"left\") # same as above (default)"
   ]
  },
  {
   "cell_type": "markdown",
   "metadata": {},
   "source": [
    "### Right Join"
   ]
  },
  {
   "cell_type": "code",
   "execution_count": null,
   "metadata": {
    "ExecuteTime": {
     "end_time": "2019-12-03T23:55:48.852530Z",
     "start_time": "2019-12-03T23:55:48.841049Z"
    }
   },
   "outputs": [],
   "source": [
    "df_a.join(df_b, how = \"right\") # right join (see above for definition)"
   ]
  },
  {
   "cell_type": "markdown",
   "metadata": {},
   "source": [
    "### Outer Join"
   ]
  },
  {
   "cell_type": "code",
   "execution_count": null,
   "metadata": {
    "ExecuteTime": {
     "end_time": "2019-12-03T23:55:52.922625Z",
     "start_time": "2019-12-03T23:55:52.905427Z"
    }
   },
   "outputs": [],
   "source": [
    "df_a.join(df_b, how = \"outer\") # outer join (see above for definition)"
   ]
  },
  {
   "cell_type": "markdown",
   "metadata": {},
   "source": [
    "### Inner Join"
   ]
  },
  {
   "cell_type": "code",
   "execution_count": null,
   "metadata": {
    "ExecuteTime": {
     "end_time": "2019-12-03T23:55:59.281173Z",
     "start_time": "2019-12-03T23:55:59.268668Z"
    },
    "scrolled": true
   },
   "outputs": [],
   "source": [
    "df_a.join(df_b, how = \"inner\") # inner join (see above for definition)"
   ]
  },
  {
   "cell_type": "markdown",
   "metadata": {},
   "source": [
    "### Suffixes for Overlapping Columns"
   ]
  },
  {
   "cell_type": "code",
   "execution_count": null,
   "metadata": {
    "ExecuteTime": {
     "end_time": "2019-12-03T23:59:21.459321Z",
     "start_time": "2019-12-03T23:59:21.444549Z"
    }
   },
   "outputs": [],
   "source": [
    "df_a.join(df_b, lsuffix = \"_l\", rsuffix = \"_r\") # overlapping columns"
   ]
  },
  {
   "cell_type": "markdown",
   "metadata": {},
   "source": [
    "### Joining Index to Column"
   ]
  },
  {
   "cell_type": "code",
   "execution_count": null,
   "metadata": {
    "ExecuteTime": {
     "end_time": "2019-12-04T00:00:23.449215Z",
     "start_time": "2019-12-04T00:00:23.442343Z"
    }
   },
   "outputs": [],
   "source": [
    "raw_data_1 = {\n",
    "        'first_name': ['Gordon', 'Roberto', 'Jerod'],\n",
    "        'last_name': ['Dri', 'Reif', 'Rubalcava'],\n",
    "        'employee_num': [\"employee_1\", \"employee_2\", \"employee_3\"]}\n",
    "df_a = pd.DataFrame(raw_data_1)\n",
    "\n",
    "raw_data_1 = {\n",
    "        'department_id': ['1', '2', '2'],\n",
    "        'team_id': ['3', '3', '3']}\n",
    "df_b = pd.DataFrame(raw_data_1, index = [\"employee_1\", \"employee_2\", \"employee_3\"])"
   ]
  },
  {
   "cell_type": "code",
   "execution_count": null,
   "metadata": {
    "ExecuteTime": {
     "end_time": "2019-12-04T00:00:24.943187Z",
     "start_time": "2019-12-04T00:00:24.931717Z"
    }
   },
   "outputs": [],
   "source": [
    "df_a"
   ]
  },
  {
   "cell_type": "code",
   "execution_count": null,
   "metadata": {
    "ExecuteTime": {
     "end_time": "2019-12-04T00:00:27.487347Z",
     "start_time": "2019-12-04T00:00:27.474884Z"
    }
   },
   "outputs": [],
   "source": [
    "df_b"
   ]
  },
  {
   "cell_type": "code",
   "execution_count": null,
   "metadata": {
    "ExecuteTime": {
     "end_time": "2019-12-04T00:00:36.349232Z",
     "start_time": "2019-12-04T00:00:36.323183Z"
    }
   },
   "outputs": [],
   "source": [
    "df_a.join(df_b, on = \"employee_num\") # join on index and column "
   ]
  },
  {
   "cell_type": "markdown",
   "metadata": {},
   "source": [
    "# Reshaping by Pivot, Melt, and Pivot Table:"
   ]
  },
  {
   "cell_type": "markdown",
   "metadata": {},
   "source": [
    "__Overview:__\n",
    "- It is common as a Data Scientist to work with data that is stored in CSV files or databases in \"stacked\" format (i.e. information for multiple groups stacked on top of each other)\n",
    "- However, it is inconvenient to perform analysis on stacked data, and much easier to work with data that is grouped by category or some other variable\n",
    "- In Excel, the __[\"Pivot Table\"](https://support.office.com/en-us/article/create-a-pivottable-to-analyze-worksheet-data-a9a84538-bfe9-40a9-a8e9-f99134456576)__ offers a helpful way to \"unstack\" stacked data in a format that is conducive for analysis\n",
    "- Pandas has very similar methods for \"pivoting/reshaping\" data that can be found [here](http://pandas.pydata.org/pandas-docs/stable/reshaping.html):\n",
    "> 1. Reshaping by __Pivoting DataFrame Objects:__ This reshaping can be done using the `pivot` function. The primary purpose here is to make the `columns` the unique variables and the `index` the time frame or identifier\n",
    "> 2. Reshaping by __Melting DataFrame Objects:__ This reshaping can be done using the `melt` function. The primary purpose here is to make one or more columns identifier variables and the other columns measured variables which are \"unpivoted\" to the row axis\n",
    "> 3. Reshaping by __Pivot Tables:__ This reshaping can be done using the `pivot_table` function. The primary purpose here is to pivot data AND provide aggregation of numeric data \n",
    "\n",
    "__Helpful Points:__\n",
    "1. Most people coming into Data Science have some experince with Excel, so these operations may feel \"at home\" for them\n",
    "2. Note the difference between the `pivot` and `pivot_table` functions. The former is used for general purpose pivoting of DataFrames and the latter is used for pivoting with aggregation of numeric data \n",
    "\n",
    "__Practice:__ Examples of Advanced Manipulation of Pandas - Reshaping and Pivot Tables in Python "
   ]
  },
  {
   "cell_type": "markdown",
   "metadata": {},
   "source": [
    "## Pivot"
   ]
  },
  {
   "cell_type": "code",
   "execution_count": null,
   "metadata": {
    "ExecuteTime": {
     "end_time": "2019-12-04T00:08:06.888674Z",
     "start_time": "2019-12-04T00:08:06.864612Z"
    },
    "scrolled": true
   },
   "outputs": [],
   "source": [
    "values = [{\"Day\":\"Monday\", \"Buyer\":\"Mom\", \"Type\":\"Fuel\", \"Amount\":45},\n",
    "         {\"Day\":\"Tuesday\", \"Buyer\":\"Dad\", \"Type\":\"Food\", \"Amount\":200},\n",
    "         {\"Day\":\"Tuesday\", \"Buyer\":\"Gordon\", \"Type\":\"Sports\", \"Amount\":100},\n",
    "         {\"Day\":\"Monday\", \"Buyer\":\"Victor\", \"Type\":\"Music\", \"Amount\":90}]\n",
    "expenses_df = pd.DataFrame(values, columns = [\"Day\", \"Buyer\", \"Type\", \"Amount\"])\n",
    "expenses_df"
   ]
  },
  {
   "cell_type": "markdown",
   "metadata": {},
   "source": [
    "### Pivot by Day and Buyer"
   ]
  },
  {
   "cell_type": "code",
   "execution_count": null,
   "metadata": {
    "ExecuteTime": {
     "end_time": "2019-12-04T00:08:17.298964Z",
     "start_time": "2019-12-04T00:08:17.222699Z"
    },
    "scrolled": true
   },
   "outputs": [],
   "source": [
    "expenses_df.pivot(index = \"Day\", columns = \"Buyer\", values = \"Amount\")"
   ]
  },
  {
   "cell_type": "markdown",
   "metadata": {},
   "source": [
    "### Pivot by Buyer and Type"
   ]
  },
  {
   "cell_type": "code",
   "execution_count": null,
   "metadata": {
    "ExecuteTime": {
     "end_time": "2019-12-04T00:08:44.400979Z",
     "start_time": "2019-12-04T00:08:44.384404Z"
    },
    "scrolled": false
   },
   "outputs": [],
   "source": [
    "expenses_df.pivot(index = \"Type\", columns = \"Buyer\", values = \"Amount\")"
   ]
  },
  {
   "cell_type": "markdown",
   "metadata": {},
   "source": [
    "## Melt"
   ]
  },
  {
   "cell_type": "markdown",
   "metadata": {},
   "source": [
    "### Melt by Type"
   ]
  },
  {
   "cell_type": "code",
   "execution_count": null,
   "metadata": {
    "ExecuteTime": {
     "end_time": "2019-12-04T00:09:37.942317Z",
     "start_time": "2019-12-04T00:09:37.921451Z"
    }
   },
   "outputs": [],
   "source": [
    "# subset for only type \n",
    "expenses_df.melt(id_vars = [\"Day\", \"Buyer\"], value_vars = [\"Type\"])"
   ]
  },
  {
   "cell_type": "markdown",
   "metadata": {},
   "source": [
    "### Melt by Type and Amount"
   ]
  },
  {
   "cell_type": "code",
   "execution_count": null,
   "metadata": {
    "ExecuteTime": {
     "end_time": "2019-12-04T00:11:47.479004Z",
     "start_time": "2019-12-04T00:11:47.459669Z"
    }
   },
   "outputs": [],
   "source": [
    "# subset for type and amount\n",
    "expenses_df.melt(id_vars = [\"Day\", \"Buyer\"], value_vars = [\"Type\", \"Amount\"])"
   ]
  },
  {
   "cell_type": "markdown",
   "metadata": {},
   "source": [
    "## Pivot Table"
   ]
  },
  {
   "cell_type": "code",
   "execution_count": null,
   "metadata": {
    "ExecuteTime": {
     "end_time": "2019-12-04T00:12:04.908848Z",
     "start_time": "2019-12-04T00:12:04.897870Z"
    }
   },
   "outputs": [],
   "source": [
    "expenses_df"
   ]
  },
  {
   "cell_type": "markdown",
   "metadata": {},
   "source": [
    "### Aggregate Amount by Buyer"
   ]
  },
  {
   "cell_type": "code",
   "execution_count": null,
   "metadata": {
    "ExecuteTime": {
     "end_time": "2019-12-04T00:12:06.327871Z",
     "start_time": "2019-12-04T00:12:06.298556Z"
    }
   },
   "outputs": [],
   "source": [
    "pd.pivot_table(expenses_df, values = \"Amount\", index = \"Buyer\", aggfunc = np.sum)"
   ]
  },
  {
   "cell_type": "markdown",
   "metadata": {},
   "source": [
    "### Aggregate Amount by Day"
   ]
  },
  {
   "cell_type": "code",
   "execution_count": null,
   "metadata": {
    "ExecuteTime": {
     "end_time": "2019-12-04T00:13:29.556098Z",
     "start_time": "2019-12-04T00:13:29.539303Z"
    }
   },
   "outputs": [],
   "source": [
    "pd.pivot_table(expenses_df, values = \"Amount\", index = \"Day\", aggfunc = np.sum)"
   ]
  },
  {
   "cell_type": "markdown",
   "metadata": {},
   "source": [
    "# GroupBy"
   ]
  },
  {
   "cell_type": "markdown",
   "metadata": {},
   "source": [
    "__Overview:__\n",
    "- The GroupBy functionality draws from the common \"Split-Apply-Combine\" strategy which is summarized below:\n",
    "> 1. __Split:__  The split step involves splitting the data into groups based on some criteria\n",
    "> 2. __Apply:__ The apply step involves applying a function to each group independently. The functions applied in this step fall in 3 main categories:\n",
    ">> a. __Aggregation:__ The aggregation functions compute a summary statistic about each group (i.e. group sums, means, sizes, counts, etc.)<br>\n",
    ">> b. __Transformation:__ The transformation functions perform some group-specific computations on each group (i.e. standardize data within each group, fill NAs within groups, etc.)<br>\n",
    ">> c. __Filtration:__ The filtration functions discard some groups according to a group-wise computation (i.e. discard data that belongs to groups with only a few members, filter out data based on group sum or mean, etc.)<br>\n",
    "> 3. __Combine:__ The combine step involves combining the results into a data structure \n",
    "\n",
    "__Helpful Points:__\n",
    "1. The GroupBy functionality exists in the SQL command `GROUP BY` which you can read about it [here](https://dev.mysql.com/doc/refman/5.7/en/group-by-modifiers.html) and [here](https://docs.microsoft.com/en-us/sql/t-sql/queries/select-group-by-transact-sql) if you are interested \n",
    "2. Arguably the most common functionality for Data Scientists is \"GroupBy-Aggregation\""
   ]
  },
  {
   "cell_type": "markdown",
   "metadata": {},
   "source": [
    "__Overview:__\n",
    "- The __[GroupBy](http://pandas.pydata.org/pandas-docs/stable/groupby.html)__ function in Pandas allows us to perform the \"split-apply-combine\" strategy in a very efficient manner\n",
    "- The procedure is performed in the following steps where the \"combine\" step is implicit in the \"apply\" step:\n",
    "\n",
    "> /1. __STEP 1 (SPLIT):__ Splitting is completed by creating a \"GroupBy\" object which basically just means separating out the data into constituent groups. GroupBy objects can be created in the following way: \n",
    ">> a. `grouped = obj.groupby(key)`<br>\n",
    ">> b. `grouped = obj.groupby(key, axis=1)`<br>\n",
    ">> c. `grouped = obj.groupby([key1, key2])`\n",
    ">> - Here, the `obj` is usually a Pandas `DataFrame` object and the `key` is most commonly one of the following:<br>\n",
    ">> > a. List or NumPy array<br> \n",
    ">> > b. Dictionary or Series<br>\n",
    ">> > c. Column name<br>\n",
    ">> - In practice, the \"group keys\" will refer to the labels of each group (i.e. \"A\" and \"B\" are the group keys for Group \"A\" and Group \"B\" and \"Group\" would be passed as the `key` argument into the `groupby` function) \n",
    "\n",
    "> /2. __STEP 2 (APPLY):__ Now that a GroupBy object has been created, we can perform various \"apply\" methods to the object such as:\n",
    ">> a. __Aggregation:__ Aggregation returns a new DataFrame and can be completed in this fashion: `grouped.agg` or `grouped.aggregate`<br>\n",
    ">> b. __Transformation:__ Transformation returns an object that is indexed the same as the one begin grouped and can be completed in this fashion: `grouped.transform`<br>\n",
    ">> c. __Filtration:__ Filtration returns a subset of the original object and can be completed in this fashion: `grouped.filter`<br>\n",
    ">> d. __Other:__ `grouped.count`, `grouped.cummax`, `grouped.cumsum`, `grouped.fillna`, `grouped.max`, etc. \n",
    "\n",
    "__Helpful Points:__\n",
    "1. GroupBy objects have a few useful attributes for analyzing the groups that were created:\n",
    "> 1. The `groups` attribute to view the groups that were created: `df.groupby(key).groups`\n",
    "> 2. The `describe` attribute to view information about the groups that were created: `df.groupby(key).describe()`\n",
    "> 3. The `ngroups` attribute to view the number of groups that were created: `df.groupby(key).ngroups`\n",
    "> 4. The `first` attribute to view the first few rows of the groups that were created: `df.groupby(key).first()`\n",
    "> 5. The `last` attribute to view the last few rows of the groups that were created: `df.groupby(key).last()`\n",
    "> 6. The `get_group` attribute to access one of the many groups that were created:`df.groupby(key).get_group()`\n",
    "2. Remember you can always see a complete list of all the attributes of an object by selecting `obj.<TAB>`\n",
    "\n",
    "__Practice:__ Examples of GroupBy in Pandas in Python"
   ]
  },
  {
   "cell_type": "markdown",
   "metadata": {},
   "source": [
    "## Split\n",
    "\n",
    "The `.groupby` method splits a DataFrame into groups of observations with equal values in some column."
   ]
  },
  {
   "cell_type": "code",
   "execution_count": null,
   "metadata": {
    "ExecuteTime": {
     "end_time": "2019-12-04T00:20:32.242504Z",
     "start_time": "2019-12-04T00:20:32.232577Z"
    }
   },
   "outputs": [],
   "source": [
    "department_df = pd.DataFrame({'Department' : ['Marketing', 'HR', 'Marketing', 'HR',\n",
    "                           'Marketing', 'HR', 'Marketing', 'Marketing'],\n",
    "                   'City' : ['Chicago', 'Chicago', 'Seattle', 'New York',\n",
    "                           'Seattle', 'Seattle', 'Chicago', 'New York'],\n",
    "                   'People' : [100, 20, 31, 300,\n",
    "                           1000, 300, 450, 5],\n",
    "                   'Revenue' :[200, 200, 31, 350,\n",
    "                           1200, 300, 4050, 50]}, columns = [\"Department\", \"City\", \"People\", \"Revenue\"])"
   ]
  },
  {
   "cell_type": "code",
   "execution_count": null,
   "metadata": {
    "ExecuteTime": {
     "end_time": "2019-12-04T00:20:33.986411Z",
     "start_time": "2019-12-04T00:20:33.975787Z"
    }
   },
   "outputs": [],
   "source": [
    "department_df"
   ]
  },
  {
   "cell_type": "markdown",
   "metadata": {},
   "source": [
    "### Creating a `groupby` Object"
   ]
  },
  {
   "cell_type": "code",
   "execution_count": null,
   "metadata": {
    "ExecuteTime": {
     "end_time": "2019-12-04T00:20:38.506304Z",
     "start_time": "2019-12-04T00:20:38.499096Z"
    },
    "scrolled": true
   },
   "outputs": [],
   "source": [
    "grouped_dpt = department_df.groupby('Department')\n",
    "grouped_dpt # groupby object "
   ]
  },
  {
   "cell_type": "markdown",
   "metadata": {},
   "source": [
    "### Attributes of `groupby` Object"
   ]
  },
  {
   "cell_type": "code",
   "execution_count": null,
   "metadata": {
    "ExecuteTime": {
     "end_time": "2019-12-04T00:20:44.156813Z",
     "start_time": "2019-12-04T00:20:44.145796Z"
    }
   },
   "outputs": [],
   "source": [
    "grouped_dpt.groups # groups "
   ]
  },
  {
   "cell_type": "code",
   "execution_count": null,
   "metadata": {
    "ExecuteTime": {
     "end_time": "2019-12-04T00:20:46.757726Z",
     "start_time": "2019-12-04T00:20:46.669045Z"
    },
    "scrolled": true
   },
   "outputs": [],
   "source": [
    "grouped_dpt.describe() # summary statistics "
   ]
  },
  {
   "cell_type": "code",
   "execution_count": null,
   "metadata": {
    "ExecuteTime": {
     "end_time": "2019-12-04T00:20:49.973063Z",
     "start_time": "2019-12-04T00:20:49.965030Z"
    }
   },
   "outputs": [],
   "source": [
    "grouped_dpt.ngroups # number of groups "
   ]
  },
  {
   "cell_type": "code",
   "execution_count": null,
   "metadata": {
    "ExecuteTime": {
     "end_time": "2019-12-04T00:20:52.133864Z",
     "start_time": "2019-12-04T00:20:52.108495Z"
    },
    "scrolled": true
   },
   "outputs": [],
   "source": [
    "grouped_dpt.first() # first row of each group "
   ]
  },
  {
   "cell_type": "code",
   "execution_count": null,
   "metadata": {
    "ExecuteTime": {
     "end_time": "2019-12-04T00:21:23.362623Z",
     "start_time": "2019-12-04T00:21:23.349930Z"
    }
   },
   "outputs": [],
   "source": [
    "grouped_dpt.head(1)"
   ]
  },
  {
   "cell_type": "code",
   "execution_count": null,
   "metadata": {
    "ExecuteTime": {
     "end_time": "2019-12-04T00:21:37.257264Z",
     "start_time": "2019-12-04T00:21:37.242524Z"
    },
    "scrolled": true
   },
   "outputs": [],
   "source": [
    "grouped_dpt.last() # last row of each group "
   ]
  },
  {
   "cell_type": "code",
   "execution_count": null,
   "metadata": {
    "ExecuteTime": {
     "end_time": "2019-12-04T00:21:58.385873Z",
     "start_time": "2019-12-04T00:21:58.374734Z"
    },
    "scrolled": true
   },
   "outputs": [],
   "source": [
    "grouped_dpt.tail(2)"
   ]
  },
  {
   "cell_type": "code",
   "execution_count": null,
   "metadata": {
    "ExecuteTime": {
     "end_time": "2019-12-04T00:21:42.638692Z",
     "start_time": "2019-12-04T00:21:42.620155Z"
    }
   },
   "outputs": [],
   "source": [
    "grouped_dpt.nth(2) # nth row"
   ]
  },
  {
   "cell_type": "markdown",
   "metadata": {},
   "source": [
    "### Get Group"
   ]
  },
  {
   "cell_type": "code",
   "execution_count": null,
   "metadata": {
    "ExecuteTime": {
     "end_time": "2019-12-04T00:22:20.459742Z",
     "start_time": "2019-12-04T00:22:20.451446Z"
    }
   },
   "outputs": [],
   "source": [
    "grouped_city = department_df.groupby('City')\n",
    "grouped_city # groupby object "
   ]
  },
  {
   "cell_type": "code",
   "execution_count": null,
   "metadata": {
    "ExecuteTime": {
     "end_time": "2019-12-04T00:22:21.703145Z",
     "start_time": "2019-12-04T00:22:21.692230Z"
    }
   },
   "outputs": [],
   "source": [
    "grouped_dpt[\"City\"]"
   ]
  },
  {
   "cell_type": "code",
   "execution_count": null,
   "metadata": {
    "ExecuteTime": {
     "end_time": "2019-12-04T00:22:23.928468Z",
     "start_time": "2019-12-04T00:22:23.918318Z"
    }
   },
   "outputs": [],
   "source": [
    "grouped_dpt.get_group(\"HR\") # get one group "
   ]
  },
  {
   "cell_type": "markdown",
   "metadata": {},
   "source": [
    "## Apply"
   ]
  },
  {
   "cell_type": "code",
   "execution_count": null,
   "metadata": {},
   "outputs": [],
   "source": [
    "department_df"
   ]
  },
  {
   "cell_type": "markdown",
   "metadata": {},
   "source": [
    "### Apply Aggregations"
   ]
  },
  {
   "cell_type": "markdown",
   "metadata": {},
   "source": [
    "#### Aggregate by Sum"
   ]
  },
  {
   "cell_type": "code",
   "execution_count": null,
   "metadata": {
    "ExecuteTime": {
     "end_time": "2019-12-04T00:25:11.277599Z",
     "start_time": "2019-12-04T00:25:11.267816Z"
    }
   },
   "outputs": [],
   "source": [
    "grouped_dpt.aggregate(np.sum) # aggregate sum based on one group"
   ]
  },
  {
   "cell_type": "code",
   "execution_count": null,
   "metadata": {},
   "outputs": [],
   "source": [
    "grouped_dpt.agg(np.sum) # note: we can also just write agg instead of aggregate"
   ]
  },
  {
   "cell_type": "code",
   "execution_count": null,
   "metadata": {},
   "outputs": [],
   "source": [
    "department_df.groupby(\"Department\", as_index = False).sum() # if we want the group keys as a column and not index "
   ]
  },
  {
   "cell_type": "code",
   "execution_count": null,
   "metadata": {},
   "outputs": [],
   "source": [
    "# new groupby object by department AND city\n",
    "grouped_dpt_city = department_df.groupby([\"Department\", \"City\"])"
   ]
  },
  {
   "cell_type": "code",
   "execution_count": null,
   "metadata": {
    "scrolled": true
   },
   "outputs": [],
   "source": [
    "grouped_dpt_city.aggregate(np.sum) # aggregate sum based on two groups"
   ]
  },
  {
   "cell_type": "markdown",
   "metadata": {},
   "source": [
    "The above is actually an example of \"multiple keys\" since we have both \"Department\" and \"City\" as Keys and therefore the result is a __[MultiIndex](http://pandas.pydata.org/pandas-docs/stable/advanced.html#advanced-hierarchical) or Hierarchical Index__ which is not covered in this course. We can avoid this by making the group keys both into columns like we did above:"
   ]
  },
  {
   "cell_type": "code",
   "execution_count": null,
   "metadata": {},
   "outputs": [],
   "source": [
    "department_df.groupby([\"Department\", \"City\"], as_index = False).sum()"
   ]
  },
  {
   "cell_type": "markdown",
   "metadata": {},
   "source": [
    "#### Aggregate by Mean"
   ]
  },
  {
   "cell_type": "code",
   "execution_count": null,
   "metadata": {},
   "outputs": [],
   "source": [
    "grouped_dpt.aggregate(np.mean) # means based on one group"
   ]
  },
  {
   "cell_type": "code",
   "execution_count": null,
   "metadata": {},
   "outputs": [],
   "source": [
    "grouped_dpt_city.aggregate(np.mean) # means based on two groups"
   ]
  },
  {
   "cell_type": "markdown",
   "metadata": {},
   "source": [
    "#### Aggregate by Sizes"
   ]
  },
  {
   "cell_type": "code",
   "execution_count": null,
   "metadata": {},
   "outputs": [],
   "source": [
    "grouped_dpt.size()"
   ]
  },
  {
   "cell_type": "code",
   "execution_count": null,
   "metadata": {},
   "outputs": [],
   "source": [
    "grouped_dpt_city.size()"
   ]
  },
  {
   "cell_type": "markdown",
   "metadata": {},
   "source": [
    "#### Aggregate by Multiple Functions"
   ]
  },
  {
   "cell_type": "code",
   "execution_count": null,
   "metadata": {},
   "outputs": [],
   "source": [
    "grouped_dpt.aggregate([np.sum, np.mean, np.std]) # this is similar to describe() above "
   ]
  },
  {
   "cell_type": "markdown",
   "metadata": {},
   "source": [
    "### Apply Transformations"
   ]
  },
  {
   "cell_type": "code",
   "execution_count": null,
   "metadata": {
    "scrolled": true
   },
   "outputs": [],
   "source": [
    "department_df"
   ]
  },
  {
   "cell_type": "markdown",
   "metadata": {},
   "source": [
    "#### Transform to Sum of Groups"
   ]
  },
  {
   "cell_type": "code",
   "execution_count": null,
   "metadata": {
    "ExecuteTime": {
     "end_time": "2019-12-04T00:25:49.056865Z",
     "start_time": "2019-12-04T00:25:49.042172Z"
    },
    "scrolled": true
   },
   "outputs": [],
   "source": [
    "department_df[\"Revenue_Total\"] = grouped_dpt[\"Revenue\"].transform('sum') # transform revenue to be total departmental revenue\n",
    "department_df"
   ]
  },
  {
   "cell_type": "markdown",
   "metadata": {},
   "source": [
    "#### Transform to Z-Score of Groups\n",
    "\n",
    "We can also use a manual function inside the transform argument. In this case, we are using a function that calculates the __[\"Z-Score\"](https://en.wikipedia.org/wiki/Standard_score)__ which is a standardized measure that is calculated by subtracting the mean from every value and dividing this by the standard deviation. We will see this in more detail in Lectures 11 and 12.  \n",
    "\n",
    "- Don't worry about the definition of Z-Score here. The point of this example is not to teach the Z-Score, but to see how we can apply a manual function to each group and transform the values\n",
    "- The most important thing to note here is that the function is being applied WITHIN groups only. See calculation for \"Standardized_Revenue\" for the Marketing Department in Chicago:\n",
    "\n",
    "Group Mean across all Marketing Departments: $1106.2$<br>\n",
    "Group Standard Deviation across all Marketing Departments: $1715.2$<br>\n",
    "Z-Score for Marketing-Chicago: $(200 - 1106.2)/1715.2 = -0.528$"
   ]
  },
  {
   "cell_type": "code",
   "execution_count": null,
   "metadata": {},
   "outputs": [],
   "source": [
    "zscore = lambda x: (x-x.mean()) / x.std()\n",
    "zscore"
   ]
  },
  {
   "cell_type": "code",
   "execution_count": null,
   "metadata": {},
   "outputs": [],
   "source": [
    "department_df[\"Standardized_Revenue\"] = grouped_dpt[\"Revenue\"].transform(zscore) # transform revenue to be total departmental revenue\n",
    "department_df"
   ]
  },
  {
   "cell_type": "markdown",
   "metadata": {},
   "source": [
    "#### Transform to Range"
   ]
  },
  {
   "cell_type": "code",
   "execution_count": null,
   "metadata": {
    "ExecuteTime": {
     "end_time": "2019-12-04T00:27:19.389948Z",
     "start_time": "2019-12-04T00:27:19.358403Z"
    },
    "scrolled": true
   },
   "outputs": [],
   "source": [
    "department_df[\"Revenue_Range\"] = grouped_dpt[\"Revenue\"].transform('max') - grouped_dpt[\"Revenue\"].transform('min') \n",
    "department_df"
   ]
  },
  {
   "cell_type": "markdown",
   "metadata": {},
   "source": [
    "Note: NOT shown here is an application of replacing missing data with group mean values. Since the transform method is applied WITHIN groups, we can impute missing data with the group mean value that observation belongs to."
   ]
  },
  {
   "cell_type": "markdown",
   "metadata": {},
   "source": [
    "### Apply Filters\n",
    "\n",
    "Recall in Lecture 4 our discussion of the `map`, `reduce`, and `filter` functions that were used in conjunction with `lambda` functions. Here is no different except we are applying the function WITHIN groups"
   ]
  },
  {
   "cell_type": "markdown",
   "metadata": {},
   "source": [
    "#### Subset 1"
   ]
  },
  {
   "cell_type": "code",
   "execution_count": null,
   "metadata": {
    "ExecuteTime": {
     "end_time": "2019-12-04T00:28:51.745744Z",
     "start_time": "2019-12-04T00:28:51.737109Z"
    }
   },
   "outputs": [],
   "source": [
    "# take only elements that belong to groups with a group sum greater than 100\n",
    "grouped_dpt[\"Revenue\"].filter(lambda x: x.sum() > 1000)"
   ]
  },
  {
   "cell_type": "markdown",
   "metadata": {},
   "source": [
    "This returns all the elements from the Marketing group since this was the only group that had a sum greater than 1000"
   ]
  },
  {
   "cell_type": "markdown",
   "metadata": {},
   "source": [
    "#### Subset  2"
   ]
  },
  {
   "cell_type": "code",
   "execution_count": null,
   "metadata": {
    "ExecuteTime": {
     "end_time": "2019-12-04T00:28:48.403165Z",
     "start_time": "2019-12-04T00:28:48.390287Z"
    }
   },
   "outputs": [],
   "source": [
    "# take only elements that belong to groups that have less than 5 members\n",
    "grouped_dpt[\"Revenue\"].filter(lambda x: len(x) < 5)"
   ]
  },
  {
   "cell_type": "markdown",
   "metadata": {},
   "source": [
    "This returns all the elements from the HR group since this was the only group that had less than 5 members "
   ]
  },
  {
   "cell_type": "markdown",
   "metadata": {},
   "source": [
    "# Operations on Pandas Data Structures"
   ]
  },
  {
   "cell_type": "markdown",
   "metadata": {},
   "source": [
    "__Overview:__\n",
    "- Pandas offers various ways to operate on Series and DataFrames in both a row/column fashion (i.e. vectorized) and an element-wise fashion\n",
    "- Operations can be broken down into the following two types:\n",
    "> 1. __Operations with Loops:__ There are 2 main types of loop in Pandas Data Structures:\n",
    ">> a. __Looping over Rows:__ To loop over rows, it is possible to use the functions __[`df.itertuples`](https://pandas.pydata.org/pandas-docs/stable/generated/pandas.DataFrame.itertuples.html)__ (which iterates over DataFrame rows as namedtuples of the values) or __[`df.iterrows`](https://pandas.pydata.org/pandas-docs/stable/generated/pandas.DataFrame.iterrows.html)__ (which iterates over (column, Series) pairs <br>\n",
    ">> b. __Looping over Columns:__ To loop over columns, it is possible to use the functions __[`df.iteritems`](http://pandas.pydata.org/pandas-docs/version/0.17.0/generated/pandas.DataFrame.iteritems.html)__\n",
    "> 2. __Operations without Loops:__ There are 3 main types of functions that are used to perform operations without loops:\n",
    ">> a. __[`apply`](https://pandas.pydata.org/pandas-docs/stable/generated/pandas.DataFrame.apply.html):__ The `apply` function works on a row/column basis on `DataFrame` objects. The syntax is as follows: `df.apply(func, axis=0)`, where the `axis=0` is to apply function over each column and `axis=1` is to apply function over each row<br> \n",
    ">> b. __[`map`](https://pandas.pydata.org/pandas-docs/stable/generated/pandas.Series.map.html):__ The `map` function works on an elment-wise basis on `Series` objects. The syntax is as follows: `s.map(arg)` where `arg` can be a function, dictionary or series<br>\n",
    ">> c. __[`applymap`](https://pandas.pydata.org/pandas-docs/stable/generated/pandas.DataFrame.applymap.html):__ The `applymap` function works on an element-wise basis on `DataFrame` objects. The syntax is as follows: `df.applymap(func)`\n",
    "\n",
    "__Helpful Points:__\n",
    "1. Some users have expressed discontent and overall discouragement over using `df.iterrows` to iterate over rows of a DataFrame in favour of vectorized solutions (see Operations without Loops above) OR `df.itertuples`. You can read about some of `df.iterrows` performance concerns [here](https://stackoverflow.com/questions/24870953/does-iterrows-have-performance-issues) if you are interested \n",
    "2. In each case of the operations without loops, the function that may be entered in as an argument can be a manually made one using the `lambda` expression or a function that is supported by NumPy in the form of `np.func`\n",
    "\n",
    "__Practice:__ Examples of Operations on Elements, Rows, and Columns on Pandas Data Structures in Python "
   ]
  },
  {
   "cell_type": "markdown",
   "metadata": {},
   "source": [
    "## Loops"
   ]
  },
  {
   "cell_type": "code",
   "execution_count": null,
   "metadata": {},
   "outputs": [],
   "source": [
    "my_df_small = pd.DataFrame(np.arange(10))\n",
    "my_df_large = pd.DataFrame(np.arange(100000))"
   ]
  },
  {
   "cell_type": "code",
   "execution_count": null,
   "metadata": {},
   "outputs": [],
   "source": [
    "my_df_small.head()"
   ]
  },
  {
   "cell_type": "markdown",
   "metadata": {},
   "source": [
    "### Looping over Rows - Iterrows"
   ]
  },
  {
   "cell_type": "code",
   "execution_count": null,
   "metadata": {
    "scrolled": true
   },
   "outputs": [],
   "source": [
    "for row in my_df_small.iterrows():\n",
    "    print(row)"
   ]
  },
  {
   "cell_type": "markdown",
   "metadata": {},
   "source": [
    "The function `iterrows()` iterates over DataFrame rows as (index, Series) pairs. For example:\n",
    "\n",
    "1. The first (index, Series) pairs is `(0, 0   0)` which refers to the `0` index (first row) and the Series object which is the column name (`0`) and the value `0`\n",
    "2. The seconds (index, Series) pairs is `(1, 0   0)` which refers to the `1` index (second row) and the Series object which is the column name (`0`) and the value `1`"
   ]
  },
  {
   "cell_type": "code",
   "execution_count": null,
   "metadata": {},
   "outputs": [],
   "source": [
    "%%timeit \n",
    "\n",
    "for row in my_df_large.iterrows():\n",
    "    pass"
   ]
  },
  {
   "cell_type": "markdown",
   "metadata": {},
   "source": [
    "### Looping over Rows - Itertuples"
   ]
  },
  {
   "cell_type": "code",
   "execution_count": null,
   "metadata": {
    "scrolled": true
   },
   "outputs": [],
   "source": [
    "for row in my_df_small.itertuples():\n",
    "    print(row)"
   ]
  },
  {
   "cell_type": "markdown",
   "metadata": {},
   "source": [
    "The function `itertuples()` iterates over DataFrame rows as namedtuples. For example:\n",
    "\n",
    "1. The first namedtuple is `(Index=0, _1=0)` which refers to the tuple that contains the `Index=0` and `_1` which refers to the name of the column and the value in that column (`0`)\n",
    "2. The second namedtuple is `(Index=1, _1=1)` which refers to the tuple that contains the `Index=1` and `_1` which refers to the name of the column and the value in that column (`1`)"
   ]
  },
  {
   "cell_type": "code",
   "execution_count": null,
   "metadata": {},
   "outputs": [],
   "source": [
    "%%timeit\n",
    "\n",
    "for row in my_df_large.itertuples():\n",
    "    pass"
   ]
  },
  {
   "cell_type": "markdown",
   "metadata": {},
   "source": [
    "Compare this time result using `itertuples()` with the time result above using `iterrows()`. The mean time of `itertuples()` was 44.8 ms per loop compared to `iterrows()` which was over 3 seconds!!"
   ]
  },
  {
   "cell_type": "markdown",
   "metadata": {},
   "source": [
    "### Looping over Columns - Iteritems"
   ]
  },
  {
   "cell_type": "code",
   "execution_count": null,
   "metadata": {},
   "outputs": [],
   "source": [
    "my_df_small_T = my_df_small.T\n",
    "my_df_large_T = my_df_large.T"
   ]
  },
  {
   "cell_type": "code",
   "execution_count": null,
   "metadata": {},
   "outputs": [],
   "source": [
    "my_df_small_T"
   ]
  },
  {
   "cell_type": "code",
   "execution_count": null,
   "metadata": {
    "scrolled": true
   },
   "outputs": [],
   "source": [
    "for col in my_df_small_T.iteritems():\n",
    "    print(col)"
   ]
  },
  {
   "cell_type": "markdown",
   "metadata": {},
   "source": [
    "Same format as `df.iterrows()` above"
   ]
  },
  {
   "cell_type": "markdown",
   "metadata": {},
   "source": [
    "## Operations without Loops"
   ]
  },
  {
   "cell_type": "code",
   "execution_count": null,
   "metadata": {},
   "outputs": [],
   "source": [
    "department_df_sub = department_df.loc[:, [\"People\", \"Revenue\"]]\n",
    "revenue = department_df[\"Revenue\"]"
   ]
  },
  {
   "cell_type": "code",
   "execution_count": null,
   "metadata": {},
   "outputs": [],
   "source": [
    "department_df_sub"
   ]
  },
  {
   "cell_type": "code",
   "execution_count": null,
   "metadata": {},
   "outputs": [],
   "source": [
    "revenue"
   ]
  },
  {
   "cell_type": "markdown",
   "metadata": {},
   "source": [
    "### Apply"
   ]
  },
  {
   "cell_type": "markdown",
   "metadata": {},
   "source": [
    "#### Sum"
   ]
  },
  {
   "cell_type": "code",
   "execution_count": null,
   "metadata": {
    "scrolled": true
   },
   "outputs": [],
   "source": [
    "department_df_sub.apply(np.sum, axis = 0) # apply function to each column "
   ]
  },
  {
   "cell_type": "code",
   "execution_count": null,
   "metadata": {},
   "outputs": [],
   "source": [
    "department_df_sub.sum(axis = 0) # non-apply equivalent "
   ]
  },
  {
   "cell_type": "code",
   "execution_count": null,
   "metadata": {
    "scrolled": true
   },
   "outputs": [],
   "source": [
    "department_df_sub.apply(np.sum, axis = 1)# apply function to each row "
   ]
  },
  {
   "cell_type": "code",
   "execution_count": null,
   "metadata": {},
   "outputs": [],
   "source": [
    "department_df_sub.sum(axis = 1)"
   ]
  },
  {
   "cell_type": "markdown",
   "metadata": {},
   "source": [
    "#### Range"
   ]
  },
  {
   "cell_type": "code",
   "execution_count": null,
   "metadata": {},
   "outputs": [],
   "source": [
    "department_df_sub.apply(lambda x: x.max() - x.min()) # apply function to each column "
   ]
  },
  {
   "cell_type": "markdown",
   "metadata": {},
   "source": [
    "### Map"
   ]
  },
  {
   "cell_type": "code",
   "execution_count": null,
   "metadata": {},
   "outputs": [],
   "source": [
    "revenue.map(lambda x: '%.2f' % x) # insert 2 decimal places for each element in the Series "
   ]
  },
  {
   "cell_type": "markdown",
   "metadata": {},
   "source": [
    "### Applymap"
   ]
  },
  {
   "cell_type": "code",
   "execution_count": null,
   "metadata": {
    "scrolled": true
   },
   "outputs": [],
   "source": [
    "department_df_sub.applymap(lambda x: '%.2f' % x) # insert 2 decimal places for each element in the Series "
   ]
  },
  {
   "cell_type": "markdown",
   "metadata": {},
   "source": [
    "# Handling Missing Data in Pandas Data Structures:"
   ]
  },
  {
   "cell_type": "markdown",
   "metadata": {},
   "source": [
    "__Overview:__\n",
    "- In Data Science, when working with real-world data, it is very common to encounter missing data that may be a result of data not available, data not recorded, or data not present for some reason\n",
    "- Since the purpose of this course is not teach tools for analyzing data, per se, we won't cover handling missing data in too much detail\n",
    "- However, as a beginner you should be aware of the possibile options that Pandas provides for storing missing data, finding missing data, inserting missing data, and cleaning/filling missing data which can be read about in detail [here](http://pandas.pydata.org/pandas-docs/stable/missing_data.html) and explained below:\n",
    "\n",
    "> 1. __Storing Missing Data:__ The value `NaN` is the default missing value marker, but sometimes `None` is used as well \n",
    "> 2. __Finding Missing Data:__ Pandas offers many convenient functions for testing if values are missing such as: `df.isna()`, `df.notna()`, `df.isnull()`, `df.notnull()` which all return a boolean same-sized object indicating if the values are missing. It is also possible to use these functions to count the number of missing values (i.e. `np.count_nonzero(df.isnull())`, `np.count_nonzero(np.any(df.isnull(), axis=)`)\n",
    "> 3. __Inserting Missing Data:__ It is possible to insert a missing value by setting values in Series or DataFrame objects as `None` or `np.nan`\n",
    "> 4. __Cleaning/Filling Missing Data:__ Pandas offers many convenient functions for filling missing values such as: `df.fillna(value)` and `df.dropna(axis)`\n",
    "\n",
    "__Helpful Points:__\n",
    "1. Note two `NaN` values do not compare equal (i.e. `np.nan == np.nan` is evaluated as `False`)\n",
    "\n",
    "__Practice:__ Examples of Operations to Handle Missing Data in Pandas Data Structures in Python"
   ]
  },
  {
   "cell_type": "code",
   "execution_count": null,
   "metadata": {
    "ExecuteTime": {
     "end_time": "2019-12-04T00:33:31.009338Z",
     "start_time": "2019-12-04T00:33:30.993944Z"
    },
    "scrolled": true
   },
   "outputs": [],
   "source": [
    "na_df = df = pd.DataFrame(np.arange(15).reshape(5, 3), index=['a', 'c', 'e', 'f', 'h'],\n",
    "                          columns=['one', 'two', 'three'])\n",
    "na_df = na_df.reindex(['a', 'b', 'c', 'd', 'e', 'f', 'g', 'h'])\n",
    "na_df"
   ]
  },
  {
   "cell_type": "markdown",
   "metadata": {},
   "source": [
    "## Finding Missing Data"
   ]
  },
  {
   "cell_type": "markdown",
   "metadata": {},
   "source": [
    "### `isna`, `notna`\n",
    "\n",
    "Newer versions of pandas!"
   ]
  },
  {
   "cell_type": "code",
   "execution_count": null,
   "metadata": {
    "ExecuteTime": {
     "end_time": "2019-12-04T00:33:36.298530Z",
     "start_time": "2019-12-04T00:33:36.272260Z"
    }
   },
   "outputs": [],
   "source": [
    "na_df.isna() # check elements that are missing "
   ]
  },
  {
   "cell_type": "code",
   "execution_count": null,
   "metadata": {
    "ExecuteTime": {
     "end_time": "2019-12-04T00:33:38.675491Z",
     "start_time": "2019-12-04T00:33:38.664669Z"
    },
    "scrolled": true
   },
   "outputs": [],
   "source": [
    "na_df.notna() # check elements that are not missing"
   ]
  },
  {
   "cell_type": "markdown",
   "metadata": {},
   "source": [
    "### `isnull`, `notnull`"
   ]
  },
  {
   "cell_type": "code",
   "execution_count": null,
   "metadata": {
    "ExecuteTime": {
     "end_time": "2019-12-04T00:33:42.000771Z",
     "start_time": "2019-12-04T00:33:41.990934Z"
    }
   },
   "outputs": [],
   "source": [
    "na_df.isnull() # check elements that are missing "
   ]
  },
  {
   "cell_type": "code",
   "execution_count": null,
   "metadata": {
    "ExecuteTime": {
     "end_time": "2019-12-04T00:33:44.291873Z",
     "start_time": "2019-12-04T00:33:44.281206Z"
    },
    "scrolled": false
   },
   "outputs": [],
   "source": [
    "na_df.notnull() # check elements that are not missing"
   ]
  },
  {
   "cell_type": "markdown",
   "metadata": {},
   "source": [
    "### Counting Missing Items"
   ]
  },
  {
   "cell_type": "code",
   "execution_count": null,
   "metadata": {
    "ExecuteTime": {
     "end_time": "2019-12-04T00:34:33.984044Z",
     "start_time": "2019-12-04T00:34:33.975632Z"
    }
   },
   "outputs": [],
   "source": [
    "np.count_nonzero(na_df.isnull()) # total number of missing values"
   ]
  },
  {
   "cell_type": "code",
   "execution_count": null,
   "metadata": {
    "ExecuteTime": {
     "end_time": "2019-12-04T00:34:37.195498Z",
     "start_time": "2019-12-04T00:34:37.187198Z"
    }
   },
   "outputs": [],
   "source": [
    "np.count_nonzero(np.any(na_df.isnull(), axis=0)) # total number of columns with missing values "
   ]
  },
  {
   "cell_type": "code",
   "execution_count": null,
   "metadata": {
    "ExecuteTime": {
     "end_time": "2019-12-04T00:34:40.982595Z",
     "start_time": "2019-12-04T00:34:40.975607Z"
    },
    "scrolled": true
   },
   "outputs": [],
   "source": [
    "np.count_nonzero(np.any(na_df.isnull(), axis=1)) # total number of rows with missing values "
   ]
  },
  {
   "cell_type": "markdown",
   "metadata": {},
   "source": [
    "## Inserting Missing Data"
   ]
  },
  {
   "cell_type": "code",
   "execution_count": null,
   "metadata": {
    "ExecuteTime": {
     "end_time": "2019-12-04T00:35:22.503190Z",
     "start_time": "2019-12-04T00:35:22.488903Z"
    },
    "scrolled": true
   },
   "outputs": [],
   "source": [
    "na_df[\"four\"] = \"Gordon\"\n",
    "na_df"
   ]
  },
  {
   "cell_type": "markdown",
   "metadata": {},
   "source": [
    "### Inserting Missing Data into Int"
   ]
  },
  {
   "cell_type": "code",
   "execution_count": null,
   "metadata": {
    "ExecuteTime": {
     "end_time": "2019-12-04T00:35:50.528989Z",
     "start_time": "2019-12-04T00:35:50.513224Z"
    }
   },
   "outputs": [],
   "source": [
    "na_df.loc[\"a\", \"two\"] = None # fills as NaN since replacing an int\n",
    "na_df.loc[\"a\", \"three\"] = np.nan # fills as NaN \n",
    "na_df"
   ]
  },
  {
   "cell_type": "markdown",
   "metadata": {},
   "source": [
    "### Inserting Missing Data into Str"
   ]
  },
  {
   "cell_type": "code",
   "execution_count": null,
   "metadata": {
    "ExecuteTime": {
     "end_time": "2019-12-04T00:46:55.152414Z",
     "start_time": "2019-12-04T00:46:55.111047Z"
    }
   },
   "outputs": [],
   "source": [
    "na_df.loc[\"a\", \"four\"] = np.nan # fills as None since replacing a str\n",
    "na_df.loc[\"b\", \"four\"] = None # fills as None\n",
    "na_df"
   ]
  },
  {
   "cell_type": "markdown",
   "metadata": {},
   "source": [
    "## Cleaning/Filling Missing Data"
   ]
  },
  {
   "cell_type": "markdown",
   "metadata": {},
   "source": [
    "### Filling NA with Value"
   ]
  },
  {
   "cell_type": "code",
   "execution_count": null,
   "metadata": {
    "ExecuteTime": {
     "end_time": "2019-12-04T00:47:33.350974Z",
     "start_time": "2019-12-04T00:47:33.330619Z"
    },
    "scrolled": true
   },
   "outputs": [],
   "source": [
    "na_df.fillna(\"NEW\")"
   ]
  },
  {
   "cell_type": "markdown",
   "metadata": {},
   "source": [
    "### Dropping Axis Labels with Missing Values"
   ]
  },
  {
   "cell_type": "code",
   "execution_count": null,
   "metadata": {
    "ExecuteTime": {
     "end_time": "2019-12-04T00:47:37.835371Z",
     "start_time": "2019-12-04T00:47:37.820164Z"
    }
   },
   "outputs": [],
   "source": [
    "na_df"
   ]
  },
  {
   "cell_type": "code",
   "execution_count": null,
   "metadata": {
    "ExecuteTime": {
     "end_time": "2019-12-04T00:47:43.106704Z",
     "start_time": "2019-12-04T00:47:43.066269Z"
    },
    "scrolled": true
   },
   "outputs": [],
   "source": [
    "na_df.dropna(axis=0) # remove rows that have NA values "
   ]
  },
  {
   "cell_type": "markdown",
   "metadata": {},
   "source": [
    "# Time Series Data in Pandas"
   ]
  },
  {
   "cell_type": "markdown",
   "metadata": {},
   "source": [
    "__Overview:__\n",
    "- As a Data Scientist, it is common to encounter data that takes place over time (i.e. sales data, financial data, etc.) which are commonly known as __[Time Series](https://en.wikipedia.org/wiki/Time_series)__ Data \n",
    "- Recall in out early discussions about the usefulness of Pandas and one of the major points we outlined which was Pandas' Time Series extensive capabilities which can be read about in detail [here](https://pandas.pydata.org/pandas-docs/stable/timeseries.html)\n",
    "- We will only briefly explore Pandas Time Series/Dates functionality here as they pertain to:\n",
    "> 1. Initiating objects of the following Date-Time types:\n",
    ">> a. `Timestamp` (single timestamp): created by `pd.to_datetime()`, `pd.Timestamp`<br>\n",
    ">> b. `DatetimeIndex` (index of `Timestamp`): created by `pd.datetime()`, `pd.date_range()`, `pd.DatetimeIndex`<br>\n",
    ">> c. `Period` (single time span): created by `pd.Period`<br>\n",
    ">> d. `PeriodIndex` (index of `Period`): created by `pd.period_range`, `pd.PeriodIndex`\n",
    "> 2. Common operations:\n",
    ">> a. `df.shift()`: Shifts index by desired number of periods<br> \n",
    ">> b. `df.resample()`: Resampling operations during frequency conversion (i.e. converting secondly data into 5-minutely data). It operates as time-based GroupBy (see above)<br>\n",
    ">> c. `df.rolling()`: Provides rolling window calculations \n",
    "\n",
    "__Helpful Points:__\n",
    "1. Pandas Time Series capabilities leverage the NumPy `datetime64` and `timedelta54` dtypes and you will find these as the type of the object after initializing a Timestamp, Period, etc. "
   ]
  },
  {
   "cell_type": "markdown",
   "metadata": {},
   "source": [
    "## Part 1 (Initiating Objects):"
   ]
  },
  {
   "cell_type": "code",
   "execution_count": null,
   "metadata": {},
   "outputs": [],
   "source": [
    "from datetime import datetime"
   ]
  },
  {
   "cell_type": "markdown",
   "metadata": {},
   "source": [
    "### Example 1.1 (Initiating Timestamp):"
   ]
  },
  {
   "cell_type": "markdown",
   "metadata": {},
   "source": [
    "### Example 1.1.1 (Using `pd.Timestamp()`):"
   ]
  },
  {
   "cell_type": "code",
   "execution_count": null,
   "metadata": {},
   "outputs": [],
   "source": [
    "pd.Timestamp(\"2018-04-23\")"
   ]
  },
  {
   "cell_type": "code",
   "execution_count": null,
   "metadata": {},
   "outputs": [],
   "source": [
    "pd.Timestamp(2018, 4, 23)"
   ]
  },
  {
   "cell_type": "markdown",
   "metadata": {},
   "source": [
    "### Example 1.1.2 (Using `pd.to_datetime()`):"
   ]
  },
  {
   "cell_type": "code",
   "execution_count": null,
   "metadata": {},
   "outputs": [],
   "source": [
    "pd.to_datetime(\"2018/04/23\")"
   ]
  },
  {
   "cell_type": "markdown",
   "metadata": {},
   "source": [
    "### Example 1.2 (Initiating DatetimeIndex):"
   ]
  },
  {
   "cell_type": "markdown",
   "metadata": {},
   "source": [
    "### Example 1.2.1 (Using `pd.date_range()`):"
   ]
  },
  {
   "cell_type": "code",
   "execution_count": null,
   "metadata": {
    "scrolled": true
   },
   "outputs": [],
   "source": [
    "first_week = pd.date_range(\"2018/04/23\", periods = 7, freq = \"D\") # first week of class \n",
    "first_week"
   ]
  },
  {
   "cell_type": "code",
   "execution_count": null,
   "metadata": {},
   "outputs": [],
   "source": [
    "first_week_day_num = pd.Series(np.arange(1,8), index = first_week)\n",
    "first_week_day_num"
   ]
  },
  {
   "cell_type": "code",
   "execution_count": null,
   "metadata": {},
   "outputs": [],
   "source": [
    "converted_first_week = first_week_day_num.asfreq(\"B\") # class only happens on business days \n",
    "converted_first_week"
   ]
  },
  {
   "cell_type": "markdown",
   "metadata": {},
   "source": [
    "See [here](http://pandas.pydata.org/pandas-docs/stable/timeseries.html#offset-aliases) for the possible time series frequencies that can be used and their Pandas Aliases. "
   ]
  },
  {
   "cell_type": "markdown",
   "metadata": {},
   "source": [
    "### Example 1.3 (Initiating Period):"
   ]
  },
  {
   "cell_type": "markdown",
   "metadata": {},
   "source": [
    "### Example 1.3.1 (Using `pd.Period()`):"
   ]
  },
  {
   "cell_type": "code",
   "execution_count": null,
   "metadata": {},
   "outputs": [],
   "source": [
    "pd.Period(\"2018-04\") # inferred as Month"
   ]
  },
  {
   "cell_type": "code",
   "execution_count": null,
   "metadata": {
    "scrolled": false
   },
   "outputs": [],
   "source": [
    "pd.Period(\"2018-04-23\") # inferred as Day"
   ]
  },
  {
   "cell_type": "markdown",
   "metadata": {},
   "source": [
    "### Example 1.4 (Initiating PeriodIndex):"
   ]
  },
  {
   "cell_type": "markdown",
   "metadata": {},
   "source": [
    "### Example 1.4.1 (Using `pd.period_range()`):"
   ]
  },
  {
   "cell_type": "code",
   "execution_count": null,
   "metadata": {
    "scrolled": false
   },
   "outputs": [],
   "source": [
    "pd.period_range(start=\"2018-04-23\", end = \"May-31-2018\", freq = \"M\")"
   ]
  },
  {
   "cell_type": "markdown",
   "metadata": {},
   "source": [
    "## Part 2 (Common Operations):"
   ]
  },
  {
   "cell_type": "markdown",
   "metadata": {},
   "source": [
    "### Example 2.1 (Using Shift):"
   ]
  },
  {
   "cell_type": "code",
   "execution_count": null,
   "metadata": {},
   "outputs": [],
   "source": [
    "converted_first_week"
   ]
  },
  {
   "cell_type": "code",
   "execution_count": null,
   "metadata": {
    "scrolled": true
   },
   "outputs": [],
   "source": [
    "converted_first_week.shift(2) # shift values by 2 periods "
   ]
  },
  {
   "cell_type": "markdown",
   "metadata": {},
   "source": [
    "### Example 2.2 (Using Resample):"
   ]
  },
  {
   "cell_type": "code",
   "execution_count": null,
   "metadata": {},
   "outputs": [],
   "source": [
    "rng = pd.date_range('4/23/2018', periods=100, freq='S') # range of 100 seconds\n",
    "ts = pd.Series(np.arange(len(rng)), index = rng) # fill in values of 0 - 100\n",
    "ts.head()"
   ]
  },
  {
   "cell_type": "code",
   "execution_count": null,
   "metadata": {
    "scrolled": true
   },
   "outputs": [],
   "source": [
    "ts.resample(\"Min\").sum() # 1 minute totals "
   ]
  },
  {
   "cell_type": "markdown",
   "metadata": {},
   "source": [
    "### Example 2.3 (Using Rolling):"
   ]
  },
  {
   "cell_type": "code",
   "execution_count": null,
   "metadata": {},
   "outputs": [],
   "source": [
    "df = pd.DataFrame({'Counts': [10, 31, 42, 5, 1, np.nan]})\n",
    "df"
   ]
  },
  {
   "cell_type": "code",
   "execution_count": null,
   "metadata": {
    "scrolled": true
   },
   "outputs": [],
   "source": [
    "df.rolling(2).sum() # rolling sum with window length of 2 (sum of every 2 values) - ignored NaN"
   ]
  },
  {
   "cell_type": "code",
   "execution_count": null,
   "metadata": {},
   "outputs": [],
   "source": [
    "df.rolling(window = 2, min_periods = 1).sum() # rolling sum with window length of 2 (sum of every 2 values) - adds if there is at least 1 value in the window"
   ]
  },
  {
   "cell_type": "code",
   "execution_count": null,
   "metadata": {},
   "outputs": [],
   "source": []
  }
 ],
 "metadata": {
  "kernelspec": {
   "display_name": "Python 3",
   "language": "python",
   "name": "python3"
  },
  "language_info": {
   "codemirror_mode": {
    "name": "ipython",
    "version": 3
   },
   "file_extension": ".py",
   "mimetype": "text/x-python",
   "name": "python",
   "nbconvert_exporter": "python",
   "pygments_lexer": "ipython3",
   "version": "3.7.6"
  },
  "toc": {
   "base_numbering": 1,
   "nav_menu": {},
   "number_sections": true,
   "sideBar": true,
   "skip_h1_title": false,
   "title_cell": "Table of Contents",
   "title_sidebar": "Contents",
   "toc_cell": false,
   "toc_position": {
    "height": "calc(100% - 180px)",
    "left": "10px",
    "top": "150px",
    "width": "515px"
   },
   "toc_section_display": true,
   "toc_window_display": true
  },
  "varInspector": {
   "cols": {
    "lenName": 16,
    "lenType": 16,
    "lenVar": 40
   },
   "kernels_config": {
    "python": {
     "delete_cmd_postfix": "",
     "delete_cmd_prefix": "del ",
     "library": "var_list.py",
     "varRefreshCmd": "print(var_dic_list())"
    },
    "r": {
     "delete_cmd_postfix": ") ",
     "delete_cmd_prefix": "rm(",
     "library": "var_list.r",
     "varRefreshCmd": "cat(var_dic_list()) "
    }
   },
   "types_to_exclude": [
    "module",
    "function",
    "builtin_function_or_method",
    "instance",
    "_Feature"
   ],
   "window_display": false
  }
 },
 "nbformat": 4,
 "nbformat_minor": 2
}
