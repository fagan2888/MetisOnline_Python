{
 "cells": [
  {
   "cell_type": "markdown",
   "metadata": {},
   "source": [
    "# Sets\n",
    "\n",
    "Sets are\n",
    "- unindexed, order doesn't matter (or make sense)\n",
    "- contain only unique elements (like dictionary keys)\n",
    "- is _very_ fast to test if something is in the set or not\n",
    "\n",
    "Typical uses:\n",
    "- de-dupling\n",
    "- checking if the same elements occur in both\n",
    "- checking which elements are the same/different between sets"
   ]
  },
  {
   "cell_type": "markdown",
   "metadata": {},
   "source": [
    "## uniqueness\n",
    "\n",
    "Given a list `L`, how could we check if all elements are unique?"
   ]
  },
  {
   "cell_type": "code",
   "execution_count": null,
   "metadata": {
    "ExecuteTime": {
     "end_time": "2020-01-30T19:13:43.736566Z",
     "start_time": "2020-01-30T19:13:43.733759Z"
    }
   },
   "outputs": [],
   "source": [
    "unique_L = [1, 2, 3, 'car', 'sam']\n",
    "non_unique_L = [22, 45, 18, 'car', 18, 62]"
   ]
  },
  {
   "cell_type": "code",
   "execution_count": null,
   "metadata": {
    "ExecuteTime": {
     "end_time": "2020-01-30T19:15:08.965499Z",
     "start_time": "2020-01-30T19:15:08.961795Z"
    }
   },
   "outputs": [],
   "source": [
    "# method 1: use a dictionary\n",
    "def are_all_unique_1(L):\n",
    "    seen = {}\n",
    "    for element in L:\n",
    "        if element in seen:\n",
    "            return False # We have seen the key 'element' before\n",
    "        seen[element] = True  # we don't actually use the value, we just need to store the key!\n",
    "    return True"
   ]
  },
  {
   "cell_type": "code",
   "execution_count": null,
   "metadata": {
    "ExecuteTime": {
     "end_time": "2020-01-30T19:15:32.339438Z",
     "start_time": "2020-01-30T19:15:32.327652Z"
    }
   },
   "outputs": [],
   "source": [
    "are_all_unique_1(unique_L), are_all_unique_1(non_unique_L)"
   ]
  },
  {
   "cell_type": "code",
   "execution_count": null,
   "metadata": {
    "ExecuteTime": {
     "end_time": "2020-01-30T19:16:09.973994Z",
     "start_time": "2020-01-30T19:16:09.970500Z"
    }
   },
   "outputs": [],
   "source": [
    "# method 2: use a dictionary, then just check the length at the end\n",
    "def are_all_unique_2(L):\n",
    "    seen = {element: True for element in L}\n",
    "    return len(seen) == len(L)"
   ]
  },
  {
   "cell_type": "code",
   "execution_count": null,
   "metadata": {
    "ExecuteTime": {
     "end_time": "2020-01-30T19:16:20.238575Z",
     "start_time": "2020-01-30T19:16:20.234167Z"
    }
   },
   "outputs": [],
   "source": [
    "are_all_unique_2(unique_L), are_all_unique_2(non_unique_L)"
   ]
  },
  {
   "cell_type": "code",
   "execution_count": null,
   "metadata": {
    "ExecuteTime": {
     "end_time": "2020-01-30T19:17:32.509881Z",
     "start_time": "2020-01-30T19:17:32.506691Z"
    }
   },
   "outputs": [],
   "source": [
    "# method 3: make a set (which is really doing something similar to method 2 behind the scenes)\n",
    "def are_all_unique_3(L):\n",
    "    seen = set(L)\n",
    "    return len(seen) == len(L)"
   ]
  },
  {
   "cell_type": "code",
   "execution_count": null,
   "metadata": {
    "ExecuteTime": {
     "end_time": "2020-01-30T19:17:40.356078Z",
     "start_time": "2020-01-30T19:17:40.351760Z"
    }
   },
   "outputs": [],
   "source": [
    "are_all_unique_3(unique_L), are_all_unique_3(non_unique_L)"
   ]
  },
  {
   "cell_type": "markdown",
   "metadata": {},
   "source": [
    "## What does a set \"look\" like?"
   ]
  },
  {
   "cell_type": "code",
   "execution_count": null,
   "metadata": {
    "ExecuteTime": {
     "end_time": "2020-01-30T19:18:00.812063Z",
     "start_time": "2020-01-30T19:18:00.807771Z"
    }
   },
   "outputs": [],
   "source": [
    "non_unique_L"
   ]
  },
  {
   "cell_type": "code",
   "execution_count": null,
   "metadata": {
    "ExecuteTime": {
     "end_time": "2020-01-30T19:18:03.368587Z",
     "start_time": "2020-01-30T19:18:03.364483Z"
    }
   },
   "outputs": [],
   "source": [
    "set(non_unique_L)"
   ]
  },
  {
   "cell_type": "code",
   "execution_count": null,
   "metadata": {
    "ExecuteTime": {
     "end_time": "2020-01-30T19:18:33.127988Z",
     "start_time": "2020-01-30T19:18:33.123583Z"
    }
   },
   "outputs": [],
   "source": [
    "our_set = set(non_unique_L)\n",
    "\n",
    "# We can check existence\n",
    "18 in our_set"
   ]
  },
  {
   "cell_type": "code",
   "execution_count": null,
   "metadata": {
    "ExecuteTime": {
     "end_time": "2020-01-30T19:19:06.458509Z",
     "start_time": "2020-01-30T19:19:06.451619Z"
    }
   },
   "outputs": [],
   "source": [
    "# but we cannot index\n",
    "our_set[0]"
   ]
  },
  {
   "cell_type": "code",
   "execution_count": null,
   "metadata": {
    "ExecuteTime": {
     "end_time": "2020-01-30T19:19:01.122662Z",
     "start_time": "2020-01-30T19:19:01.115915Z"
    }
   },
   "outputs": [],
   "source": [
    "# we cannot index by \"element\" either\n",
    "our_set['car']"
   ]
  },
  {
   "cell_type": "markdown",
   "metadata": {},
   "source": [
    "If we have two sets, we can ask if they have any elements in common:"
   ]
  },
  {
   "cell_type": "code",
   "execution_count": null,
   "metadata": {
    "ExecuteTime": {
     "end_time": "2020-01-30T19:19:47.348666Z",
     "start_time": "2020-01-30T19:19:47.344868Z"
    }
   },
   "outputs": [],
   "source": [
    "other_set = set(unique_L)\n",
    "other_set, our_set"
   ]
  },
  {
   "cell_type": "code",
   "execution_count": null,
   "metadata": {
    "ExecuteTime": {
     "end_time": "2020-01-30T19:19:57.849078Z",
     "start_time": "2020-01-30T19:19:57.844956Z"
    }
   },
   "outputs": [],
   "source": [
    "other_set.intersection(our_set)"
   ]
  },
  {
   "cell_type": "markdown",
   "metadata": {},
   "source": [
    "i.e. both sets have \"car\"\n",
    "\n",
    "If `A` and `B` are sets, we also have\n",
    "- `A.union(B)` (things that are in A, in B, or both)\n",
    "- `A.intersection(B)` (things that are in A and B)\n",
    "- `A.difference(B)` (things that are in A but not B)"
   ]
  },
  {
   "cell_type": "markdown",
   "metadata": {},
   "source": [
    "## Exercise\n",
    "\n",
    "Let's rewrite `is_valid_code(number)` that checks if\n",
    "- the code is 4 digits long\n",
    "- no digits repeat\n",
    "\n",
    "We have even improved it so 0 can be the first digit"
   ]
  },
  {
   "cell_type": "code",
   "execution_count": null,
   "metadata": {
    "ExecuteTime": {
     "end_time": "2020-01-30T19:26:53.550158Z",
     "start_time": "2020-01-30T19:26:53.546311Z"
    }
   },
   "outputs": [],
   "source": [
    "# Let's zero pad our number!\n",
    "f'{521:04d}'"
   ]
  },
  {
   "cell_type": "code",
   "execution_count": null,
   "metadata": {
    "ExecuteTime": {
     "end_time": "2020-01-30T19:29:29.398069Z",
     "start_time": "2020-01-30T19:29:29.394807Z"
    }
   },
   "outputs": [],
   "source": [
    "def is_valid_code(number):\n",
    "    digits = f'{number:04d}'\n",
    "    # do stuff from here.\n",
    "    # return True if the code is valid, False otherwise"
   ]
  },
  {
   "cell_type": "code",
   "execution_count": null,
   "metadata": {},
   "outputs": [],
   "source": []
  },
  {
   "cell_type": "code",
   "execution_count": null,
   "metadata": {},
   "outputs": [],
   "source": []
  },
  {
   "cell_type": "code",
   "execution_count": null,
   "metadata": {},
   "outputs": [],
   "source": []
  },
  {
   "cell_type": "code",
   "execution_count": null,
   "metadata": {},
   "outputs": [],
   "source": []
  },
  {
   "cell_type": "code",
   "execution_count": null,
   "metadata": {},
   "outputs": [],
   "source": []
  },
  {
   "cell_type": "markdown",
   "metadata": {},
   "source": [
    "# Rejection sampling"
   ]
  },
  {
   "cell_type": "markdown",
   "metadata": {},
   "source": [
    "Here is our \"rejection sampled code\", i.e. we generate a random code, and if it isn't valid we reject it. If it is valid, we keep it."
   ]
  },
  {
   "cell_type": "code",
   "execution_count": null,
   "metadata": {
    "ExecuteTime": {
     "end_time": "2020-01-30T19:26:54.683918Z",
     "start_time": "2020-01-30T19:26:54.680359Z"
    }
   },
   "outputs": [],
   "source": [
    "import random\n",
    "\n",
    "\n",
    "def get_four_digit_code():\n",
    "    code = random.randint(0, 9999)\n",
    "    if is_valid_code(code):\n",
    "        return code\n",
    "    return get_four_digit_code()"
   ]
  },
  {
   "cell_type": "markdown",
   "metadata": {},
   "source": [
    "Question: _how many times do we call this function on average_? That is, when we call `get_four_digit_code()`, there is some chance that our first code is valid. Otherwise, we call the function again. Which may or may not require calling the function again. \n",
    "\n",
    "We would like to know how often we call this code overall."
   ]
  },
  {
   "cell_type": "code",
   "execution_count": null,
   "metadata": {
    "ExecuteTime": {
     "end_time": "2020-01-30T19:29:32.264262Z",
     "start_time": "2020-01-30T19:29:32.260339Z"
    }
   },
   "outputs": [],
   "source": [
    "def count_rejected_codes():\n",
    "    code = random.randint(0, 9999)\n",
    "    rejections = 0\n",
    "    while (is_valid_code(code) == False):\n",
    "        rejections += 1\n",
    "        code = random.randint(0, 9999)\n",
    "    return rejections"
   ]
  },
  {
   "cell_type": "markdown",
   "metadata": {},
   "source": [
    "Experiment with this function, and see if you can understand what it is doing. Is the output what you expect?"
   ]
  },
  {
   "cell_type": "code",
   "execution_count": null,
   "metadata": {},
   "outputs": [],
   "source": []
  },
  {
   "cell_type": "code",
   "execution_count": null,
   "metadata": {},
   "outputs": [],
   "source": []
  },
  {
   "cell_type": "markdown",
   "metadata": {},
   "source": [
    "Now call `count_rejected_codes()` 1000 times. Keep track of the outputs (this is the number of rejections we had). How would we determine, _on average_, how many rejections there were?"
   ]
  },
  {
   "cell_type": "code",
   "execution_count": null,
   "metadata": {},
   "outputs": [],
   "source": []
  },
  {
   "cell_type": "code",
   "execution_count": null,
   "metadata": {},
   "outputs": [],
   "source": []
  },
  {
   "cell_type": "code",
   "execution_count": null,
   "metadata": {},
   "outputs": [],
   "source": []
  },
  {
   "cell_type": "code",
   "execution_count": null,
   "metadata": {},
   "outputs": [],
   "source": []
  },
  {
   "cell_type": "code",
   "execution_count": null,
   "metadata": {},
   "outputs": [],
   "source": []
  },
  {
   "cell_type": "markdown",
   "metadata": {},
   "source": [
    "## Plotting"
   ]
  },
  {
   "cell_type": "markdown",
   "metadata": {},
   "source": [
    "Okay, let's do some better plotting than we did last time. We will use `matplotlib`"
   ]
  },
  {
   "cell_type": "code",
   "execution_count": null,
   "metadata": {
    "ExecuteTime": {
     "end_time": "2020-01-30T19:31:59.051611Z",
     "start_time": "2020-01-30T19:31:59.047327Z"
    }
   },
   "outputs": [],
   "source": [
    "import matplotlib.pyplot as plt\n",
    "\n",
    "%matplotlib inline"
   ]
  },
  {
   "cell_type": "markdown",
   "metadata": {},
   "source": [
    "Let's see how we can make a histogram with a list of counts that we just made up"
   ]
  },
  {
   "cell_type": "code",
   "execution_count": null,
   "metadata": {
    "ExecuteTime": {
     "end_time": "2020-01-30T20:20:43.520507Z",
     "start_time": "2020-01-30T20:20:43.517807Z"
    }
   },
   "outputs": [],
   "source": [
    "# Lets have seven 0s, three 1s, three 2s, and one 3, but shuffle them up\n",
    "counts_of_stuff = [0, 0, 0, 0, 0, 1, 1, 1, 0, 2, 2, 2, 0, 3]\n"
   ]
  },
  {
   "cell_type": "code",
   "execution_count": null,
   "metadata": {
    "ExecuteTime": {
     "end_time": "2020-01-30T20:21:06.731407Z",
     "start_time": "2020-01-30T20:21:06.608094Z"
    }
   },
   "outputs": [],
   "source": [
    "# make a histogram!\n",
    "plt.hist(counts_of_stuff);"
   ]
  },
  {
   "cell_type": "markdown",
   "metadata": {},
   "source": [
    "Each cell can generate a plot. The matplotlib library has a bunch of functions to help us add / change a plot once we make it. Note that we can use a semi-colon to supress the \"print out the output of the last command\" behavior"
   ]
  },
  {
   "cell_type": "code",
   "execution_count": null,
   "metadata": {
    "ExecuteTime": {
     "end_time": "2020-01-30T20:23:33.499016Z",
     "start_time": "2020-01-30T20:23:33.394898Z"
    }
   },
   "outputs": [],
   "source": [
    "plt.hist(counts_of_stuff)\n",
    "plt.xlabel('Element')\n",
    "plt.ylabel('Count')\n",
    "plt.title('Count the occurances')\n",
    "plt.xticks(range(4));"
   ]
  },
  {
   "cell_type": "markdown",
   "metadata": {},
   "source": [
    "This is pretty simple! Unfortunately it will be a little more challenging for "
   ]
  },
  {
   "cell_type": "markdown",
   "metadata": {},
   "source": [
    "## Exercise\n",
    "\n",
    "Make a histogram of the number of times we rejected the codes (i.e. use the output of the 1000 `get_rejected_code()` from earlier)."
   ]
  },
  {
   "cell_type": "code",
   "execution_count": null,
   "metadata": {},
   "outputs": [],
   "source": []
  },
  {
   "cell_type": "code",
   "execution_count": null,
   "metadata": {},
   "outputs": [],
   "source": []
  },
  {
   "cell_type": "code",
   "execution_count": null,
   "metadata": {},
   "outputs": [],
   "source": []
  },
  {
   "cell_type": "code",
   "execution_count": null,
   "metadata": {},
   "outputs": [],
   "source": []
  },
  {
   "cell_type": "code",
   "execution_count": null,
   "metadata": {},
   "outputs": [],
   "source": []
  },
  {
   "cell_type": "code",
   "execution_count": null,
   "metadata": {},
   "outputs": [],
   "source": []
  },
  {
   "cell_type": "code",
   "execution_count": null,
   "metadata": {},
   "outputs": [],
   "source": []
  },
  {
   "cell_type": "code",
   "execution_count": null,
   "metadata": {},
   "outputs": [],
   "source": []
  },
  {
   "cell_type": "code",
   "execution_count": null,
   "metadata": {},
   "outputs": [],
   "source": []
  },
  {
   "cell_type": "markdown",
   "metadata": {},
   "source": [
    "## Scatter plots"
   ]
  },
  {
   "cell_type": "markdown",
   "metadata": {},
   "source": [
    "One of the most common types of plots are _scatter plots_, or _line plots_. These are where we plot `(x,y)` pairs against one another, like so:"
   ]
  },
  {
   "cell_type": "code",
   "execution_count": null,
   "metadata": {
    "ExecuteTime": {
     "end_time": "2020-01-30T20:27:56.969185Z",
     "start_time": "2020-01-30T20:27:56.882007Z"
    }
   },
   "outputs": [],
   "source": [
    "# have a plot with (1,2) (5, 0) and (6, 4) all plotted\n",
    "X = [1, 5, 6]\n",
    "Y = [2, 0, 4]\n",
    "plt.scatter(X, Y)\n",
    "plt.yticks(range(4))\n",
    "plt.xlabel(\"X values\")\n",
    "plt.ylabel(\"Y values\")\n",
    "plt.title('A silly graph');\n"
   ]
  },
  {
   "cell_type": "markdown",
   "metadata": {},
   "source": [
    "## Estimating $\\pi$\n",
    "\n",
    "We are going to use a technique called \"rejection sampling\" to estimate $\\pi$. This is a little mathematical, but here is the rough idea:\n",
    "\n",
    "1. We will pick pairs of random numbers between 0 and 1 (e.g. 0.52342353423 would be an example). Each `(X,Y)` point lies in the _first quadrant_ with uniform probability.\n",
    "2. For each point, we will figure out how far it is from the origin. If the distance from the origin is <=1, it lies inside the quarter-circle of radius 1 (otherwise it is outside).\n",
    "3. The area of the quarter circle of radius 1 is $\\pi/4$. The area of the square `[0, 1] x [0, 1]` is 1. A randomly chosen point in the square has probability `Area(quarter circle)/Area(square) = (pi/4) / (1) = pi / 4` of being in the circle\n",
    "4. We will generate a large number of points (e.g. 10_000). We will then see what fraction $f$ end up in the circle. This fraction should be (roughly) $\\pi$/4.\n",
    "5. Once we have the fraction $f$, multiplying it by 4 will approximate $\\pi$ for us!\n",
    "\n",
    "We will use some of our plotting skills to help diagonise our results, see how quickly our answer improves as we add new points, and visualize what we are doing."
   ]
  },
  {
   "cell_type": "code",
   "execution_count": null,
   "metadata": {
    "ExecuteTime": {
     "end_time": "2020-01-30T20:39:56.651779Z",
     "start_time": "2020-01-30T20:39:56.525181Z"
    }
   },
   "outputs": [],
   "source": [
    "plt.figure(figsize=(8,8))\n",
    "plt.gca().add_artist(plt.Circle((0,0), 1, color='red', alpha=0.2, hatch='/'))\n",
    "plt.title('Show the unit square, and quarter circle. Fraction $\\pi/4$ area in circle');"
   ]
  },
  {
   "cell_type": "code",
   "execution_count": null,
   "metadata": {},
   "outputs": [],
   "source": []
  },
  {
   "cell_type": "code",
   "execution_count": null,
   "metadata": {},
   "outputs": [],
   "source": []
  },
  {
   "cell_type": "code",
   "execution_count": null,
   "metadata": {},
   "outputs": [],
   "source": []
  },
  {
   "cell_type": "code",
   "execution_count": null,
   "metadata": {},
   "outputs": [],
   "source": []
  },
  {
   "cell_type": "code",
   "execution_count": null,
   "metadata": {},
   "outputs": [],
   "source": []
  },
  {
   "cell_type": "code",
   "execution_count": null,
   "metadata": {},
   "outputs": [],
   "source": []
  },
  {
   "cell_type": "code",
   "execution_count": null,
   "metadata": {},
   "outputs": [],
   "source": []
  },
  {
   "cell_type": "code",
   "execution_count": null,
   "metadata": {},
   "outputs": [],
   "source": []
  },
  {
   "cell_type": "code",
   "execution_count": null,
   "metadata": {},
   "outputs": [],
   "source": []
  },
  {
   "cell_type": "code",
   "execution_count": null,
   "metadata": {},
   "outputs": [],
   "source": []
  },
  {
   "cell_type": "code",
   "execution_count": null,
   "metadata": {},
   "outputs": [],
   "source": []
  },
  {
   "cell_type": "code",
   "execution_count": null,
   "metadata": {},
   "outputs": [],
   "source": []
  },
  {
   "cell_type": "code",
   "execution_count": null,
   "metadata": {},
   "outputs": [],
   "source": []
  },
  {
   "cell_type": "code",
   "execution_count": null,
   "metadata": {},
   "outputs": [],
   "source": []
  }
 ],
 "metadata": {
  "kernelspec": {
   "display_name": "Python 3",
   "language": "python",
   "name": "python3"
  },
  "language_info": {
   "codemirror_mode": {
    "name": "ipython",
    "version": 3
   },
   "file_extension": ".py",
   "mimetype": "text/x-python",
   "name": "python",
   "nbconvert_exporter": "python",
   "pygments_lexer": "ipython3",
   "version": "3.7.6"
  },
  "varInspector": {
   "cols": {
    "lenName": 16,
    "lenType": 16,
    "lenVar": 40
   },
   "kernels_config": {
    "python": {
     "delete_cmd_postfix": "",
     "delete_cmd_prefix": "del ",
     "library": "var_list.py",
     "varRefreshCmd": "print(var_dic_list())"
    },
    "r": {
     "delete_cmd_postfix": ") ",
     "delete_cmd_prefix": "rm(",
     "library": "var_list.r",
     "varRefreshCmd": "cat(var_dic_list()) "
    }
   },
   "types_to_exclude": [
    "module",
    "function",
    "builtin_function_or_method",
    "instance",
    "_Feature"
   ],
   "window_display": false
  }
 },
 "nbformat": 4,
 "nbformat_minor": 2
}
