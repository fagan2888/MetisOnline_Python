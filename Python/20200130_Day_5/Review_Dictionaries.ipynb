{
 "cells": [
  {
   "cell_type": "markdown",
   "metadata": {},
   "source": [
    "## Dictionaries"
   ]
  },
  {
   "cell_type": "markdown",
   "metadata": {},
   "source": [
    "## Brief summary of dictionaries\n",
    "\n",
    "- Make them with `{key1: value1, key2: value2, .... }`\n",
    "- Keys must be immutable. Basically use strings, numbers, or tuples as your keys.\n",
    "- Keys cannot repeat, assigning to the same key will overwrite the existing value\n",
    "- Values can repeat\n",
    "- The `in` keyword tests whether a key is in the dictionary or not.\n",
    "- We can mutate a dictionary. \n",
    "  - To add `new_key` to a dictionary `d`, we can write `d[new_key] = .....`\n",
    "  - To remove `old_key` from a dictionary `d`, we can write `del d[old_key]`"
   ]
  },
  {
   "cell_type": "markdown",
   "metadata": {},
   "source": [
    "## Example"
   ]
  },
  {
   "cell_type": "code",
   "execution_count": null,
   "metadata": {
    "ExecuteTime": {
     "end_time": "2020-01-30T16:30:11.567022Z",
     "start_time": "2020-01-30T16:30:11.563294Z"
    }
   },
   "outputs": [],
   "source": [
    "states_and_capitals = {\n",
    "    'California': 'Sacramento',\n",
    "    'Oregon': 'Salem',\n",
    "    'Washington': 'Olympia',\n",
    "    'Maine': 'Portland',\n",
    "    'Texas': 'Austin',\n",
    "    'New York': 'Albany',\n",
    "    'Illinois': 'Springfield'\n",
    "}\n",
    "\n",
    "# access a state\n",
    "print(states_and_capitals['California'])"
   ]
  },
  {
   "cell_type": "code",
   "execution_count": null,
   "metadata": {
    "ExecuteTime": {
     "end_time": "2020-01-30T16:31:04.344655Z",
     "start_time": "2020-01-30T16:31:04.342302Z"
    }
   },
   "outputs": [],
   "source": [
    "# Mutatable: easy to add keys\n",
    "states_and_capitals['Florida'] = 'Jackson'"
   ]
  },
  {
   "cell_type": "code",
   "execution_count": null,
   "metadata": {
    "ExecuteTime": {
     "end_time": "2020-01-30T16:32:22.194015Z",
     "start_time": "2020-01-30T16:32:22.190403Z"
    }
   },
   "outputs": [],
   "source": [
    "# Can check if a key is in the dictionary using \"in\", but not a value\n",
    "print('California' in states_and_capitals)\n",
    "print('Sacramento' in states_and_capitals)"
   ]
  },
  {
   "cell_type": "code",
   "execution_count": null,
   "metadata": {
    "ExecuteTime": {
     "end_time": "2020-01-30T16:33:21.811203Z",
     "start_time": "2020-01-30T16:33:21.725730Z"
    }
   },
   "outputs": [],
   "source": [
    "# Accessing a key can be done two ways:\n",
    "#  - using dict[key], gives an error if key is not in dictionary\n",
    "#  - using dict.get(key, value_if_missing)\n",
    "states_and_capitals['Sacramento']"
   ]
  },
  {
   "cell_type": "code",
   "execution_count": null,
   "metadata": {
    "ExecuteTime": {
     "end_time": "2020-01-30T16:33:46.075211Z",
     "start_time": "2020-01-30T16:33:46.071673Z"
    }
   },
   "outputs": [],
   "source": [
    "states_and_capitals.get('Sacramento', 'not a state I know about')"
   ]
  },
  {
   "cell_type": "markdown",
   "metadata": {},
   "source": [
    "### Counters\n",
    "\n",
    "Given `text`, count how many times each letter appears in text. This is the type of problem that a dictionary `counter` is great for, because:\n",
    "- `counter[letter]` keeps the count of number of times we have seen letter\n",
    "- If we see a new letter, we can use mutability of dictionaries to add a new key. \n",
    "- Every time we see `letter`, we should add one to `counter[letter]`\n",
    "\n",
    "We could decided to look _only_ at letters, but we can also count all characters (e.g. spaces, new lines, full stops, tabs, ....) just as easily. See the example below"
   ]
  },
  {
   "cell_type": "code",
   "execution_count": null,
   "metadata": {
    "ExecuteTime": {
     "end_time": "2020-01-30T16:47:13.287892Z",
     "start_time": "2020-01-30T16:47:13.285223Z"
    }
   },
   "outputs": [],
   "source": [
    "# In Dicken's day, authors were paid by the word\n",
    "#\n",
    "text = \"\"\"\n",
    "It was the best of times, it was the worst of times, it was the age of wisdom, it was the age of foolishness, \n",
    "it was the epoch of belief, it was the epoch of incredulity, it was the season of Light, it was the season of \n",
    "Darkness, it was the spring of hope, it was the winter of despair, we had everything before us, we had nothing \n",
    "before us, we were all going direct to Heaven, we were all going direct the other way—in short, the period was \n",
    "so far like the present period, that some of its noisiest authorities insisted on its being received, for good \n",
    "or for evil, in the superlative degree of comparison only.\n",
    "\"\"\""
   ]
  },
  {
   "cell_type": "code",
   "execution_count": null,
   "metadata": {
    "ExecuteTime": {
     "end_time": "2020-01-30T16:47:13.407351Z",
     "start_time": "2020-01-30T16:47:13.402423Z"
    }
   },
   "outputs": [],
   "source": [
    "counter = {}\n",
    "\n",
    "for letter in text.lower():\n",
    "    counter[letter] = counter.get(letter, 0) + 1\n",
    "    \n",
    "counter"
   ]
  },
  {
   "cell_type": "markdown",
   "metadata": {},
   "source": [
    "## Sorting -- new"
   ]
  },
  {
   "cell_type": "markdown",
   "metadata": {},
   "source": [
    "One thing dictionaries don't do well is get sorted, beacuse the are not supposed to keep order. How would we find the most popular letter?"
   ]
  },
  {
   "cell_type": "code",
   "execution_count": null,
   "metadata": {
    "ExecuteTime": {
     "end_time": "2020-01-30T16:49:32.544562Z",
     "start_time": "2020-01-30T16:49:32.541036Z"
    }
   },
   "outputs": [],
   "source": [
    "# attempt 1\n",
    "sorted(counter)"
   ]
  },
  {
   "cell_type": "markdown",
   "metadata": {},
   "source": [
    "Note this is just the keys in \"alphabetical\" (technically _lexographic_) order. We really want the letters sorted by _value_ instead. This is a little awkward. Let's do it the long way first:"
   ]
  },
  {
   "cell_type": "code",
   "execution_count": null,
   "metadata": {
    "ExecuteTime": {
     "end_time": "2020-01-30T16:51:27.742677Z",
     "start_time": "2020-01-30T16:51:27.739071Z"
    }
   },
   "outputs": [],
   "source": [
    "my_list = []\n",
    "for key in counter:\n",
    "    my_list.append([counter[key], key])\n",
    "print(my_list)"
   ]
  },
  {
   "cell_type": "markdown",
   "metadata": {},
   "source": [
    "This is now a list of lists. The entry `my_list[i]` is a list with two things\n",
    "- the value (count)\n",
    "- the key (the letter)\n",
    "\n",
    "When we sort a list of lists, we order by the first element. In the case of a tie, we sort by the second element. If both of those tie, we move onto the third (if it exists), etc."
   ]
  },
  {
   "cell_type": "code",
   "execution_count": null,
   "metadata": {
    "ExecuteTime": {
     "end_time": "2020-01-30T16:58:58.518202Z",
     "start_time": "2020-01-30T16:58:58.513268Z"
    }
   },
   "outputs": [],
   "source": [
    "sorted(my_list)"
   ]
  },
  {
   "cell_type": "markdown",
   "metadata": {},
   "source": [
    "Now we see that we have ordered the \"characters\" from least popular to most popular."
   ]
  },
  {
   "cell_type": "markdown",
   "metadata": {},
   "source": [
    "### Using list comprehension"
   ]
  },
  {
   "cell_type": "code",
   "execution_count": null,
   "metadata": {
    "ExecuteTime": {
     "end_time": "2020-01-30T17:05:15.610683Z",
     "start_time": "2020-01-30T17:05:15.605594Z"
    }
   },
   "outputs": [],
   "source": [
    "my_list = [  [counter[key], key] for key in counter ]\n",
    "sorted(my_list)"
   ]
  },
  {
   "cell_type": "markdown",
   "metadata": {},
   "source": [
    "The idea of getting the `(key, value)` pairs is so common, we can access items using `dict.items()`:"
   ]
  },
  {
   "cell_type": "code",
   "execution_count": null,
   "metadata": {
    "ExecuteTime": {
     "end_time": "2020-01-30T17:11:56.350680Z",
     "start_time": "2020-01-30T17:11:56.345840Z"
    }
   },
   "outputs": [],
   "source": [
    "list(counter.items())"
   ]
  },
  {
   "cell_type": "markdown",
   "metadata": {},
   "source": [
    "Sorted also takes a keyword argument, which allows us to \"reverse\" the order. We can also just reverse it as a list"
   ]
  },
  {
   "cell_type": "code",
   "execution_count": null,
   "metadata": {
    "ExecuteTime": {
     "end_time": "2020-01-30T17:24:52.168050Z",
     "start_time": "2020-01-30T17:24:52.163565Z"
    }
   },
   "outputs": [],
   "source": [
    "# This is the ordinary list way\n",
    "sorted(my_list)[::-1]"
   ]
  },
  {
   "cell_type": "code",
   "execution_count": null,
   "metadata": {
    "ExecuteTime": {
     "end_time": "2020-01-30T17:25:02.335077Z",
     "start_time": "2020-01-30T17:25:02.330440Z"
    }
   },
   "outputs": [],
   "source": [
    "# This is the \"fancy\" argument reverse\n",
    "sorted(my_list, reverse=True)"
   ]
  },
  {
   "cell_type": "markdown",
   "metadata": {},
   "source": [
    "## Plotting (sort of)"
   ]
  },
  {
   "cell_type": "markdown",
   "metadata": {},
   "source": [
    "Before learning all the plotting functionality, let's look at \"ASCII\" plot\n",
    "\n",
    "Idea: take `[10, 'p']` and write the line as the letter, a delimiter, and 10 `'-'`s.\n",
    "```\n",
    "p   | ----------\n",
    "```\n",
    "Then we can write out each line to give a simple histogram"
   ]
  },
  {
   "cell_type": "code",
   "execution_count": null,
   "metadata": {
    "ExecuteTime": {
     "end_time": "2020-01-30T17:31:00.957475Z",
     "start_time": "2020-01-30T17:31:00.949628Z"
    }
   },
   "outputs": [],
   "source": [
    "for count_and_letter in sorted(my_list, reverse=True):\n",
    "    count = count_and_letter[0]\n",
    "    letter = count_and_letter[1]\n",
    "    print(f'{letter:10s}|{\"-\"*count}')"
   ]
  },
  {
   "cell_type": "markdown",
   "metadata": {},
   "source": [
    "#### Unpacking trick\n",
    "\n",
    "We have `count_and_letter` set to a list (e.g. `[10, 'p']`). We can get the two entries by index\n",
    "```python\n",
    "count_and_letter = [10, 'p']  # set an example\n",
    "count = count_and_letter[0]   # get the 10\n",
    "letter = count_and_letter[1]  # get the 'p'\n",
    "```\n",
    "\n",
    "We can also \"unpack\" the variables in one step\n",
    "```python\n",
    "count_and_letter = [10, 'p']  # set an example\n",
    "count, letter = count_and_letter # sets count to count_and_letter[0], letter to count_and_letter[1]\n",
    "```"
   ]
  },
  {
   "cell_type": "code",
   "execution_count": null,
   "metadata": {
    "ExecuteTime": {
     "end_time": "2020-01-30T17:34:45.739699Z",
     "start_time": "2020-01-30T17:34:45.733156Z"
    }
   },
   "outputs": [],
   "source": [
    "# The same result\n",
    "for count_and_letter in sorted(my_list, reverse=True):\n",
    "    count, letter = count_and_letter\n",
    "    print(f'{letter:10s}|{\"-\"*count}')"
   ]
  },
  {
   "cell_type": "markdown",
   "metadata": {},
   "source": [
    "Even slicker: we can \"unpack\" directly in the for loop, bypassing `count_and_letter` altogether:"
   ]
  },
  {
   "cell_type": "code",
   "execution_count": null,
   "metadata": {
    "ExecuteTime": {
     "end_time": "2020-01-30T17:35:34.072919Z",
     "start_time": "2020-01-30T17:35:34.067061Z"
    }
   },
   "outputs": [],
   "source": [
    "# the same result\n",
    "for count, letter in sorted(my_list, reverse=True):\n",
    "    print(f'{letter:10s}|{\"-\"*count}')"
   ]
  },
  {
   "cell_type": "markdown",
   "metadata": {},
   "source": [
    "###  Exercise\n",
    "\n",
    "Change the loop above so we only print out the line is `letter` is actually a letter (not punctuation, etc). \n",
    "\n",
    "**Hint:** `letter.isalpha()` is useful here. "
   ]
  },
  {
   "cell_type": "code",
   "execution_count": null,
   "metadata": {},
   "outputs": [],
   "source": []
  },
  {
   "cell_type": "code",
   "execution_count": null,
   "metadata": {},
   "outputs": [],
   "source": []
  },
  {
   "cell_type": "code",
   "execution_count": null,
   "metadata": {},
   "outputs": [],
   "source": []
  },
  {
   "cell_type": "code",
   "execution_count": null,
   "metadata": {},
   "outputs": [],
   "source": []
  },
  {
   "cell_type": "code",
   "execution_count": null,
   "metadata": {},
   "outputs": [],
   "source": []
  },
  {
   "cell_type": "code",
   "execution_count": null,
   "metadata": {},
   "outputs": [],
   "source": []
  },
  {
   "cell_type": "code",
   "execution_count": null,
   "metadata": {},
   "outputs": [],
   "source": []
  },
  {
   "cell_type": "markdown",
   "metadata": {},
   "source": [
    "## Scrabble"
   ]
  },
  {
   "cell_type": "code",
   "execution_count": null,
   "metadata": {
    "ExecuteTime": {
     "end_time": "2020-01-30T17:38:00.713197Z",
     "start_time": "2020-01-30T17:38:00.708744Z"
    }
   },
   "outputs": [],
   "source": [
    "TILE_SCORES = {\n",
    "    'A': 1, 'B': 3, 'C': 3, 'D': 2, 'E': 1,\n",
    "    'F': 4, 'G': 2, 'H': 4, 'I': 1, 'J': 8,\n",
    "    'K': 5, 'L': 1, 'M': 3, 'N': 1, 'O': 1,\n",
    "    'P': 3, 'Q':10, 'R': 1, 'S': 1, 'T': 1,\n",
    "    'U': 1, 'V': 4, 'W': 4, 'X': 8, 'Y': 4,\n",
    "    'Z': 10\n",
    "}"
   ]
  },
  {
   "cell_type": "markdown",
   "metadata": {},
   "source": [
    "Write a function `score_word(word)` that takes `word` (e.g. \"DOCTOR\") and returns the score, where each letter's score is the value in `TILE_SCORES` (in this case 2+1+3+1+1+1 = 9 is the score for DOCTOR).\n",
    "\n",
    "Bonus: you should make it case-insensitive, e.g. both `score_word(\"DOCTOR\")` and `score_word(\"doctor\")` return 9"
   ]
  },
  {
   "cell_type": "code",
   "execution_count": null,
   "metadata": {
    "ExecuteTime": {
     "end_time": "2020-01-30T17:38:43.373347Z",
     "start_time": "2020-01-30T17:38:43.370202Z"
    }
   },
   "outputs": [],
   "source": [
    "def score_word(word):\n",
    "    \"\"\"Gives the score for word, using the scores in TILE_SCORES\"\"\"\n",
    "    scores = [TILE_SCORES[letter] for letter in word.upper()]\n",
    "    return sum(scores)"
   ]
  },
  {
   "cell_type": "code",
   "execution_count": null,
   "metadata": {
    "ExecuteTime": {
     "end_time": "2020-01-30T17:38:43.514370Z",
     "start_time": "2020-01-30T17:38:43.509793Z"
    }
   },
   "outputs": [],
   "source": [
    "score_word(\"DOCTOR\")"
   ]
  },
  {
   "cell_type": "code",
   "execution_count": null,
   "metadata": {
    "ExecuteTime": {
     "end_time": "2020-01-30T17:38:43.697857Z",
     "start_time": "2020-01-30T17:38:43.693245Z"
    }
   },
   "outputs": [],
   "source": [
    "score_word(\"doctor\")"
   ]
  },
  {
   "cell_type": "markdown",
   "metadata": {},
   "source": [
    "## Loading scrabble words\n",
    "\n",
    "Let's load up a dictionary of (all?) scrabble words from a file."
   ]
  },
  {
   "cell_type": "code",
   "execution_count": null,
   "metadata": {
    "ExecuteTime": {
     "end_time": "2020-01-30T17:38:47.078305Z",
     "start_time": "2020-01-30T17:38:47.047881Z"
    }
   },
   "outputs": [],
   "source": [
    "with open('words.txt') as f:\n",
    "    WORDS = [w.strip() for w in f.readlines()]\n",
    "WORDS[:10]"
   ]
  },
  {
   "cell_type": "markdown",
   "metadata": {},
   "source": [
    "These words are all in capitals. \n",
    "\n",
    "Question: What are the 10 highest scoring scrabble words?"
   ]
  },
  {
   "cell_type": "markdown",
   "metadata": {},
   "source": [
    "## Answer\n",
    "\n",
    "This is actually a little tricky. It isn't too hard to get the scores of each word:"
   ]
  },
  {
   "cell_type": "code",
   "execution_count": null,
   "metadata": {
    "ExecuteTime": {
     "end_time": "2020-01-30T17:42:19.239717Z",
     "start_time": "2020-01-30T17:42:19.163620Z"
    }
   },
   "outputs": [],
   "source": [
    "scores = [score_word(w) for w in WORDS]\n",
    "scores"
   ]
  },
  {
   "cell_type": "markdown",
   "metadata": {},
   "source": [
    "Getting the top 10 scores isn't too bad:"
   ]
  },
  {
   "cell_type": "code",
   "execution_count": null,
   "metadata": {
    "ExecuteTime": {
     "end_time": "2020-01-30T17:42:42.516149Z",
     "start_time": "2020-01-30T17:42:42.505188Z"
    }
   },
   "outputs": [],
   "source": [
    "sorted(scores, reverse=True)[:10]"
   ]
  },
  {
   "cell_type": "markdown",
   "metadata": {},
   "source": [
    "So _one_ way of doing this is to look for all words with a score of 37 or higher"
   ]
  },
  {
   "cell_type": "code",
   "execution_count": null,
   "metadata": {
    "ExecuteTime": {
     "end_time": "2020-01-30T17:43:31.286599Z",
     "start_time": "2020-01-30T17:43:31.206648Z"
    }
   },
   "outputs": [],
   "source": [
    "[w for w in WORDS if score_word(w) >= 37]"
   ]
  },
  {
   "cell_type": "markdown",
   "metadata": {},
   "source": [
    "Note that we have lost the score. A better way of doing this is to make a list where the elements are `[score, word]`. We put the score first because we want to sort by score _first_."
   ]
  },
  {
   "cell_type": "code",
   "execution_count": null,
   "metadata": {
    "ExecuteTime": {
     "end_time": "2020-01-30T17:45:07.987998Z",
     "start_time": "2020-01-30T17:45:07.777733Z"
    }
   },
   "outputs": [],
   "source": [
    "## Better solution\n",
    "scores_and_words = [  [score_word(w), w] for w in WORDS ]\n",
    "sorted(scores_and_words, reverse=True)[:10]"
   ]
  },
  {
   "cell_type": "markdown",
   "metadata": {},
   "source": [
    "We can even write this out nicely"
   ]
  },
  {
   "cell_type": "code",
   "execution_count": null,
   "metadata": {
    "ExecuteTime": {
     "end_time": "2020-01-30T17:46:55.450915Z",
     "start_time": "2020-01-30T17:46:55.335909Z"
    }
   },
   "outputs": [],
   "source": [
    "scores_and_words = [  [score_word(w), w] for w in WORDS ]\n",
    "ordered_scores_and_words = sorted(scores_and_words, reverse=True)[:10]\n",
    "\n",
    "for score, word in ordered_scores_and_words:\n",
    "    print(f'The word \"{word}\" has a score {score} in scrabble')"
   ]
  },
  {
   "cell_type": "markdown",
   "metadata": {},
   "source": [
    "We have dictionary comprehsions as well."
   ]
  },
  {
   "cell_type": "code",
   "execution_count": null,
   "metadata": {
    "ExecuteTime": {
     "end_time": "2020-01-30T17:50:17.497794Z",
     "start_time": "2020-01-30T17:50:17.407054Z"
    }
   },
   "outputs": [],
   "source": [
    "# A potentially helpful dictionary (keys are words, values are scores)\n",
    "# Use of a dictionary comprehension\n",
    "SCORES = {w: score_word(w) for w in WORDS}"
   ]
  },
  {
   "cell_type": "code",
   "execution_count": null,
   "metadata": {
    "ExecuteTime": {
     "end_time": "2020-01-30T17:50:20.960005Z",
     "start_time": "2020-01-30T17:50:20.944598Z"
    }
   },
   "outputs": [],
   "source": [
    "SCORES"
   ]
  },
  {
   "cell_type": "code",
   "execution_count": null,
   "metadata": {},
   "outputs": [],
   "source": []
  },
  {
   "cell_type": "markdown",
   "metadata": {},
   "source": [
    "## Telephone words\n",
    "\n",
    "We can convert words into numbers using the telephone keypad:\n",
    "\n",
    "![Telephone keypad](keypad.png)\n",
    "\n",
    "For example `1-888-WAIT-WAI` (the number for NPRs \"Wait, Wait, Don't tell me\") can be decoded as `1-888-924-8924`.\n",
    "\n",
    "1. Is it possible, given a string like `1-888-WAIT-WAI` to return a _unique_ number like `18889248924`?\n",
    "2. Is is possible, given a number like `18889248924` to return a _unique_ number/string like `1888WAITWAI`?\n"
   ]
  },
  {
   "cell_type": "code",
   "execution_count": null,
   "metadata": {
    "ExecuteTime": {
     "end_time": "2020-01-30T17:51:12.168812Z",
     "start_time": "2020-01-30T17:51:12.164737Z"
    }
   },
   "outputs": [],
   "source": [
    "NUM_TO_LETTERS = {\n",
    "    0: '',\n",
    "    1: '',\n",
    "    2: 'ABC',\n",
    "    3: 'DEF',\n",
    "    4: 'GHI',\n",
    "    5: 'JKL',\n",
    "    6: 'MNO',\n",
    "    7: 'PQRS',\n",
    "    8: 'TUV',\n",
    "    9: 'WXYZ'\n",
    "}\n",
    "\n",
    "NUM_TO_LETTERS_LIST = {num: list(value) for num, value in NUM_TO_LETTERS.items()}"
   ]
  },
  {
   "cell_type": "markdown",
   "metadata": {},
   "source": [
    "Can we get letters to number? We could write it out manually (`'A' --> 1`, `'B' --> 1`, ..., `'Z' --> 9`) which is somewhat more natural. We should construct it from this list if possible"
   ]
  },
  {
   "cell_type": "code",
   "execution_count": null,
   "metadata": {
    "ExecuteTime": {
     "end_time": "2020-01-30T17:53:48.772369Z",
     "start_time": "2020-01-30T17:53:48.767534Z"
    }
   },
   "outputs": [],
   "source": [
    "LETTERS_TO_NUM = {}\n",
    "for number in NUM_TO_LETTERS:\n",
    "    for letter in NUM_TO_LETTERS[number]:\n",
    "        LETTERS_TO_NUM[letter] = number\n",
    "LETTERS_TO_NUM"
   ]
  },
  {
   "cell_type": "markdown",
   "metadata": {},
   "source": [
    "One of the exercises was to make `decode_to_number(alpha_number)`. \n",
    "\n",
    "It would take something like `decode_to_number('1-888-WAIT-WAI')` would return `18889248924`"
   ]
  },
  {
   "cell_type": "code",
   "execution_count": null,
   "metadata": {
    "ExecuteTime": {
     "end_time": "2020-01-30T19:09:53.905841Z",
     "start_time": "2020-01-30T19:09:53.901070Z"
    }
   },
   "outputs": [],
   "source": [
    "def decode_to_number(alpha_number):\n",
    "    digits_only = []\n",
    "    for character in alpha_number:\n",
    "        # if it is a digit, pass through\n",
    "        character = character.upper()\n",
    "        if character.isdigit():\n",
    "            digits_only.append(character)\n",
    "        else:\n",
    "            if character in LETTERS_TO_NUM:\n",
    "                number = LETTERS_TO_NUM[character]\n",
    "                digits_only.append(str(number))\n",
    "    print(digits_only)\n",
    "    joined_digits = ''.join(digits_only)\n",
    "    print(joined_digits)\n",
    "    return int(joined_digits)"
   ]
  },
  {
   "cell_type": "code",
   "execution_count": null,
   "metadata": {
    "ExecuteTime": {
     "end_time": "2020-01-30T19:09:54.287340Z",
     "start_time": "2020-01-30T19:09:54.283878Z"
    }
   },
   "outputs": [],
   "source": [
    "decode_to_number('1-888-WAIT-WAI')"
   ]
  },
  {
   "cell_type": "markdown",
   "metadata": {},
   "source": [
    "## Exercises\n",
    "\n",
    "The following exercises are being \"pushed\"\n",
    "\n",
    "- ScrabbleBot\n",
    "- Telephone words part 2\n"
   ]
  },
  {
   "cell_type": "code",
   "execution_count": null,
   "metadata": {},
   "outputs": [],
   "source": []
  },
  {
   "cell_type": "code",
   "execution_count": null,
   "metadata": {},
   "outputs": [],
   "source": []
  },
  {
   "cell_type": "code",
   "execution_count": null,
   "metadata": {},
   "outputs": [],
   "source": []
  },
  {
   "cell_type": "code",
   "execution_count": null,
   "metadata": {},
   "outputs": [],
   "source": []
  },
  {
   "cell_type": "code",
   "execution_count": null,
   "metadata": {},
   "outputs": [],
   "source": []
  },
  {
   "cell_type": "code",
   "execution_count": null,
   "metadata": {},
   "outputs": [],
   "source": []
  },
  {
   "cell_type": "code",
   "execution_count": null,
   "metadata": {},
   "outputs": [],
   "source": []
  },
  {
   "cell_type": "code",
   "execution_count": null,
   "metadata": {},
   "outputs": [],
   "source": []
  },
  {
   "cell_type": "code",
   "execution_count": null,
   "metadata": {},
   "outputs": [],
   "source": []
  },
  {
   "cell_type": "code",
   "execution_count": null,
   "metadata": {},
   "outputs": [],
   "source": []
  },
  {
   "cell_type": "code",
   "execution_count": null,
   "metadata": {},
   "outputs": [],
   "source": []
  },
  {
   "cell_type": "code",
   "execution_count": null,
   "metadata": {},
   "outputs": [],
   "source": []
  },
  {
   "cell_type": "code",
   "execution_count": null,
   "metadata": {},
   "outputs": [],
   "source": []
  },
  {
   "cell_type": "code",
   "execution_count": null,
   "metadata": {},
   "outputs": [],
   "source": []
  },
  {
   "cell_type": "code",
   "execution_count": null,
   "metadata": {},
   "outputs": [],
   "source": []
  },
  {
   "cell_type": "code",
   "execution_count": null,
   "metadata": {},
   "outputs": [],
   "source": []
  },
  {
   "cell_type": "code",
   "execution_count": null,
   "metadata": {},
   "outputs": [],
   "source": []
  },
  {
   "cell_type": "code",
   "execution_count": null,
   "metadata": {},
   "outputs": [],
   "source": []
  },
  {
   "cell_type": "code",
   "execution_count": null,
   "metadata": {},
   "outputs": [],
   "source": []
  },
  {
   "cell_type": "code",
   "execution_count": null,
   "metadata": {},
   "outputs": [],
   "source": []
  },
  {
   "cell_type": "code",
   "execution_count": null,
   "metadata": {},
   "outputs": [],
   "source": []
  }
 ],
 "metadata": {
  "kernelspec": {
   "display_name": "Python 3",
   "language": "python",
   "name": "python3"
  },
  "language_info": {
   "codemirror_mode": {
    "name": "ipython",
    "version": 3
   },
   "file_extension": ".py",
   "mimetype": "text/x-python",
   "name": "python",
   "nbconvert_exporter": "python",
   "pygments_lexer": "ipython3",
   "version": "3.7.6"
  },
  "varInspector": {
   "cols": {
    "lenName": 16,
    "lenType": 16,
    "lenVar": 40
   },
   "kernels_config": {
    "python": {
     "delete_cmd_postfix": "",
     "delete_cmd_prefix": "del ",
     "library": "var_list.py",
     "varRefreshCmd": "print(var_dic_list())"
    },
    "r": {
     "delete_cmd_postfix": ") ",
     "delete_cmd_prefix": "rm(",
     "library": "var_list.r",
     "varRefreshCmd": "cat(var_dic_list()) "
    }
   },
   "types_to_exclude": [
    "module",
    "function",
    "builtin_function_or_method",
    "instance",
    "_Feature"
   ],
   "window_display": false
  }
 },
 "nbformat": 4,
 "nbformat_minor": 2
}
