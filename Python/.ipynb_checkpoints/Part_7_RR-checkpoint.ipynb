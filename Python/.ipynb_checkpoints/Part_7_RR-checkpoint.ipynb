{
 "cells": [
  {
   "cell_type": "markdown",
   "metadata": {},
   "source": [
    "Use of dictionaries\n",
    "\n",
    "Use scrabble problem\n",
    "\n",
    "Accessing elements\n",
    "\n",
    "get, keys, values method\n",
    "\n",
    "in and not in\n",
    "\n",
    "changing, adding and removing (del)elements"
   ]
  },
  {
   "cell_type": "markdown",
   "metadata": {},
   "source": [
    "## Dictionaries"
   ]
  },
  {
   "cell_type": "markdown",
   "metadata": {},
   "source": [
    "We have already seen _lists_, where we can access elements by _index_.\n",
    "\n",
    "A _dictionary_ allows us to access elements by _key_. A good example is an actual dictionary. When looking up a word, we don't ask for the `3523` word in the dictionary. Instead, we ask for the definition of `Python`, and then get the value.\n",
    "\n",
    "A Python dictionary allows us to use a _key_ to lookup a specific value. Let's see how we can use this.\n",
    "\n",
    "\n",
    "### Problem: \n",
    "\n",
    "Can we store the states and their capitals? Let's start by using a list. The idea is"
   ]
  },
  {
   "cell_type": "code",
   "execution_count": null,
   "metadata": {
    "ExecuteTime": {
     "end_time": "2020-01-24T02:25:24.079271Z",
     "start_time": "2020-01-24T02:25:24.075866Z"
    }
   },
   "outputs": [],
   "source": [
    "# Note, we only have some states\n",
    "\n",
    "storage = [['Alabama', 'Montgomery'], ['California', 'Sacramento'], \n",
    "           ['Oregon', 'Salem'], ['Washington', 'Olympia']]\n"
   ]
  },
  {
   "cell_type": "markdown",
   "metadata": {},
   "source": [
    "i.e. `storage[i]` is a list that contains `[ ith state, ith capital ]`. To search for the capital of California, we would need to do:"
   ]
  },
  {
   "cell_type": "code",
   "execution_count": null,
   "metadata": {
    "ExecuteTime": {
     "end_time": "2020-01-24T02:25:30.071963Z",
     "start_time": "2020-01-24T02:25:30.067677Z"
    }
   },
   "outputs": [],
   "source": [
    "lookup_state = 'California'\n",
    "\n",
    "for result in storage:\n",
    "    state = result[0]\n",
    "    capital = result[1]\n",
    "    if state == lookup_state:\n",
    "        print(f'The capital of {lookup_state} is {capital}')"
   ]
  },
  {
   "cell_type": "markdown",
   "metadata": {},
   "source": [
    "We could turn this into a function:"
   ]
  },
  {
   "cell_type": "code",
   "execution_count": null,
   "metadata": {
    "ExecuteTime": {
     "end_time": "2020-01-24T02:26:16.658456Z",
     "start_time": "2020-01-24T02:26:16.654690Z"
    }
   },
   "outputs": [],
   "source": [
    "def get_capital(lookup_state):\n",
    "    for result in storage:\n",
    "        state = result[0]\n",
    "        capital = result[1]\n",
    "        if state == lookup_state:\n",
    "            return capital"
   ]
  },
  {
   "cell_type": "code",
   "execution_count": null,
   "metadata": {
    "ExecuteTime": {
     "end_time": "2020-01-24T02:26:16.763652Z",
     "start_time": "2020-01-24T02:26:16.755545Z"
    }
   },
   "outputs": [],
   "source": [
    "get_capital('California')"
   ]
  },
  {
   "cell_type": "markdown",
   "metadata": {},
   "source": [
    "A dictionary allows us to look up by \"key\" directly. Let's compare:"
   ]
  },
  {
   "cell_type": "code",
   "execution_count": null,
   "metadata": {
    "ExecuteTime": {
     "end_time": "2020-01-24T02:27:09.481444Z",
     "start_time": "2020-01-24T02:27:09.478660Z"
    }
   },
   "outputs": [],
   "source": [
    "storage = {\n",
    "    'California': 'Sacramento',\n",
    "    'Alabama': 'Montgomery',\n",
    "    'Washington': 'Olympia',\n",
    "    'New York': 'Albany',\n",
    "    'Oregon': 'Salam'\n",
    "}"
   ]
  },
  {
   "cell_type": "code",
   "execution_count": null,
   "metadata": {
    "ExecuteTime": {
     "end_time": "2020-01-24T02:27:14.369641Z",
     "start_time": "2020-01-24T02:27:14.365956Z"
    }
   },
   "outputs": [],
   "source": [
    "storage['California']"
   ]
  },
  {
   "cell_type": "markdown",
   "metadata": {},
   "source": [
    "Sets - create them .  Have them write a function that has unique elements and then we can teach them that we have sets."
   ]
  },
  {
   "cell_type": "markdown",
   "metadata": {},
   "source": [
    "### Tuples create and access elements"
   ]
  },
  {
   "cell_type": "code",
   "execution_count": null,
   "metadata": {},
   "outputs": [],
   "source": []
  }
 ],
 "metadata": {
  "kernelspec": {
   "display_name": "Python 3",
   "language": "python",
   "name": "python3"
  },
  "language_info": {
   "codemirror_mode": {
    "name": "ipython",
    "version": 3
   },
   "file_extension": ".py",
   "mimetype": "text/x-python",
   "name": "python",
   "nbconvert_exporter": "python",
   "pygments_lexer": "ipython3",
   "version": "3.7.2"
  }
 },
 "nbformat": 4,
 "nbformat_minor": 2
}
