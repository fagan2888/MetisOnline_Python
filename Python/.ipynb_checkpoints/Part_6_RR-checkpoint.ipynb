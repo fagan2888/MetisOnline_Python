{
 "cells": [
  {
   "cell_type": "markdown",
   "metadata": {},
   "source": [
    "# Python \n",
    "## Part 6\n",
    "\n",
    "In this notebook we will: \n",
    "- Learn how to work with `functions`"
   ]
  },
  {
   "cell_type": "markdown",
   "metadata": {},
   "source": [
    "### Functions Motivation\n",
    "\n",
    "A program can often be broken into simpler subtasks. A `function` allows us to \"solve\" a subtask, and then call it multiple times.  Functions are blocks of code that can be re-used more than once. "
   ]
  },
  {
   "cell_type": "markdown",
   "metadata": {},
   "source": [
    "### Exercise \n",
    "Write code that determines the number of characters in a string. For example, \"Hello\" should produce a result of `5`."
   ]
  },
  {
   "cell_type": "code",
   "execution_count": 1,
   "metadata": {},
   "outputs": [],
   "source": [
    "### Write code here\n",
    "\n",
    "\n"
   ]
  },
  {
   "cell_type": "code",
   "execution_count": 3,
   "metadata": {},
   "outputs": [
    {
     "name": "stdout",
     "output_type": "stream",
     "text": [
      "The string 'Hello' has 5 characters\n"
     ]
    }
   ],
   "source": [
    "### ANSWER\n",
    "text = \"Hello\"\n",
    "\n",
    "counter = 0\n",
    "for c in text:\n",
    "    counter+=1\n",
    "    \n",
    "print(f\"The string '{text}' has {counter} characters\")"
   ]
  },
  {
   "cell_type": "markdown",
   "metadata": {},
   "source": [
    "Determining how many characters are in a string can be a common ask.  As a result, Python has a function `len` that finds the length of a string.  "
   ]
  },
  {
   "cell_type": "code",
   "execution_count": 4,
   "metadata": {},
   "outputs": [
    {
     "data": {
      "text/plain": [
       "5"
      ]
     },
     "execution_count": 4,
     "metadata": {},
     "output_type": "execute_result"
    }
   ],
   "source": [
    "len(\"Hello\") # len stands for length"
   ]
  },
  {
   "cell_type": "markdown",
   "metadata": {},
   "source": [
    "### Built-In Functions\n",
    "\n",
    "Python has some built-in functions that we have already been using.  This allows to not have to write the complete code ourselves.  Let's look at some examples below."
   ]
  },
  {
   "cell_type": "code",
   "execution_count": 5,
   "metadata": {},
   "outputs": [
    {
     "data": {
      "text/plain": [
       "10"
      ]
     },
     "execution_count": 5,
     "metadata": {},
     "output_type": "execute_result"
    }
   ],
   "source": [
    "max(10, 2, 3) # returns the largest value (10)"
   ]
  },
  {
   "cell_type": "code",
   "execution_count": 6,
   "metadata": {},
   "outputs": [
    {
     "data": {
      "text/plain": [
       "-100"
      ]
     },
     "execution_count": 6,
     "metadata": {},
     "output_type": "execute_result"
    }
   ],
   "source": [
    "min(10, -20, -100, 0, 3.1415) # return the smallest value (-100)"
   ]
  },
  {
   "cell_type": "code",
   "execution_count": 7,
   "metadata": {},
   "outputs": [
    {
     "data": {
      "text/plain": [
       "5"
      ]
     },
     "execution_count": 7,
     "metadata": {},
     "output_type": "execute_result"
    }
   ],
   "source": [
    "len(\"Hello\")  # return the length of the string"
   ]
  },
  {
   "cell_type": "code",
   "execution_count": 8,
   "metadata": {},
   "outputs": [
    {
     "name": "stdout",
     "output_type": "stream",
     "text": [
      "Hello World\n"
     ]
    }
   ],
   "source": [
    "print(\"Hello World\") # prints \"Hello World\" to the output"
   ]
  },
  {
   "cell_type": "markdown",
   "metadata": {},
   "source": [
    "### Parts of a function\n",
    "\n",
    "Let's look at the statement `b = len(\"Hello\")`. Here we have\n",
    "\n",
    "- A **function** with name `len`\n",
    "- A **call** to the function `len(.....)` (i.e. we are running the function)\n",
    "- **Input** to the function (these are the values the function \"receives\"). In this case, the input is `\"Hello\"`\n",
    "- A **returned** value, or **output** (in this case, the output is `5` and gets assigned to `b`)\n",
    "- Any **side effects** (things the function does besides output a value)\n",
    "\n",
    "Let's look at a few examples:\n",
    "\n",
    "| Function call | Function | Inputs | Output | Side Effect | \n",
    "|------| ----------| ------- |  ------- | ---------- |\n",
    "| `len(\"hello\")` | `len` | `\"hello\"` |  5 | None |\n",
    "| `max(10, 2 , 3)` | `max` | `10, 2, 3` | 10 | None |\n",
    "| `min(10, -20, -100, 0, 3.1415)` | `min` | `10, -20, -100, 0, 3.1415` | -100 | None |\n",
    "| `print(\"Hello World\")` | `print` | `\"Hello World\"`| `None` | Prints \"Hello World\" to terminal |\n",
    "\n",
    "- Every function returns exactly 1 value (no more, no less)\n",
    "- Some functions have side effects, others don't"
   ]
  },
  {
   "cell_type": "code",
   "execution_count": 9,
   "metadata": {
    "ExecuteTime": {
     "end_time": "2020-01-24T03:05:44.501545Z",
     "start_time": "2020-01-24T03:05:44.497419Z"
    }
   },
   "outputs": [
    {
     "data": {
      "text/plain": [
       "3"
      ]
     },
     "execution_count": 9,
     "metadata": {},
     "output_type": "execute_result"
    }
   ],
   "source": [
    "# If there is no variable to assign to, the value is \"returned\" to the terminal\n",
    "max(1,2,3)"
   ]
  },
  {
   "cell_type": "code",
   "execution_count": 10,
   "metadata": {
    "ExecuteTime": {
     "end_time": "2020-01-24T03:05:52.136427Z",
     "start_time": "2020-01-24T03:05:52.133794Z"
    }
   },
   "outputs": [],
   "source": [
    "# If there is a variable to assign to, the value is \"returned\" and stored in the variable instead\n",
    "# Nothing is printed\n",
    "biggest_number = max(1, 2, 3)"
   ]
  },
  {
   "cell_type": "code",
   "execution_count": 11,
   "metadata": {
    "ExecuteTime": {
     "end_time": "2020-01-24T03:05:55.101680Z",
     "start_time": "2020-01-24T03:05:55.097721Z"
    }
   },
   "outputs": [
    {
     "data": {
      "text/plain": [
       "3"
      ]
     },
     "execution_count": 11,
     "metadata": {},
     "output_type": "execute_result"
    }
   ],
   "source": [
    "# We can see what was stored in biggest number\n",
    "biggest_number"
   ]
  },
  {
   "cell_type": "markdown",
   "metadata": {},
   "source": [
    "### Defining a Function\n",
    "\n",
    "We can also create new `functions`. This is one of the most powerful tools in programming.  Let's start with an example:"
   ]
  },
  {
   "cell_type": "code",
   "execution_count": 12,
   "metadata": {
    "ExecuteTime": {
     "end_time": "2020-01-24T03:55:24.881926Z",
     "start_time": "2020-01-24T03:55:24.879756Z"
    }
   },
   "outputs": [],
   "source": [
    "def say_hello(num_times):\n",
    "    return 'hello ' * num_times"
   ]
  },
  {
   "cell_type": "code",
   "execution_count": 13,
   "metadata": {
    "ExecuteTime": {
     "end_time": "2020-01-24T03:55:33.699094Z",
     "start_time": "2020-01-24T03:55:33.695392Z"
    }
   },
   "outputs": [
    {
     "data": {
      "text/plain": [
       "'hello hello hello '"
      ]
     },
     "execution_count": 13,
     "metadata": {},
     "output_type": "execute_result"
    }
   ],
   "source": [
    "say_hello(3)"
   ]
  },
  {
   "cell_type": "markdown",
   "metadata": {},
   "source": [
    "Here:\n",
    "- `def` is a keyword (used to say \"I am defining a function\")\n",
    "- Next is the function name `say_hello`\n",
    "- Then are the arguments. In this case, the function takes one argument (or input) named `num_times`\n",
    "- Then we have a colon (telling us we are starting a code block, which is indented)\n",
    "- The function exits when we hit return (this is the value the function exits with) OR when we reach the end of the block. If there is no return, the function returns `None` (remember we ALWAYS return something, even if it is `None`).\n",
    "\n",
    "We can call the function in the same way we call the built-in functions: `say_hello(3)`."
   ]
  },
  {
   "cell_type": "markdown",
   "metadata": {},
   "source": [
    "A function can take more than one argument:"
   ]
  },
  {
   "cell_type": "code",
   "execution_count": 14,
   "metadata": {
    "ExecuteTime": {
     "end_time": "2020-01-24T04:04:40.240479Z",
     "start_time": "2020-01-24T04:04:40.237210Z"
    }
   },
   "outputs": [],
   "source": [
    "def can_vote_in_us(age, citizen):\n",
    "    if age < 18 or citizen == False:\n",
    "        return False\n",
    "    return True"
   ]
  },
  {
   "cell_type": "code",
   "execution_count": 15,
   "metadata": {
    "ExecuteTime": {
     "end_time": "2020-01-24T04:04:48.436004Z",
     "start_time": "2020-01-24T04:04:48.431606Z"
    }
   },
   "outputs": [
    {
     "data": {
      "text/plain": [
       "True"
      ]
     },
     "execution_count": 15,
     "metadata": {},
     "output_type": "execute_result"
    }
   ],
   "source": [
    "can_vote_in_us(20, True)"
   ]
  },
  {
   "cell_type": "markdown",
   "metadata": {},
   "source": [
    "### Exercise\n",
    "\n",
    "Write a function that receives the temperature in Celsius, and returns the temperature in Fahrenheit.\n",
    "\n",
    "\n",
    "<center>\n",
    "$F = \\frac{9}{5} * C + 32 $\n",
    "</center>"
   ]
  },
  {
   "cell_type": "code",
   "execution_count": 16,
   "metadata": {},
   "outputs": [],
   "source": [
    "### Write your code here\n",
    "\n",
    "\n",
    "\n"
   ]
  },
  {
   "cell_type": "code",
   "execution_count": 17,
   "metadata": {
    "ExecuteTime": {
     "end_time": "2020-01-24T04:14:52.621153Z",
     "start_time": "2020-01-24T04:14:52.618142Z"
    }
   },
   "outputs": [],
   "source": [
    "### ANSWER\n",
    "\n",
    "C_TO_F_SCALER = 9/5\n",
    "C_OFFSET = 32\n",
    "\n",
    "def C_to_F(degrees_C):\n",
    "    \"\"\"Returns degrees_C converted to Fahrenheit\"\"\" \n",
    "    return C_TO_F_SCALER*degrees_C + C_OFFSET"
   ]
  },
  {
   "cell_type": "code",
   "execution_count": 18,
   "metadata": {
    "ExecuteTime": {
     "end_time": "2020-01-24T04:13:21.647111Z",
     "start_time": "2020-01-24T04:13:21.641453Z"
    }
   },
   "outputs": [
    {
     "data": {
      "text/plain": [
       "68.0"
      ]
     },
     "execution_count": 18,
     "metadata": {},
     "output_type": "execute_result"
    }
   ],
   "source": [
    "C_to_F(20)"
   ]
  },
  {
   "cell_type": "code",
   "execution_count": 19,
   "metadata": {
    "ExecuteTime": {
     "end_time": "2020-01-24T04:13:21.770098Z",
     "start_time": "2020-01-24T04:13:21.763588Z"
    }
   },
   "outputs": [
    {
     "data": {
      "text/plain": [
       "86.0"
      ]
     },
     "execution_count": 19,
     "metadata": {},
     "output_type": "execute_result"
    }
   ],
   "source": [
    "C_to_F(30)"
   ]
  },
  {
   "cell_type": "code",
   "execution_count": 20,
   "metadata": {
    "ExecuteTime": {
     "end_time": "2020-01-24T04:13:21.897858Z",
     "start_time": "2020-01-24T04:13:21.893829Z"
    },
    "scrolled": true
   },
   "outputs": [
    {
     "data": {
      "text/plain": [
       "1.8"
      ]
     },
     "execution_count": 20,
     "metadata": {},
     "output_type": "execute_result"
    }
   ],
   "source": [
    "C_TO_F_SCALER"
   ]
  },
  {
   "cell_type": "markdown",
   "metadata": {},
   "source": [
    "Note that in the function we can add information about what it does using \"\"\"...\"\"\""
   ]
  },
  {
   "cell_type": "code",
   "execution_count": 21,
   "metadata": {
    "ExecuteTime": {
     "end_time": "2020-01-24T04:13:22.638456Z",
     "start_time": "2020-01-24T04:13:22.633718Z"
    }
   },
   "outputs": [
    {
     "name": "stdout",
     "output_type": "stream",
     "text": [
      "Help on function C_to_F in module __main__:\n",
      "\n",
      "C_to_F(degrees_C)\n",
      "    Returns degrees_C converted to Fahrenheit\n",
      "\n"
     ]
    }
   ],
   "source": [
    "help(C_to_F)"
   ]
  },
  {
   "cell_type": "markdown",
   "metadata": {},
   "source": [
    "### Bank Example\n",
    "\n",
    "In the bank example, we had the following rules:\n",
    "- We start with a `balance`\n",
    "- We transfer money `transfer`\n",
    "- If we withdrew money (`transfer < 0`) AND we ended with a final negative balance (`balance + transfer < 0`) THEN we got charged 20 dollars as an overdraft\n",
    "\n",
    "Let's say we want to calculate the final balance for two cases:\n",
    "* __Case 1:__ balance is 30 and the transfer is -40\n",
    "* __Case 2:__ balance is 50 and the transfer is -10\n",
    "\n",
    "To do this we would need to do the two code cells below."
   ]
  },
  {
   "cell_type": "code",
   "execution_count": 25,
   "metadata": {},
   "outputs": [
    {
     "name": "stdout",
     "output_type": "stream",
     "text": [
      "The final balance is -30\n"
     ]
    }
   ],
   "source": [
    "# Case 1\n",
    "balance = 30\n",
    "transfer = -40\n",
    "\n",
    "balance += transfer\n",
    "if balance < 0 and transfer < 0:\n",
    "    balance -= 20\n",
    "\n",
    "print(f'The final balance is {balance}')"
   ]
  },
  {
   "cell_type": "code",
   "execution_count": 26,
   "metadata": {},
   "outputs": [
    {
     "name": "stdout",
     "output_type": "stream",
     "text": [
      "The final balance is 40\n"
     ]
    }
   ],
   "source": [
    "# Case 2\n",
    "balance = 50\n",
    "transfer = -10\n",
    "\n",
    "balance += transfer\n",
    "if balance < 0 and transfer < 0:\n",
    "    balance -= 20\n",
    "\n",
    "print(f'The final balance is {balance}')"
   ]
  },
  {
   "cell_type": "markdown",
   "metadata": {},
   "source": [
    "If we had more cases we would need to copy the code above multiple times.  Now imagine, that the bank decides to modify the fee structure.  We would now need to modify the code as many times as it had been copied.\n",
    "\n",
    "A simpler solution is to put the code withing a function. So we would have the following:\n",
    "```python\n",
    "get_new_balance(30, -40) # should return -30\n",
    "```\n",
    "Write this function below:"
   ]
  },
  {
   "cell_type": "code",
   "execution_count": 32,
   "metadata": {},
   "outputs": [],
   "source": [
    "### Write code here\n",
    "def get_new_balance(balance, transfer):\n",
    "    pass\n",
    "\n"
   ]
  },
  {
   "cell_type": "code",
   "execution_count": 34,
   "metadata": {
    "ExecuteTime": {
     "end_time": "2020-01-24T04:48:08.977407Z",
     "start_time": "2020-01-24T04:48:08.974144Z"
    }
   },
   "outputs": [],
   "source": [
    "## ANSWER\n",
    "def get_new_balance(balance, transfer):\n",
    "    \"\"\"Return new balance after transferring money\n",
    "    \n",
    "    Calculates new balance if we start with initial_balance\n",
    "    dollars in account, and transfer money. Deposits have \n",
    "    transfer > 0, withdraws have transfer < 0.\n",
    "    \n",
    "    Appropriate overdraft fee rules are also applied.\n",
    "    \"\"\"\n",
    "    fee = 20\n",
    "    balance += transfer\n",
    "    if balance < 0 and transfer < 0:\n",
    "        balance -= fee\n",
    "    return balance"
   ]
  },
  {
   "cell_type": "code",
   "execution_count": 35,
   "metadata": {
    "ExecuteTime": {
     "end_time": "2020-01-24T04:48:12.550636Z",
     "start_time": "2020-01-24T04:48:12.545399Z"
    }
   },
   "outputs": [
    {
     "data": {
      "text/plain": [
       "-30"
      ]
     },
     "execution_count": 35,
     "metadata": {},
     "output_type": "execute_result"
    }
   ],
   "source": [
    "get_new_balance(30, -40)"
   ]
  },
  {
   "cell_type": "code",
   "execution_count": 36,
   "metadata": {},
   "outputs": [
    {
     "data": {
      "text/plain": [
       "40"
      ]
     },
     "execution_count": 36,
     "metadata": {},
     "output_type": "execute_result"
    }
   ],
   "source": [
    "get_new_balance(50, -10)"
   ]
  },
  {
   "cell_type": "markdown",
   "metadata": {},
   "source": [
    "We can have as many\n",
    "\n",
    "```python\n",
    "get_new_balance(balance, transfer)\n",
    "```\n",
    "\n",
    "statements as we want, and it only involves calling a function statement.  \n",
    "\n",
    "Let's assume that the bank decides to modify the fee to $10.  In this case, we just need to modify the `get_new_balance` function and update the fee value (only in one place).  Then we can re-run the notebook and we would have the new balances. "
   ]
  },
  {
   "cell_type": "markdown",
   "metadata": {},
   "source": [
    "### Exercise:\n",
    "\n",
    "Let's now assume we have a list of transaction.  Write code that calculates the final balance by calling the `get_new_balance` function."
   ]
  },
  {
   "cell_type": "code",
   "execution_count": null,
   "metadata": {},
   "outputs": [],
   "source": [
    "balance = 50\n",
    "list_transfers = [10, -100, -15, 30, 25]\n",
    "\n",
    "### Write code here\n",
    "\n"
   ]
  },
  {
   "cell_type": "code",
   "execution_count": 37,
   "metadata": {},
   "outputs": [
    {
     "name": "stdout",
     "output_type": "stream",
     "text": [
      "-40\n"
     ]
    }
   ],
   "source": [
    "### ANSWER\n",
    "\n",
    "balance = 50\n",
    "list_transfers = [10, -100, -15, 30, 25]\n",
    "\n",
    "for transfer in list_transfers:\n",
    "    balance = get_new_balance(balance, transfer) \n",
    "\n",
    "print(balance)"
   ]
  },
  {
   "cell_type": "markdown",
   "metadata": {},
   "source": [
    "Now we can be a bit more clever and create another function called `get_final_balance` that contains the `for loop`."
   ]
  },
  {
   "cell_type": "code",
   "execution_count": 40,
   "metadata": {},
   "outputs": [],
   "source": [
    "# this function is the same as above\n",
    "def get_new_balance(balance, transfer):\n",
    "    \"\"\"Return new balance after a single transfer\n",
    "    \"\"\"\n",
    "    fee = 20\n",
    "    balance += transfer\n",
    "    if balance < 0 and transfer < 0:\n",
    "        balance -= fee\n",
    "    return balance\n",
    "\n",
    "# this is our new function\n",
    "def get_final_balance(balance, transfers):\n",
    "    \"\"\"Return new balance after many transfers of money\n",
    "    \"\"\"\n",
    "    for transfer in list_transfers:\n",
    "        balance = get_new_balance(balance, transfer)\n",
    "    return balance"
   ]
  },
  {
   "cell_type": "code",
   "execution_count": 41,
   "metadata": {},
   "outputs": [
    {
     "data": {
      "text/plain": [
       "-40"
      ]
     },
     "execution_count": 41,
     "metadata": {},
     "output_type": "execute_result"
    }
   ],
   "source": [
    "balance = 50\n",
    "list_transfers = [10, -100, -15, 30, 25]\n",
    "\n",
    "get_final_balance(balance, list_transfers)"
   ]
  },
  {
   "cell_type": "markdown",
   "metadata": {},
   "source": [
    "### Default Arguments\n",
    "\n",
    "When we create functions we can assign defaults to arguments such that if no value is passed, it uses the default.  Let's look at the example below:"
   ]
  },
  {
   "cell_type": "code",
   "execution_count": 42,
   "metadata": {},
   "outputs": [],
   "source": [
    "def power(number, exponent = 3):\n",
    "    return number**exponent"
   ]
  },
  {
   "cell_type": "code",
   "execution_count": 44,
   "metadata": {},
   "outputs": [
    {
     "data": {
      "text/plain": [
       "9"
      ]
     },
     "execution_count": 44,
     "metadata": {},
     "output_type": "execute_result"
    }
   ],
   "source": [
    "power(3,2) # 3*3"
   ]
  },
  {
   "cell_type": "code",
   "execution_count": 45,
   "metadata": {},
   "outputs": [
    {
     "data": {
      "text/plain": [
       "27"
      ]
     },
     "execution_count": 45,
     "metadata": {},
     "output_type": "execute_result"
    }
   ],
   "source": [
    "power(3) # 3*3*3"
   ]
  },
  {
   "cell_type": "markdown",
   "metadata": {},
   "source": [
    "In the example above, ommiting the second argument automatically assigns the value of the default `3`."
   ]
  },
  {
   "cell_type": "markdown",
   "metadata": {},
   "source": [
    "### Scope\n",
    "\n",
    "__[Scope](https://en.wikipedia.org/wiki/Scope_(computer_science)):__ Scope in programming refers to the \"region\" where a variable exists and is valid in.  In Python, there are 2 main scopes:\n",
    "* __Global Scope:__ The Global Region encompasses any space of a program that is NOT inside a function\n",
    "* __Local Scope:__ The Local Region encompasses any space of a program that IS inside a function "
   ]
  },
  {
   "cell_type": "code",
   "execution_count": 55,
   "metadata": {},
   "outputs": [
    {
     "name": "stdout",
     "output_type": "stream",
     "text": [
      "Hello Local from inside the function\n",
      "Hi World from inside the function\n",
      "\n",
      "\n",
      "Hello World from outside the function\n",
      "Hi World from outside the function\n"
     ]
    }
   ],
   "source": [
    "temp1 = \"Hello World\" # Global variable \n",
    "temp2 = \"Hi World\" # Global variable \n",
    "\n",
    "def my_func():\n",
    "    temp1 = \"Hello Local\"\n",
    "    print(f\"{temp1} from inside the function\") # Local variable (not the same as the global variable with the same name)\n",
    "    print(f\"{temp2} from inside the function\") # The global variable can be used inside the function\n",
    "    print('\\n') # adds a break line\n",
    "\n",
    "my_func()\n",
    "print(f\"{temp1} from outside the function\")\n",
    "print(f\"{temp2} from outside the function\")"
   ]
  },
  {
   "cell_type": "markdown",
   "metadata": {},
   "source": [
    "### Returns\n",
    "\n",
    "Functions can return values that get assigned to more than one variable."
   ]
  },
  {
   "cell_type": "code",
   "execution_count": 58,
   "metadata": {},
   "outputs": [
    {
     "name": "stdout",
     "output_type": "stream",
     "text": [
      "3 4\n"
     ]
    }
   ],
   "source": [
    "def plus_one(a,b):\n",
    "    a +=1\n",
    "    b +=1\n",
    "    return a, b\n",
    "\n",
    "a, b = plus_one(2,3)\n",
    "\n",
    "print(a,b)"
   ]
  },
  {
   "cell_type": "code",
   "execution_count": null,
   "metadata": {},
   "outputs": [],
   "source": []
  },
  {
   "cell_type": "code",
   "execution_count": null,
   "metadata": {},
   "outputs": [],
   "source": [
    "import math"
   ]
  },
  {
   "cell_type": "code",
   "execution_count": null,
   "metadata": {},
   "outputs": [],
   "source": [
    "math.sin(0)"
   ]
  },
  {
   "cell_type": "code",
   "execution_count": null,
   "metadata": {},
   "outputs": [],
   "source": [
    "math.sin(math.pi/2)"
   ]
  },
  {
   "cell_type": "code",
   "execution_count": null,
   "metadata": {},
   "outputs": [],
   "source": [
    "import random"
   ]
  },
  {
   "cell_type": "code",
   "execution_count": null,
   "metadata": {},
   "outputs": [],
   "source": []
  },
  {
   "cell_type": "code",
   "execution_count": null,
   "metadata": {},
   "outputs": [],
   "source": []
  },
  {
   "cell_type": "code",
   "execution_count": null,
   "metadata": {},
   "outputs": [],
   "source": []
  },
  {
   "cell_type": "markdown",
   "metadata": {},
   "source": [
    "Write a function that determines if a website ends in .com or .org"
   ]
  },
  {
   "cell_type": "markdown",
   "metadata": {},
   "source": [
    "### Strings"
   ]
  },
  {
   "cell_type": "markdown",
   "metadata": {},
   "source": [
    "indexing, slicing, in, concatenation +, repetition *, len, min, max, index, count, sorted, lower, upper, isalpha, find, replace, split, \"\".join(), f-string"
   ]
  },
  {
   "cell_type": "markdown",
   "metadata": {},
   "source": [
    "To learn more about methods do the Methods lecture"
   ]
  },
  {
   "cell_type": "code",
   "execution_count": null,
   "metadata": {},
   "outputs": [],
   "source": []
  }
 ],
 "metadata": {
  "kernelspec": {
   "display_name": "Python 3",
   "language": "python",
   "name": "python3"
  },
  "language_info": {
   "codemirror_mode": {
    "name": "ipython",
    "version": 3
   },
   "file_extension": ".py",
   "mimetype": "text/x-python",
   "name": "python",
   "nbconvert_exporter": "python",
   "pygments_lexer": "ipython3",
   "version": "3.7.2"
  }
 },
 "nbformat": 4,
 "nbformat_minor": 2
}
