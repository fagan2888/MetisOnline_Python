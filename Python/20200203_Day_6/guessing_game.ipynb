{
 "cells": [
  {
   "cell_type": "markdown",
   "metadata": {},
   "source": [
    "# Guessing game\n",
    "\n",
    "We want to be able to generate some random numbers. This isn't built into Python by default, but it is built into \"functions\" in the `random` module. We access it in the following way:\n",
    "```python\n",
    "import random\n",
    "random.randint(lower, upper)  # picks a random number from lower to upper\n",
    "```\n",
    "\n",
    "Note: In mathematics, a \"function\" says \"same input gives same output\". The `randint` gives _different_ results for the same arguments. Academic computer scientists will use the term **method** instead of function, but almost everyone in industry will call these **function** instead."
   ]
  },
  {
   "cell_type": "code",
   "execution_count": 1,
   "metadata": {
    "ExecuteTime": {
     "end_time": "2020-02-03T16:12:19.876732Z",
     "start_time": "2020-02-03T16:12:19.867056Z"
    }
   },
   "outputs": [
    {
     "data": {
      "text/plain": [
       "3"
      ]
     },
     "execution_count": 1,
     "metadata": {},
     "output_type": "execute_result"
    }
   ],
   "source": [
    "import random\n",
    "\n",
    "# Let's run this a few times\n",
    "random.randint(0,5)"
   ]
  },
  {
   "cell_type": "markdown",
   "metadata": {},
   "source": [
    "## Step 1\n",
    "\n",
    "Let's write a function that generates a 4 digit number randomly, with no repeated digits. For example, `1223` would not be allowed because `2` is repeated. \n",
    "\n",
    "Let's call this `get_four_digit_code()`"
   ]
  },
  {
   "cell_type": "code",
   "execution_count": 2,
   "metadata": {
    "ExecuteTime": {
     "end_time": "2020-02-03T16:12:20.589089Z",
     "start_time": "2020-02-03T16:12:20.586123Z"
    }
   },
   "outputs": [],
   "source": [
    "def get_four_digit_code():\n",
    "    \"\"\"Returns a four digit code (no digits repeated)\"\"\"\n",
    "    pass"
   ]
  },
  {
   "cell_type": "markdown",
   "metadata": {
    "ExecuteTime": {
     "end_time": "2020-01-24T00:45:47.225121Z",
     "start_time": "2020-01-24T00:45:47.221083Z"
    }
   },
   "source": [
    "## Step 2\n",
    "\n",
    "Suppose we have a number `guess` and a code `code`. Write a function `result = score_guess(guess, code)`, so the returned `result` is a list, such that\n",
    "- `result[0]` is the number of correct digits in the _wrong_ place\n",
    "- `result[1]` is the number of correct digits in the _correct_ place"
   ]
  },
  {
   "cell_type": "code",
   "execution_count": null,
   "metadata": {
    "ExecuteTime": {
     "end_time": "2020-01-24T02:15:03.708137Z",
     "start_time": "2020-01-24T02:15:03.705117Z"
    }
   },
   "outputs": [],
   "source": [
    "def score_guess(guess, code):\n",
    "    \"\"\"Returns [num_correct_wrong_place, num_correct_right_place]\n",
    "    \n",
    "    Compare the two numbers guess and code. It is assumed that guess\n",
    "    and code do not repeat digits (e.g. 1223 would not be allowed for\n",
    "    either number)\n",
    "    \n",
    "    Returns a two element list [num_correct_wrong_place, num_correct_right_place]\n",
    "    where\n",
    "      - num_correct_wrong_place: \n",
    "        the number of digits common to both numbers, but appear in different places\n",
    "      - num_correct_right_place:\n",
    "        the number of digits common to both numbers, in the same place\n",
    "    For example, score_guess(4519, 6549) would return [1, 2] because\n",
    "      - both 4519 and 6549 contain a \"4\", but in different places\n",
    "      - both 4519 and 6549 contain a 5 and 9 in the same places\n",
    "    \"\"\"\n",
    "    pass"
   ]
  },
  {
   "cell_type": "markdown",
   "metadata": {},
   "source": [
    "## Step 3: Write an input validation\n",
    "\n",
    "Write a function that takes a number `guess` and returns True if all the conditions are satisfied:\n",
    "- It is a four digit number\n",
    "- It has no repeated digits\n",
    "If these conditions are not satisfied, returns `False`"
   ]
  },
  {
   "cell_type": "code",
   "execution_count": null,
   "metadata": {
    "ExecuteTime": {
     "end_time": "2020-01-24T02:15:12.384302Z",
     "start_time": "2020-01-24T02:15:12.381664Z"
    }
   },
   "outputs": [],
   "source": [
    "def is_valid_guess(guess):\n",
    "    \"\"\"Checks if guess is a valid guess\"\"\"\n",
    "    pass"
   ]
  },
  {
   "cell_type": "markdown",
   "metadata": {},
   "source": [
    "## Step 4 Put this together into a game\n",
    "\n",
    "Now we put the code together to make the game and play it. We also see a new function, `input(prompt)`, which prints prompt and waits for a response"
   ]
  },
  {
   "cell_type": "code",
   "execution_count": 61,
   "metadata": {
    "ExecuteTime": {
     "end_time": "2020-01-24T05:47:32.078114Z",
     "start_time": "2020-01-24T05:47:29.378583Z"
    }
   },
   "outputs": [
    {
     "name": "stdout",
     "output_type": "stream",
     "text": [
      "Guess a number23\n",
      "23\n"
     ]
    }
   ],
   "source": [
    "result = input(\"Guess a number\")\n",
    "print(result)"
   ]
  },
  {
   "cell_type": "code",
   "execution_count": null,
   "metadata": {
    "ExecuteTime": {
     "end_time": "2020-01-24T02:15:39.045302Z",
     "start_time": "2020-01-24T02:15:16.910791Z"
    }
   },
   "outputs": [],
   "source": [
    "code = get_four_digit_code()\n",
    "\n",
    "my_number = 0\n",
    "turn = 1\n",
    "\n",
    "while (my_number != code):\n",
    "    my_number = int(input('Please give a four digit guess'))\n",
    "    if not is_valid_guess(my_number):\n",
    "        print(f\"{my_number} is not a valid number\")\n",
    "    else:\n",
    "        digit_score = score_guess(my_number, code)\n",
    "        message = f\"\"\"\n",
    "        Turn #{turn}: You guessed {my_number}\n",
    "          You have {digit_score[0]} correct digits in the wrong place\n",
    "          You have {digit_score[1]} correct digits in the right place\n",
    "        \n",
    "        \"\"\"\n",
    "        print(message)\n",
    "        turn = turn + 1\n",
    "\n",
    "print(f\"You guessed the code {code}\")"
   ]
  },
  {
   "cell_type": "code",
   "execution_count": null,
   "metadata": {},
   "outputs": [],
   "source": []
  }
 ],
 "metadata": {
  "kernelspec": {
   "display_name": "Python 3",
   "language": "python",
   "name": "python3"
  },
  "language_info": {
   "codemirror_mode": {
    "name": "ipython",
    "version": 3
   },
   "file_extension": ".py",
   "mimetype": "text/x-python",
   "name": "python",
   "nbconvert_exporter": "python",
   "pygments_lexer": "ipython3",
   "version": "3.7.6"
  },
  "varInspector": {
   "cols": {
    "lenName": 16,
    "lenType": 16,
    "lenVar": 40
   },
   "kernels_config": {
    "python": {
     "delete_cmd_postfix": "",
     "delete_cmd_prefix": "del ",
     "library": "var_list.py",
     "varRefreshCmd": "print(var_dic_list())"
    },
    "r": {
     "delete_cmd_postfix": ") ",
     "delete_cmd_prefix": "rm(",
     "library": "var_list.r",
     "varRefreshCmd": "cat(var_dic_list()) "
    }
   },
   "types_to_exclude": [
    "module",
    "function",
    "builtin_function_or_method",
    "instance",
    "_Feature"
   ],
   "window_display": false
  }
 },
 "nbformat": 4,
 "nbformat_minor": 2
}
