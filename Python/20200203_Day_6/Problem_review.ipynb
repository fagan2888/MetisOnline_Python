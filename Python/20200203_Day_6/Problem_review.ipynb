{
 "cells": [
  {
   "cell_type": "markdown",
   "metadata": {},
   "source": [
    "## Problem review"
   ]
  },
  {
   "cell_type": "markdown",
   "metadata": {},
   "source": [
    "# Scrabble\n",
    "\n",
    "We already have \n",
    "- score_word\n",
    "- the ability to find the top 10 scoring words in scrabble"
   ]
  },
  {
   "cell_type": "code",
   "execution_count": null,
   "metadata": {
    "ExecuteTime": {
     "end_time": "2020-02-03T06:07:52.662906Z",
     "start_time": "2020-02-03T06:07:52.658579Z"
    }
   },
   "outputs": [],
   "source": [
    "TILE_SCORES = {\n",
    "    'A': 1, 'B': 3, 'C': 3, 'D': 2, 'E': 1,\n",
    "    'F': 4, 'G': 2, 'H': 4, 'I': 1, 'J': 8,\n",
    "    'K': 5, 'L': 1, 'M': 3, 'N': 1, 'O': 1,\n",
    "    'P': 3, 'Q':10, 'R': 1, 'S': 1, 'T': 1,\n",
    "    'U': 1, 'V': 4, 'W': 4, 'X': 8, 'Y': 4,\n",
    "    'Z': 10\n",
    "}"
   ]
  },
  {
   "cell_type": "markdown",
   "metadata": {},
   "source": [
    "Write a function `score_word(word)` that takes `word` (e.g. \"DOCTOR\") and returns the score, where each letter's score is the value in `TILE_SCORES` (in this case 2+1+3+1+1+1 = 9 is the score for DOCTOR).\n",
    "\n",
    "Bonus: you should make it case-insensitive, e.g. both `score_word(\"DOCTOR\")` and `score_word(\"doctor\")` return 9"
   ]
  },
  {
   "cell_type": "code",
   "execution_count": null,
   "metadata": {
    "ExecuteTime": {
     "end_time": "2020-02-03T06:07:53.003680Z",
     "start_time": "2020-02-03T06:07:53.000526Z"
    }
   },
   "outputs": [],
   "source": [
    "def score_word(word):\n",
    "    \"\"\"Gives the score for word, using the scores in TILE_SCORES\"\"\"\n",
    "    scores = [TILE_SCORES[letter] for letter in word.upper()]\n",
    "    return sum(scores)"
   ]
  },
  {
   "cell_type": "code",
   "execution_count": null,
   "metadata": {
    "ExecuteTime": {
     "end_time": "2020-02-03T06:07:53.158685Z",
     "start_time": "2020-02-03T06:07:53.155568Z"
    }
   },
   "outputs": [],
   "source": [
    "score_word(\"DOCTOR\")"
   ]
  },
  {
   "cell_type": "code",
   "execution_count": null,
   "metadata": {
    "ExecuteTime": {
     "end_time": "2020-02-03T06:07:53.323695Z",
     "start_time": "2020-02-03T06:07:53.319692Z"
    }
   },
   "outputs": [],
   "source": [
    "score_word(\"doctor\")"
   ]
  },
  {
   "cell_type": "markdown",
   "metadata": {},
   "source": [
    "## Loading scrabble words\n",
    "\n",
    "Let's load up a dictionary of (all?) scrabble words from a file."
   ]
  },
  {
   "cell_type": "code",
   "execution_count": null,
   "metadata": {
    "ExecuteTime": {
     "end_time": "2020-02-03T06:07:53.720708Z",
     "start_time": "2020-02-03T06:07:53.690804Z"
    }
   },
   "outputs": [],
   "source": [
    "with open('words.txt') as f:\n",
    "    WORDS = [w.strip() for w in f.readlines()]\n",
    "WORDS[:10]"
   ]
  },
  {
   "cell_type": "markdown",
   "metadata": {},
   "source": [
    "These words are all in capitals. \n",
    "\n",
    "Question: What are the 10 highest scoring scrabble words?"
   ]
  },
  {
   "cell_type": "markdown",
   "metadata": {},
   "source": [
    "## Answer (from last time)\n",
    "\n",
    "This is actually a little tricky. It isn't too hard to get the scores of each word:"
   ]
  },
  {
   "cell_type": "code",
   "execution_count": null,
   "metadata": {
    "ExecuteTime": {
     "end_time": "2020-02-03T06:07:54.367431Z",
     "start_time": "2020-02-03T06:07:54.290695Z"
    }
   },
   "outputs": [],
   "source": [
    "scores = [score_word(w) for w in WORDS]\n",
    "scores"
   ]
  },
  {
   "cell_type": "markdown",
   "metadata": {},
   "source": [
    "Getting the top 10 scores isn't too bad:"
   ]
  },
  {
   "cell_type": "code",
   "execution_count": null,
   "metadata": {
    "ExecuteTime": {
     "end_time": "2020-02-03T06:07:54.816780Z",
     "start_time": "2020-02-03T06:07:54.805836Z"
    }
   },
   "outputs": [],
   "source": [
    "sorted(scores, reverse=True)[:10]"
   ]
  },
  {
   "cell_type": "markdown",
   "metadata": {},
   "source": [
    "So _one_ way of doing this is to look for all words with a score of 37 or higher"
   ]
  },
  {
   "cell_type": "code",
   "execution_count": null,
   "metadata": {
    "ExecuteTime": {
     "end_time": "2020-02-03T06:07:55.414709Z",
     "start_time": "2020-02-03T06:07:55.341185Z"
    }
   },
   "outputs": [],
   "source": [
    "[w for w in WORDS if score_word(w) >= 37]"
   ]
  },
  {
   "cell_type": "markdown",
   "metadata": {},
   "source": [
    "Note that we have lost the score. A better way of doing this is to make a list where the elements are `[score, word]`. We put the score first because we want to sort by score _first_."
   ]
  },
  {
   "cell_type": "code",
   "execution_count": null,
   "metadata": {
    "ExecuteTime": {
     "end_time": "2020-02-03T06:07:55.889095Z",
     "start_time": "2020-02-03T06:07:55.726158Z"
    }
   },
   "outputs": [],
   "source": [
    "## Better solution\n",
    "scores_and_words = [  [score_word(w), w] for w in WORDS ]\n",
    "sorted(scores_and_words, reverse=True)[:10]"
   ]
  },
  {
   "cell_type": "markdown",
   "metadata": {},
   "source": [
    "We can even write this out nicely"
   ]
  },
  {
   "cell_type": "code",
   "execution_count": null,
   "metadata": {
    "ExecuteTime": {
     "end_time": "2020-02-03T06:07:56.370043Z",
     "start_time": "2020-02-03T06:07:56.220444Z"
    }
   },
   "outputs": [],
   "source": [
    "scores_and_words = [  [score_word(w), w] for w in WORDS ]\n",
    "ordered_scores_and_words = sorted(scores_and_words, reverse=True)[:10]\n",
    "\n",
    "for score, word in ordered_scores_and_words:\n",
    "    print(f'The word \"{word}\" has a score {score} in scrabble')"
   ]
  },
  {
   "cell_type": "markdown",
   "metadata": {},
   "source": [
    "We have dictionary comprehsions as well."
   ]
  },
  {
   "cell_type": "code",
   "execution_count": null,
   "metadata": {
    "ExecuteTime": {
     "end_time": "2020-02-03T06:07:56.960641Z",
     "start_time": "2020-02-03T06:07:56.876798Z"
    }
   },
   "outputs": [],
   "source": [
    "# A potentially helpful dictionary (keys are words, values are scores)\n",
    "# Use of a dictionary comprehension\n",
    "SCORES = {w: score_word(w) for w in WORDS}"
   ]
  },
  {
   "cell_type": "code",
   "execution_count": null,
   "metadata": {
    "ExecuteTime": {
     "end_time": "2020-02-03T06:07:57.158803Z",
     "start_time": "2020-02-03T06:07:57.142090Z"
    }
   },
   "outputs": [],
   "source": [
    "SCORES"
   ]
  },
  {
   "cell_type": "markdown",
   "metadata": {},
   "source": [
    "## Scrabble bot\n",
    "\n",
    "Given a list of tiles, how would we find the highest scoring word we can make from those tiles?\n",
    "- we need the word to be legal, so 'ZZZZZ' isn't an allowed word\n",
    "- you don't need to use all letters\n",
    "- we will start by only finding a word that has the highest score\n",
    "\n",
    "Write a function `score_tiles(tiles)` that takes a list of tiles, and returns the score _and_ a highest scoring word you can make from those tiles. The word must be a valid word that appears in the array `WORDS`\n",
    "\n",
    "For example\n",
    "\n",
    "```python\n",
    ">>> score_tiles(['C', 'A', 'T'])\n",
    "[5, 'CAT'] # might also return [5, 'ACT'] as a valid word\n",
    ">>> score_tiles(['Q', 'Z', 'A', 'T'])\n",
    "[12, 'QAT']  # Apparently QAT is a word, but we don't have words with\n",
    "             # Q, Z and only A/T in them, so we cannot use all tiles.\n",
    "```\n",
    "\n",
    "Hint: \n",
    "- Any anagrams have the same tiles, so they will have the same score\n",
    "- You might want a function `can_make_from_tiles(word, tiles)` to help you"
   ]
  },
  {
   "cell_type": "code",
   "execution_count": null,
   "metadata": {
    "ExecuteTime": {
     "end_time": "2020-02-03T06:07:57.808302Z",
     "start_time": "2020-02-03T06:07:57.805048Z"
    }
   },
   "outputs": [],
   "source": [
    "# Hint: make a function \"can make from tiles\"\n",
    "def can_make_from_tiles(word, tiles):\n",
    "    \"\"\"Returns True is you can make word from tiles, False otherwise\n",
    "    \n",
    "    Inputs:\n",
    "    -------\n",
    "      word: a string\n",
    "      tiles: list of characters\n",
    "      \n",
    "    Returns:\n",
    "    --------\n",
    "      boolean\n",
    "      \n",
    "    Examples:\n",
    "    ---------\n",
    "      >>> can_make_from_tiles('CAR', ['C', 'A', 'R', 'Z'])\n",
    "      True   # Given tiles ['C', 'A', 'R', 'Z'] we can make the word CAR\n",
    "      >>> can_make_from_tiles('CARR', ['C', 'A', 'R', 'Z'])\n",
    "      False  # Cannot make \"CARR\" with only one 'R'\n",
    "      >>> can_make_from_tiles('COG', ['C', 'T', 'G', 'O', 'Z', 'Z', 'Z'])\n",
    "      True\n",
    "      >>> can_make_from_tiles('ZZZ', ['C', 'T', 'G', 'O', 'Z', 'Z', 'Z'])\n",
    "      True   # we don't check if \"word\" ZZZ is a valid word\n",
    "      \"\"\"\n",
    "    pass"
   ]
  },
  {
   "cell_type": "code",
   "execution_count": null,
   "metadata": {},
   "outputs": [],
   "source": []
  },
  {
   "cell_type": "code",
   "execution_count": null,
   "metadata": {},
   "outputs": [],
   "source": []
  },
  {
   "cell_type": "code",
   "execution_count": null,
   "metadata": {},
   "outputs": [],
   "source": []
  },
  {
   "cell_type": "code",
   "execution_count": null,
   "metadata": {},
   "outputs": [],
   "source": []
  },
  {
   "cell_type": "code",
   "execution_count": null,
   "metadata": {},
   "outputs": [],
   "source": []
  },
  {
   "cell_type": "code",
   "execution_count": null,
   "metadata": {
    "ExecuteTime": {
     "end_time": "2020-02-03T06:07:58.350939Z",
     "start_time": "2020-02-03T06:07:58.347974Z"
    }
   },
   "outputs": [],
   "source": [
    "def score_tiles(tiles):\n",
    "    \"\"\"Returns a list with the best score and a best word you can make from tiles.\n",
    "    \n",
    "       \n",
    "    Inputs:\n",
    "    -------\n",
    "      tiles: a list of characters\n",
    "    \n",
    "    Returns:\n",
    "    --------\n",
    "      [score, word] where:\n",
    "        score: integer \n",
    "               highest score you can make from those tiles when forming a legal word\n",
    "        word: string\n",
    "               An example of a word that actually gets the score `score`\n",
    "      \n",
    "      Note: a word is considered legal if it is on the list WORDS\n",
    "    Examples:\n",
    "    ---------\n",
    "      >>> score_tiles(['C', 'A', 'T'])\n",
    "      [5, 'CAT']\n",
    "      >>> score_tiles(['Q', 'Z', 'A', 'T'])\n",
    "      [12, 'QAT']\n",
    "    \"\"\"\n",
    "    pass"
   ]
  },
  {
   "cell_type": "code",
   "execution_count": null,
   "metadata": {},
   "outputs": [],
   "source": []
  },
  {
   "cell_type": "code",
   "execution_count": null,
   "metadata": {},
   "outputs": [],
   "source": []
  },
  {
   "cell_type": "code",
   "execution_count": null,
   "metadata": {},
   "outputs": [],
   "source": []
  },
  {
   "cell_type": "code",
   "execution_count": null,
   "metadata": {},
   "outputs": [],
   "source": []
  },
  {
   "cell_type": "code",
   "execution_count": null,
   "metadata": {},
   "outputs": [],
   "source": []
  },
  {
   "cell_type": "code",
   "execution_count": null,
   "metadata": {},
   "outputs": [],
   "source": []
  },
  {
   "cell_type": "code",
   "execution_count": null,
   "metadata": {},
   "outputs": [],
   "source": []
  },
  {
   "cell_type": "markdown",
   "metadata": {},
   "source": [
    "# Guessing game\n",
    "\n",
    "Let's finish the guessing game from a couple of lessons ago. We will be using the notebook \"guess_game\" to finish this exercise"
   ]
  },
  {
   "cell_type": "code",
   "execution_count": null,
   "metadata": {},
   "outputs": [],
   "source": []
  },
  {
   "cell_type": "code",
   "execution_count": null,
   "metadata": {},
   "outputs": [],
   "source": []
  },
  {
   "cell_type": "code",
   "execution_count": null,
   "metadata": {},
   "outputs": [],
   "source": []
  },
  {
   "cell_type": "code",
   "execution_count": null,
   "metadata": {},
   "outputs": [],
   "source": []
  },
  {
   "cell_type": "code",
   "execution_count": null,
   "metadata": {},
   "outputs": [],
   "source": []
  },
  {
   "cell_type": "code",
   "execution_count": null,
   "metadata": {},
   "outputs": [],
   "source": []
  },
  {
   "cell_type": "code",
   "execution_count": null,
   "metadata": {},
   "outputs": [],
   "source": []
  },
  {
   "cell_type": "code",
   "execution_count": null,
   "metadata": {},
   "outputs": [],
   "source": []
  },
  {
   "cell_type": "code",
   "execution_count": null,
   "metadata": {},
   "outputs": [],
   "source": []
  },
  {
   "cell_type": "code",
   "execution_count": null,
   "metadata": {},
   "outputs": [],
   "source": []
  },
  {
   "cell_type": "code",
   "execution_count": null,
   "metadata": {},
   "outputs": [],
   "source": []
  },
  {
   "cell_type": "code",
   "execution_count": null,
   "metadata": {},
   "outputs": [],
   "source": []
  },
  {
   "cell_type": "markdown",
   "metadata": {},
   "source": [
    "## Telephone words\n",
    "\n",
    "We can convert words into numbers using the telephone keypad:\n",
    "\n",
    "![Telephone keypad](keypad.png)\n",
    "\n",
    "For example `1-888-WAIT-WAI` (the number for NPRs \"Wait, Wait, Don't tell me\") can be decoded as `1-888-924-8924`.\n",
    "\n",
    "1. Is it possible, given a string like `1-888-WAIT-WAI` to return a _unique_ number like `18889248924`?\n",
    "2. Is is possible, given a number like `18889248924` to return a _unique_ number/string like `1888WAITWAI`?\n"
   ]
  },
  {
   "cell_type": "code",
   "execution_count": null,
   "metadata": {
    "ExecuteTime": {
     "end_time": "2020-01-30T17:51:12.168812Z",
     "start_time": "2020-01-30T17:51:12.164737Z"
    }
   },
   "outputs": [],
   "source": [
    "NUM_TO_LETTERS = {\n",
    "    0: '',\n",
    "    1: '',\n",
    "    2: 'ABC',\n",
    "    3: 'DEF',\n",
    "    4: 'GHI',\n",
    "    5: 'JKL',\n",
    "    6: 'MNO',\n",
    "    7: 'PQRS',\n",
    "    8: 'TUV',\n",
    "    9: 'WXYZ'\n",
    "}\n",
    "\n",
    "NUM_TO_LETTERS_LIST = {num: list(value) for num, value in NUM_TO_LETTERS.items()}"
   ]
  },
  {
   "cell_type": "markdown",
   "metadata": {},
   "source": [
    "Can we get letters to number? We could write it out manually (`'A' --> 1`, `'B' --> 1`, ..., `'Z' --> 9`) which is somewhat more natural. We should construct it from this list if possible"
   ]
  },
  {
   "cell_type": "code",
   "execution_count": null,
   "metadata": {
    "ExecuteTime": {
     "end_time": "2020-01-30T17:53:48.772369Z",
     "start_time": "2020-01-30T17:53:48.767534Z"
    }
   },
   "outputs": [],
   "source": [
    "LETTERS_TO_NUM = {}\n",
    "for number in NUM_TO_LETTERS:\n",
    "    for letter in NUM_TO_LETTERS[number]:\n",
    "        LETTERS_TO_NUM[letter] = number\n",
    "LETTERS_TO_NUM"
   ]
  },
  {
   "cell_type": "markdown",
   "metadata": {},
   "source": [
    "One of the exercises was to make `decode_to_number(alpha_number)`. \n",
    "\n",
    "It would take something like `decode_to_number('1-888-WAIT-WAI')` would return `18889248924`"
   ]
  },
  {
   "cell_type": "code",
   "execution_count": null,
   "metadata": {
    "ExecuteTime": {
     "end_time": "2020-01-30T19:09:53.905841Z",
     "start_time": "2020-01-30T19:09:53.901070Z"
    }
   },
   "outputs": [],
   "source": [
    "def decode_to_number(alpha_number):\n",
    "    digits_only = []\n",
    "    for character in alpha_number:\n",
    "        # if it is a digit, pass through\n",
    "        character = character.upper()\n",
    "        if character.isdigit():\n",
    "            digits_only.append(character)\n",
    "        else:\n",
    "            if character in LETTERS_TO_NUM:\n",
    "                number = LETTERS_TO_NUM[character]\n",
    "                digits_only.append(str(number))\n",
    "    print(digits_only)\n",
    "    joined_digits = ''.join(digits_only)\n",
    "    print(joined_digits)\n",
    "    return int(joined_digits)"
   ]
  },
  {
   "cell_type": "code",
   "execution_count": null,
   "metadata": {
    "ExecuteTime": {
     "end_time": "2020-01-30T19:09:54.287340Z",
     "start_time": "2020-01-30T19:09:54.283878Z"
    }
   },
   "outputs": [],
   "source": [
    "decode_to_number('1-888-WAIT-WAI')"
   ]
  },
  {
   "cell_type": "code",
   "execution_count": null,
   "metadata": {},
   "outputs": [],
   "source": []
  },
  {
   "cell_type": "code",
   "execution_count": null,
   "metadata": {},
   "outputs": [],
   "source": []
  },
  {
   "cell_type": "code",
   "execution_count": null,
   "metadata": {},
   "outputs": [],
   "source": []
  },
  {
   "cell_type": "code",
   "execution_count": null,
   "metadata": {},
   "outputs": [],
   "source": []
  },
  {
   "cell_type": "code",
   "execution_count": null,
   "metadata": {},
   "outputs": [],
   "source": []
  },
  {
   "cell_type": "code",
   "execution_count": null,
   "metadata": {},
   "outputs": [],
   "source": []
  },
  {
   "cell_type": "code",
   "execution_count": null,
   "metadata": {},
   "outputs": [],
   "source": []
  },
  {
   "cell_type": "code",
   "execution_count": null,
   "metadata": {},
   "outputs": [],
   "source": []
  },
  {
   "cell_type": "code",
   "execution_count": null,
   "metadata": {},
   "outputs": [],
   "source": []
  },
  {
   "cell_type": "code",
   "execution_count": null,
   "metadata": {},
   "outputs": [],
   "source": []
  },
  {
   "cell_type": "code",
   "execution_count": null,
   "metadata": {},
   "outputs": [],
   "source": []
  },
  {
   "cell_type": "code",
   "execution_count": null,
   "metadata": {},
   "outputs": [],
   "source": []
  },
  {
   "cell_type": "code",
   "execution_count": null,
   "metadata": {},
   "outputs": [],
   "source": []
  },
  {
   "cell_type": "code",
   "execution_count": null,
   "metadata": {},
   "outputs": [],
   "source": []
  },
  {
   "cell_type": "code",
   "execution_count": null,
   "metadata": {},
   "outputs": [],
   "source": []
  },
  {
   "cell_type": "code",
   "execution_count": null,
   "metadata": {},
   "outputs": [],
   "source": []
  },
  {
   "cell_type": "code",
   "execution_count": null,
   "metadata": {},
   "outputs": [],
   "source": []
  },
  {
   "cell_type": "code",
   "execution_count": null,
   "metadata": {},
   "outputs": [],
   "source": []
  },
  {
   "cell_type": "code",
   "execution_count": null,
   "metadata": {},
   "outputs": [],
   "source": []
  },
  {
   "cell_type": "code",
   "execution_count": null,
   "metadata": {},
   "outputs": [],
   "source": []
  }
 ],
 "metadata": {
  "kernelspec": {
   "display_name": "Python 3",
   "language": "python",
   "name": "python3"
  },
  "language_info": {
   "codemirror_mode": {
    "name": "ipython",
    "version": 3
   },
   "file_extension": ".py",
   "mimetype": "text/x-python",
   "name": "python",
   "nbconvert_exporter": "python",
   "pygments_lexer": "ipython3",
   "version": "3.7.6"
  },
  "varInspector": {
   "cols": {
    "lenName": 16,
    "lenType": 16,
    "lenVar": 40
   },
   "kernels_config": {
    "python": {
     "delete_cmd_postfix": "",
     "delete_cmd_prefix": "del ",
     "library": "var_list.py",
     "varRefreshCmd": "print(var_dic_list())"
    },
    "r": {
     "delete_cmd_postfix": ") ",
     "delete_cmd_prefix": "rm(",
     "library": "var_list.r",
     "varRefreshCmd": "cat(var_dic_list()) "
    }
   },
   "types_to_exclude": [
    "module",
    "function",
    "builtin_function_or_method",
    "instance",
    "_Feature"
   ],
   "window_display": false
  }
 },
 "nbformat": 4,
 "nbformat_minor": 2
}
