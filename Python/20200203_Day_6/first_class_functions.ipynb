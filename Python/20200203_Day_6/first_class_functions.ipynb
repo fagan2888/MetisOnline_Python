{
 "cells": [
  {
   "cell_type": "markdown",
   "metadata": {},
   "source": [
    "# Tuples\n",
    "\n",
    "We won't spend a lot of time on tuples, because they are _very_ similar to lists. \n",
    "- they can hold anything\n",
    "- they are arbitrary length\n",
    "- they are indexed (0, 1, 2, ..., length_of_tuple - 1)\n",
    "The biggest difference are that tuples are immutable."
   ]
  },
  {
   "cell_type": "code",
   "execution_count": null,
   "metadata": {
    "ExecuteTime": {
     "end_time": "2020-02-03T22:11:15.747695Z",
     "start_time": "2020-02-03T22:11:15.745087Z"
    }
   },
   "outputs": [],
   "source": [
    "from pprint import pprint  # enables \"pretty printing\""
   ]
  },
  {
   "cell_type": "code",
   "execution_count": null,
   "metadata": {
    "ExecuteTime": {
     "end_time": "2020-02-03T22:11:15.889523Z",
     "start_time": "2020-02-03T22:11:15.886670Z"
    }
   },
   "outputs": [],
   "source": [
    "list_of_people = ['Albert Einstein', 'Marie Curie', 'Ada Lovelace']\n",
    "tuple_of_people = ('Albert Einstein', 'Marie Curie', 'Ada Lovelace')"
   ]
  },
  {
   "cell_type": "code",
   "execution_count": null,
   "metadata": {
    "ExecuteTime": {
     "end_time": "2020-02-03T22:11:16.007958Z",
     "start_time": "2020-02-03T22:11:16.004560Z"
    }
   },
   "outputs": [],
   "source": [
    "list_of_people"
   ]
  },
  {
   "cell_type": "code",
   "execution_count": null,
   "metadata": {
    "ExecuteTime": {
     "end_time": "2020-02-03T22:11:16.131378Z",
     "start_time": "2020-02-03T22:11:16.126653Z"
    }
   },
   "outputs": [],
   "source": [
    "tuple_of_people"
   ]
  },
  {
   "cell_type": "code",
   "execution_count": null,
   "metadata": {
    "ExecuteTime": {
     "end_time": "2020-02-03T22:11:16.361446Z",
     "start_time": "2020-02-03T22:11:16.357701Z"
    }
   },
   "outputs": [],
   "source": [
    "list_of_people[0] = 'Emmy Noether'\n",
    "list_of_people"
   ]
  },
  {
   "cell_type": "code",
   "execution_count": null,
   "metadata": {},
   "outputs": [],
   "source": []
  },
  {
   "cell_type": "code",
   "execution_count": null,
   "metadata": {
    "ExecuteTime": {
     "end_time": "2020-02-03T22:11:16.698581Z",
     "start_time": "2020-02-03T22:11:16.694877Z"
    }
   },
   "outputs": [],
   "source": [
    "# do you think this errors out?\n",
    "tuple_of_people[0]"
   ]
  },
  {
   "cell_type": "code",
   "execution_count": null,
   "metadata": {
    "ExecuteTime": {
     "end_time": "2020-02-03T22:11:16.872136Z",
     "start_time": "2020-02-03T22:11:16.868759Z"
    }
   },
   "outputs": [],
   "source": [
    "# do you think this errors out?\n",
    "tuple_of_people[0] + ' was a physicist'"
   ]
  },
  {
   "cell_type": "code",
   "execution_count": null,
   "metadata": {
    "ExecuteTime": {
     "end_time": "2020-02-03T22:11:17.068179Z",
     "start_time": "2020-02-03T22:11:17.044869Z"
    }
   },
   "outputs": [],
   "source": [
    "# do you think this errors out?\n",
    "tuple_of_people[0] = 'Emmy Noether'"
   ]
  },
  {
   "cell_type": "markdown",
   "metadata": {},
   "source": [
    "Mostly I bring up tuples because we will see them in various places from built-in functions."
   ]
  },
  {
   "cell_type": "markdown",
   "metadata": {},
   "source": [
    "## Complex sorting\n",
    "\n",
    "Suppose we collection a lot of information about the different states. We decide that we are going to store:\n",
    "> abbreviation, population, area (sq miles), captial name, state name\n",
    "\n",
    "for each state"
   ]
  },
  {
   "cell_type": "code",
   "execution_count": null,
   "metadata": {
    "ExecuteTime": {
     "end_time": "2020-02-03T22:11:17.768443Z",
     "start_time": "2020-02-03T22:11:17.760883Z"
    }
   },
   "outputs": [],
   "source": [
    "state_info = [\n",
    "     ['CA', 39_560_000, 163_694, 'Sacramento', 'California'],\n",
    "     ['WA', 7_536_000 ,71_297, 'Olympia', 'Washington'],\n",
    "     ['TX', 28_995_881 , 268_596, 'Austin', 'Texas'],\n",
    "     ['OR', 4_190_713, 98_378, 'Salem', 'Oregon'],\n",
    "     ['WY', 578_759 ,97_914, 'Cheyenne', 'Wyoming'],\n",
    "     ['IL', 12_671_821, 57_914, 'Springfield', 'Illinois'],\n",
    "     ['HI', 1_420_491 , 10_931, 'Honolulu', 'Hawaii'],\n",
    "     ['AK', 710_249, 663_268, 'Juneau', 'Alaska'],\n",
    "     ['NY', 19_453_561, 54_555, 'Albany', 'New York']\n",
    "]"
   ]
  },
  {
   "cell_type": "code",
   "execution_count": null,
   "metadata": {
    "ExecuteTime": {
     "end_time": "2020-02-03T22:11:17.908658Z",
     "start_time": "2020-02-03T22:11:17.904361Z"
    }
   },
   "outputs": [],
   "source": [
    "state_info"
   ]
  },
  {
   "cell_type": "markdown",
   "metadata": {},
   "source": [
    "Let's say we wanted to sort the _values_ by population. We could use our normal trick:\n",
    "1. We know lists are sorted by the first element first\n",
    "2. Make a new list `[population, all_the_data]` for each element\n",
    "3. Sort that\n",
    "4. Then extract `all_the_data`\n",
    "\n",
    "Let's see this in action:"
   ]
  },
  {
   "cell_type": "code",
   "execution_count": null,
   "metadata": {
    "ExecuteTime": {
     "end_time": "2020-02-03T22:11:18.194821Z",
     "start_time": "2020-02-03T22:11:18.189730Z"
    }
   },
   "outputs": [],
   "source": [
    "# This is step 2\n",
    "list_to_sort = [ [data[1], data] for data in state_info]\n",
    "\n",
    "# This isn't strictly necessary, it is just here to help us visualize\n",
    "# what is happening.\n",
    "for element in list_to_sort:\n",
    "    print(element)"
   ]
  },
  {
   "cell_type": "code",
   "execution_count": null,
   "metadata": {
    "ExecuteTime": {
     "end_time": "2020-02-03T22:11:18.324563Z",
     "start_time": "2020-02-03T22:11:18.320689Z"
    }
   },
   "outputs": [],
   "source": [
    "# Now do step 3 and use the default sorting\n",
    "sorted_list = sorted(list_to_sort)\n",
    "\n",
    "for element in sorted_list:\n",
    "    print(element)"
   ]
  },
  {
   "cell_type": "markdown",
   "metadata": {},
   "source": [
    "Okay, but we still have the population repeated twice (once in the data structure, and once in the beginning where we are just using it to sort). Now that they are in order, let's just extract the data"
   ]
  },
  {
   "cell_type": "code",
   "execution_count": null,
   "metadata": {
    "ExecuteTime": {
     "end_time": "2020-02-03T22:11:18.595365Z",
     "start_time": "2020-02-03T22:11:18.590344Z"
    }
   },
   "outputs": [],
   "source": [
    "sorted_data = [element[1] for element in sorted_list]\n",
    "\n",
    "# Note that pretty printing is a way of skipping the \n",
    "# loop. We could also print the same way we printed in the last step\n",
    "pprint(sorted_data)"
   ]
  },
  {
   "cell_type": "markdown",
   "metadata": {},
   "source": [
    "## Exercise\n",
    "\n",
    "Sort by area instead (i.e. we should have a sorted list of just the values at the end, but it should be sorted from smallest area to largest area of a state)."
   ]
  },
  {
   "cell_type": "code",
   "execution_count": null,
   "metadata": {},
   "outputs": [],
   "source": []
  },
  {
   "cell_type": "code",
   "execution_count": null,
   "metadata": {},
   "outputs": [],
   "source": []
  },
  {
   "cell_type": "code",
   "execution_count": null,
   "metadata": {},
   "outputs": [],
   "source": []
  },
  {
   "cell_type": "code",
   "execution_count": null,
   "metadata": {},
   "outputs": [],
   "source": []
  },
  {
   "cell_type": "code",
   "execution_count": null,
   "metadata": {},
   "outputs": [],
   "source": []
  },
  {
   "cell_type": "code",
   "execution_count": null,
   "metadata": {},
   "outputs": [],
   "source": []
  },
  {
   "cell_type": "code",
   "execution_count": null,
   "metadata": {},
   "outputs": [],
   "source": []
  },
  {
   "cell_type": "code",
   "execution_count": null,
   "metadata": {},
   "outputs": [],
   "source": []
  },
  {
   "cell_type": "markdown",
   "metadata": {},
   "source": [
    "## Population density"
   ]
  },
  {
   "cell_type": "markdown",
   "metadata": {},
   "source": [
    "The population density is defined as the number of people per square mile. So if we have a value \n",
    "```\n",
    "element = [abbr, population, area, capital]\n",
    "```\n",
    "we would find the population density with\n",
    "```\n",
    "pop_density = element[1] / element[2]\n",
    "```\n",
    "\n",
    "Sort the values of `state_info` by _population density_."
   ]
  },
  {
   "cell_type": "code",
   "execution_count": null,
   "metadata": {
    "ExecuteTime": {
     "end_time": "2020-02-03T22:11:20.389040Z",
     "start_time": "2020-02-03T22:11:20.384407Z"
    }
   },
   "outputs": [],
   "source": [
    "def get_population_density(element):\n",
    "    \"\"\"For an element of the form [abb, population, area, capital] returns the population density\"\"\"\n",
    "    return element[1] / element[2]\n",
    "\n",
    "# Example of usage\n",
    "get_population_density(state_info[0])"
   ]
  },
  {
   "cell_type": "code",
   "execution_count": null,
   "metadata": {
    "ExecuteTime": {
     "end_time": "2020-02-03T22:11:20.526779Z",
     "start_time": "2020-02-03T22:11:20.524666Z"
    }
   },
   "outputs": [],
   "source": [
    "## For you: sort the states by population density"
   ]
  },
  {
   "cell_type": "code",
   "execution_count": null,
   "metadata": {},
   "outputs": [],
   "source": []
  },
  {
   "cell_type": "code",
   "execution_count": null,
   "metadata": {},
   "outputs": [],
   "source": []
  },
  {
   "cell_type": "code",
   "execution_count": null,
   "metadata": {},
   "outputs": [],
   "source": []
  },
  {
   "cell_type": "code",
   "execution_count": null,
   "metadata": {},
   "outputs": [],
   "source": []
  },
  {
   "cell_type": "code",
   "execution_count": null,
   "metadata": {},
   "outputs": [],
   "source": []
  },
  {
   "cell_type": "code",
   "execution_count": null,
   "metadata": {},
   "outputs": [],
   "source": []
  },
  {
   "cell_type": "code",
   "execution_count": null,
   "metadata": {},
   "outputs": [],
   "source": []
  },
  {
   "cell_type": "markdown",
   "metadata": {},
   "source": [
    "## Generalized sorting function\n",
    "\n",
    "So we have seen how we \"set things up\" to use sorted. Our algorithm for \"sort by `x`\" is\n",
    "1. Get the values\n",
    "2. Make a new list of the form `[x, all_the_data]`\n",
    "3. Sort this new list (which sorts by `x` by default), call it `sorted_list`\n",
    "4. Extract just the `all_the_data` piece from `sorted_list`\n",
    "\n",
    "We have to repeat a lot of code each time. The reason is \"get `x`\" can be complicated. It could be\n",
    "- get the population (i.e. grab element with index 1)\n",
    "- get the area (i.e. grab element with index 2)\n",
    "- get the density (i.e. grab the ratio `element[1] / element[2]`)\n",
    "- get the abbreviation (i.e. grab `element[0]`)\n",
    "The rule we should always have is that the thing we want to sort by should always be a function of the value we are trying to sort.\n",
    "\n",
    "Let's write our population sorting code in one cell:"
   ]
  },
  {
   "cell_type": "code",
   "execution_count": null,
   "metadata": {
    "ExecuteTime": {
     "end_time": "2020-02-03T22:11:21.750008Z",
     "start_time": "2020-02-03T22:11:21.744301Z"
    }
   },
   "outputs": [],
   "source": [
    "# Note the only thing that changes when we try to sort is [**data[1]**e, ....]\n",
    "list_to_sort = [ [data[1], data] for data in state_info]\n",
    "sorted_list = sorted(list_to_sort)\n",
    "sorted_data = [element[1] for element in sorted_list]\n",
    "\n",
    "\n",
    "# use \"pretty printing\" instead\n",
    "pprint(sorted_data)"
   ]
  },
  {
   "cell_type": "markdown",
   "metadata": {},
   "source": [
    "How would we generalize this? Well, we might write a function `get_population(element)`, which might seem like a step backward:"
   ]
  },
  {
   "cell_type": "code",
   "execution_count": null,
   "metadata": {
    "ExecuteTime": {
     "end_time": "2020-02-03T22:11:22.018193Z",
     "start_time": "2020-02-03T22:11:22.015404Z"
    }
   },
   "outputs": [],
   "source": [
    "def get_population(element):\n",
    "    return element[1]"
   ]
  },
  {
   "cell_type": "code",
   "execution_count": null,
   "metadata": {
    "ExecuteTime": {
     "end_time": "2020-02-03T22:11:22.158542Z",
     "start_time": "2020-02-03T22:11:22.153737Z"
    }
   },
   "outputs": [],
   "source": [
    "# Note the only thing that changes when we try to sort is [**data[1]**e, ....]\n",
    "list_to_sort = [ [get_population(data), data] for data in state_info]\n",
    "sorted_list = sorted(list_to_sort)\n",
    "sorted_data = [element[1] for element in sorted_list]\n",
    "\n",
    "\n",
    "# use \"pretty printing\" instead\n",
    "pprint(sorted_data)"
   ]
  },
  {
   "cell_type": "markdown",
   "metadata": {},
   "source": [
    "The one thing that is a little nicer about the code above is that it is clear what is happening in the first line of this cell. `data[1]` is a little weird, but `get_population(data)` expresses our intent better. It also becomes clear how to use this pattern to sort by area, or population density:"
   ]
  },
  {
   "cell_type": "code",
   "execution_count": null,
   "metadata": {
    "ExecuteTime": {
     "end_time": "2020-02-03T22:11:22.517038Z",
     "start_time": "2020-02-03T22:11:22.508841Z"
    }
   },
   "outputs": [],
   "source": [
    "# Note the only thing that changes when we try to sort is [**data[1]**e, ....]\n",
    "list_to_sort = [ [get_population_density(data), data] for data in state_info.values()]\n",
    "sorted_list = sorted(list_to_sort)\n",
    "sorted_data = [element[1] for element in sorted_list]\n",
    "\n",
    "\n",
    "# use \"pretty printing\" instead\n",
    "pprint(sorted_data)"
   ]
  },
  {
   "cell_type": "markdown",
   "metadata": {},
   "source": [
    "That is still a lot of repeated code for changing just the thing we are sorting by. Let's write a function!"
   ]
  },
  {
   "cell_type": "code",
   "execution_count": null,
   "metadata": {
    "ExecuteTime": {
     "end_time": "2020-02-03T22:11:22.772739Z",
     "start_time": "2020-02-03T22:11:22.768823Z"
    }
   },
   "outputs": [],
   "source": [
    "def fancy_sort(thing_to_sort, sort_by_func):\n",
    "    \"\"\"thing_to_sort is your list of things to sort by\n",
    "       sort_by_func is a FUNCTION\n",
    "       \n",
    "       We apply the function to each element of the list thing_to_sort_by\n",
    "       and sort the elements by the output of the function\n",
    "    \"\"\"\n",
    "    list_to_sort = [[sort_by_func(data), data] for data in thing_to_sort]\n",
    "    sorted_list = sorted(list_to_sort)\n",
    "    sorted_data = [element[1] for element in sorted_list]\n",
    "    return sorted_data"
   ]
  },
  {
   "cell_type": "code",
   "execution_count": null,
   "metadata": {
    "ExecuteTime": {
     "end_time": "2020-02-03T22:11:22.896329Z",
     "start_time": "2020-02-03T22:11:22.892957Z"
    }
   },
   "outputs": [],
   "source": [
    "# now lets use it:\n",
    "pprint(fancy_sort(state_info), get_population))"
   ]
  },
  {
   "cell_type": "markdown",
   "metadata": {},
   "source": [
    "We are passing `get_population` as a function, we are NOT calling it. Look at the difference between the following two cells"
   ]
  },
  {
   "cell_type": "code",
   "execution_count": null,
   "metadata": {
    "ExecuteTime": {
     "end_time": "2020-02-03T22:11:23.152916Z",
     "start_time": "2020-02-03T22:11:23.148950Z"
    }
   },
   "outputs": [],
   "source": [
    "# not calling the function\n",
    "get_population"
   ]
  },
  {
   "cell_type": "code",
   "execution_count": null,
   "metadata": {
    "ExecuteTime": {
     "end_time": "2020-02-03T22:11:23.280168Z",
     "start_time": "2020-02-03T22:11:23.276895Z"
    }
   },
   "outputs": [],
   "source": [
    "# Calling the function (not the parens)\n",
    "get_population(state_info[0])"
   ]
  },
  {
   "cell_type": "markdown",
   "metadata": {},
   "source": [
    "The first cell passes the function as a variable to our sorting function where it is the `sort_by_func`.\n",
    "\n",
    "Inside `fancy_sort` we _call_ the function on line 8 (when making `list_to_sort`). If we wanted a different sorting (e.g. sorting by population density) we can do that easily:"
   ]
  },
  {
   "cell_type": "code",
   "execution_count": null,
   "metadata": {
    "ExecuteTime": {
     "end_time": "2020-02-03T22:11:23.524029Z",
     "start_time": "2020-02-03T22:11:23.519525Z"
    }
   },
   "outputs": [],
   "source": [
    "# now lets use it:\n",
    "pprint(fancy_sort(state_info, get_population_density))"
   ]
  },
  {
   "cell_type": "markdown",
   "metadata": {},
   "source": [
    "## Exercise\n",
    "\n",
    "1. Write a function, `get_area(element)`, and then use `fancy_sort` to sort by area\n",
    "2. Write a function, `get_state_name(element)`, and then use `fancy_sort` to sort the states alphabetically"
   ]
  },
  {
   "cell_type": "code",
   "execution_count": null,
   "metadata": {},
   "outputs": [],
   "source": []
  },
  {
   "cell_type": "code",
   "execution_count": null,
   "metadata": {},
   "outputs": [],
   "source": []
  },
  {
   "cell_type": "code",
   "execution_count": null,
   "metadata": {},
   "outputs": [],
   "source": []
  },
  {
   "cell_type": "code",
   "execution_count": null,
   "metadata": {},
   "outputs": [],
   "source": []
  },
  {
   "cell_type": "code",
   "execution_count": null,
   "metadata": {},
   "outputs": [],
   "source": []
  },
  {
   "cell_type": "code",
   "execution_count": null,
   "metadata": {},
   "outputs": [],
   "source": []
  },
  {
   "cell_type": "code",
   "execution_count": null,
   "metadata": {},
   "outputs": [],
   "source": []
  },
  {
   "cell_type": "code",
   "execution_count": null,
   "metadata": {},
   "outputs": [],
   "source": []
  },
  {
   "cell_type": "code",
   "execution_count": null,
   "metadata": {},
   "outputs": [],
   "source": []
  },
  {
   "cell_type": "markdown",
   "metadata": {},
   "source": [
    "## First-class functions\n",
    "\n",
    "The fact that we can pass functions the same way we pass variables leads to the phrase\n",
    "> functions are first-class objects\n",
    "\n",
    "If you are familiar with other programming languages (particularly in the C/C++ family), passing functions requires all sorts of special techniques. Here is another example of how we can use functions as variables"
   ]
  },
  {
   "cell_type": "code",
   "execution_count": null,
   "metadata": {
    "ExecuteTime": {
     "end_time": "2020-02-03T22:11:26.286493Z",
     "start_time": "2020-02-03T22:11:26.283126Z"
    }
   },
   "outputs": [],
   "source": [
    "def add_one(x):\n",
    "    return x+1\n",
    "\n",
    "def square(x):\n",
    "    return x*x\n",
    "\n",
    "def listify(x):\n",
    "    return (x, x*x, x*x*x)"
   ]
  },
  {
   "cell_type": "code",
   "execution_count": null,
   "metadata": {
    "ExecuteTime": {
     "end_time": "2020-02-03T22:11:26.409559Z",
     "start_time": "2020-02-03T22:11:26.404261Z"
    }
   },
   "outputs": [],
   "source": [
    "# square the numbers from 0 to 10\n",
    "[square(x) for x in range(10)]"
   ]
  },
  {
   "cell_type": "code",
   "execution_count": null,
   "metadata": {
    "ExecuteTime": {
     "end_time": "2020-02-03T22:11:26.557408Z",
     "start_time": "2020-02-03T22:11:26.552897Z"
    }
   },
   "outputs": [],
   "source": [
    "# add one to the numbers from 0 to 10\n",
    "[add_one(x) for x in range(10)]"
   ]
  },
  {
   "cell_type": "code",
   "execution_count": null,
   "metadata": {
    "ExecuteTime": {
     "end_time": "2020-02-03T22:11:26.663654Z",
     "start_time": "2020-02-03T22:11:26.659610Z"
    }
   },
   "outputs": [],
   "source": [
    "# listify the numbers from 0 to 10\n",
    "[listify(x) for x in range(10)]"
   ]
  },
  {
   "cell_type": "markdown",
   "metadata": {},
   "source": [
    "So far, we have just called a function \"normally\". Now let's store the value in a variable, and then call the choice we made later:"
   ]
  },
  {
   "cell_type": "code",
   "execution_count": null,
   "metadata": {
    "ExecuteTime": {
     "end_time": "2020-02-03T22:11:26.903005Z",
     "start_time": "2020-02-03T22:11:26.899119Z"
    }
   },
   "outputs": [],
   "source": [
    "# pick a function\n",
    "my_choice = square\n",
    "\n",
    "[my_choice(x) for x in range(0, 10)]"
   ]
  },
  {
   "cell_type": "markdown",
   "metadata": {},
   "source": [
    "## lambda functions\n",
    "\n",
    "Let's go back to our `fancy_sort` example. One critism is, to sort by population, we needed to define a function to get the population:\n",
    "\n",
    "```python\n",
    "def get_population(element):\n",
    "    return element[1]\n",
    "\n",
    "fancy_sort(state_info, get_population)\n",
    "```\n",
    "\n",
    "The first couple of lines might seem like overkill to _just_ get the first element from a list, especially if we never get the population ever again. A lambda function allows us to define a function in place. The syntax is\n",
    "\n",
    "```python\n",
    "f = lambda arg1, arg2, arg3, ... : <expression>\n",
    "\n",
    "# This is the same as \n",
    "def f(arg1, arg2, arg3, ....):\n",
    "    return <expression>\n",
    "```\n",
    "\n",
    "A lambda function evaluates a (one-line!) expression and returns it."
   ]
  },
  {
   "cell_type": "code",
   "execution_count": null,
   "metadata": {
    "ExecuteTime": {
     "end_time": "2020-02-03T22:11:27.150381Z",
     "start_time": "2020-02-03T22:11:27.146969Z"
    }
   },
   "outputs": [],
   "source": [
    "# Here is our square function\n",
    "def square(x):\n",
    "    return x*x\n",
    "\n",
    "square(3)"
   ]
  },
  {
   "cell_type": "code",
   "execution_count": null,
   "metadata": {
    "ExecuteTime": {
     "end_time": "2020-02-03T22:11:27.271332Z",
     "start_time": "2020-02-03T22:11:27.267958Z"
    }
   },
   "outputs": [],
   "source": [
    "# Here we can make a \"square\" function using lambda \n",
    "square2 = lambda x: x*x\n",
    "\n",
    "square2(3)"
   ]
  },
  {
   "cell_type": "code",
   "execution_count": null,
   "metadata": {
    "ExecuteTime": {
     "end_time": "2020-02-03T22:11:27.416451Z",
     "start_time": "2020-02-03T22:11:27.412402Z"
    }
   },
   "outputs": [],
   "source": [
    "# Here is the lambda function version of \"get_population\"\n",
    "get_population = lambda element: element[1]\n",
    "\n",
    "get_population(state_info[0])"
   ]
  },
  {
   "cell_type": "code",
   "execution_count": null,
   "metadata": {
    "ExecuteTime": {
     "end_time": "2020-02-03T22:11:27.521401Z",
     "start_time": "2020-02-03T22:11:27.519069Z"
    }
   },
   "outputs": [],
   "source": [
    "# Write a lambda function for \"get_area\"\n"
   ]
  },
  {
   "cell_type": "code",
   "execution_count": null,
   "metadata": {
    "ExecuteTime": {
     "end_time": "2020-02-03T22:11:27.646303Z",
     "start_time": "2020-02-03T22:11:27.644457Z"
    }
   },
   "outputs": [],
   "source": [
    "# Write a lambda function for \"get_population_density\"\n",
    "\n"
   ]
  },
  {
   "cell_type": "code",
   "execution_count": null,
   "metadata": {
    "ExecuteTime": {
     "end_time": "2020-02-03T22:11:27.799337Z",
     "start_time": "2020-02-03T22:11:27.795206Z"
    }
   },
   "outputs": [],
   "source": [
    "# Here is a fancy lambda function\n",
    "# It returns the last thing (string) evaluated\n",
    "am_i_rich = lambda balance: 'yes' if balance > 1_000_000 else 'no'\n",
    "\n",
    "am_i_rich(50_000)"
   ]
  },
  {
   "cell_type": "markdown",
   "metadata": {},
   "source": [
    "### Using lambda functions in practice\n",
    "\n",
    "You would almost never use lambda functions the way I have written them above. Lambda functions are sometimes called \"anonymous functions\", because the use case are functions that we use any through away (i.e. we never assign them a variable name). If we write \n",
    "\n",
    "```python\n",
    "square = lambda x: x*x\n",
    "```\n",
    "\n",
    "we may as well define it properly:\n",
    "\n",
    "```python\n",
    "def square(x):\n",
    "    return x*x\n",
    "```\n",
    "Proper functions are easier to read, they can support doc strings, and have slightly nicer technical properties (scoping and meta-programming properties). Where lambda functions shine are one off quick functions:"
   ]
  },
  {
   "cell_type": "code",
   "execution_count": null,
   "metadata": {
    "ExecuteTime": {
     "end_time": "2020-02-03T22:11:28.044513Z",
     "start_time": "2020-02-03T22:11:28.040410Z"
    }
   },
   "outputs": [],
   "source": [
    "get_population(state_info[0])"
   ]
  },
  {
   "cell_type": "code",
   "execution_count": null,
   "metadata": {
    "ExecuteTime": {
     "end_time": "2020-02-03T22:11:28.185478Z",
     "start_time": "2020-02-03T22:11:28.180718Z"
    }
   },
   "outputs": [],
   "source": [
    "# fancy_sort using \"get_population\"\n",
    "fancy_sort(state_info, get_population)"
   ]
  },
  {
   "cell_type": "code",
   "execution_count": null,
   "metadata": {
    "ExecuteTime": {
     "end_time": "2020-02-03T22:11:28.424211Z",
     "start_time": "2020-02-03T22:11:28.420410Z"
    }
   },
   "outputs": [],
   "source": [
    "# fancy_sort using a throw-away function\n",
    "fancy_sort(state_info, lambda element:element[1])"
   ]
  },
  {
   "cell_type": "code",
   "execution_count": null,
   "metadata": {},
   "outputs": [],
   "source": []
  },
  {
   "cell_type": "markdown",
   "metadata": {},
   "source": [
    "## Introduction to the `key` argument in `sorted`\n",
    "\n",
    "It turns out that `fancy_sort` works the same way as `sorted` if we use the `key` argument"
   ]
  },
  {
   "cell_type": "code",
   "execution_count": null,
   "metadata": {
    "ExecuteTime": {
     "end_time": "2020-02-03T22:12:51.872511Z",
     "start_time": "2020-02-03T22:12:51.867916Z"
    }
   },
   "outputs": [],
   "source": [
    "sorted(state_info, key=lambda element:element[1])"
   ]
  },
  {
   "cell_type": "markdown",
   "metadata": {},
   "source": [
    "i.e. `key` is the \"official\" name of what we called `sort_by_func`!"
   ]
  },
  {
   "cell_type": "markdown",
   "metadata": {},
   "source": [
    "## Exercise"
   ]
  },
  {
   "cell_type": "markdown",
   "metadata": {},
   "source": [
    "Here are the states as a list of dictionaries. It is a little nicer, as each field is named (we don't have to remember if population or area comes first)"
   ]
  },
  {
   "cell_type": "code",
   "execution_count": null,
   "metadata": {
    "ExecuteTime": {
     "end_time": "2020-02-03T22:15:29.851740Z",
     "start_time": "2020-02-03T22:15:29.848320Z"
    }
   },
   "outputs": [],
   "source": [
    "better_state_info = [{'abb': element[0], 'pop': element[1], \n",
    "                      'area': element[2], 'capital': element[3], \n",
    "                      'state': element[4]} for element in state_info]"
   ]
  },
  {
   "cell_type": "code",
   "execution_count": null,
   "metadata": {
    "ExecuteTime": {
     "end_time": "2020-02-03T22:15:33.026507Z",
     "start_time": "2020-02-03T22:15:33.021616Z"
    }
   },
   "outputs": [],
   "source": [
    "better_state_info"
   ]
  },
  {
   "cell_type": "markdown",
   "metadata": {},
   "source": [
    "Sort the `better_state_info` by population. You can use either `fancy_sort` or `sorted`"
   ]
  },
  {
   "cell_type": "markdown",
   "metadata": {},
   "source": [
    "## Fancy functions: zip and enumerate\n",
    "\n",
    "Let's talk about three functions:\n",
    "- zip\n",
    "- enumerate\n",
    "- range\n",
    "\n",
    "They return _iterators_. We can step through iterators almost like lists, but are slightly different. We are going to cast them to lists, because we don't want to focus on the difference between _iterators_ and _lists_.\n",
    "\n",
    "\n",
    "It is not something to spend a huge amount of time on for your first Python course. The only reason I bring it up at all is otherwise you will wonder what these iterators are -- the answer for now is \"things to cast to a list\"!"
   ]
  },
  {
   "cell_type": "code",
   "execution_count": null,
   "metadata": {
    "ExecuteTime": {
     "end_time": "2020-02-03T22:17:32.447072Z",
     "start_time": "2020-02-03T22:17:32.443336Z"
    }
   },
   "outputs": [],
   "source": [
    "range(10)"
   ]
  },
  {
   "cell_type": "code",
   "execution_count": null,
   "metadata": {
    "ExecuteTime": {
     "end_time": "2020-02-03T22:19:30.248557Z",
     "start_time": "2020-02-03T22:19:30.244132Z"
    }
   },
   "outputs": [],
   "source": [
    "list(range(10))"
   ]
  },
  {
   "cell_type": "markdown",
   "metadata": {},
   "source": [
    "Range is the easiest one of these to understand, and we have used it a few times already. \n",
    "\n",
    "Zip takes two lists and matches them up, one at a time"
   ]
  },
  {
   "cell_type": "code",
   "execution_count": null,
   "metadata": {
    "ExecuteTime": {
     "end_time": "2020-02-03T22:23:00.224999Z",
     "start_time": "2020-02-03T22:23:00.221067Z"
    }
   },
   "outputs": [],
   "source": [
    "alter_ego = ['Natasha Romanoff', 'Diana Prince', 'Jean Gray', 'Clark Kent', 'Bruce Wayne', 'Peter Parker']\n",
    "superhero = ['Black Widow', 'Wonder Woman', 'Pheonix', 'Superman', 'Batman', 'Spiderman']"
   ]
  },
  {
   "cell_type": "code",
   "execution_count": null,
   "metadata": {
    "ExecuteTime": {
     "end_time": "2020-02-03T22:23:19.006291Z",
     "start_time": "2020-02-03T22:23:19.002137Z"
    }
   },
   "outputs": [],
   "source": [
    "# this is a weird iterator\n",
    "zip(alter_ego, superhero)"
   ]
  },
  {
   "cell_type": "code",
   "execution_count": null,
   "metadata": {
    "ExecuteTime": {
     "end_time": "2020-02-03T22:24:10.776605Z",
     "start_time": "2020-02-03T22:24:10.772794Z"
    }
   },
   "outputs": [],
   "source": [
    "# Note this gives us a list of tuples, where we \"match up\" elements of the lists\n",
    "list(zip(alter_ego, superhero))"
   ]
  },
  {
   "cell_type": "code",
   "execution_count": null,
   "metadata": {
    "ExecuteTime": {
     "end_time": "2020-02-03T22:25:32.203082Z",
     "start_time": "2020-02-03T22:25:32.196728Z"
    }
   },
   "outputs": [],
   "source": [
    "# Let's reveal all the alteregos of the heros by stepping through both lists together:\n",
    "for index in range(len(alter_ego)):\n",
    "    normal_name = alter_ego[index]\n",
    "    superhero_name = superhero[index]\n",
    "    print(f\"{superhero_name}'s secret identity is {normal_name}\")"
   ]
  },
  {
   "cell_type": "code",
   "execution_count": null,
   "metadata": {
    "ExecuteTime": {
     "end_time": "2020-02-03T22:26:31.977548Z",
     "start_time": "2020-02-03T22:26:31.973023Z"
    }
   },
   "outputs": [],
   "source": [
    "# Let's use zip (note that iterators work well with lists, we don't need an explicit cast)\n",
    "for alter_and_super in zip(alter_ego, superhero):\n",
    "    normal_name, superhero_name = alter_and_super\n",
    "    print(f\"{superhero_name}'s secret identity is {normal_name}\")"
   ]
  },
  {
   "cell_type": "code",
   "execution_count": null,
   "metadata": {
    "ExecuteTime": {
     "end_time": "2020-02-03T22:26:55.457701Z",
     "start_time": "2020-02-03T22:26:55.454092Z"
    }
   },
   "outputs": [],
   "source": [
    "# We can also use unpacking:\n",
    "for normal_name, superhero_name in zip(alter_ego, superhero):\n",
    "    print(f\"{superhero_name}'s secret identity is {normal_name}\")"
   ]
  },
  {
   "cell_type": "markdown",
   "metadata": {},
   "source": [
    "## An application to making better states"
   ]
  },
  {
   "cell_type": "markdown",
   "metadata": {},
   "source": [
    "We used the following list comprehension to make the `better_state_info`. There are a lot of repeated elements here"
   ]
  },
  {
   "cell_type": "code",
   "execution_count": null,
   "metadata": {
    "ExecuteTime": {
     "end_time": "2020-02-03T22:31:17.213934Z",
     "start_time": "2020-02-03T22:31:17.210655Z"
    }
   },
   "outputs": [],
   "source": [
    "better_state_info = [{'abb': element[0], 'pop': element[1], \n",
    "                      'area': element[2], 'capital': element[3], \n",
    "                      'state': element[4]} for element in state_info]"
   ]
  },
  {
   "cell_type": "markdown",
   "metadata": {},
   "source": [
    "Here is a way using zip:"
   ]
  },
  {
   "cell_type": "code",
   "execution_count": null,
   "metadata": {
    "ExecuteTime": {
     "end_time": "2020-02-03T22:32:27.944272Z",
     "start_time": "2020-02-03T22:32:27.941211Z"
    }
   },
   "outputs": [],
   "source": [
    "fields = ('abb', 'pop', 'area', 'capital', 'state')\n",
    "better_state_info = [{key: value for key, value in zip(fields, element)} for element in state_info]"
   ]
  },
  {
   "cell_type": "code",
   "execution_count": null,
   "metadata": {
    "ExecuteTime": {
     "end_time": "2020-02-03T22:32:31.806248Z",
     "start_time": "2020-02-03T22:32:31.801578Z"
    }
   },
   "outputs": [],
   "source": [
    "better_state_info"
   ]
  },
  {
   "cell_type": "markdown",
   "metadata": {},
   "source": [
    "## An application to our digit program"
   ]
  },
  {
   "cell_type": "markdown",
   "metadata": {},
   "source": [
    "Remember when we wanted to check how many digits were in the same place in the two different numbers? We did the following"
   ]
  },
  {
   "cell_type": "code",
   "execution_count": null,
   "metadata": {
    "ExecuteTime": {
     "end_time": "2020-02-03T22:29:55.509332Z",
     "start_time": "2020-02-03T22:29:55.505356Z"
    }
   },
   "outputs": [],
   "source": [
    "def count_number_in_same_place(code, guess):\n",
    "    code = f'{code:04d}'\n",
    "    guess = f'{guess:04d}'\n",
    "    if len(code) != len(guess):\n",
    "        raise ValueError(\"numbers are not the same length!\")\n",
    "    num_matches = 0\n",
    "    for index in range(len(code)):\n",
    "        if code[index] == guess[index]:\n",
    "            num_matches += 1\n",
    "    return num_matches"
   ]
  },
  {
   "cell_type": "code",
   "execution_count": null,
   "metadata": {
    "ExecuteTime": {
     "end_time": "2020-02-03T22:30:01.228012Z",
     "start_time": "2020-02-03T22:30:01.224320Z"
    }
   },
   "outputs": [],
   "source": [
    "count_number_in_same_place(1245, 3251)"
   ]
  },
  {
   "cell_type": "markdown",
   "metadata": {},
   "source": [
    "Can you rewrite this using zip?"
   ]
  },
  {
   "cell_type": "code",
   "execution_count": null,
   "metadata": {},
   "outputs": [],
   "source": []
  }
 ],
 "metadata": {
  "kernelspec": {
   "display_name": "Python 3",
   "language": "python",
   "name": "python3"
  },
  "language_info": {
   "codemirror_mode": {
    "name": "ipython",
    "version": 3
   },
   "file_extension": ".py",
   "mimetype": "text/x-python",
   "name": "python",
   "nbconvert_exporter": "python",
   "pygments_lexer": "ipython3",
   "version": "3.7.6"
  },
  "varInspector": {
   "cols": {
    "lenName": 16,
    "lenType": 16,
    "lenVar": 40
   },
   "kernels_config": {
    "python": {
     "delete_cmd_postfix": "",
     "delete_cmd_prefix": "del ",
     "library": "var_list.py",
     "varRefreshCmd": "print(var_dic_list())"
    },
    "r": {
     "delete_cmd_postfix": ") ",
     "delete_cmd_prefix": "rm(",
     "library": "var_list.r",
     "varRefreshCmd": "cat(var_dic_list()) "
    }
   },
   "types_to_exclude": [
    "module",
    "function",
    "builtin_function_or_method",
    "instance",
    "_Feature"
   ],
   "window_display": false
  }
 },
 "nbformat": 4,
 "nbformat_minor": 2
}
