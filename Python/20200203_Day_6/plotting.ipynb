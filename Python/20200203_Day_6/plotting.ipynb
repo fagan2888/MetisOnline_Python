{
 "cells": [
  {
   "cell_type": "markdown",
   "metadata": {},
   "source": [
    "# Plotting and simulation\n",
    "\n",
    "\n",
    "We will be introducing plots with `matplotlib`. Unfortunately, `matplotlib` has a _lot_ of shortcomings, and hasn't been particularly well designed. For many packages, once you use them for a while you can get used to the standard keywords and have to depend on the documentation less. Matplotlib has some annoyances that I have never really gotten used to. As a minor example\n",
    "- in some functions, we specify the color we want with the keyword argument `c` (e.g. to use red, we have `c = \"red\"`)\n",
    "- in other functions, we specify the color we want with the keyword argument `color`\n",
    "\n",
    "I frequently have to consult the documentation or examples to see how to do things for more complicated plots.\n",
    "\n",
    "There are many other plotting libraries built on top of `matplotlib` that try to make things easier. In the bootcamp, you will see `seaborn`, `pandas` plotting, and (maybe) `altair`. While both of these packages make generating plots more consistent, they are \"opinionated\" about what the plots do. If you want to add an annotation, you generally have to drop down to matplotlib.\n",
    "\n",
    "**tr; dr:**\n",
    "- don't spend a lot of time memorizing matplotlib code, look it up as needed\n",
    "- you will probably need to consult the documentation frequently\n",
    "- find examples of what other people have done\n",
    "- there are other (compatible) packages that make this easier (e.g. seaborn and panadas plotting). These build on top of matplotlib. But to customize your plots, you will need to know matplotlib, so we are going to teach that."
   ]
  },
  {
   "cell_type": "markdown",
   "metadata": {},
   "source": [
    "## Plotting"
   ]
  },
  {
   "cell_type": "markdown",
   "metadata": {},
   "source": [
    "Okay, let's do some better plotting than we did last time. We will use `matplotlib`.\n",
    "\n",
    "We need to import it. The second magic line (`%matplotlib inline`) asks Jupyter to display our plots as soon as we make them."
   ]
  },
  {
   "cell_type": "code",
   "execution_count": null,
   "metadata": {
    "ExecuteTime": {
     "end_time": "2020-02-03T16:31:07.232607Z",
     "start_time": "2020-02-03T16:31:06.438613Z"
    }
   },
   "outputs": [],
   "source": [
    "import matplotlib.pyplot as plt\n",
    "\n",
    "%matplotlib inline"
   ]
  },
  {
   "cell_type": "markdown",
   "metadata": {},
   "source": [
    "The model for matplotlib is, in each cell we have the ability to make a \"figure\". By calling plot commands, we make changes to the existing figure. When the cell ends [1] we display the figure in its current state, and in the next cell we start over.\n",
    "\n",
    "[1] The reason \"cells\" are important here is because we are using `%matplotlib inline`. If we don't use that command, we keep adding to the same figure until we explicitly ask for the plot with `plt.show()`"
   ]
  },
  {
   "cell_type": "code",
   "execution_count": null,
   "metadata": {
    "ExecuteTime": {
     "end_time": "2020-02-03T16:35:52.042269Z",
     "start_time": "2020-02-03T16:35:51.921441Z"
    }
   },
   "outputs": [],
   "source": [
    "# make a plot to make a parabola\n",
    "plt.plot([0, 1, 2, 3], [0, 1, 4, 9], 'x')\n",
    "# on the same figure, draw different points\n",
    "plt.plot([0, 1, 2, 3], [0, 1, 2, 3], 'o')\n",
    "# on the same figure, draw different points\n",
    "plt.plot([0, 1, 2, 3], [3, 2, 1, 0], '--')\n",
    "\n",
    "# change the axes labels\n",
    "plt.xlabel(\"X value\")\n",
    "plt.ylabel(\"Y value\")\n",
    "\n",
    "# semi-colon stops the returned value from being printed by Jupyter\n",
    "plt.title(\"Some lines and parabolas\");"
   ]
  },
  {
   "cell_type": "markdown",
   "metadata": {},
   "source": [
    "Let's see how we can make a histogram with a list of counts that we just made up"
   ]
  },
  {
   "cell_type": "code",
   "execution_count": null,
   "metadata": {
    "ExecuteTime": {
     "end_time": "2020-01-30T20:20:43.520507Z",
     "start_time": "2020-01-30T20:20:43.517807Z"
    }
   },
   "outputs": [],
   "source": [
    "# Lets have seven 0s, three 1s, three 2s, and one 3, but shuffle them up\n",
    "counts_of_stuff = [0, 0, 0, 0, 0, 1, 1, 1, 0, 2, 2, 2, 0, 3]\n"
   ]
  },
  {
   "cell_type": "code",
   "execution_count": null,
   "metadata": {
    "ExecuteTime": {
     "end_time": "2020-01-30T20:21:06.731407Z",
     "start_time": "2020-01-30T20:21:06.608094Z"
    }
   },
   "outputs": [],
   "source": [
    "# make a histogram!\n",
    "plt.hist(counts_of_stuff);"
   ]
  },
  {
   "cell_type": "markdown",
   "metadata": {},
   "source": [
    "Each cell can generate a plot. The matplotlib library has a bunch of functions to help us add / change a plot once we make it. Note that we can use a semi-colon to supress the \"print out the output of the last command\" behavior"
   ]
  },
  {
   "cell_type": "code",
   "execution_count": null,
   "metadata": {
    "ExecuteTime": {
     "end_time": "2020-01-30T20:23:33.499016Z",
     "start_time": "2020-01-30T20:23:33.394898Z"
    }
   },
   "outputs": [],
   "source": [
    "plt.hist(counts_of_stuff)\n",
    "plt.xlabel('Element')\n",
    "plt.ylabel('Count')\n",
    "plt.title('Count the occurances')\n",
    "plt.xticks(range(4));"
   ]
  },
  {
   "cell_type": "markdown",
   "metadata": {},
   "source": [
    "# Rejection sampling"
   ]
  },
  {
   "cell_type": "markdown",
   "metadata": {},
   "source": [
    "Here is our \"rejection sampled code\", i.e. we generate a random code, and if it isn't valid we reject it. If it is valid, we keep it."
   ]
  },
  {
   "cell_type": "code",
   "execution_count": null,
   "metadata": {
    "ExecuteTime": {
     "end_time": "2020-02-03T16:21:36.060099Z",
     "start_time": "2020-02-03T16:21:36.056649Z"
    }
   },
   "outputs": [],
   "source": [
    "import random\n",
    "\n",
    "\n",
    "def get_four_digit_code():\n",
    "    code = random.randint(0, 9999)\n",
    "    if is_valid_code(code):\n",
    "        return code\n",
    "    return get_four_digit_code()"
   ]
  },
  {
   "cell_type": "markdown",
   "metadata": {},
   "source": [
    "Question: _how many times do we call this function on average_? That is, when we call `get_four_digit_code()`, there is some chance that our first code is valid. Otherwise, we call the function again. Which may or may not require calling the function again. \n",
    "\n",
    "We would like to know how often we call this code overall."
   ]
  },
  {
   "cell_type": "code",
   "execution_count": null,
   "metadata": {
    "ExecuteTime": {
     "end_time": "2020-02-03T16:21:36.741375Z",
     "start_time": "2020-02-03T16:21:36.737484Z"
    }
   },
   "outputs": [],
   "source": [
    "def count_rejected_codes():\n",
    "    code = random.randint(0, 9999)\n",
    "    rejections = 0\n",
    "    while (is_valid_code(code) == False):\n",
    "        rejections += 1\n",
    "        code = random.randint(0, 9999)\n",
    "    return rejections"
   ]
  },
  {
   "cell_type": "markdown",
   "metadata": {},
   "source": [
    "Experiment with this function, and see if you can understand what it is doing. Is the output what you expect?"
   ]
  },
  {
   "cell_type": "code",
   "execution_count": null,
   "metadata": {},
   "outputs": [],
   "source": []
  },
  {
   "cell_type": "code",
   "execution_count": null,
   "metadata": {},
   "outputs": [],
   "source": []
  },
  {
   "cell_type": "markdown",
   "metadata": {},
   "source": [
    "Now call `count_rejected_codes()` 1000 times. Keep track of the outputs (this is the number of rejections we had). How would we determine, _on average_, how many rejections there were?"
   ]
  },
  {
   "cell_type": "code",
   "execution_count": null,
   "metadata": {},
   "outputs": [],
   "source": []
  },
  {
   "cell_type": "code",
   "execution_count": null,
   "metadata": {},
   "outputs": [],
   "source": []
  },
  {
   "cell_type": "code",
   "execution_count": null,
   "metadata": {},
   "outputs": [],
   "source": []
  },
  {
   "cell_type": "code",
   "execution_count": null,
   "metadata": {},
   "outputs": [],
   "source": []
  },
  {
   "cell_type": "code",
   "execution_count": null,
   "metadata": {},
   "outputs": [],
   "source": []
  },
  {
   "cell_type": "markdown",
   "metadata": {},
   "source": [
    "## Exercise\n",
    "\n",
    "Make a histogram of the number of times we rejected the codes (i.e. use the output of the 1000 `get_rejected_code()` from earlier)."
   ]
  },
  {
   "cell_type": "code",
   "execution_count": null,
   "metadata": {},
   "outputs": [],
   "source": []
  },
  {
   "cell_type": "code",
   "execution_count": null,
   "metadata": {},
   "outputs": [],
   "source": []
  },
  {
   "cell_type": "code",
   "execution_count": null,
   "metadata": {},
   "outputs": [],
   "source": []
  },
  {
   "cell_type": "code",
   "execution_count": null,
   "metadata": {},
   "outputs": [],
   "source": []
  },
  {
   "cell_type": "code",
   "execution_count": null,
   "metadata": {},
   "outputs": [],
   "source": []
  },
  {
   "cell_type": "code",
   "execution_count": null,
   "metadata": {},
   "outputs": [],
   "source": []
  },
  {
   "cell_type": "code",
   "execution_count": null,
   "metadata": {},
   "outputs": [],
   "source": []
  },
  {
   "cell_type": "code",
   "execution_count": null,
   "metadata": {},
   "outputs": [],
   "source": []
  },
  {
   "cell_type": "code",
   "execution_count": null,
   "metadata": {},
   "outputs": [],
   "source": []
  },
  {
   "cell_type": "markdown",
   "metadata": {},
   "source": [
    "## Scatter plots"
   ]
  },
  {
   "cell_type": "markdown",
   "metadata": {},
   "source": [
    "One of the most common types of plots are _scatter plots_, or _line plots_. These are where we plot `(x,y)` pairs against one another, like so:"
   ]
  },
  {
   "cell_type": "code",
   "execution_count": null,
   "metadata": {
    "ExecuteTime": {
     "end_time": "2020-01-30T20:27:56.969185Z",
     "start_time": "2020-01-30T20:27:56.882007Z"
    }
   },
   "outputs": [],
   "source": [
    "# have a plot with (1,2) (5, 0) and (6, 4) all plotted\n",
    "X = [1, 5, 6]\n",
    "Y = [2, 0, 4]\n",
    "plt.scatter(X, Y)\n",
    "plt.yticks(range(4))\n",
    "plt.xlabel(\"X values\")\n",
    "plt.ylabel(\"Y values\")\n",
    "plt.title('A silly graph');\n"
   ]
  },
  {
   "cell_type": "markdown",
   "metadata": {},
   "source": [
    "## Estimating $\\pi$\n",
    "\n",
    "We are going to use a technique called \"rejection sampling\" to estimate $\\pi$. This is a little mathematical, but here is the rough idea:\n",
    "\n",
    "1. We will pick pairs of random numbers between 0 and 1 (e.g. 0.52342353423 would be an example). Each `(X,Y)` point lies in the _first quadrant_ with uniform probability.\n",
    "2. For each point, we will figure out how far it is from the origin. If the distance from the origin is <=1, it lies inside the quarter-circle of radius 1 (otherwise it is outside).\n",
    "3. The area of the quarter circle of radius 1 is $\\pi/4$. The area of the square `[0, 1] x [0, 1]` is 1. A randomly chosen point in the square has probability `Area(quarter circle)/Area(square) = (pi/4) / (1) = pi / 4` of being in the circle\n",
    "4. We will generate a large number of points (e.g. 10_000). We will then see what fraction $f$ end up in the circle. This fraction should be (roughly) $\\pi$/4.\n",
    "5. Once we have the fraction $f$, multiplying it by 4 will approximate $\\pi$ for us!\n",
    "\n",
    "We will use some of our plotting skills to help diagonise our results, see how quickly our answer improves as we add new points, and visualize what we are doing."
   ]
  },
  {
   "cell_type": "code",
   "execution_count": null,
   "metadata": {
    "ExecuteTime": {
     "end_time": "2020-01-30T20:39:56.651779Z",
     "start_time": "2020-01-30T20:39:56.525181Z"
    }
   },
   "outputs": [],
   "source": [
    "plt.figure(figsize=(8,8))\n",
    "plt.gca().add_artist(plt.Circle((0,0), 1, color='red', alpha=0.2, hatch='/'))\n",
    "plt.title('Show the unit square, and quarter circle. Fraction $\\pi/4$ area in circle');"
   ]
  },
  {
   "cell_type": "code",
   "execution_count": null,
   "metadata": {},
   "outputs": [],
   "source": []
  },
  {
   "cell_type": "code",
   "execution_count": null,
   "metadata": {},
   "outputs": [],
   "source": []
  },
  {
   "cell_type": "code",
   "execution_count": null,
   "metadata": {},
   "outputs": [],
   "source": []
  },
  {
   "cell_type": "code",
   "execution_count": null,
   "metadata": {},
   "outputs": [],
   "source": []
  },
  {
   "cell_type": "code",
   "execution_count": null,
   "metadata": {},
   "outputs": [],
   "source": []
  },
  {
   "cell_type": "code",
   "execution_count": null,
   "metadata": {},
   "outputs": [],
   "source": []
  },
  {
   "cell_type": "code",
   "execution_count": null,
   "metadata": {},
   "outputs": [],
   "source": []
  },
  {
   "cell_type": "code",
   "execution_count": null,
   "metadata": {},
   "outputs": [],
   "source": []
  },
  {
   "cell_type": "code",
   "execution_count": null,
   "metadata": {},
   "outputs": [],
   "source": []
  },
  {
   "cell_type": "code",
   "execution_count": null,
   "metadata": {},
   "outputs": [],
   "source": []
  },
  {
   "cell_type": "code",
   "execution_count": null,
   "metadata": {},
   "outputs": [],
   "source": []
  },
  {
   "cell_type": "code",
   "execution_count": null,
   "metadata": {},
   "outputs": [],
   "source": []
  },
  {
   "cell_type": "code",
   "execution_count": null,
   "metadata": {},
   "outputs": [],
   "source": []
  },
  {
   "cell_type": "code",
   "execution_count": null,
   "metadata": {},
   "outputs": [],
   "source": []
  }
 ],
 "metadata": {
  "kernelspec": {
   "display_name": "Python 3",
   "language": "python",
   "name": "python3"
  },
  "language_info": {
   "codemirror_mode": {
    "name": "ipython",
    "version": 3
   },
   "file_extension": ".py",
   "mimetype": "text/x-python",
   "name": "python",
   "nbconvert_exporter": "python",
   "pygments_lexer": "ipython3",
   "version": "3.7.6"
  },
  "varInspector": {
   "cols": {
    "lenName": 16,
    "lenType": 16,
    "lenVar": 40
   },
   "kernels_config": {
    "python": {
     "delete_cmd_postfix": "",
     "delete_cmd_prefix": "del ",
     "library": "var_list.py",
     "varRefreshCmd": "print(var_dic_list())"
    },
    "r": {
     "delete_cmd_postfix": ") ",
     "delete_cmd_prefix": "rm(",
     "library": "var_list.r",
     "varRefreshCmd": "cat(var_dic_list()) "
    }
   },
   "types_to_exclude": [
    "module",
    "function",
    "builtin_function_or_method",
    "instance",
    "_Feature"
   ],
   "window_display": false
  }
 },
 "nbformat": 4,
 "nbformat_minor": 2
}
