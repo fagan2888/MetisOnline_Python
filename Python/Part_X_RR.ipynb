{
 "cells": [
  {
   "cell_type": "markdown",
   "metadata": {},
   "source": [
    "### Exercise\n",
    "\n",
    "Write a function that receives a list of strings and determines if they are valid emails.  A valid email is defined as:\n",
    "- Has at least 8 characters\n",
    "- Ends with `.com`\n",
    "- Has an `@` in the string between the second character (index 1) and the character at index -4\n",
    "\n",
    "The function returns a dictionary with the string as keys and the `True` or `False` as the values."
   ]
  },
  {
   "cell_type": "code",
   "execution_count": 9,
   "metadata": {},
   "outputs": [
    {
     "data": {
      "text/plain": [
       "{'clark_kent@gmail.com': True,\n",
       " '@clark_kentgmail.com': False,\n",
       " 'c@g.com': False,\n",
       " 'clark_kent@gmail.org': False,\n",
       " 'clark_kent@gmailorg': False}"
      ]
     },
     "execution_count": 9,
     "metadata": {},
     "output_type": "execute_result"
    }
   ],
   "source": [
    "emails = ['clark_kent@gmail.com','@clark_kentgmail.com','c@g.com',\n",
    "          'clark_kent@gmail.org','clark_kent@gmailorg']\n",
    "\n",
    "def email(emails):\n",
    "    res = {}\n",
    "    for i in emails:\n",
    "        if (len(i)>=8) and (i[-4:] == '.com') and ('@' in i[1:-4]):\n",
    "            res[i] = True\n",
    "        else:\n",
    "            res[i] = False\n",
    "    return res\n",
    "\n",
    "email(emails)"
   ]
  },
  {
   "cell_type": "markdown",
   "metadata": {},
   "source": [
    "### Exercise:\n",
    "\n",
    "Write a function `minutes` that receives three arguments: `day`, `hours` and `minutes`, and returns the total number of minutes.\n",
    "\n",
    "For example, `minutes(day = 15,hrs = 12,mins = 23)`  should return `22343`."
   ]
  },
  {
   "cell_type": "code",
   "execution_count": 14,
   "metadata": {},
   "outputs": [
    {
     "data": {
      "text/plain": [
       "22343"
      ]
     },
     "execution_count": 14,
     "metadata": {},
     "output_type": "execute_result"
    }
   ],
   "source": [
    "def minutes(day, hrs, mins):\n",
    "    return day*24*60 + hrs*60 + mins\n",
    "\n",
    "minutes(15,12,23)"
   ]
  },
  {
   "cell_type": "code",
   "execution_count": null,
   "metadata": {},
   "outputs": [],
   "source": []
  }
 ],
 "metadata": {
  "kernelspec": {
   "display_name": "Python 3",
   "language": "python",
   "name": "python3"
  },
  "language_info": {
   "codemirror_mode": {
    "name": "ipython",
    "version": 3
   },
   "file_extension": ".py",
   "mimetype": "text/x-python",
   "name": "python",
   "nbconvert_exporter": "python",
   "pygments_lexer": "ipython3",
   "version": "3.7.2"
  }
 },
 "nbformat": 4,
 "nbformat_minor": 2
}
