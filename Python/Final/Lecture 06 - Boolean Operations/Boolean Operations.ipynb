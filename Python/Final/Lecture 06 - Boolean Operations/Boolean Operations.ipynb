{
 "cells": [
  {
   "cell_type": "markdown",
   "metadata": {},
   "source": [
    "### Boolean Operations"
   ]
  },
  {
   "cell_type": "markdown",
   "metadata": {},
   "source": [
    "__Purpose:__\n",
    "The purpose of this lecture is to illustrate Boolean operations in Python. \n",
    "\n",
    "__At the end of this lecture you will be able to:__\n",
    "1. Use various boolean operations\n",
    "2. Work with chained comparison"
   ]
  },
  {
   "cell_type": "markdown",
   "metadata": {},
   "source": [
    "## 1.1 Boolean Logic in Python "
   ]
  },
  {
   "cell_type": "markdown",
   "metadata": {},
   "source": [
    "### 1.1.1 Boolean Operations:"
   ]
  },
  {
   "cell_type": "markdown",
   "metadata": {},
   "source": [
    "__Overview:__\n",
    "- __[Boolean Operations](https://docs.python.org/3/reference/expressions.html#boolean-operations):__ Boolean Operations refer to the operations that involve the Boolean Operators. There are 3 common types of Boolean Operators as described below:\n",
    "> 1. `and` (`x and y` returns `True` if `x` and `y` are both `True`)\n",
    "> 2. `or` (`x or y` returns `True` if `x` or `y` is `True`)\n",
    "> 3. `not` (`x and not y` means the opposite of `y`)\n",
    "- The result of a Boolean Operation is one of the two Boolean Values (`True` or `False`)\n",
    "- Below is a Truth Table for the __AND__, __OR__ and __NOT__ operations\n",
    "\n",
    "\n",
    "| A | B | A AND B | A OR B | NOT A |\n",
    "| :---: | :---: | :---: | :---: | :---: |\n",
    "| FALSE | FALSE | FALSE | FALSE | TRUE |\n",
    "| FALSE | TRUE | FALSE | TRUE | TRUE |\n",
    "| TRUE | FALSE | FALSE | TRUE | FALSE |\n",
    "| TRUE | TRUE | TRUE | TRUE | FALSE |\n",
    "\n",
    "__Helpful Points:__\n",
    "1. Both `and` and `or` have [short-circuit](https://en.wikipedia.org/wiki/Short-circuit_evaluation) behavior. This allows the interpreter to only look at one of the two values to make a conclusion instead of both values (lazy or minimal evaluation)\n",
    "2. Short-Circuit behavior for `and`:\n",
    "> - `x and y` is evaluated as follows: `x` is evaluated first, then if `x` is `False`, its value is returned without looking at the value of `y`. However, if `x` is `True`, `y` is evaluated and `y` is returned\n",
    "3. Short-Circuit behavior for `or`:\n",
    "> - `x or y` is evaluated as follows: `x` is evaluated first, then if `x` is `True`, its values is returned without looking at the value of `y`. However, if `x` is `False`. `y` is evaluated and `y` is returned\n",
    "\n",
    "__Practice:__ Examples of Boolean Operations in Python "
   ]
  },
  {
   "cell_type": "markdown",
   "metadata": {},
   "source": [
    "### Example 1 (Boolean Operation - `and`):"
   ]
  },
  {
   "cell_type": "code",
   "execution_count": null,
   "metadata": {},
   "outputs": [],
   "source": [
    "x = True\n",
    "y = False\n",
    "x and y"
   ]
  },
  {
   "cell_type": "markdown",
   "metadata": {},
   "source": [
    "### Example 2 (Boolean Operation - `or`):"
   ]
  },
  {
   "cell_type": "code",
   "execution_count": null,
   "metadata": {},
   "outputs": [],
   "source": [
    "x or y"
   ]
  },
  {
   "cell_type": "markdown",
   "metadata": {},
   "source": [
    "### Example 3 (Boolean Operation - `not`):"
   ]
  },
  {
   "cell_type": "code",
   "execution_count": null,
   "metadata": {},
   "outputs": [],
   "source": [
    "x = not True\n",
    "x or y"
   ]
  },
  {
   "cell_type": "code",
   "execution_count": null,
   "metadata": {},
   "outputs": [],
   "source": [
    "x = True\n",
    "y = False\n",
    "\n",
    "print(x or y and not y)"
   ]
  },
  {
   "cell_type": "markdown",
   "metadata": {},
   "source": [
    "This statement returns `True` since the operator `or` is at a higher precedence than both `and` and `not`. See below for more detail on __Operator Precedence__. The expression is evaluated as follows: \n",
    "1. `x or y` returns `True`\n",
    "2. `True and not y` returns `True`<br>"
   ]
  },
  {
   "cell_type": "markdown",
   "metadata": {},
   "source": [
    "### Example 4 (Boolean Operation and Value Comparisons):"
   ]
  },
  {
   "cell_type": "code",
   "execution_count": null,
   "metadata": {},
   "outputs": [],
   "source": [
    "a = 2 \n",
    "b = 3\n",
    "\n",
    "print(a >= 1 and b < 4)"
   ]
  },
  {
   "cell_type": "code",
   "execution_count": null,
   "metadata": {},
   "outputs": [],
   "source": [
    "print(a >= 2 or b < 2)"
   ]
  },
  {
   "cell_type": "markdown",
   "metadata": {},
   "source": [
    "### Example 5 (Boolean Operation with Arithmetic Operators):"
   ]
  },
  {
   "cell_type": "code",
   "execution_count": null,
   "metadata": {},
   "outputs": [],
   "source": [
    "x = 3**2+5\n",
    "print(x > 12 and x < 16)"
   ]
  },
  {
   "cell_type": "markdown",
   "metadata": {},
   "source": [
    "### 1.1.2 Chained Comparison"
   ]
  },
  {
   "cell_type": "markdown",
   "metadata": {},
   "source": [
    "__Overview:__\n",
    "- __[Chained Comparison](https://docs.python.org/3/reference/expressions.html#comparisons):__ Chained Comparison is possible in Python which allows multiple comparisons in one line, making the code cleaner and more efficient\n",
    "\n",
    "__Helpful Points:__\n",
    "- When evaluating Chained Comparisons, the Operator Precedence hierarchy outlined before is utilized\n",
    "- In general, Chained Comparisons are evaluated from left to right \n",
    "\n",
    "__Practice:__ Practice using Chained Comparisons in Python "
   ]
  },
  {
   "cell_type": "markdown",
   "metadata": {},
   "source": [
    "### Example 1 (Chained Comparison with Numerical Values and  Value Comparison Operators):"
   ]
  },
  {
   "cell_type": "code",
   "execution_count": null,
   "metadata": {},
   "outputs": [],
   "source": [
    "a = 3\n",
    "print(1 < a >= 2) \n",
    "# print(1 < a  and a >= 2) # this is the same as the line above"
   ]
  },
  {
   "cell_type": "markdown",
   "metadata": {},
   "source": [
    "This expression is evaluated in a similar fashion to a regular mathematical expression: \n",
    "- The expression is split into 2 constituent expressions `(1 < a)` and `(a >= 2)` \n",
    "- This expression turns out to be `True` and `True` \n",
    "- Since the Boolean Operator `and` is used here, the first term is evaluated as `True` so the second term is evaluated and returned "
   ]
  },
  {
   "cell_type": "markdown",
   "metadata": {},
   "source": [
    "### Example 2 (Chained Comparison with Boolean Values and Value Comparison Operators):"
   ]
  },
  {
   "cell_type": "code",
   "execution_count": null,
   "metadata": {},
   "outputs": [],
   "source": [
    "a = True\n",
    "print(True == 1.0 == 1)\n",
    "# print(True == 1.0 and True == 1) # this is the same as the line above"
   ]
  },
  {
   "cell_type": "markdown",
   "metadata": {},
   "source": [
    "This expression is evaluated from left to right in the following fashion:\n",
    "- `True` == `1.0` is `True`\n",
    "- `True` == 1 is `True` since the boolean operator `True` is expressed in its numeric equivalent (1 == 1)"
   ]
  },
  {
   "cell_type": "markdown",
   "metadata": {},
   "source": [
    "### Problem 1:\n",
    "Peter has 12 bags, and each bag has 7 chocolates.  Amy has 5 bags, and each bag has 9 chocolates. Print `True` if either Peter or Amy have more than 75 chocolates. Otherwise, print `False`."
   ]
  },
  {
   "cell_type": "code",
   "execution_count": null,
   "metadata": {},
   "outputs": [],
   "source": [
    "# Write your code here \n",
    "\n",
    "\n",
    "\n"
   ]
  },
  {
   "cell_type": "markdown",
   "metadata": {},
   "source": [
    "### Problem 2:\n",
    "Peter has 3 bags, and each bag has 5 chocolates.  Amy has 5 bags, and each bag has 6 chocolates. Print `True` if Peter and Amy have between 50 and 75 chocolates combined. Otherwise, print `False`."
   ]
  },
  {
   "cell_type": "code",
   "execution_count": null,
   "metadata": {},
   "outputs": [],
   "source": [
    "# Write your code here \n",
    "\n",
    "\n",
    "\n"
   ]
  },
  {
   "cell_type": "markdown",
   "metadata": {},
   "source": [
    "# ANSWERS"
   ]
  },
  {
   "cell_type": "markdown",
   "metadata": {},
   "source": [
    "### Problem 1\n",
    "Peter has 12 bags, and each bag has 7 chocolates.  Amy has 5 bags, and each bag has 9 chocolates. Print `True` if either Peter or Amy have more than 75 chocolates. Otherwise, print `False`."
   ]
  },
  {
   "cell_type": "code",
   "execution_count": null,
   "metadata": {},
   "outputs": [],
   "source": [
    "Peter = 12*7\n",
    "Amy = 5*9\n",
    "print(Peter>75 or Amy>75)"
   ]
  },
  {
   "cell_type": "markdown",
   "metadata": {},
   "source": [
    "### Problem 2\n",
    "Peter has 3 bags, and each bag has 5 chocolates.  Amy has 5 bags, and each bag has 6 chocolates. Print `True` if Peter and Amy have between 50 and 75 chocolates combined. Otherwise, print `False`."
   ]
  },
  {
   "cell_type": "code",
   "execution_count": null,
   "metadata": {},
   "outputs": [],
   "source": [
    "Peter = 3*5\n",
    "Amy = 5*6\n",
    "combined = Peter + Amy\n",
    "print(50 < combined < 75)"
   ]
  },
  {
   "cell_type": "code",
   "execution_count": null,
   "metadata": {},
   "outputs": [],
   "source": []
  }
 ],
 "metadata": {
  "kernelspec": {
   "display_name": "Python 3",
   "language": "python",
   "name": "python3"
  },
  "language_info": {
   "codemirror_mode": {
    "name": "ipython",
    "version": 3
   },
   "file_extension": ".py",
   "mimetype": "text/x-python",
   "name": "python",
   "nbconvert_exporter": "python",
   "pygments_lexer": "ipython3",
   "version": "3.7.2"
  },
  "toc": {
   "base_numbering": 1,
   "nav_menu": {},
   "number_sections": true,
   "sideBar": true,
   "skip_h1_title": false,
   "title_cell": "Table of Contents",
   "title_sidebar": "Contents",
   "toc_cell": false,
   "toc_position": {},
   "toc_section_display": true,
   "toc_window_display": false
  },
  "varInspector": {
   "cols": {
    "lenName": 16,
    "lenType": 16,
    "lenVar": 40
   },
   "kernels_config": {
    "python": {
     "delete_cmd_postfix": "",
     "delete_cmd_prefix": "del ",
     "library": "var_list.py",
     "varRefreshCmd": "print(var_dic_list())"
    },
    "r": {
     "delete_cmd_postfix": ") ",
     "delete_cmd_prefix": "rm(",
     "library": "var_list.r",
     "varRefreshCmd": "cat(var_dic_list()) "
    }
   },
   "types_to_exclude": [
    "module",
    "function",
    "builtin_function_or_method",
    "instance",
    "_Feature"
   ],
   "window_display": false
  }
 },
 "nbformat": 4,
 "nbformat_minor": 2
}
