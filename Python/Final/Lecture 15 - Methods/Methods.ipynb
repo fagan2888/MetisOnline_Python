{
 "cells": [
  {
   "cell_type": "markdown",
   "metadata": {},
   "source": [
    "# Python\n",
    "### Methods"
   ]
  },
  {
   "cell_type": "markdown",
   "metadata": {},
   "source": [
    "__Purpose:__\n",
    "The purpose of this lecture is to understand methods in Python. \n",
    "\n",
    "__At the end of this lecture you will be able to:__\n",
    "1. Work with methods"
   ]
  },
  {
   "cell_type": "markdown",
   "metadata": {},
   "source": [
    "### 1.1.1 Methods:"
   ]
  },
  {
   "cell_type": "markdown",
   "metadata": {},
   "source": [
    "__Overview:__\n",
    "- __[Methods](https://docs.python.org/2/tutorial/classes.html#method-objects):__ Methods are a specific type of function that \"belongs\" to an object\n",
    "- Each object (for example, a `list`) has many \"capabilities\" (i.e. a `list` object is capable of the following: `append`, `remove`, `insert`, `count`, `extend`, etc.)\n",
    "- You can think of these \"capabilities\" as functions that ONLY lists are capable of (and therefore, `str` objects are not capable of) \n",
    "- These \"internal\" capabilities (functions) are strictly called __Methods__ since they are not stand-alone functions that you can use with any object, instead they are specific to the object they belong to\n",
    "- The general form of a __Method__ is: `obj.methodname()` where `obj` is some object and `methodname` is the name of a method that belongs to the object (or we can say the name of the function for illustrative purposes) \n",
    "\n",
    "__Helpful Points:__ \n",
    "1. To fully understand Methods, you will have to learn about __[Classes](https://en.wikipedia.org/wiki/Class_(computer_programming))__ and __Objects__ within the __[Object Oriented Programming](https://en.wikipedia.org/wiki/Object-oriented_programming)__ framework. However, this is out of the scope of this course and we will only learn what is necessary at this stage \n",
    "2. We have already seen many Methods for objects that were created as `list` and `str` types \n",
    "3. The parentheses `(` and `)` denote the arguments that are passed into the method in the same way thar arguments were passed into functions above \n",
    "4. It is possible to call a method on an object without any values insde the `(` and `)` because what happens is that the `obj` is actually passed in as an argument by default \n",
    "\n",
    "__Practice:__ Examples of Methods in Python "
   ]
  },
  {
   "cell_type": "markdown",
   "metadata": {},
   "source": [
    "### Part 1 (Methods for Objects of `str` Type):\n",
    "\n",
    "Recall the comprehensive list of functions that worked on Strings. We can now understand these for what they really are: __[String Methods](https://docs.python.org/3/library/stdtypes.html#string-methods)__."
   ]
  },
  {
   "cell_type": "markdown",
   "metadata": {},
   "source": [
    "### Example 1.1 (Methods with No Arguments):"
   ]
  },
  {
   "cell_type": "code",
   "execution_count": null,
   "metadata": {},
   "outputs": [],
   "source": [
    "my_str = \"Clark\""
   ]
  },
  {
   "cell_type": "code",
   "execution_count": null,
   "metadata": {},
   "outputs": [],
   "source": [
    "# method to make string upper case \n",
    "my_str = my_str.upper() # my_str is the object and upper is the method name\n",
    "print(my_str)"
   ]
  },
  {
   "cell_type": "code",
   "execution_count": null,
   "metadata": {},
   "outputs": [],
   "source": [
    "# method to make string lower case \n",
    "my_str = my_str.lower() # my_str is the object and lower is the method name\n",
    "print(my_str)"
   ]
  },
  {
   "cell_type": "markdown",
   "metadata": {},
   "source": [
    "### Example 1.2 (Methods with Arguments):"
   ]
  },
  {
   "cell_type": "code",
   "execution_count": null,
   "metadata": {},
   "outputs": [],
   "source": [
    "# method to replace \"c\" with \"k\"\n",
    "my_str = my_str.replace(\"c\", \"k\") # my_str is the object and replace is the method name \n",
    "print(my_str)"
   ]
  },
  {
   "cell_type": "code",
   "execution_count": null,
   "metadata": {},
   "outputs": [],
   "source": [
    "# method to find the first occurrence of a character in a string\n",
    "my_str.find(\"a\") # my_str is the object and find is the method name "
   ]
  },
  {
   "cell_type": "markdown",
   "metadata": {},
   "source": [
    "### Part 2 (Methods for Objects of `list` Type):\n",
    "\n",
    "Recall the comprehensive list of functions that worked on Lists. We can now understand these for what they really are: __[List Methods](https://docs.python.org/3/tutorial/datastructures.html)__."
   ]
  },
  {
   "cell_type": "markdown",
   "metadata": {},
   "source": [
    "### Example 2.1 (Methods with No Arguments):"
   ]
  },
  {
   "cell_type": "code",
   "execution_count": null,
   "metadata": {},
   "outputs": [],
   "source": [
    "my_list = [\"a\", \"G\", 1, 2]"
   ]
  },
  {
   "cell_type": "code",
   "execution_count": null,
   "metadata": {},
   "outputs": [],
   "source": [
    "# method to replace renove all items from the list \n",
    "my_list = my_list.clear() # my_list is the object and clear is the method name \n",
    "print(my_list)"
   ]
  },
  {
   "cell_type": "code",
   "execution_count": null,
   "metadata": {},
   "outputs": [],
   "source": [
    "my_list = [\"a\", \"G\", 1, 2]"
   ]
  },
  {
   "cell_type": "code",
   "execution_count": null,
   "metadata": {},
   "outputs": [],
   "source": [
    "# method to replace reverse the elements of the list in place\n",
    "my_list.reverse() # my_list is the object and clear is the method name \n",
    "print(my_list)"
   ]
  },
  {
   "cell_type": "markdown",
   "metadata": {},
   "source": [
    "### Example 2.2 (Methods with Arguments):"
   ]
  },
  {
   "cell_type": "code",
   "execution_count": null,
   "metadata": {},
   "outputs": [],
   "source": [
    "my_list = [\"a\", \"G\", 1, 2]"
   ]
  },
  {
   "cell_type": "code",
   "execution_count": null,
   "metadata": {},
   "outputs": [],
   "source": [
    "# method to add an item to the end of the list \n",
    "my_list.append(\"NEW\") # my_list is the object and append is the method name \n",
    "print(my_list)"
   ]
  },
  {
   "cell_type": "code",
   "execution_count": null,
   "metadata": {},
   "outputs": [],
   "source": [
    "my_list = [\"a\", \"G\", 1, 2]"
   ]
  },
  {
   "cell_type": "code",
   "execution_count": null,
   "metadata": {},
   "outputs": [],
   "source": [
    "# method to insert an item at a given position \n",
    "my_list.insert(2, \"NEW\") # my_list is the object and insert is the method name \n",
    "print(my_list)"
   ]
  },
  {
   "cell_type": "code",
   "execution_count": null,
   "metadata": {},
   "outputs": [],
   "source": []
  }
 ],
 "metadata": {
  "kernelspec": {
   "display_name": "Python 3",
   "language": "python",
   "name": "python3"
  },
  "language_info": {
   "codemirror_mode": {
    "name": "ipython",
    "version": 3
   },
   "file_extension": ".py",
   "mimetype": "text/x-python",
   "name": "python",
   "nbconvert_exporter": "python",
   "pygments_lexer": "ipython3",
   "version": "3.7.2"
  }
 },
 "nbformat": 4,
 "nbformat_minor": 2
}
