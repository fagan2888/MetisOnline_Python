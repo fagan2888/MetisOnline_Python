{
 "cells": [
  {
   "cell_type": "markdown",
   "metadata": {},
   "source": [
    "### Bitwise Comparison and Operation Precedence"
   ]
  },
  {
   "cell_type": "markdown",
   "metadata": {},
   "source": [
    "__Purpose:__\n",
    "The purpose of this lecture is to illustrate bitwise comparisons and operation precedence in Python. \n",
    "\n",
    "__At the end of this lecture you will be able to:__\n",
    "1. Work with binary bitwise comparison\n",
    "2. Understand operator precedence"
   ]
  },
  {
   "cell_type": "markdown",
   "metadata": {},
   "source": [
    "### 1.1.1 Binary Bitwise Operations (OPTIONAL)"
   ]
  },
  {
   "cell_type": "markdown",
   "metadata": {},
   "source": [
    "__Overview:__\n",
    "- __[Bitwise Operation](https://en.wikipedia.org/wiki/Bitwise_operation):__ Bitwise Operation applies Boolean Operators to the individual bits of integers that are used in the operation. Bitwise Operation requires converting each numeric value in the expression to its equivalent bits representation. There are 3 types of Bitwise Operators as described below:\n",
    "> 1. `&` (Bitwise `AND` operation) -> returns 1 if both bits are 1, 0 otherwise \n",
    "> 2. `|` (Bitwise `OR` operation - inclusive) -> returns 1 if either bit is 1, 0 otherwise  \n",
    "> 3. `^` (Bitwise `XOR` operation - exclusive) -> returns 1 if the bits are different, 0 if they are the same \n",
    "\n",
    "__Helpful Points:__\n",
    "1. Bitwise Operation is different than Boolean Operation in a few key ways. Without going into too much detail, here are the practical differences you should know:\n",
    "> - Boolean Operators (`and` and `or`) are usually used on Boolean Values to produce a Boolean Value, whereas Bitwise Operators (`&` and `|`) are usually used on Integer Values to produce an Integer Value\n",
    "> - Boolean Operators use short-circuiting behavior, whereas Bitwise Operators do not use short-circuting behavior. \n",
    "\n",
    "__Practice:__ Examples of Bitwise Operations in Python "
   ]
  },
  {
   "cell_type": "markdown",
   "metadata": {},
   "source": [
    "### Example 1 (Bitwise `AND` operator):"
   ]
  },
  {
   "cell_type": "code",
   "execution_count": null,
   "metadata": {},
   "outputs": [],
   "source": [
    "x = 4 \n",
    "y = 5 \n",
    "print(bin(x))\n",
    "print(bin(y))"
   ]
  },
  {
   "cell_type": "markdown",
   "metadata": {},
   "source": [
    "We see that in Bitwise Operations, we are comparing the bits 100 (decimal 4) to 101 (decimal 5)"
   ]
  },
  {
   "cell_type": "code",
   "execution_count": null,
   "metadata": {},
   "outputs": [],
   "source": [
    "x & y"
   ]
  },
  {
   "cell_type": "code",
   "execution_count": null,
   "metadata": {},
   "outputs": [],
   "source": [
    "print(bin(x & y))"
   ]
  },
  {
   "cell_type": "markdown",
   "metadata": {},
   "source": [
    "The last statement (`x & y`) performs the `AND` operator on each bit, index by index: 1 and 1 (1), 0 and 0 (0), 0 and 1 (0) -> 100 in bits (4 in decimal)"
   ]
  },
  {
   "cell_type": "markdown",
   "metadata": {},
   "source": [
    "### Example 2 (Bitwise `OR` operator):"
   ]
  },
  {
   "cell_type": "code",
   "execution_count": null,
   "metadata": {},
   "outputs": [],
   "source": [
    "x | y "
   ]
  },
  {
   "cell_type": "code",
   "execution_count": null,
   "metadata": {},
   "outputs": [],
   "source": [
    "print(bin(x | y))"
   ]
  },
  {
   "cell_type": "markdown",
   "metadata": {},
   "source": [
    "The last statement (`x | y`) performs the inclusive `OR` operator on each bit, index by index: 1 or 1 (1), 0 or 0 (0), 0 or 1 (1) -> 101 in bits (5 in decimal)"
   ]
  },
  {
   "cell_type": "markdown",
   "metadata": {},
   "source": [
    "### Example 3 (Bitwise `XOR` operator):"
   ]
  },
  {
   "cell_type": "code",
   "execution_count": null,
   "metadata": {},
   "outputs": [],
   "source": [
    "x ^ y"
   ]
  },
  {
   "cell_type": "markdown",
   "metadata": {},
   "source": [
    "The last statement (`x ^ y`) performs the exclusive or (`XOR`) operator on each bit, index by index: 1 xor 1 (0), 0  xor 0 (0), 1 xor 0 (1) -> 001 in bits (1 in decimal)"
   ]
  },
  {
   "cell_type": "markdown",
   "metadata": {},
   "source": [
    "Note that the `^` is not an exponent in Python.  An exponent is given by `**` as shown below."
   ]
  },
  {
   "cell_type": "code",
   "execution_count": null,
   "metadata": {},
   "outputs": [],
   "source": [
    "x**y # 4**5"
   ]
  },
  {
   "cell_type": "markdown",
   "metadata": {},
   "source": [
    "### Problem 1\n",
    "\n",
    "Perform the bitwise `or` operation on 15 and 9.  \n",
    "\n",
    "- show your answer to the bitwise or operation as an integer and in binary"
   ]
  },
  {
   "cell_type": "code",
   "execution_count": null,
   "metadata": {},
   "outputs": [],
   "source": [
    "# Write your code here\n",
    "\n",
    "\n",
    "\n"
   ]
  },
  {
   "cell_type": "markdown",
   "metadata": {},
   "source": [
    "### 1.1.2 Operator Precedence"
   ]
  },
  {
   "cell_type": "markdown",
   "metadata": {},
   "source": [
    "__Overview:__\n",
    "- __[Operator Precedence](https://docs.python.org/3/reference/expressions.html#operator-precedence):__ Operator Precedence establishes a hierarchy in Python that outlines the precedence that each operator is subject to \n",
    "- We have seen many different operators so far that can be used in Python (recall __arithmetic operators__ `+`, `-`, __value comparison operators__ `<`, `>`, __membership test operators__ `in`, `not in`, __identity test operators__ `is`, `is not`, __boolean operators__ `and`, `or` and __bitwise operators__ `&`, `|`)\n",
    "- In the order of most binding (highest precedence) to least binding (lowest precedence):\n",
    "> 1. `or` (Boolean `OR`)\n",
    "> 2. `and` (Boolean `AND`)\n",
    "> 3. `not` (Boolean `NOT`)\n",
    "> 4. `in`, `not in`, `is`, `is not`, `<`, `<=`, `>`, `>=`, `!=`, `==` (Comparisons, including membership tests and identity tests) \n",
    "> 5. `|` (Bitwise `OR`)\n",
    "> 6. `^` (Bitwise `XOR`)\n",
    "> 7. `&` (Bitwise `AND`)\n",
    "> 8. `+`, `-` (Addition and subtraction)\n",
    "> 9. `*`, `/`, `//`, `%` (Multiplication, dividion and remainder)\n",
    "> 10. `**` (Exponentiation) \n",
    "\n",
    "__Helpful Points:__\n",
    "1. Operator Precedence exists in Python in largely the same way as most programming languages\n",
    "2. A helpful way to get around operator precedence is to use parenthesis\n",
    "\n",
    "__Practice:__ Examples of Operator Precedence in Python"
   ]
  },
  {
   "cell_type": "markdown",
   "metadata": {},
   "source": [
    "### Example 1 (Operator Precedence):"
   ]
  },
  {
   "cell_type": "code",
   "execution_count": null,
   "metadata": {},
   "outputs": [],
   "source": [
    "a = 1\n",
    "b = 3\n",
    "\n",
    "print(a > 2 and b == 3 or b > 2**2)"
   ]
  },
  {
   "cell_type": "markdown",
   "metadata": {},
   "source": [
    "This statement is evaluated in the following way based on the operator precedence list above: \n",
    "- `(a > 2 and b == 3)` or `(b > 2**2)` \n",
    "- `(a > 2 and b == 3)` is `False` since `a < 2` \n",
    "- `(b > 2**2)` is `False` since `b < 2**2`\n",
    "- `False or False` is `False` since the first term is `False`"
   ]
  },
  {
   "cell_type": "markdown",
   "metadata": {},
   "source": [
    "Below is a more readable way of performing the calculation."
   ]
  },
  {
   "cell_type": "code",
   "execution_count": null,
   "metadata": {},
   "outputs": [],
   "source": [
    "print( ( (a > 2) and (b == 3) ) or (b > 2**2) )"
   ]
  },
  {
   "cell_type": "markdown",
   "metadata": {},
   "source": [
    "# ANSWERS"
   ]
  },
  {
   "cell_type": "markdown",
   "metadata": {},
   "source": [
    "### Problem 1\n",
    "\n",
    "Perform the bitwise `or` operation on 15 and 9.  \n",
    "\n",
    "- show your answer to the bitwise or operation as an integer and in binary"
   ]
  },
  {
   "cell_type": "code",
   "execution_count": null,
   "metadata": {},
   "outputs": [],
   "source": [
    "x, y = 15, 9\n",
    "print(f\"The value of 15 in binary is {bin(15)}\")\n",
    "print(f\"The value of 9 in binary is {bin(9)}\")\n",
    "print(f\"The value of x|y is {x|y}\")\n",
    "print(f\"The value of x|y in binary is {bin(x|y)}\")"
   ]
  },
  {
   "cell_type": "code",
   "execution_count": null,
   "metadata": {},
   "outputs": [],
   "source": []
  }
 ],
 "metadata": {
  "kernelspec": {
   "display_name": "Python 3",
   "language": "python",
   "name": "python3"
  },
  "language_info": {
   "codemirror_mode": {
    "name": "ipython",
    "version": 3
   },
   "file_extension": ".py",
   "mimetype": "text/x-python",
   "name": "python",
   "nbconvert_exporter": "python",
   "pygments_lexer": "ipython3",
   "version": "3.7.2"
  },
  "toc": {
   "base_numbering": 1,
   "nav_menu": {},
   "number_sections": true,
   "sideBar": true,
   "skip_h1_title": false,
   "title_cell": "Table of Contents",
   "title_sidebar": "Contents",
   "toc_cell": false,
   "toc_position": {},
   "toc_section_display": true,
   "toc_window_display": false
  },
  "varInspector": {
   "cols": {
    "lenName": 16,
    "lenType": 16,
    "lenVar": 40
   },
   "kernels_config": {
    "python": {
     "delete_cmd_postfix": "",
     "delete_cmd_prefix": "del ",
     "library": "var_list.py",
     "varRefreshCmd": "print(var_dic_list())"
    },
    "r": {
     "delete_cmd_postfix": ") ",
     "delete_cmd_prefix": "rm(",
     "library": "var_list.r",
     "varRefreshCmd": "cat(var_dic_list()) "
    }
   },
   "types_to_exclude": [
    "module",
    "function",
    "builtin_function_or_method",
    "instance",
    "_Feature"
   ],
   "window_display": false
  }
 },
 "nbformat": 4,
 "nbformat_minor": 2
}
