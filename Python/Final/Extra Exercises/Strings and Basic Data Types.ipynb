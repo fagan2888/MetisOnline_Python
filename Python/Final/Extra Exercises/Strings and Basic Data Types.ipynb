{
 "cells": [
  {
   "cell_type": "markdown",
   "metadata": {},
   "source": [
    "## Adding Strings and Numbers\n",
    "\n",
    "Add the strings \"`Three`\" and \"` Musketeers`\" together. What do you get?\n",
    "\n",
    "(Note that there is a leading space in \"` Musketeers`\".\n",
    "\n",
    "Can you add the number 3, as an `int`, `float`, or `complex`, to the string \"` Musketeers`\"?\n",
    "\n",
    "How do you convert the number (in each type) to a string and add it to \"` Musketeers`\"?"
   ]
  },
  {
   "cell_type": "code",
   "execution_count": null,
   "metadata": {
    "ExecuteTime": {
     "end_time": "2019-10-15T18:56:14.126689Z",
     "start_time": "2019-10-15T18:56:14.115210Z"
    }
   },
   "outputs": [],
   "source": [
    "# Edit this cell so that it runs without errors\n",
    "\n",
    "print(\"Three\" + \" Musketeers\")\n",
    "\n",
    "print(int(3) + \" Musketeers\")\n",
    "print(float(3) + \" Musketeers\")\n",
    "print(complex(3) + \" Musketeers\")"
   ]
  },
  {
   "cell_type": "code",
   "execution_count": null,
   "metadata": {},
   "outputs": [],
   "source": []
  }
 ],
 "metadata": {
  "kernelspec": {
   "display_name": "Python 3",
   "language": "python",
   "name": "python3"
  },
  "language_info": {
   "codemirror_mode": {
    "name": "ipython",
    "version": 3
   },
   "file_extension": ".py",
   "mimetype": "text/x-python",
   "name": "python",
   "nbconvert_exporter": "python",
   "pygments_lexer": "ipython3",
   "version": "3.7.2"
  }
 },
 "nbformat": 4,
 "nbformat_minor": 2
}
