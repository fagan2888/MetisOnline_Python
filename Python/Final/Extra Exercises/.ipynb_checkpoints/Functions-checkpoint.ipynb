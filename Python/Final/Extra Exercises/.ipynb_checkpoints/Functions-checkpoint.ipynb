{
 "cells": [
  {
   "cell_type": "markdown",
   "metadata": {},
   "source": [
    "## Write a Python program to print out a set containing all the colors from color_list_1 which are not present in color_list_2.\n",
    "\n",
    "Test Data :  \n",
    "color_list_1 = set([\"White\", \"Black\", \"Red\"])   \n",
    "color_list_2 = set([\"Red\", \"Green\"])  \n",
    "Expected Output :  \n",
    "{'Black', 'White'}"
   ]
  },
  {
   "cell_type": "code",
   "execution_count": null,
   "metadata": {},
   "outputs": [],
   "source": [
    "# your solution here \n",
    "def my_function(set1, set2):\n",
    "    return set1 - set2 # or set1.difference(set2) would also work\n",
    "\n",
    "# Testcases\n",
    "color_list_1 = set([\"White\", \"Black\", \"Red\"])\n",
    "color_list_2 = set([\"Red\", \"Green\"])\n",
    "my_function(color_list_1, color_list_2)"
   ]
  },
  {
   "cell_type": "markdown",
   "metadata": {},
   "source": [
    "## You are given a dictionary that has the count of the number of each fruit in a basket. Write a function that takes in the dictionary and outputs the total number of fruits in the basket.\n",
    "\n",
    "Sample input: fruits = {\"oranges\": 5, \"apples\": 2, \"blueberries\": 12}\n",
    "Expected output: 19"
   ]
  },
  {
   "cell_type": "code",
   "execution_count": null,
   "metadata": {},
   "outputs": [],
   "source": [
    "def count_fruits(fruits):\n",
    "    \"\"\"\n",
    "    Using a loop through keys\n",
    "    \"\"\"\n",
    "    total = 0\n",
    "    for key in fruits:\n",
    "        total += fruits[key]\n",
    "    return total\n",
    "\n",
    "# Testcases\n",
    "fruits = {\"oranges\": 5, \"apples\": 2, \"blueberries\": 12}\n",
    "count_fruits(fruits)"
   ]
  },
  {
   "cell_type": "code",
   "execution_count": null,
   "metadata": {},
   "outputs": [],
   "source": [
    "def count_fruits(fruits):\n",
    "    \"\"\"\n",
    "    Using the dictionary method .values()\n",
    "    \"\"\"\n",
    "    return sum(fruits.values())\n",
    "count_fruits(fruits)"
   ]
  },
  {
   "cell_type": "markdown",
   "metadata": {},
   "source": [
    "## Write a Python program that accepts a string and calculate the number of digits and letters. \n",
    "\n",
    "Input String : \"Python 3.2\"  \n",
    "\n",
    "Expected Output :  \n",
    "Letters 6  \n",
    "Digits 2  \n",
    "\n",
    "Hint: Make use of Python string's inherent isdigit() method and isalpha() method. For example, \"a\".isdigit() returns False, while \"a\".isalpha() returns True."
   ]
  },
  {
   "cell_type": "code",
   "execution_count": null,
   "metadata": {},
   "outputs": [],
   "source": [
    "def letters_digits(s):\n",
    "    d=l=0\n",
    "    for c in s:\n",
    "        if c.isdigit():\n",
    "            d=d+1\n",
    "        elif c.isalpha():\n",
    "            l=l+1\n",
    "        else:\n",
    "            pass\n",
    "    print(\"Letters\", l)\n",
    "    print(\"Digits\", d)\n",
    "\n",
    "# Testcases\n",
    "letters_digits(\"Python 3.2\")"
   ]
  },
  {
   "cell_type": "code",
   "execution_count": null,
   "metadata": {},
   "outputs": [],
   "source": []
  }
 ],
 "metadata": {
  "kernelspec": {
   "display_name": "Python 3",
   "language": "python",
   "name": "python3"
  },
  "language_info": {
   "codemirror_mode": {
    "name": "ipython",
    "version": 3
   },
   "file_extension": ".py",
   "mimetype": "text/x-python",
   "name": "python",
   "nbconvert_exporter": "python",
   "pygments_lexer": "ipython3",
   "version": "3.7.2"
  }
 },
 "nbformat": 4,
 "nbformat_minor": 2
}
