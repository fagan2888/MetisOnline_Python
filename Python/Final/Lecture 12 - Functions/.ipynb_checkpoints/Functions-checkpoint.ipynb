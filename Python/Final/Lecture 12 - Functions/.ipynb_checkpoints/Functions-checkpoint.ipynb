{
 "cells": [
  {
   "cell_type": "markdown",
   "metadata": {},
   "source": [
    "# Python\n",
    "### Functions"
   ]
  },
  {
   "cell_type": "markdown",
   "metadata": {},
   "source": [
    "__Purpose:__\n",
    "The purpose of this lecture is to understand functions in Python. \n",
    "\n",
    "__At the end of this lecture you will be able to:__\n",
    "1. Understand the definition of functions\n",
    "2. Be able to use built-in functions\n",
    "3. Be able to create new functions\n",
    "4. Understand how to use arguments and outputs in functions\n",
    "5. Understand the scope of a function"
   ]
  },
  {
   "cell_type": "markdown",
   "metadata": {},
   "source": [
    "## 1.1 Functions"
   ]
  },
  {
   "cell_type": "markdown",
   "metadata": {},
   "source": [
    "### 1.1.1 What is a Function? "
   ]
  },
  {
   "cell_type": "markdown",
   "metadata": {},
   "source": [
    "__Overview:__\n",
    "- Functions are the last cornerstone topic in programming that we will cover in this beginner course. After acquiring the knowledge to write your own functions, you will transition from being a \"beginner programmer\" to an \"intermediate programmer\"\n",
    "- Functions in programming resemble that of __[mathematical functions](https://en.wikipedia.org/wiki/Function_(mathematics))__ in that they take some \"input\", do something to that input, and return some \"output\"\n",
    "- Here is a helpful visualization to understand the general principle behind a function: <img src=\"img19.png\" width=300 height=300>"
   ]
  },
  {
   "cell_type": "markdown",
   "metadata": {},
   "source": [
    "- __Functions__:__ Functions allow you to enclose a block of code within the \"FUNCTION f:\" box above such that you only write this block of code ONCE and it can be used with ANY input (that you allow, of course) and will generate a NEW output every time \n",
    "- Functions are useful for a few reasons:\n",
    "> 1. __Maintainability:__ Functions allow you to write programs ONCE which only requires ONE place to change, update and modify the code in the future\n",
    "> 2. __Reusability:__ Functions allow you to to write programs ONCE and use them in multiple places so you don't have to write additional, unncessary code \n",
    "> 3. __[Abstraction](https://en.wikipedia.org/wiki/Abstraction_(software_engineering)):__ Functions \"abstract\" the complicated parts of their inner workings - you don't have to understand how the function ACTUALLY does its job \"on the inside\" if you want to just use a function. Instead, you only need to know the following: \n",
    ">> a) __Function Name:__ the name of the function<br>\n",
    ">> b) __Function Purpose:__ what the function does<br>\n",
    ">> c) __Function Inputs:__ what arguments the function requires<br>\n",
    ">> d) __Function Outputs:__ what result the function returns<br> <br>\n",
    ">> __Do you know how your car engine works? Do you know how your cell phone receives incoming calls? Probably not, but you still use your car and cellphone every day. However, if you want to build a car engine OR new cellphone network, you DO need to know how these work (same with functions)!!!__\n",
    "\n",
    "__Helpful Points:__\n",
    "1. In this beginner course, we will not cover the __[Object-Oriented Programming](https://en.wikipedia.org/wiki/Object-oriented_programming)__ paradigm/style of programming and instead focus on __[Functional Programming](https://en.wikipedia.org/wiki/Functional_programming)__ which is predominantly based on the use of functions to perform computations. Therefore, functions will be increasingly important to your repertoire \n",
    "2. Any time you find yourself using the same block of code more than once, you should consider enclosing this code in a function "
   ]
  },
  {
   "cell_type": "markdown",
   "metadata": {},
   "source": [
    "### 1.1.2 Functions in Python: "
   ]
  },
  {
   "cell_type": "markdown",
   "metadata": {},
   "source": [
    "__Overview:__\n",
    "- Every programming language has a different way of allowing programmers to define and use functions\n",
    "- In Python, the general form of defining a function is the following:<br>\n",
    "<br>\n",
    "\n",
    "`def func_name(input):`\n",
    "\n",
    ">    `\"\"\"`<br>\n",
    ">    `this is the docstring`<br>\n",
    ">    `\"\"\"`<br>\n",
    ">     \n",
    ">    `<statement>`<br>\n",
    ">    `return output` \n",
    "\n",
    "- The general form of \"calling\" (executing a function) is the following:<br>\n",
    "<br>\n",
    "\n",
    "> `output = func_name(input)`<br>\n",
    "<br>\n",
    "\n",
    "- In Python, Functions are defined by a few characteristics (similar to loops and if statements) which can be read about [here](https://docs.python.org/3/tutorial/controlflow.html#defining-functions):\n",
    "> 1. `def`: This keyword introduces a functions definition (it basically defines a function) and is always followed by a) the function name and b) the parenthesized list of inputs \n",
    "> 2. function `<func_name>`: Each function requires a name so users can call upon the function when they require its usage \n",
    "> 3. `:` and 4-space identation: Similar to if statements and loops, Python requires the `:` and 4-space indentation to identify the \"scope\" of the code\n",
    "> 4. Input `<(input)>`: This is the value(s) that is passed into the function in the same way that $x$ is passed into the function $x^2$. It is usually referred to as \"input arguments\" or \"input parameters\". For every set of inputs into the function, there is an appropriate output that is \"manufactured\" in the function \n",
    "> 5. <`return`> statement: This is the value you wish to output from the function and consequently, the value the user will receive when calling the function\n",
    "> 6. `<docstring>`: Since one of the requirements of using a function is to know WHAT the function does, each function needs a way to communicate its purpose to users. This is accomplished by the __[docstring](https://www.python.org/dev/peps/pep-0257/)__ (see [here](https://en.wikipedia.org/wiki/Docstring) for a strict definition) which is a one or multi-line string at the top of the function \n",
    "- The above can be summarized in this nice illustration: <img src=\"img20.png\" width=550 height=550>"
   ]
  },
  {
   "cell_type": "markdown",
   "metadata": {},
   "source": [
    "__Helpful Points:__\n",
    "1. The function has to be initialized (the code has to be run), before you can use the function    \n",
    "2. Python already has [many built-in functions](https://docs.python.org/3/library/functions.html) that we have used extensively up to this point (Do you remember using `bool()`, `complex()`, `dict()`, `enumerate()`, `float()`, `format()`, `help()`, `int()`, `isinstance()`, `len()`, `list()`, `max()`, `min()`, `next()`, `print()`, `set()`, `slice()`, `sorted()`, `str()`, `sum()`, `tuple()`, `type()`, `zip()`, well, __THESE WERE ALL FUNCTIONS!!!__)\n",
    "\n",
    "__Practice:__ Examples of Simple Functions in Python "
   ]
  },
  {
   "cell_type": "markdown",
   "metadata": {},
   "source": [
    "### Part 1 (Built-In Functions):"
   ]
  },
  {
   "cell_type": "markdown",
   "metadata": {},
   "source": [
    "### Example 1.1 ([`len()`](https://docs.python.org/3/library/functions.html#len)):\n",
    "\n",
    "- We have used the `len()` function in the past to calculate the length of sequences. Now we understand:\n",
    "> 1. `len` is the `<name>` of the function\n",
    "> 2. the `<input>` is any sequence\n",
    "> 3. the `<output>` is the length of the sequence"
   ]
  },
  {
   "cell_type": "code",
   "execution_count": 1,
   "metadata": {},
   "outputs": [],
   "source": [
    "# view the docstring of the function\n",
    "?len"
   ]
  },
  {
   "cell_type": "code",
   "execution_count": 2,
   "metadata": {},
   "outputs": [
    {
     "name": "stdout",
     "output_type": "stream",
     "text": [
      "Help on built-in function len in module builtins:\n",
      "\n",
      "len(obj, /)\n",
      "    Return the number of items in a container.\n",
      "\n"
     ]
    }
   ],
   "source": [
    "# view the docstring of the function \n",
    "help(len)"
   ]
  },
  {
   "cell_type": "code",
   "execution_count": 3,
   "metadata": {
    "scrolled": false
   },
   "outputs": [
    {
     "name": "stdout",
     "output_type": "stream",
     "text": [
      "Return the number of items in a container.\n"
     ]
    }
   ],
   "source": [
    "# print the docstring of the function \n",
    "print(len.__doc__)"
   ]
  },
  {
   "cell_type": "code",
   "execution_count": 4,
   "metadata": {},
   "outputs": [
    {
     "name": "stdout",
     "output_type": "stream",
     "text": [
      "3\n"
     ]
    }
   ],
   "source": [
    "my_list = [1,2,3]\n",
    "# execute the function and save its output into a variable \n",
    "output = len(my_list) # my_list is considered the input into the function which is internally operated on in the len() function\n",
    "print(output)"
   ]
  },
  {
   "cell_type": "markdown",
   "metadata": {},
   "source": [
    "### Example 1.2 ([`sum()`](https://docs.python.org/3/library/functions.html#sum)):\n",
    "- We have used the `sum()` function in the past to calculate the sum of an `iterable` object. Now we understand:\n",
    "> 1. `sum` is the `<name>` of the function\n",
    "> 2. the `<input>` is an iterable usually with numbers as elements\n",
    "> 3. the `<output>` is the sum of the `iterable` object "
   ]
  },
  {
   "cell_type": "code",
   "execution_count": 5,
   "metadata": {},
   "outputs": [],
   "source": [
    "# view the docstring of the function\n",
    "?sum"
   ]
  },
  {
   "cell_type": "code",
   "execution_count": 6,
   "metadata": {},
   "outputs": [
    {
     "name": "stdout",
     "output_type": "stream",
     "text": [
      "Help on built-in function sum in module builtins:\n",
      "\n",
      "sum(iterable, start=0, /)\n",
      "    Return the sum of a 'start' value (default: 0) plus an iterable of numbers\n",
      "    \n",
      "    When the iterable is empty, return the start value.\n",
      "    This function is intended specifically for use with numeric values and may\n",
      "    reject non-numeric types.\n",
      "\n"
     ]
    }
   ],
   "source": [
    "# view the docstring of the function \n",
    "help(sum)"
   ]
  },
  {
   "cell_type": "code",
   "execution_count": 7,
   "metadata": {
    "scrolled": false
   },
   "outputs": [
    {
     "name": "stdout",
     "output_type": "stream",
     "text": [
      "Return the sum of a 'start' value (default: 0) plus an iterable of numbers\n",
      "\n",
      "When the iterable is empty, return the start value.\n",
      "This function is intended specifically for use with numeric values and may\n",
      "reject non-numeric types.\n"
     ]
    }
   ],
   "source": [
    "# print the docstring of the function \n",
    "print(sum.__doc__) # __doc__ is actually a method (similar to a function) \"inside\" the object, we will cover this below in the Methods section"
   ]
  },
  {
   "cell_type": "code",
   "execution_count": 8,
   "metadata": {},
   "outputs": [
    {
     "name": "stdout",
     "output_type": "stream",
     "text": [
      "6\n"
     ]
    }
   ],
   "source": [
    "my_list = [1,2,3]\n",
    "# execute the function and save its output into a variable \n",
    "output = sum(my_list) # my_list is considered the input into the function which is internally operated on in the sum() function\n",
    "print(output)"
   ]
  },
  {
   "cell_type": "markdown",
   "metadata": {},
   "source": [
    "### Part 2 (New Functions):"
   ]
  },
  {
   "cell_type": "markdown",
   "metadata": {},
   "source": [
    "### Example 1 (Calculate the Length of a Sequence WITHOUT FUNCTION):"
   ]
  },
  {
   "cell_type": "markdown",
   "metadata": {},
   "source": [
    "Imagine we didn't know how to build functions and we were tasked to calculate the lengths of these 2 objects (and, of course, the `len()` function did not exist):\n",
    "> 1. `[1,2,3]`\n",
    "> 2. `\"Clark\"`\n",
    "\n",
    "How would we do this? "
   ]
  },
  {
   "cell_type": "code",
   "execution_count": 9,
   "metadata": {},
   "outputs": [],
   "source": [
    "obj_1 = [1,2,3]\n",
    "obj_2 = \"Clark\""
   ]
  },
  {
   "cell_type": "code",
   "execution_count": 10,
   "metadata": {},
   "outputs": [
    {
     "name": "stdout",
     "output_type": "stream",
     "text": [
      "The length of object 1 is 3\n"
     ]
    }
   ],
   "source": [
    "# calculate the length of object 1 \n",
    "obj1_len_count = 0\n",
    "for element in obj_1:\n",
    "    obj1_len_count += 1\n",
    "\n",
    "print(f\"The length of object 1 is {obj1_len_count}\")"
   ]
  },
  {
   "cell_type": "code",
   "execution_count": 11,
   "metadata": {},
   "outputs": [
    {
     "name": "stdout",
     "output_type": "stream",
     "text": [
      "The length of object 2 is 5\n"
     ]
    }
   ],
   "source": [
    "# calculate the length of object 2\n",
    "obj2_len_count = 0\n",
    "for element in obj_2:\n",
    "    obj2_len_count += 1\n",
    "\n",
    "print(f\"The length of object 2 is {obj2_len_count}\")"
   ]
  },
  {
   "cell_type": "markdown",
   "metadata": {},
   "source": [
    "To calculate the length of these 2 sequences, we had to write 2 different `for` loops and initialize 2 different variables for the counts. This is incredibly inefficient programming since the essence of the process was identical for each object, but yet we wrote additional code for each. "
   ]
  },
  {
   "cell_type": "markdown",
   "metadata": {},
   "source": [
    "### Example 2.2 (Calculate the Length of a Sequence WITH FUNCTION):"
   ]
  },
  {
   "cell_type": "markdown",
   "metadata": {},
   "source": [
    "How about if we enclose the main computation of calculating the length in a function and then just pass in the sequence and receive the length as the output? This would be MUCH more concise and efficient. "
   ]
  },
  {
   "cell_type": "code",
   "execution_count": 12,
   "metadata": {},
   "outputs": [],
   "source": [
    "# define a new function to calculate the length of a sequence \n",
    "def len_new(s):\n",
    "    \"\"\"\n",
    "    Find the length of an object\n",
    "    \n",
    "    Input Parameters:\n",
    "    s -- the sequence you want to find the length of\n",
    "    \"\"\"\n",
    "    len_count = 0\n",
    "    for element in s:\n",
    "        len_count += 1\n",
    "    \n",
    "    return len_count"
   ]
  },
  {
   "cell_type": "code",
   "execution_count": 13,
   "metadata": {
    "scrolled": true
   },
   "outputs": [
    {
     "name": "stdout",
     "output_type": "stream",
     "text": [
      "\n",
      "    Find the length of an object\n",
      "    \n",
      "    Input Parameters:\n",
      "    s -- the sequence you want to find the length of\n",
      "    \n"
     ]
    }
   ],
   "source": [
    "# print the function's docstring\n",
    "print(len_new.__doc__)"
   ]
  },
  {
   "cell_type": "code",
   "execution_count": 14,
   "metadata": {},
   "outputs": [],
   "source": [
    "obj_1 = [1,2,3]\n",
    "obj_2 = \"Clark\""
   ]
  },
  {
   "cell_type": "code",
   "execution_count": 15,
   "metadata": {},
   "outputs": [
    {
     "name": "stdout",
     "output_type": "stream",
     "text": [
      "3\n"
     ]
    }
   ],
   "source": [
    "# calculate the length of object 1 \n",
    "print(len_new(obj_1))"
   ]
  },
  {
   "cell_type": "code",
   "execution_count": 16,
   "metadata": {},
   "outputs": [
    {
     "name": "stdout",
     "output_type": "stream",
     "text": [
      "5\n"
     ]
    }
   ],
   "source": [
    "# calculate the length of object 2\n",
    "print(len_new(obj_2))"
   ]
  },
  {
   "cell_type": "markdown",
   "metadata": {},
   "source": [
    "It should be clear why functions are advantageous now - you can perform the same task many, many times by simply reusing one block of code. "
   ]
  },
  {
   "cell_type": "markdown",
   "metadata": {},
   "source": [
    "### Example 2.3 (Calculate the Fibonacci Sequence WITH FUNCTION):"
   ]
  },
  {
   "cell_type": "markdown",
   "metadata": {},
   "source": [
    "Imagine we were asked to find the numbers in the __[Fibonacci Sequence](https://en.wikipedia.org/wiki/Fibonacci_number)__ from 0 to n. We can easily write a function to do this and then re-use this function with muliple values of n. "
   ]
  },
  {
   "cell_type": "code",
   "execution_count": 17,
   "metadata": {},
   "outputs": [
    {
     "ename": "NameError",
     "evalue": "name 'fib_func' is not defined",
     "output_type": "error",
     "traceback": [
      "\u001b[0;31m---------------------------------------------------------------------------\u001b[0m",
      "\u001b[0;31mNameError\u001b[0m                                 Traceback (most recent call last)",
      "\u001b[0;32m<ipython-input-17-0617e712b862>\u001b[0m in \u001b[0;36m<module>\u001b[0;34m\u001b[0m\n\u001b[0;32m----> 1\u001b[0;31m \u001b[0mf100\u001b[0m \u001b[0;34m=\u001b[0m \u001b[0mfib_func\u001b[0m\u001b[0;34m(\u001b[0m\u001b[0;36m100\u001b[0m\u001b[0;34m)\u001b[0m\u001b[0;34m\u001b[0m\u001b[0;34m\u001b[0m\u001b[0m\n\u001b[0m\u001b[1;32m      2\u001b[0m \u001b[0mprint\u001b[0m\u001b[0;34m(\u001b[0m\u001b[0mf100\u001b[0m\u001b[0;34m)\u001b[0m\u001b[0;34m\u001b[0m\u001b[0;34m\u001b[0m\u001b[0m\n",
      "\u001b[0;31mNameError\u001b[0m: name 'fib_func' is not defined"
     ]
    }
   ],
   "source": [
    "f100 = fib_func(100)\n",
    "print(f100)"
   ]
  },
  {
   "cell_type": "markdown",
   "metadata": {},
   "source": [
    "We receive an error here since we can't use a function until we define it. "
   ]
  },
  {
   "cell_type": "code",
   "execution_count": 18,
   "metadata": {},
   "outputs": [],
   "source": [
    "# function to return the Fibonacci series up to n\n",
    "def fib_func(n):  \n",
    "    \"\"\"\n",
    "    Return a list containing the Fibonacci series from 0 up to n\n",
    "\n",
    "    Input Parameters:\n",
    "    n -- The desired upper limit of the Fibonacci series \n",
    "    \"\"\"\n",
    "    result = []\n",
    "    # initialize seed values\n",
    "    a, b = 0, 1\n",
    "    while a < n:\n",
    "        result.append(a)\n",
    "        # fn = fn-1 + fn-2\n",
    "        fn = a+b\n",
    "        a = b\n",
    "        b = fn\n",
    "#         a, b = b, a+b # here is another way to do the three lines of code above\n",
    "        \n",
    "    return result"
   ]
  },
  {
   "cell_type": "code",
   "execution_count": 19,
   "metadata": {},
   "outputs": [],
   "source": [
    "seq_1 = 100\n",
    "seq_2 = 40"
   ]
  },
  {
   "cell_type": "code",
   "execution_count": 20,
   "metadata": {},
   "outputs": [
    {
     "name": "stdout",
     "output_type": "stream",
     "text": [
      "[0, 1, 1, 2, 3, 5, 8, 13, 21, 34, 55, 89]\n"
     ]
    }
   ],
   "source": [
    "fib_seq_1 = fib_func(seq_1)\n",
    "print(fib_seq_1)"
   ]
  },
  {
   "cell_type": "code",
   "execution_count": 21,
   "metadata": {},
   "outputs": [
    {
     "name": "stdout",
     "output_type": "stream",
     "text": [
      "[0, 1, 1, 2, 3, 5, 8, 13, 21, 34]\n"
     ]
    }
   ],
   "source": [
    "fib_seq_2 = fib_func(seq_2)\n",
    "print(fib_seq_2)"
   ]
  },
  {
   "cell_type": "markdown",
   "metadata": {},
   "source": [
    "### 1.1.3 Closer Look at Input Arguments in Python Functions:"
   ]
  },
  {
   "cell_type": "markdown",
   "metadata": {},
   "source": [
    "### 1.1.3.1 Types of Arguments in Python "
   ]
  },
  {
   "cell_type": "markdown",
   "metadata": {},
   "source": [
    "__Overview:__\n",
    "- __[Input Arguments](https://docs.python.org/3/glossary.html#term-argument) (or just Arguments)__ in Python refer to the value that is passed to a function when calling the function\n",
    "- Arguments in Python fall into one of two categories:\n",
    "> 1. __Keyword Argument (known as \"kwargs\"):__ Keyword Arguments are arguments that are preceded by an equal sign (`name = `) in a function call\n",
    "> 2. __Positional Argument (known as \"args\"):__ Positional Arguments are arguments that are not preceded by an equal sign in a function call (therefore, not a keyword argument) and instead are simply passed in as `int`, for example\n",
    "\n",
    "__Helpful Points:__\n",
    "1. Argument names do not have be defined as the same names as their corresponding value inside the function (for example, in the example above, the arguments were defined as `seq_1` and `seq_2` and did not have to be the same name as their correspondng value inside the `fib_func` function which was `n`) \n",
    "\n",
    "__Practice:__ Examples of using 2 types of Arguments in Python "
   ]
  },
  {
   "cell_type": "markdown",
   "metadata": {},
   "source": [
    "### Example 1 (Using Keyword Arguments):"
   ]
  },
  {
   "cell_type": "code",
   "execution_count": 22,
   "metadata": {},
   "outputs": [],
   "source": [
    "# simple function to print info for any superhero\n",
    "def metis(superhero, first_name, last_name):\n",
    "    print(f\"The superhero {superhero}, has a first name of {first_name} and a last name of {last_name}\")"
   ]
  },
  {
   "cell_type": "code",
   "execution_count": 23,
   "metadata": {
    "scrolled": true
   },
   "outputs": [
    {
     "name": "stdout",
     "output_type": "stream",
     "text": [
      "The superhero Superman, has a first name of Clark and a last name of Kent\n"
     ]
    }
   ],
   "source": [
    "metis(superhero = \"Superman\", first_name = \"Clark\", last_name = \"Kent\")"
   ]
  },
  {
   "cell_type": "code",
   "execution_count": 24,
   "metadata": {},
   "outputs": [
    {
     "name": "stdout",
     "output_type": "stream",
     "text": [
      "The superhero Batman, has a first name of Bruce and a last name of Wayne\n"
     ]
    }
   ],
   "source": [
    "metis(superhero = \"Batman\", first_name = \"Bruce\", last_name = \"Wayne\")"
   ]
  },
  {
   "cell_type": "markdown",
   "metadata": {},
   "source": [
    "### Example 2 (Using Positional Arguments):"
   ]
  },
  {
   "cell_type": "code",
   "execution_count": 25,
   "metadata": {},
   "outputs": [],
   "source": [
    "# simple function to calculate the nth power of any number\n",
    "def nth_power(num, n):\n",
    "    return num ** n "
   ]
  },
  {
   "cell_type": "code",
   "execution_count": 26,
   "metadata": {},
   "outputs": [
    {
     "data": {
      "text/plain": [
       "4"
      ]
     },
     "execution_count": 26,
     "metadata": {},
     "output_type": "execute_result"
    }
   ],
   "source": [
    "nth_power(2, 2)"
   ]
  },
  {
   "cell_type": "code",
   "execution_count": 27,
   "metadata": {},
   "outputs": [
    {
     "data": {
      "text/plain": [
       "3125"
      ]
     },
     "execution_count": 27,
     "metadata": {},
     "output_type": "execute_result"
    }
   ],
   "source": [
    "nth_power(5, 5)"
   ]
  },
  {
   "cell_type": "markdown",
   "metadata": {},
   "source": [
    "### 1.1.3.2 Rules of Argument Usage in Python:"
   ]
  },
  {
   "cell_type": "markdown",
   "metadata": {},
   "source": [
    "__Overview:__ \n",
    "- Keyword and Positional Arguments are subject to the following rules \n",
    "> 1. __Rule 1:__ If a function uses BOTH __Keyword__ and __Positional__ arguments, the __Keyword Arguments__ must follow (i.e. come after) __Positional Arguments__ when calling the function\n",
    "> 2. __Rule 2:__ All the __Keyword Arguments__ passed into the function must match one of the arguments accepted by the function \n",
    "> 3. __Rule 3:__ The order of __Keyword Arguments__ does not matter as long as they are an acceptable argument (see rule 2 above)\n",
    "> 4. __Rule 4:__ No argument allowed in the function can receive a value more than once (i.e. if the function requires an input for the variable `a`, you can't pass in `a=1` AND `a=0`)\n",
    "\n",
    "__Helpful Points:__ \n",
    "1. If the above rules are not followed, you will receive an error (depending on which rule was not followed)\n",
    "\n",
    "__Practice:__ Examples of using Argument Usage Rules in Python "
   ]
  },
  {
   "cell_type": "markdown",
   "metadata": {},
   "source": [
    "### Example 1 (Rule 1):"
   ]
  },
  {
   "cell_type": "code",
   "execution_count": 28,
   "metadata": {},
   "outputs": [],
   "source": [
    "# simple function to print info for any superhero\n",
    "def metis(superhero, first_name, last_name):\n",
    "    print(f\"The superhero {superhero}, has a first name of {first_name} and a last name of {last_name}\")"
   ]
  },
  {
   "cell_type": "code",
   "execution_count": 29,
   "metadata": {},
   "outputs": [
    {
     "name": "stdout",
     "output_type": "stream",
     "text": [
      "The superhero Superman, has a first name of Clark and a last name of Kent\n"
     ]
    }
   ],
   "source": [
    "# no error since the keyword arguments follow the positional arguments \n",
    "metis(\"Superman\", \"Clark\", last_name = \"Kent\") "
   ]
  },
  {
   "cell_type": "code",
   "execution_count": 30,
   "metadata": {},
   "outputs": [
    {
     "ename": "SyntaxError",
     "evalue": "positional argument follows keyword argument (<ipython-input-30-e0e7dead04ee>, line 2)",
     "output_type": "error",
     "traceback": [
      "\u001b[0;36m  File \u001b[0;32m\"<ipython-input-30-e0e7dead04ee>\"\u001b[0;36m, line \u001b[0;32m2\u001b[0m\n\u001b[0;31m    metis(superhero = \"Superman\", \"Clark\", \"Kent\")\u001b[0m\n\u001b[0m                                 ^\u001b[0m\n\u001b[0;31mSyntaxError\u001b[0m\u001b[0;31m:\u001b[0m positional argument follows keyword argument\n"
     ]
    }
   ],
   "source": [
    "# error since the keyword arguments does not follow the positional arguments \n",
    "metis(superhero = \"Superman\", \"Clark\", \"Kent\") "
   ]
  },
  {
   "cell_type": "markdown",
   "metadata": {},
   "source": [
    "### Example 2 (Rule 2):"
   ]
  },
  {
   "cell_type": "code",
   "execution_count": 31,
   "metadata": {},
   "outputs": [
    {
     "name": "stdout",
     "output_type": "stream",
     "text": [
      "The superhero Superman, has a first name of Clark and a last name of Kent\n"
     ]
    }
   ],
   "source": [
    "# no error since all the keyword arguments passed into the function match one of the arguments accepted by the function\n",
    "metis(superhero = \"Superman\", first_name = \"Clark\", last_name = \"Kent\") "
   ]
  },
  {
   "cell_type": "code",
   "execution_count": 32,
   "metadata": {},
   "outputs": [
    {
     "ename": "TypeError",
     "evalue": "metis() got an unexpected keyword argument 'extra'",
     "output_type": "error",
     "traceback": [
      "\u001b[0;31m---------------------------------------------------------------------------\u001b[0m",
      "\u001b[0;31mTypeError\u001b[0m                                 Traceback (most recent call last)",
      "\u001b[0;32m<ipython-input-32-af49538f94f0>\u001b[0m in \u001b[0;36m<module>\u001b[0;34m\u001b[0m\n\u001b[1;32m      1\u001b[0m \u001b[0;31m# error since not all the keywrod arguments passed into the function match one of the arguments accepted by the function\u001b[0m\u001b[0;34m\u001b[0m\u001b[0;34m\u001b[0m\u001b[0;34m\u001b[0m\u001b[0m\n\u001b[0;32m----> 2\u001b[0;31m \u001b[0mmetis\u001b[0m\u001b[0;34m(\u001b[0m\u001b[0msuperhero\u001b[0m \u001b[0;34m=\u001b[0m \u001b[0;34m\"Superman\"\u001b[0m\u001b[0;34m,\u001b[0m \u001b[0mfirst_name\u001b[0m \u001b[0;34m=\u001b[0m \u001b[0;34m\"Clark\"\u001b[0m\u001b[0;34m,\u001b[0m \u001b[0mlast_name\u001b[0m \u001b[0;34m=\u001b[0m \u001b[0;34m\"Kent\"\u001b[0m\u001b[0;34m,\u001b[0m \u001b[0mextra\u001b[0m \u001b[0;34m=\u001b[0m \u001b[0;34m\"Extra\"\u001b[0m\u001b[0;34m)\u001b[0m\u001b[0;34m\u001b[0m\u001b[0;34m\u001b[0m\u001b[0m\n\u001b[0m",
      "\u001b[0;31mTypeError\u001b[0m: metis() got an unexpected keyword argument 'extra'"
     ]
    }
   ],
   "source": [
    "# error since not all the keywrod arguments passed into the function match one of the arguments accepted by the function\n",
    "metis(superhero = \"Superman\", first_name = \"Clark\", last_name = \"Kent\", extra = \"Extra\") "
   ]
  },
  {
   "cell_type": "markdown",
   "metadata": {},
   "source": [
    "### Example 3 (Rule 3):"
   ]
  },
  {
   "cell_type": "code",
   "execution_count": 33,
   "metadata": {},
   "outputs": [
    {
     "name": "stdout",
     "output_type": "stream",
     "text": [
      "The superhero Superman, has a first name of Clark and a last name of Kent\n"
     ]
    }
   ],
   "source": [
    "# order 1\n",
    "metis(superhero = \"Superman\", first_name = \"Clark\", last_name = \"Kent\") "
   ]
  },
  {
   "cell_type": "code",
   "execution_count": 34,
   "metadata": {},
   "outputs": [
    {
     "name": "stdout",
     "output_type": "stream",
     "text": [
      "The superhero Superman, has a first name of Clark and a last name of Kent\n"
     ]
    }
   ],
   "source": [
    "# order 2\n",
    "metis(first_name = \"Clark\", last_name = \"Kent\", superhero = \"Superman\") "
   ]
  },
  {
   "cell_type": "code",
   "execution_count": 35,
   "metadata": {},
   "outputs": [
    {
     "name": "stdout",
     "output_type": "stream",
     "text": [
      "The superhero Superman, has a first name of Clark and a last name of Kent\n"
     ]
    }
   ],
   "source": [
    "# order 3\n",
    "metis(last_name = \"Kent\", first_name = \"Clark\", superhero = \"Superman\") "
   ]
  },
  {
   "cell_type": "markdown",
   "metadata": {},
   "source": [
    "All 3 orders of the keyword arguments yield the same result "
   ]
  },
  {
   "cell_type": "markdown",
   "metadata": {},
   "source": [
    "### Example 4 (Rule 4):"
   ]
  },
  {
   "cell_type": "code",
   "execution_count": 36,
   "metadata": {},
   "outputs": [
    {
     "name": "stdout",
     "output_type": "stream",
     "text": [
      "The superhero Superman, has a first name of Clark and a last name of Kent\n"
     ]
    }
   ],
   "source": [
    "# no error since all arguments receive only one value \n",
    "metis(superhero = \"Superman\", first_name = \"Clark\", last_name = \"Kent\") "
   ]
  },
  {
   "cell_type": "code",
   "execution_count": 37,
   "metadata": {},
   "outputs": [
    {
     "ename": "SyntaxError",
     "evalue": "keyword argument repeated (<ipython-input-37-66172073450a>, line 2)",
     "output_type": "error",
     "traceback": [
      "\u001b[0;36m  File \u001b[0;32m\"<ipython-input-37-66172073450a>\"\u001b[0;36m, line \u001b[0;32m2\u001b[0m\n\u001b[0;31m    metis(superhero = \"Superman\", first_name = \"Clark\", last_name = \"Kent\", superhero = \"Batman\")\u001b[0m\n\u001b[0m                                                                           ^\u001b[0m\n\u001b[0;31mSyntaxError\u001b[0m\u001b[0;31m:\u001b[0m keyword argument repeated\n"
     ]
    }
   ],
   "source": [
    "# error since an argument receives more than one value \n",
    "metis(superhero = \"Superman\", first_name = \"Clark\", last_name = \"Kent\", superhero = \"Batman\") "
   ]
  },
  {
   "cell_type": "markdown",
   "metadata": {},
   "source": [
    "### 1.1.3.3 Default Arguments"
   ]
  },
  {
   "cell_type": "markdown",
   "metadata": {},
   "source": [
    "__Default Argument Values:__  This is the most useful application and involves the \"function creater\" specifying a default value for one or more of the function's arguments. This means that the \"function user\" does NOT need to pass in a value for this argument. If they choose to, they will override the default value."
   ]
  },
  {
   "cell_type": "markdown",
   "metadata": {},
   "source": [
    "### Example 1.1 (Simple Function with Default Values):"
   ]
  },
  {
   "cell_type": "code",
   "execution_count": 38,
   "metadata": {},
   "outputs": [],
   "source": [
    "# simple function to calculate the 2nd power of any number (unless otherwise specified )\n",
    "def nth_power(num, n=2):\n",
    "    return num ** n "
   ]
  },
  {
   "cell_type": "code",
   "execution_count": 39,
   "metadata": {},
   "outputs": [
    {
     "data": {
      "text/plain": [
       "9"
      ]
     },
     "execution_count": 39,
     "metadata": {},
     "output_type": "execute_result"
    }
   ],
   "source": [
    "# specification 1: don't specify the default argument \n",
    "nth_power(3)"
   ]
  },
  {
   "cell_type": "code",
   "execution_count": 40,
   "metadata": {},
   "outputs": [
    {
     "data": {
      "text/plain": [
       "81"
      ]
     },
     "execution_count": 40,
     "metadata": {},
     "output_type": "execute_result"
    }
   ],
   "source": [
    "# specification 2: specify (and override) the default argument\n",
    "nth_power(3, 4)"
   ]
  },
  {
   "cell_type": "markdown",
   "metadata": {},
   "source": [
    "### 1.1.4 Closer Look at Outputs in Python Functions: "
   ]
  },
  {
   "cell_type": "markdown",
   "metadata": {},
   "source": [
    "__Overview:__\n",
    "- The `return` statement in Python functions declare what needs to be outputted after executing the function\n",
    "- However, technically functions do not need to `<return>` anything and can just manipulate an input (see example 1 below) \n",
    "- The function will end when it hits the `<return>` statement, so if this does not appear on the last line, the function will end prematurely and not execute any additional statements (see example 2 below) \n",
    "- Functions in Python have the ability of returning multiple variables (unlike the R programming language) (see example 3 below) \n",
    "\n",
    "__Helpful Points:__\n",
    "1. Remember that you do NOT need to encapsulate what you want to return inside parentheses, instead it follows this format: `return result` \n",
    "2. If there is no `return` statement, the function will not output anything \n",
    "\n",
    "__Practice:__ Examples of Different Types of `return` statement in Python "
   ]
  },
  {
   "cell_type": "markdown",
   "metadata": {},
   "source": [
    "### Example 1 (Function with No Return Statement):"
   ]
  },
  {
   "cell_type": "code",
   "execution_count": 41,
   "metadata": {},
   "outputs": [],
   "source": [
    "# function change the ith element of an object \n",
    "def change_element(obj, i):\n",
    "    if i <= len(obj):\n",
    "        obj[i] = \"NEW\" "
   ]
  },
  {
   "cell_type": "code",
   "execution_count": 42,
   "metadata": {},
   "outputs": [],
   "source": [
    "obj_1 = [1,2,3]\n",
    "obj_2 = [\"C\", \"l\", \"a\", \"r\", \"k\"]"
   ]
  },
  {
   "cell_type": "code",
   "execution_count": 43,
   "metadata": {},
   "outputs": [
    {
     "name": "stdout",
     "output_type": "stream",
     "text": [
      "[1, 2, 'NEW']\n"
     ]
    }
   ],
   "source": [
    "change_element(obj_1, 2)\n",
    "print(obj_1)"
   ]
  },
  {
   "cell_type": "code",
   "execution_count": 44,
   "metadata": {},
   "outputs": [
    {
     "name": "stdout",
     "output_type": "stream",
     "text": [
      "['C', 'l', 'a', 'NEW', 'k']\n"
     ]
    }
   ],
   "source": [
    "change_element(obj_2, 3)\n",
    "print(obj_2)"
   ]
  },
  {
   "cell_type": "markdown",
   "metadata": {},
   "source": [
    "### Example 2 (Function with Early Exit Return Statement):"
   ]
  },
  {
   "cell_type": "code",
   "execution_count": 45,
   "metadata": {},
   "outputs": [],
   "source": [
    "def early_exit(obj):\n",
    "    for element in obj:\n",
    "        if element == 1:\n",
    "            return # returns none \n",
    "    obj.append(\"COMPLETED\")\n",
    "    return obj"
   ]
  },
  {
   "cell_type": "code",
   "execution_count": 46,
   "metadata": {},
   "outputs": [],
   "source": [
    "obj_1 = [2,3,4,1,2]\n",
    "obj_2 = [2,2,2,2]"
   ]
  },
  {
   "cell_type": "code",
   "execution_count": 47,
   "metadata": {},
   "outputs": [
    {
     "name": "stdout",
     "output_type": "stream",
     "text": [
      "None\n"
     ]
    }
   ],
   "source": [
    "# early exit \n",
    "obj_1 = early_exit(obj_1)\n",
    "print(obj_1)"
   ]
  },
  {
   "cell_type": "code",
   "execution_count": 48,
   "metadata": {},
   "outputs": [
    {
     "name": "stdout",
     "output_type": "stream",
     "text": [
      "[2, 2, 2, 2, 'COMPLETED']\n"
     ]
    }
   ],
   "source": [
    "# no early exit\n",
    "obj_2 = early_exit(obj_2)\n",
    "print(obj_2)"
   ]
  },
  {
   "cell_type": "markdown",
   "metadata": {},
   "source": [
    "### Example 3 (Function that Outputs Multiple Variables): "
   ]
  },
  {
   "cell_type": "code",
   "execution_count": 49,
   "metadata": {},
   "outputs": [],
   "source": [
    "def nth_power(num, n):\n",
    "    return num ** n, n # return the result AND the power   "
   ]
  },
  {
   "cell_type": "code",
   "execution_count": 50,
   "metadata": {},
   "outputs": [
    {
     "name": "stdout",
     "output_type": "stream",
     "text": [
      "125\n",
      "3\n"
     ]
    }
   ],
   "source": [
    "nth_power_answer, nth_power_value = nth_power(5, 3) \n",
    "print(nth_power_answer)\n",
    "print(nth_power_value)"
   ]
  },
  {
   "cell_type": "markdown",
   "metadata": {},
   "source": [
    "### Problem 1\n",
    "\n",
    "Write a Function to return the minimum and maximum of a non-empty list. For example, try finding the minimum and maximum of the list `[1,3,5,10,12,2,0]`. Your function should return both values in the form of (`min`, `max`) as such (0, 10). \n",
    "\n",
    "- Call the function `minimax` and it should accept one argument - the list (call it `x`)\n",
    "- You will need a `for` loop to traverse the list that is passed in \n",
    "- Hint: Set the `min` and `max` as the first value in the list and iterate starting at position `1` to check if you should reassign your `min` and `max` variables. If you don't need to reset them, just move on to the next iteration. If you do need to reset them, reassign them appropriately\n",
    "- Check that your function works by passing in the list above and ensure it returns `(0, 10)`. Try with some other lists \n",
    "- Assume the list passed in is non-empty to make things easier "
   ]
  },
  {
   "cell_type": "code",
   "execution_count": 51,
   "metadata": {},
   "outputs": [],
   "source": [
    "# Write your code here\n",
    "\n",
    "\n",
    "\n"
   ]
  },
  {
   "cell_type": "markdown",
   "metadata": {},
   "source": [
    "### 1.1.5 Scope of Functions:"
   ]
  },
  {
   "cell_type": "markdown",
   "metadata": {},
   "source": [
    "__Overview:__\n",
    "- __[Scope](https://en.wikipedia.org/wiki/Scope_(computer_science)):__ Scope in programming refers to the \"region\" where a variable exists and is valid in \n",
    "- In Python, there are 2 main scopes:\n",
    "> 1. __Global Scope:__ The Global Region encompasses any space of a program that is NOT inside a function\n",
    "> 2. __Local Scope:__ The Local Region ecoompasses any space of a program that IS inside a function \n",
    "- Therefore, in Python, there are 2 main variables:\n",
    "> 1. __[Global Variables](https://anh.cs.luc.edu/python/hands-on/3.1/handsonHtml/functions.html#id7):__ All Variables created in __Global Scope__ are considered __Global Variables__\n",
    ">> - Global Variables are defined outside any function definition and at the \"top-level\" of the program \n",
    ">> - Global Variables are visible both INSIDE functions and (of course) OUTSIDE functions\n",
    ">> - You can declare a variable inside a function a Global Variable by typing this command before assigning the variable: `global variable_name` (see Example 3 below) \n",
    ">> - If you need a value for multiple functions (i.e. PI constant), you would declare it at the top of your program as a Global Variable (or more specifically, a Global Constant) (see Example 4 below) \n",
    ">> - Functions are also Global Variables which explains why we can call functions within functions (see Example 4 below)\n",
    "> 2. __[Local Variables](https://anh.cs.luc.edu/python/hands-on/3.1/handsonHtml/functions.html#id6):__ All Variables created in __Local Scope__ are considered __Local Variables__\n",
    ">> - Local Variables are defined inside function definition \n",
    ">> - Local Variables are only visible INSIDE functions and NOT visible OUTSIDE functions\n",
    ">> - Any variable you declare inside a function is a Local Variable, there is no need for explicit designation "
   ]
  },
  {
   "cell_type": "markdown",
   "metadata": {},
   "source": [
    "__Helpful Points:__\n",
    "1. A Local Variable that is defined in Local Scope can be used in that scope only and will refer to whatever value was assigned to it as long as the variable remains in that scope \n",
    "2. If you attempt to call a Local Variable in Global Scope, the variable will not be defined (in other words, it will not still refer to the value that was originally assigned to it in the Local Scope)\n",
    "3. In fact, the same variable name may have different values in Local and Global Scopes (since a brand new object is created in Local Scope) (see Example 2 below)   \n",
    "4. See [here](https://docs.python.org/2/tutorial/classes.html#tut-scopes) for some more information on Python Scopes \n",
    "\n",
    "__Practice:__ Examples of Global and Local Scope in Python "
   ]
  },
  {
   "cell_type": "markdown",
   "metadata": {},
   "source": [
    "### Example 1 (Global Scope and Global Variables):"
   ]
  },
  {
   "cell_type": "code",
   "execution_count": 52,
   "metadata": {},
   "outputs": [],
   "source": [
    "my_str = \"Clark\" # this is in global scope since we are not within a function, therefore this is a global variable\n",
    "\n",
    "# this begins local scope \n",
    "def name(last):\n",
    "    return my_str + \" \" + last # global variables are visible both inside and outside functions so we can use it here "
   ]
  },
  {
   "cell_type": "code",
   "execution_count": 53,
   "metadata": {
    "scrolled": true
   },
   "outputs": [
    {
     "name": "stdout",
     "output_type": "stream",
     "text": [
      "Clark Kent\n"
     ]
    }
   ],
   "source": [
    "my_name = name(\"Kent\")\n",
    "print(my_name)"
   ]
  },
  {
   "cell_type": "markdown",
   "metadata": {},
   "source": [
    "### Example 2 (Local Scope and Local Variables):"
   ]
  },
  {
   "cell_type": "code",
   "execution_count": 54,
   "metadata": {},
   "outputs": [],
   "source": [
    "my_str = \"Clark\" # this is in global scope since we are not within a function, therefore this is a global variable\n",
    "\n",
    "# this begins local scope \n",
    "def name(last):\n",
    "    my_str = \"Bruce\" # a new object is created as a local variable and this value is not visible in global scope \n",
    "    return my_str + \" \" + last "
   ]
  },
  {
   "cell_type": "code",
   "execution_count": 55,
   "metadata": {},
   "outputs": [
    {
     "name": "stdout",
     "output_type": "stream",
     "text": [
      "Bruce Kent\n"
     ]
    }
   ],
   "source": [
    "my_name = name(\"Kent\")\n",
    "print(my_name)"
   ]
  },
  {
   "cell_type": "code",
   "execution_count": 56,
   "metadata": {},
   "outputs": [
    {
     "name": "stdout",
     "output_type": "stream",
     "text": [
      "Clark\n"
     ]
    }
   ],
   "source": [
    "print(my_str) # still the same value (was not re-assigned to \"Bruce\" - this assignment was only valid in local scope)"
   ]
  },
  {
   "cell_type": "markdown",
   "metadata": {},
   "source": [
    "### Example 3 (Making Global Variables in Local Scope):"
   ]
  },
  {
   "cell_type": "code",
   "execution_count": 57,
   "metadata": {},
   "outputs": [],
   "source": [
    "my_str = \"Clark\" # this is in global scope since we are not within a function, therefore this is a global variable\n",
    "\n",
    "# this begins local scope \n",
    "def name(last):\n",
    "    global my_str # we are declaring the my_str object as a global variable \n",
    "    my_str = \"Bruce\" # will not be visible in the global scope \n",
    "    return my_str + \" \" + last  "
   ]
  },
  {
   "cell_type": "code",
   "execution_count": 58,
   "metadata": {},
   "outputs": [
    {
     "name": "stdout",
     "output_type": "stream",
     "text": [
      "Bruce Kent\n"
     ]
    }
   ],
   "source": [
    "my_name = name(\"Kent\")\n",
    "print(my_name)"
   ]
  },
  {
   "cell_type": "code",
   "execution_count": 59,
   "metadata": {
    "scrolled": true
   },
   "outputs": [
    {
     "name": "stdout",
     "output_type": "stream",
     "text": [
      "Bruce\n"
     ]
    }
   ],
   "source": [
    "print(my_str) # now changed value (re-assigned to \"Bruce\" - this assignment was valid in global scope due to the explicit assignment)"
   ]
  },
  {
   "cell_type": "markdown",
   "metadata": {},
   "source": [
    "### Example 4 (Nested Functions and Global Constants):"
   ]
  },
  {
   "cell_type": "code",
   "execution_count": 60,
   "metadata": {},
   "outputs": [],
   "source": [
    "PI = 3.14159265358979   # global constant - only place the value of PI is set\n",
    "\n",
    "# function calculate the area of a circle \n",
    "def circleArea(radius):\n",
    "    return PI*radius**2    # use value of global constant PI\n",
    "\n",
    "# function to calculate the circumference of a circle \n",
    "def circleCircumference(radius):\n",
    "    return 2*PI*radius         # use value of global constant PI\n",
    "\n",
    "# function to print out final values \n",
    "def circle_characteristics(radius):\n",
    "    print('circle area with radius 5:', round(circleArea(radius),2)) # call the circleArea function which is in global scope\n",
    "    print('circumference with radius 5:', round(circleCircumference(radius),2)) # call the circleCircumference function which is in global scope"
   ]
  },
  {
   "cell_type": "code",
   "execution_count": 61,
   "metadata": {},
   "outputs": [
    {
     "name": "stdout",
     "output_type": "stream",
     "text": [
      "circle area with radius 5: 314.16\n",
      "circumference with radius 5: 62.83\n"
     ]
    }
   ],
   "source": [
    "radius = 10\n",
    "circle_characteristics(10)"
   ]
  },
  {
   "cell_type": "markdown",
   "metadata": {},
   "source": [
    "# ANSWERS"
   ]
  },
  {
   "cell_type": "markdown",
   "metadata": {},
   "source": [
    "### Problem 1 \n",
    "\n",
    "Write a Function to return the minimum and maximum of a non-empty list. For example, try finding the minimum and maximum of the list `[1,3,5,10,12,2,0]`. Your function should return both values in the form of (`min`, `max`) as such (0, 10). \n",
    "\n",
    "- Call the function `minimax` and it should accept one argument - the list (call it `x`)\n",
    "- You will need a `for` loop to traverse the list that is passed in \n",
    "- Hint: Set the `min` and `max` as the first value in the list and iterate starting at position `1` to check if you should reassign your `min` and `max` variables. If you don't need to reset them, just move on to the next iteration. If you do need to reset them, reassign them appropriately\n",
    "- Check that your function works by passing in the list above and ensure it returns `(0, 10)`. Try with some other lists \n",
    "- Assume the list passed in is non-empty to make things easier "
   ]
  },
  {
   "cell_type": "code",
   "execution_count": 62,
   "metadata": {},
   "outputs": [],
   "source": [
    "# minimax function\n",
    "def minimax(x):\n",
    "    minimum = maximum = x[0]\n",
    "    for i in x[1:]:\n",
    "        if i < minimum: \n",
    "            minimum = i \n",
    "        elif i > maximum: \n",
    "            maximum = i\n",
    "    return minimum,maximum"
   ]
  },
  {
   "cell_type": "code",
   "execution_count": 63,
   "metadata": {},
   "outputs": [
    {
     "name": "stdout",
     "output_type": "stream",
     "text": [
      "The minimum is 0 and the maximum is 12\n"
     ]
    }
   ],
   "source": [
    "my_list = [1,3,5,10,12,2,0]\n",
    "minimum, maximum = minimax(my_list)\n",
    "\n",
    "print(f\"The minimum is {minimum} and the maximum is {maximum}\")"
   ]
  },
  {
   "cell_type": "code",
   "execution_count": null,
   "metadata": {},
   "outputs": [],
   "source": []
  }
 ],
 "metadata": {
  "kernelspec": {
   "display_name": "Python 3",
   "language": "python",
   "name": "python3"
  },
  "language_info": {
   "codemirror_mode": {
    "name": "ipython",
    "version": 3
   },
   "file_extension": ".py",
   "mimetype": "text/x-python",
   "name": "python",
   "nbconvert_exporter": "python",
   "pygments_lexer": "ipython3",
   "version": "3.7.2"
  }
 },
 "nbformat": 4,
 "nbformat_minor": 2
}
