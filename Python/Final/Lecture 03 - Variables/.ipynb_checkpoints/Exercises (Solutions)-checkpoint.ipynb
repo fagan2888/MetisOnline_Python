{
 "cells": [
  {
   "cell_type": "markdown",
   "metadata": {},
   "source": [
    "# Variables and Comments Exercise\n",
    "\n",
    "In this exercise, we'll practice writing code to convert temperatures between Celsius and Fahrenheit, using simple assignments, simultaneous assignments, and compound assignments of variables and constants. \n",
    "\n",
    "The formula to convert 0° Celsius to Fahrenheit is $(0°C × \\frac{9}{5}) + 32 = 32°F$.\n",
    "\n",
    "The formula to convert 0° Fahrenheit to Celsius is $(0°F − 32) × \\frac{5}{9} = -17.78°C$.\n",
    "\n",
    "The formulas extend to non-zero values in a reasonable way.\n",
    "\n",
    "\n",
    "*Note that in other programming languages, \"constant variables\" are variables whose values cannot be changed after they have been initialized. Python does not support this feature, but it is conventional in Python programming to use variable names in all capital letters to indicate that that value should never be changed. It is not enforced by Python, however.*"
   ]
  },
  {
   "cell_type": "markdown",
   "metadata": {},
   "source": [
    "## Conversion Constants\n",
    "\n",
    "Create variables with descriptive names to store the conversion constants. \n",
    "\n",
    "There is a scaler, `9/5`, and an offset, `32`.\n",
    "\n",
    "Give them names in all capital letters to remind other programmers that these values should not be changed.\n",
    "\n",
    "Choose variable names for `9/5` (the scalar) and `32` that makes it obvious which way the conversion works."
   ]
  },
  {
   "cell_type": "code",
   "execution_count": null,
   "metadata": {
    "ExecuteTime": {
     "end_time": "2019-10-14T21:14:33.327967Z",
     "start_time": "2019-10-14T21:14:33.316805Z"
    }
   },
   "outputs": [],
   "source": [
    "F_PER_DEG_C, ZERO_C_IN_F = 9/5, 32"
   ]
  },
  {
   "cell_type": "markdown",
   "metadata": {},
   "source": [
    "## Conversion Calculations\n",
    "\n",
    "Create a variable `celsius` to store 20 degrees Celsius.\n",
    "\n",
    "Print the values and units of the original temperature.\n",
    "\n",
    "Convert the variable `celsius` to Fahrenheit, and store it in a variable `fahrenheit`.\n",
    "\n",
    "Print the line `20 degrees Celsius is ...... degrees Fahrenheit`.\n",
    "\n",
    "**Note:** If we want to convert 30 degrees Celsius, you should only have to change the first line of code."
   ]
  },
  {
   "cell_type": "code",
   "execution_count": null,
   "metadata": {
    "ExecuteTime": {
     "end_time": "2019-10-14T21:24:22.025565Z",
     "start_time": "2019-10-14T21:24:22.016092Z"
    }
   },
   "outputs": [],
   "source": [
    "# Our initial value (we should change this to calculate a different value)\n",
    "celsius = 20\n",
    "\n",
    "fahrenheit = F_PER_DEG_C * celsius + ZERO_C_IN_F\n",
    "\n",
    "print(f\"{celsius} degrees Celsius is {fahrenheit} degrees Fahrenheit\")"
   ]
  },
  {
   "cell_type": "markdown",
   "metadata": {},
   "source": [
    "## Convert Fahrenheit to Celsius\n",
    "\n",
    "Create a variable `fahrenheit` to store the value 68.\n",
    "\n",
    "Following steps similar to the previous problem, write a cell that converts `fahrenheit` to Celsius, and print our the line \n",
    "```\n",
    "68 degrees Fahrenheit is ..... degrees Celsuis\n",
    "```\n",
    "\n",
    "**Note:** Similar to the previous problem, if we wanted to convert a different temperature, we should only have to change the initial value of `fahrenheit`."
   ]
  },
  {
   "cell_type": "code",
   "execution_count": null,
   "metadata": {},
   "outputs": [],
   "source": [
    "# Our initial value\n",
    "# Note it overwrites the previous value of fahrenheit\n",
    "fahrenheit = 68\n",
    "\n",
    "celsius = (fahrenheit - ZERO_C_IN_F) / F_PER_DEG_C\n",
    "\n",
    "print(f'{fahrenheit} degrees Fahrenheit is {celsius} degrees Celsius')"
   ]
  },
  {
   "cell_type": "markdown",
   "metadata": {},
   "source": [
    "## Extra: Distance Conversions\n",
    "\n",
    "Do the same exercise to convert miles to kilometers.\n",
    "\n",
    "Note: 1 mile is 1.6 kilometers."
   ]
  },
  {
   "cell_type": "code",
   "execution_count": null,
   "metadata": {},
   "outputs": [],
   "source": [
    "KMS_PER_MILE = 1.6\n",
    "\n",
    "# our initial value in miles\n",
    "miles = 5\n",
    "\n",
    "kilometers = KMS_PER_MILE * miles\n",
    "\n",
    "print(f'{miles} miles is the same as {kilometers} kilometers')"
   ]
  },
  {
   "cell_type": "code",
   "execution_count": null,
   "metadata": {},
   "outputs": [],
   "source": []
  }
 ],
 "metadata": {
  "kernelspec": {
   "display_name": "Python 3",
   "language": "python",
   "name": "python3"
  },
  "language_info": {
   "codemirror_mode": {
    "name": "ipython",
    "version": 3
   },
   "file_extension": ".py",
   "mimetype": "text/x-python",
   "name": "python",
   "nbconvert_exporter": "python",
   "pygments_lexer": "ipython3",
   "version": "3.7.2"
  },
  "toc": {
   "base_numbering": 1,
   "nav_menu": {},
   "number_sections": true,
   "sideBar": true,
   "skip_h1_title": false,
   "title_cell": "Table of Contents",
   "title_sidebar": "Contents",
   "toc_cell": false,
   "toc_position": {},
   "toc_section_display": true,
   "toc_window_display": false
  }
 },
 "nbformat": 4,
 "nbformat_minor": 2
}
