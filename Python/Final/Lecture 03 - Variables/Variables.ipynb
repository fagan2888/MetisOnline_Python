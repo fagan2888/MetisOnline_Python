{
 "cells": [
  {
   "cell_type": "markdown",
   "metadata": {},
   "source": [
    "# Python \n",
    "### Python Variables and Variable Assignments"
   ]
  },
  {
   "cell_type": "markdown",
   "metadata": {},
   "source": [
    "__Purpose:__\n",
    "The purpose of this lecture is to illustrate some introductory topics in Python programming such as variables and assignments. \n",
    "\n",
    "__At the end of this lecture you will be able to:__\n",
    "1. Write basic Python commands using variable assignments and print statements"
   ]
  },
  {
   "cell_type": "markdown",
   "metadata": {},
   "source": [
    "## 1.1 Variables in Python "
   ]
  },
  {
   "cell_type": "markdown",
   "metadata": {},
   "source": [
    "__Overview:__\n",
    "- A __[Variable](https://en.wikipedia.org/wiki/Variable_(computer_science))__ in programming is used to give a name to a value so that we can refer to it at other points in the program\n",
    "- Variables are most commonly used as part of Variable Assignments (see section below)\n",
    "\n",
    "__Helpful Points:__\n",
    "1. You have the luxury of naming variables according to any name you wish\n",
    "2. However, there are some constraints/rules you must follow:\n",
    ">a. Variable names are case sensitive so the variable `a` is different than the variable `A`<br>\n",
    ">b. There are a list of \"reserved\" names in Python that you should not use to name variables. You can find a complete list of reserved words [here](https://docs.python.org/2.5/ref/keywords.html). You will notice a variable name is a Python keyword because as you type it, the text will turn <font color=\"green\">green</font> <br>\n",
    ">c. Variable names must start with a letter or an underscore but the remainder of the variable can consist of letters, numbers and underscores<br>\n",
    ">d. Multi-variable names can not be separated by a dot (`.`) since this denotes a method \n",
    "3. Additionally, there are some best practices you should follow:\n",
    ">a. Multi-variable names are usually separated by an underscore (`clark_kent` is more readable than `clarkkent`)<br>\n",
    ">b. Variable names should be descriptive and therefore random letters such as a, b, c should be avoided<br>\n",
    ">c. Avoid misleading letters such as the letter (`l`) since it looks remarkably similar to the number (`1`) and the capital letter (`O`) since it looks remarkably similar to the number (`0`)\n",
    "\n",
    "__Practice:__ Examples of variables in Python "
   ]
  },
  {
   "cell_type": "markdown",
   "metadata": {},
   "source": [
    "### Example 1 (Proper Variable Names):"
   ]
  },
  {
   "cell_type": "code",
   "execution_count": null,
   "metadata": {},
   "outputs": [],
   "source": [
    "# this is a VALID (but not \"good practice\") variable name \n",
    "b = 2"
   ]
  },
  {
   "cell_type": "code",
   "execution_count": null,
   "metadata": {},
   "outputs": [],
   "source": [
    "# this is another VALID (but not \"good practice\") variable name \n",
    "_b = 2"
   ]
  },
  {
   "cell_type": "code",
   "execution_count": null,
   "metadata": {},
   "outputs": [],
   "source": [
    "# this is another VALID (but not \"good practice\") variable name \n",
    "_b123 = 2"
   ]
  },
  {
   "cell_type": "markdown",
   "metadata": {},
   "source": [
    "### Example 2 (Improper Variable Names):"
   ]
  },
  {
   "cell_type": "code",
   "execution_count": null,
   "metadata": {},
   "outputs": [],
   "source": [
    "# this is an improper variable name since it separates works by a dot \n",
    "clark.kent = 2"
   ]
  },
  {
   "cell_type": "code",
   "execution_count": null,
   "metadata": {},
   "outputs": [],
   "source": [
    "# this is another improper variable name since it is a reserved keyword in Python \n",
    "lambda = 2"
   ]
  },
  {
   "cell_type": "code",
   "execution_count": null,
   "metadata": {},
   "outputs": [],
   "source": [
    "# this is another improper variable name since it does not begin with an underscore or letter\n",
    "1a2 = 2"
   ]
  },
  {
   "cell_type": "markdown",
   "metadata": {},
   "source": [
    "### 1.2 Variable Assignment"
   ]
  },
  {
   "cell_type": "markdown",
   "metadata": {},
   "source": [
    "__Overview:__\n",
    "- Variables are best understood through Variable Assignments which is the technical act of assigning a value to the variable \n",
    "- The assignment operator in Python is denoted by the equal sign (`=`) \n",
    "- The variable appears on the left followed by the assignment operator and then the value you wish to assign to the variable (Variable Assingment works left to right)\n",
    "\n",
    "__Helpful Points:__\n",
    "1. When creating new variables and assigning values to the variables, ensure you follow the rules and best practices laid out in the previous section to avoid errors!\n",
    "2. Every variable you wish to work with must be assigned a value (even if the value is empty), otherwise you will receive an error\n",
    "3. To view the value of an assignment, simply type the variable name\n",
    "\n",
    "__Practice:__ Examples of Variables Assignments in Python "
   ]
  },
  {
   "cell_type": "markdown",
   "metadata": {},
   "source": [
    "### Part 1: Simple Examples"
   ]
  },
  {
   "cell_type": "markdown",
   "metadata": {},
   "source": [
    "### Example 1.1 (Non-Empty Variable Assignments with no Errors):"
   ]
  },
  {
   "cell_type": "code",
   "execution_count": null,
   "metadata": {},
   "outputs": [],
   "source": [
    "full_name = \"Clark Kent\"\n",
    "birthday_month = \"April\" # Superman's birthday is April 18, 1938 (unconfirmed)\n",
    "\n",
    "print(f'full_name is equal to {full_name}') \n",
    "\n",
    "print(f'birthday_month is equal to {birthday_month}')"
   ]
  },
  {
   "cell_type": "markdown",
   "metadata": {},
   "source": [
    "We can interpret these variable assignments in the following way:\n",
    "- full_name IS \"Clark Kent\"\n",
    "- birthday_month IS \"April\""
   ]
  },
  {
   "cell_type": "code",
   "execution_count": null,
   "metadata": {},
   "outputs": [],
   "source": [
    "full_name"
   ]
  },
  {
   "cell_type": "code",
   "execution_count": null,
   "metadata": {},
   "outputs": [],
   "source": [
    "birthday_month"
   ]
  },
  {
   "cell_type": "code",
   "execution_count": null,
   "metadata": {},
   "outputs": [],
   "source": [
    "print(f'{full_name} was born in the month of {birthday_month}')"
   ]
  },
  {
   "cell_type": "code",
   "execution_count": null,
   "metadata": {},
   "outputs": [],
   "source": [
    "# change the values of the variables we created above \n",
    "full_name = \"Bruce Wayne\" \n",
    "\n",
    "print(f'full_name is equal to {full_name}')\n",
    "print(f'birthday_month is STILL equal to {birthday_month}')"
   ]
  },
  {
   "cell_type": "markdown",
   "metadata": {},
   "source": [
    "After a variable is assigned to a value, you can always override that value by re-assigning the variable to a NEW value. "
   ]
  },
  {
   "cell_type": "markdown",
   "metadata": {},
   "source": [
    "### Example 1.2 (Non-Empty Variable Assignments with Errors):"
   ]
  },
  {
   "cell_type": "code",
   "execution_count": null,
   "metadata": {},
   "outputs": [],
   "source": [
    "False = \"Clark Kent\""
   ]
  },
  {
   "cell_type": "markdown",
   "metadata": {},
   "source": [
    "Why do we get this error here?"
   ]
  },
  {
   "cell_type": "code",
   "execution_count": null,
   "metadata": {},
   "outputs": [],
   "source": [
    "0 = \"Clark\""
   ]
  },
  {
   "cell_type": "markdown",
   "metadata": {},
   "source": [
    "Why do we get this error here?"
   ]
  },
  {
   "cell_type": "code",
   "execution_count": null,
   "metadata": {},
   "outputs": [],
   "source": [
    "\"\" = \"April\""
   ]
  },
  {
   "cell_type": "markdown",
   "metadata": {},
   "source": [
    "Why do we get this error here?"
   ]
  },
  {
   "cell_type": "markdown",
   "metadata": {},
   "source": [
    "### Example 1.3 (Empty Variable Assignments with no Errors):"
   ]
  },
  {
   "cell_type": "code",
   "execution_count": null,
   "metadata": {},
   "outputs": [],
   "source": [
    "clark_age = \"\""
   ]
  },
  {
   "cell_type": "code",
   "execution_count": null,
   "metadata": {},
   "outputs": [],
   "source": [
    "clark_age"
   ]
  },
  {
   "cell_type": "markdown",
   "metadata": {},
   "source": [
    "A variable MUST have a value assigned to it, but the value CAN be empty."
   ]
  },
  {
   "cell_type": "markdown",
   "metadata": {},
   "source": [
    "### Part 2: Advanced Examples"
   ]
  },
  {
   "cell_type": "markdown",
   "metadata": {},
   "source": [
    "### Example 2.1 (Chained Assignments): "
   ]
  },
  {
   "cell_type": "markdown",
   "metadata": {},
   "source": [
    "__[Chained Assignments](https://en.wikipedia.org/wiki/Assignment_(computer_science)):__ This feature in Python allows one to assign the same value to multiple variables at once.\n",
    "- Chained Assignments are most commonly used to initialize multiple variables all at once (i.e. i = j = k = 1)"
   ]
  },
  {
   "cell_type": "code",
   "execution_count": null,
   "metadata": {},
   "outputs": [],
   "source": [
    "clark = bruce = \"superheroes\""
   ]
  },
  {
   "cell_type": "code",
   "execution_count": null,
   "metadata": {},
   "outputs": [],
   "source": [
    "clark"
   ]
  },
  {
   "cell_type": "code",
   "execution_count": null,
   "metadata": {},
   "outputs": [],
   "source": [
    "bruce"
   ]
  },
  {
   "cell_type": "markdown",
   "metadata": {},
   "source": [
    "### Example 2.2 (Simultaneous Assignments):"
   ]
  },
  {
   "cell_type": "markdown",
   "metadata": {},
   "source": [
    "__[Simultaneous Assignments](https://en.wikipedia.org/wiki/Assignment_(computer_science)):__ This feature in Python allows one to assign multiple values to multiple variables at once \n",
    "- Simultaneous Assignments makes \"trading\" values between variables very efficient "
   ]
  },
  {
   "cell_type": "code",
   "execution_count": null,
   "metadata": {},
   "outputs": [],
   "source": [
    "a, b = 1, 2"
   ]
  },
  {
   "cell_type": "code",
   "execution_count": null,
   "metadata": {},
   "outputs": [],
   "source": [
    "a"
   ]
  },
  {
   "cell_type": "code",
   "execution_count": null,
   "metadata": {},
   "outputs": [],
   "source": [
    "b"
   ]
  },
  {
   "cell_type": "code",
   "execution_count": null,
   "metadata": {},
   "outputs": [],
   "source": [
    "# trading values between variables (without the use of simultaneous assignments)\n",
    "a = 1 \n",
    "b = 2\n",
    "temp = a\n",
    "a = b\n",
    "b = temp "
   ]
  },
  {
   "cell_type": "code",
   "execution_count": null,
   "metadata": {},
   "outputs": [],
   "source": [
    "a"
   ]
  },
  {
   "cell_type": "code",
   "execution_count": null,
   "metadata": {},
   "outputs": [],
   "source": [
    "b"
   ]
  },
  {
   "cell_type": "code",
   "execution_count": null,
   "metadata": {},
   "outputs": [],
   "source": [
    "# trading values between variables (with the use of simultaneous assignments)\n",
    "a = 1 \n",
    "b = 2\n",
    "a,b = b,a"
   ]
  },
  {
   "cell_type": "code",
   "execution_count": null,
   "metadata": {},
   "outputs": [],
   "source": [
    "a"
   ]
  },
  {
   "cell_type": "code",
   "execution_count": null,
   "metadata": {},
   "outputs": [],
   "source": [
    "b"
   ]
  },
  {
   "cell_type": "markdown",
   "metadata": {},
   "source": [
    "Note: there is a lot going in behind the scenes in this \"trading\" example that you will have to wait for a future lecture to understand since it involves the concepts of packing and unpacking. "
   ]
  },
  {
   "cell_type": "markdown",
   "metadata": {},
   "source": [
    "### Problem 1:\n",
    "Create 4 variables called `a`, `b`, `c`, `d` and assign them values of 10, 20, 30, and 40 respectively\n",
    "\n",
    "- Show the outputs of these 4 variables\n",
    "- __BONUS__: try using simultaneous assignments"
   ]
  },
  {
   "cell_type": "code",
   "execution_count": null,
   "metadata": {},
   "outputs": [],
   "source": [
    "# Write your code here\n",
    "\n",
    "\n",
    "\n"
   ]
  },
  {
   "cell_type": "markdown",
   "metadata": {},
   "source": [
    "# SOLUTIONS"
   ]
  },
  {
   "cell_type": "markdown",
   "metadata": {},
   "source": [
    "### Problem 1:\n",
    "Create 4 variables called `a`, `b`, `c`, `d` and assign them values of 10, 20, 30, and 40 respectively\n",
    "\n",
    "- Show the outputs of these 4 variables\n",
    "- __BONUS__: try using simultaneous assignments"
   ]
  },
  {
   "cell_type": "code",
   "execution_count": null,
   "metadata": {},
   "outputs": [],
   "source": [
    "# Method 1\n",
    "a = 10\n",
    "b = 20 \n",
    "c = 30 \n",
    "d = 40"
   ]
  },
  {
   "cell_type": "code",
   "execution_count": null,
   "metadata": {},
   "outputs": [],
   "source": [
    "print(a,b,c,d)"
   ]
  },
  {
   "cell_type": "code",
   "execution_count": null,
   "metadata": {},
   "outputs": [],
   "source": [
    "# Method 2\n",
    "a, b, c, d = 10, 20, 30, 40"
   ]
  },
  {
   "cell_type": "code",
   "execution_count": null,
   "metadata": {
    "scrolled": true
   },
   "outputs": [],
   "source": [
    "print(f\"a is {a}, b is {b}, c is {c}, d is {d}\")"
   ]
  },
  {
   "cell_type": "code",
   "execution_count": null,
   "metadata": {},
   "outputs": [],
   "source": [
    "print(\"a is now\",a,\", b is now\",b,\", c is now\",c,\", d is now\",d)"
   ]
  },
  {
   "cell_type": "code",
   "execution_count": null,
   "metadata": {},
   "outputs": [],
   "source": []
  }
 ],
 "metadata": {
  "kernelspec": {
   "display_name": "Python 3",
   "language": "python",
   "name": "python3"
  },
  "language_info": {
   "codemirror_mode": {
    "name": "ipython",
    "version": 3
   },
   "file_extension": ".py",
   "mimetype": "text/x-python",
   "name": "python",
   "nbconvert_exporter": "python",
   "pygments_lexer": "ipython3",
   "version": "3.7.2"
  },
  "toc": {
   "base_numbering": 1,
   "nav_menu": {},
   "number_sections": true,
   "sideBar": true,
   "skip_h1_title": false,
   "title_cell": "Table of Contents",
   "title_sidebar": "Contents",
   "toc_cell": false,
   "toc_position": {},
   "toc_section_display": true,
   "toc_window_display": false
  }
 },
 "nbformat": 4,
 "nbformat_minor": 2
}
