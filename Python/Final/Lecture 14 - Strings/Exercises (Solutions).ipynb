{
 "cells": [
  {
   "cell_type": "markdown",
   "metadata": {},
   "source": [
    "# Exercises: \n",
    "\n",
    "Note: There are multiple ways to solve these problems, and these are just examples."
   ]
  },
  {
   "cell_type": "markdown",
   "metadata": {},
   "source": [
    "## For the following string: \"The quick brown fox jumps over the lazy dog\"\n",
    "\n",
    "A) How many characters, including blank spaces, are in the string?\n",
    "\n",
    "B) Replace the word \"quick\" with \"slow\" (not in-place)\n",
    "\n",
    "C) How many words are in the sentence? \n",
    "\n",
    "D) At what index does the letter \"z\" occur?\n",
    "\n",
    "E) Sort the letters of the sentence (not in place) and print it out.\n",
    "\n",
    "F) Count how many times the  letter \"o\" appears.\n",
    "\n",
    "G) Print the string with the first letter of each word capitalized.  Google the __title__ method."
   ]
  },
  {
   "cell_type": "code",
   "execution_count": null,
   "metadata": {
    "ExecuteTime": {
     "end_time": "2020-01-14T01:36:29.969996Z",
     "start_time": "2020-01-14T01:36:29.967823Z"
    }
   },
   "outputs": [],
   "source": [
    "SENTENCE = \"The quick brown fox jumps over the lazy dog\""
   ]
  },
  {
   "cell_type": "code",
   "execution_count": null,
   "metadata": {
    "ExecuteTime": {
     "end_time": "2020-01-14T01:36:29.979218Z",
     "start_time": "2020-01-14T01:36:29.971324Z"
    }
   },
   "outputs": [],
   "source": [
    "# A\n",
    "len(SENTENCE)"
   ]
  },
  {
   "cell_type": "code",
   "execution_count": null,
   "metadata": {
    "ExecuteTime": {
     "end_time": "2020-01-14T01:36:29.983662Z",
     "start_time": "2020-01-14T01:36:29.980505Z"
    }
   },
   "outputs": [],
   "source": [
    "# B\n",
    "print(SENTENCE.replace('quick','slow'))\n",
    "print(SENTENCE)"
   ]
  },
  {
   "cell_type": "code",
   "execution_count": null,
   "metadata": {
    "ExecuteTime": {
     "end_time": "2020-01-14T01:36:29.987715Z",
     "start_time": "2020-01-14T01:36:29.985045Z"
    }
   },
   "outputs": [],
   "source": [
    "# C\n",
    "my_list = SENTENCE.split(' ')\n",
    "print(f\"There are {len(my_list)} words in the sentence\")"
   ]
  },
  {
   "cell_type": "code",
   "execution_count": null,
   "metadata": {
    "ExecuteTime": {
     "end_time": "2020-01-14T01:36:29.992083Z",
     "start_time": "2020-01-14T01:36:29.989039Z"
    }
   },
   "outputs": [],
   "source": [
    "# D\n",
    "SENTENCE.index('z')"
   ]
  },
  {
   "cell_type": "code",
   "execution_count": null,
   "metadata": {
    "ExecuteTime": {
     "end_time": "2020-01-14T01:36:29.995501Z",
     "start_time": "2020-01-14T01:36:29.993240Z"
    }
   },
   "outputs": [],
   "source": [
    "# E\n",
    "print(sorted(SENTENCE))"
   ]
  },
  {
   "cell_type": "code",
   "execution_count": null,
   "metadata": {
    "ExecuteTime": {
     "end_time": "2020-01-14T01:36:30.075954Z",
     "start_time": "2020-01-14T01:36:29.997062Z"
    }
   },
   "outputs": [],
   "source": [
    "# F\n",
    "SENTENCE.count('o')"
   ]
  },
  {
   "cell_type": "code",
   "execution_count": null,
   "metadata": {
    "ExecuteTime": {
     "end_time": "2020-01-14T01:36:30.079098Z",
     "start_time": "2020-01-14T01:36:29.979Z"
    }
   },
   "outputs": [],
   "source": [
    "# G\n",
    "print(SENTENCE.title())"
   ]
  },
  {
   "cell_type": "markdown",
   "metadata": {},
   "source": [
    "## Print a sentence with the following format: \"The number is X!\" Replace X with:\n",
    "\n",
    "A) The output of 1/3 showing all decimals. Just kidding, there are an infinite number of decimals. Just print the default number\n",
    "\n",
    "B) The output of 1+1/3 showing no decimals\n",
    "\n",
    "C) The output of 10/3 showing 2 decimals"
   ]
  },
  {
   "cell_type": "code",
   "execution_count": null,
   "metadata": {
    "ExecuteTime": {
     "end_time": "2020-01-14T01:36:30.080568Z",
     "start_time": "2020-01-14T01:36:29.980Z"
    }
   },
   "outputs": [],
   "source": [
    "# A\n",
    "print(f\"The number is {1/3}\")"
   ]
  },
  {
   "cell_type": "code",
   "execution_count": null,
   "metadata": {
    "ExecuteTime": {
     "end_time": "2020-01-14T01:36:30.081490Z",
     "start_time": "2020-01-14T01:36:29.983Z"
    }
   },
   "outputs": [],
   "source": [
    "# B\n",
    "print(f\"The number is {round(1+1/3)}\")\n",
    "# This also works\n",
    "print(f\"The number is {round(1+1/3):0}\")"
   ]
  },
  {
   "cell_type": "code",
   "execution_count": null,
   "metadata": {
    "ExecuteTime": {
     "end_time": "2020-01-14T01:36:30.082528Z",
     "start_time": "2020-01-14T01:36:29.985Z"
    }
   },
   "outputs": [],
   "source": [
    "# C\n",
    "print(f\"The number is {10/3:.3}\")\n",
    "# This also works\n",
    "print(f\"The number is {round(10/3,2)}\")"
   ]
  },
  {
   "cell_type": "code",
   "execution_count": null,
   "metadata": {},
   "outputs": [],
   "source": []
  }
 ],
 "metadata": {
  "kernelspec": {
   "display_name": "Python 3",
   "language": "python",
   "name": "python3"
  },
  "language_info": {
   "codemirror_mode": {
    "name": "ipython",
    "version": 3
   },
   "file_extension": ".py",
   "mimetype": "text/x-python",
   "name": "python",
   "nbconvert_exporter": "python",
   "pygments_lexer": "ipython3",
   "version": "3.7.2"
  },
  "toc": {
   "base_numbering": 1,
   "nav_menu": {},
   "number_sections": true,
   "sideBar": true,
   "skip_h1_title": false,
   "title_cell": "Table of Contents",
   "title_sidebar": "Contents",
   "toc_cell": false,
   "toc_position": {},
   "toc_section_display": true,
   "toc_window_display": false
  },
  "varInspector": {
   "cols": {
    "lenName": 16,
    "lenType": 16,
    "lenVar": 40
   },
   "kernels_config": {
    "python": {
     "delete_cmd_postfix": "",
     "delete_cmd_prefix": "del ",
     "library": "var_list.py",
     "varRefreshCmd": "print(var_dic_list())"
    },
    "r": {
     "delete_cmd_postfix": ") ",
     "delete_cmd_prefix": "rm(",
     "library": "var_list.r",
     "varRefreshCmd": "cat(var_dic_list()) "
    }
   },
   "types_to_exclude": [
    "module",
    "function",
    "builtin_function_or_method",
    "instance",
    "_Feature"
   ],
   "window_display": false
  }
 },
 "nbformat": 4,
 "nbformat_minor": 2
}
