{
 "cells": [
  {
   "cell_type": "markdown",
   "metadata": {},
   "source": [
    "# Python\n",
    "### Advanced Loop Mechanisms"
   ]
  },
  {
   "cell_type": "markdown",
   "metadata": {},
   "source": [
    "__Purpose:__\n",
    "The purpose of this lecture is to explore advanced loop mechanisms in Python. \n",
    "\n",
    "__At the end of this lecture you will be able to:__\n",
    "1. Learn about advanced mechanisms such as enumerate\n",
    "2. OPTIONAL: work with extended functionalities in the itertools library"
   ]
  },
  {
   "cell_type": "markdown",
   "metadata": {},
   "source": [
    "### 1.1.1 Advanced Mechanisms for Loops in Python: "
   ]
  },
  {
   "cell_type": "markdown",
   "metadata": {},
   "source": [
    "__Overview:__\n",
    "- You now know everything you need to in order to perform all looping tasks in Python \n",
    "- However, there exists some additional functionality in Python that allows loops to be written in a cleaner and more efficient fashion\n",
    "- Python has 2 additional ways to perform loops:\n",
    "> 1. Using the built-in function `enumerate`\n",
    "> 2. Using the external set of functions `itertools`\n",
    "\n",
    "__Helpful Points:__\n",
    "1. These methods are not required and are advanced, so they are by no means necessary to understand and use on Day 1, so don't worry if you are still just getting used to the basic mechanisms for loops in Python explained above "
   ]
  },
  {
   "cell_type": "markdown",
   "metadata": {},
   "source": [
    "### 1.1.1.1 Using Built-In Functions (`enumerate`)"
   ]
  },
  {
   "cell_type": "markdown",
   "metadata": {},
   "source": [
    "__Overview:__\n",
    "- The __[`enumerate`](https://docs.python.org/3/library/functions.html#enumerate)__ function's main benefit is that it allows you to loop over a sequence and have an automatic counter\n",
    "- Recall all the times in the above examples when we had to manually define counters outside the loop and then increment the counter in the loop. Enumerate function aims to fix this \n",
    "\n",
    "__Helpful Points:__\n",
    "1. The function accepts two parameters: `enumerate(iterable, start=0)`, therfore the first argument is required to be an `iterable` object and the second argument indicates what the counter should begin at \n",
    "2. The `enumerate` function outputs a `tuple` object which contains 2 elements: 1. the `count` and 2. the value \n",
    "\n",
    "__Practice:__ Examples of using Enumerate function in Python "
   ]
  },
  {
   "cell_type": "markdown",
   "metadata": {},
   "source": [
    "### Example 1 (Perform Similar Action without Enumerate):\n",
    "\n",
    "- Without using `enumerate`, we choose one of two options: \n",
    "> 1. Iterate based on contents of the sequence -> returns the contents \n",
    "> 2. Iterate based on an integer and index the sequence by the integer to access the contents -> returns the index \n",
    "\n",
    "- BUT, if we wanted to iterate and return BOTH 1 (the contents) and 2 (index), we would need to MANUALLY return both"
   ]
  },
  {
   "cell_type": "markdown",
   "metadata": {},
   "source": [
    "### Example 1.1 (Iterate based on Contents):"
   ]
  },
  {
   "cell_type": "code",
   "execution_count": null,
   "metadata": {},
   "outputs": [],
   "source": [
    "our_list = ['Clark', 'Kent', 'Bruce', 'Wayne','Lex']\n",
    "for content in our_list:\n",
    "    print(content)"
   ]
  },
  {
   "cell_type": "markdown",
   "metadata": {},
   "source": [
    "This method gives us the contents BUT does not return the index (0, 1, 2, 3, 4)"
   ]
  },
  {
   "cell_type": "markdown",
   "metadata": {},
   "source": [
    "### Example 1.2 (Iterate based on Index):"
   ]
  },
  {
   "cell_type": "code",
   "execution_count": null,
   "metadata": {},
   "outputs": [],
   "source": [
    "our_list = ['Clark', 'Kent', 'Bruce', 'Wayne','Lex']\n",
    "for i in range(len(our_list)):\n",
    "    print(i)"
   ]
  },
  {
   "cell_type": "markdown",
   "metadata": {},
   "source": [
    "### Example 1.3 (Return both Contents and Index):"
   ]
  },
  {
   "cell_type": "code",
   "execution_count": null,
   "metadata": {},
   "outputs": [],
   "source": [
    "our_list = ['Clark', 'Kent', 'Bruce', 'Wayne','Lex']\n",
    "for i in range(len(our_list)):\n",
    "    print(i, our_list[i])"
   ]
  },
  {
   "cell_type": "markdown",
   "metadata": {},
   "source": [
    "### Example 2 (Perform Action with Enumerate):\n",
    "\n",
    "- By using `enumerate`, we are able to return BOTH the contents and the index "
   ]
  },
  {
   "cell_type": "code",
   "execution_count": null,
   "metadata": {},
   "outputs": [],
   "source": [
    "our_list = ['Clark', 'Kent', 'Bruce', 'Wayne','Lex']\n",
    "for counter, value in enumerate(our_list): # start counter at default value of 0\n",
    "    print(f\"The counter is {counter} and the value is {value}\")"
   ]
  },
  {
   "cell_type": "code",
   "execution_count": null,
   "metadata": {},
   "outputs": [],
   "source": [
    "our_list = ['Clark', 'Kent', 'Bruce', 'Wayne','Lex']\n",
    "for counter, value in enumerate(our_list, 10): # start counter at value of 10\n",
    "    print(f\"The counter is {counter} and the value is {value}\")"
   ]
  },
  {
   "cell_type": "markdown",
   "metadata": {},
   "source": [
    "### 1.1.1.2 Using External Functions (`itertools` Module) (OPTIONAL)"
   ]
  },
  {
   "cell_type": "markdown",
   "metadata": {},
   "source": [
    "__Overview:__\n",
    "- The [`itertools`](https://docs.python.org/3/library/itertools.html) suite of functions allows us to perform advanced iteration in an efficient manner\n",
    "- The `itertools` suite does not come built-into Python, so we have to \"load\" in the suite of functions using an `import` command\n",
    "- The function implements a number of `iterators` for our use \n",
    "- The `iterators` can be broken down into 3 categories:\n",
    "> 1. __Infinite Iterators__ (`count()`, `cycle()`, `repeat()`). Infinite iterators refer to iterators that when you use them, you will need to manually exit them using a `break` statement, otherwise you will end up in an __infinite loop__ \n",
    "> 2. __Finite Iterators__ (`accumulate()`, `groupby()`, `chain()`, `islice()`, etc.) Finite iterators refer to iterators that when you use them, you will not need to manually exit them using a `break` statement. They will terminate on the shortest input sequence\n",
    "> 3. __Combinatoric Iterators__ (`combinations()`, `permutations()`, etc.) \n",
    "\n",
    "__Helpful Points:__\n",
    "1. These tools are intended for advanced iteration so ensure you understand the basic concepts of loops first \n",
    "2. See [this](https://www.blog.pythonlibrary.org/2016/04/20/python-201-an-intro-to-itertools/) helpful post which covers many examples of using `itertools()` functions in practice\n",
    "\n",
    "__Practice:__ Examples of using functions in `itertools()` module in Python "
   ]
  },
  {
   "cell_type": "markdown",
   "metadata": {},
   "source": [
    "### Part 1 (Infinite Iterators):"
   ]
  },
  {
   "cell_type": "markdown",
   "metadata": {},
   "source": [
    "### Example 1.1 (Using [`count()`](https://docs.python.org/3/library/itertools.html#itertools.count)):\n",
    "- `count` iterator will return evenly spaced values starting with the number you pass in as the `start` parameter\n",
    "- Operates very similar to `range()`, but without the `stop` parameter\n",
    "- The general format is `count(start=0, step=1)`"
   ]
  },
  {
   "cell_type": "code",
   "execution_count": null,
   "metadata": {},
   "outputs": [],
   "source": [
    "# since the suite of functions are external, we have to \"load\" them in \n",
    "from itertools import count \n",
    "for i in count(10,2): # iterator starts at 10 with no end point (infinite iterator)\n",
    "    # manual stopping condition\n",
    "    if i == 20:\n",
    "        break\n",
    "    else:\n",
    "        print(i)"
   ]
  },
  {
   "cell_type": "markdown",
   "metadata": {},
   "source": [
    "### Example 1.2 (Using [`cycle()`](https://docs.python.org/3/library/itertools.html#itertools.cycle)):\n",
    "- `cycle` iterator cycles through a series of values indefinitely\n",
    "- The `cycle` iterator operates on an `iterable`"
   ]
  },
  {
   "cell_type": "code",
   "execution_count": null,
   "metadata": {},
   "outputs": [],
   "source": [
    "# since the suite of functions are external, we have to \"load\" them in \n",
    "from itertools import cycle\n",
    "num_iter = 0\n",
    "for sign in cycle([-1,1]): # iterator will cycle between -1 and 1 \n",
    "    # manual stopping condition \n",
    "    if num_iter > 10:\n",
    "        break\n",
    "    print(2 * sign)\n",
    "    num_iter += 1"
   ]
  },
  {
   "cell_type": "markdown",
   "metadata": {},
   "source": [
    "### Example 1.3 (Using [`repeat()`](https://docs.python.org/3/library/itertools.html#itertools.repeat)):\n",
    "- `repeat` iterator will return an object over and over again unless you specify the number of times to repeat for\n",
    "- The general format is `repeat(object, times)`"
   ]
  },
  {
   "cell_type": "code",
   "execution_count": null,
   "metadata": {},
   "outputs": [],
   "source": [
    "# since the suite of functions are external, we have to \"load\" them in \n",
    "from itertools import repeat\n",
    "num_iter = 0\n",
    "for num in repeat(5):\n",
    "    # manual stopping condition \n",
    "    if num_iter == 5:\n",
    "        break\n",
    "    print(num)\n",
    "    num_iter += 1"
   ]
  },
  {
   "cell_type": "code",
   "execution_count": null,
   "metadata": {},
   "outputs": [],
   "source": [
    "for num in repeat(5,5):\n",
    "    print(num)"
   ]
  },
  {
   "cell_type": "markdown",
   "metadata": {},
   "source": [
    "### Part 2 (Finite Iterators):"
   ]
  },
  {
   "cell_type": "markdown",
   "metadata": {},
   "source": [
    "### Example 2.1 (Using [`accumulate()`](https://docs.python.org/3/library/itertools.html#itertools.accumulate)):\n",
    "- `accumulate` iterator returns accumulated sums or whatever the function that is passed in \n",
    "- Functions that can be used include `min()`, `max()`, `mul()`, `sum()`, etc. "
   ]
  },
  {
   "cell_type": "code",
   "execution_count": null,
   "metadata": {},
   "outputs": [],
   "source": [
    "# since the suite of functions are external, we have to \"load\" them in \n",
    "from itertools import accumulate\n",
    "import operator\n",
    "data = [5,6,1,2,3,0]"
   ]
  },
  {
   "cell_type": "code",
   "execution_count": null,
   "metadata": {},
   "outputs": [],
   "source": [
    "# accumulated sum (5, 5+6=11, 11+1=12, 12+2=14, 14+3=17, 17+0=17)\n",
    "list(accumulate(data))"
   ]
  },
  {
   "cell_type": "code",
   "execution_count": null,
   "metadata": {},
   "outputs": [],
   "source": [
    "# accumulated product (5, 5*6=30, 30*1=30, 30*2=60, 60*3=180, 180*0=0)\n",
    "list(accumulate(data, operator.mul))"
   ]
  },
  {
   "cell_type": "code",
   "execution_count": null,
   "metadata": {},
   "outputs": [],
   "source": [
    "# accumulated max\n",
    "list(accumulate(data, max))"
   ]
  },
  {
   "cell_type": "code",
   "execution_count": null,
   "metadata": {},
   "outputs": [],
   "source": [
    "# accumulated min\n",
    "list(accumulate(data, min))"
   ]
  },
  {
   "cell_type": "markdown",
   "metadata": {},
   "source": [
    "### Example 2.2 (Using [`chain`](https://docs.python.org/3/library/itertools.html#itertools.chain)):\n",
    "- `chain` iterator returns elements from the first iterable until it is exhausted, then proceeds to the next iterable, until all of the iterables are exhausted \n",
    "- `chain` is used to trest consecutive sequences as a single sequence "
   ]
  },
  {
   "cell_type": "code",
   "execution_count": null,
   "metadata": {},
   "outputs": [],
   "source": [
    "# since the suite of functions are external, we have to \"load\" them in \n",
    "from itertools import chain"
   ]
  },
  {
   "cell_type": "code",
   "execution_count": null,
   "metadata": {},
   "outputs": [],
   "source": [
    "list(chain([1,2,3], [\"a\", \"b\", \"c\"]))"
   ]
  },
  {
   "cell_type": "markdown",
   "metadata": {},
   "source": [
    "The `chain` function essentially \"flattened\" the sequence of sequences that was passed in. First, it returned elements from the first iterable (a list containing `[1,2,3]`), then proceeded to the next iterable (a list containing `[\"a\", \"b\", \"c\"]`). It then stopped there since all of the iterables were exhausted. "
   ]
  },
  {
   "cell_type": "markdown",
   "metadata": {},
   "source": [
    "### Example 2.3 (Using [`islice`](https://docs.python.org/3/library/itertools.html#itertools.islice)):\n",
    "- `islice` iterator returns selected elements from the iterable that is passed in \n",
    "- The general form is `islice(iterable, start, stop, step)`\n",
    "- Notice, similar to slicing with sequences in Python, some of the arguments can be ommitted and Python will infer what to do\n",
    "- Notice, similar to slicing with sequences in Python, `start` is set to default 0 and `step` is set to default 1\n",
    "- If no `stop` is given, the __next__ method will continue until the end of the sequence "
   ]
  },
  {
   "cell_type": "code",
   "execution_count": null,
   "metadata": {},
   "outputs": [],
   "source": [
    "# since the suite of functions are external, we have to \"load\" them in \n",
    "from itertools import islice\n",
    "my_string = \"Clark\""
   ]
  },
  {
   "cell_type": "code",
   "execution_count": null,
   "metadata": {},
   "outputs": [],
   "source": [
    "for i in islice(my_string, 3): # start = 0, stop = 3, step = 1\n",
    "    print(i)"
   ]
  },
  {
   "cell_type": "code",
   "execution_count": null,
   "metadata": {},
   "outputs": [],
   "source": [
    "for i in islice(my_string, 0, None, 2): # start = 0, stop = None, step = 2\n",
    "    print(i)"
   ]
  },
  {
   "cell_type": "code",
   "execution_count": null,
   "metadata": {},
   "outputs": [],
   "source": [
    "for i in islice(my_string, 2, 4): # start = 2, stop = 4, step = 1\n",
    "    print(i)"
   ]
  },
  {
   "cell_type": "markdown",
   "metadata": {},
   "source": [
    "### Part 3 (Combinatoric Iterators):"
   ]
  },
  {
   "cell_type": "markdown",
   "metadata": {},
   "source": [
    "### Example 3.1 (Using [`combinations`](https://docs.python.org/3/library/itertools.html#itertools.combinations)):\n",
    "- `combinations` iterator allows you to generate all the possible __[combinations](https://en.wikipedia.org/wiki/Combination)__ of `n` sequences of the iterable that is passed in \n",
    "- The output of the `combinations` iterator is a `tuple`"
   ]
  },
  {
   "cell_type": "code",
   "execution_count": null,
   "metadata": {},
   "outputs": [],
   "source": [
    "# since the suite of functions are external, we have to \"load\" them in \n",
    "from itertools import combinations"
   ]
  },
  {
   "cell_type": "code",
   "execution_count": null,
   "metadata": {},
   "outputs": [],
   "source": [
    "for combo in combinations(\"KENT\", 2):\n",
    "    print(combo)"
   ]
  },
  {
   "cell_type": "markdown",
   "metadata": {},
   "source": [
    "### Example 3.2 (Using [`permutations`](https://docs.python.org/3/library/itertools.html#itertools.permutations)):\n",
    "- `permutations` iterator allows you to generate all the possible __[permutations](https://en.wikipedia.org/wiki/Permutation)__ of `n` sequences of the iterable that is passed in \n",
    "- The output of the `permutation` iterator is a tuple "
   ]
  },
  {
   "cell_type": "code",
   "execution_count": null,
   "metadata": {},
   "outputs": [],
   "source": [
    "# since the suite of functions are external, we have to \"load\" them in \n",
    "from itertools import permutations"
   ]
  },
  {
   "cell_type": "code",
   "execution_count": null,
   "metadata": {},
   "outputs": [],
   "source": [
    "for combo in permutations(\"KENT\", 2):\n",
    "    print(combo)"
   ]
  },
  {
   "cell_type": "code",
   "execution_count": null,
   "metadata": {},
   "outputs": [],
   "source": []
  }
 ],
 "metadata": {
  "kernelspec": {
   "display_name": "Python 3",
   "language": "python",
   "name": "python3"
  },
  "language_info": {
   "codemirror_mode": {
    "name": "ipython",
    "version": 3
   },
   "file_extension": ".py",
   "mimetype": "text/x-python",
   "name": "python",
   "nbconvert_exporter": "python",
   "pygments_lexer": "ipython3",
   "version": "3.7.2"
  }
 },
 "nbformat": 4,
 "nbformat_minor": 2
}
