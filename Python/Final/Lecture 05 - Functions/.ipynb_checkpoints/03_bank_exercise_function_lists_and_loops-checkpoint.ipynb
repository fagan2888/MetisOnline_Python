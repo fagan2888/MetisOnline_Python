{
 "cells": [
  {
   "cell_type": "markdown",
   "metadata": {},
   "source": [
    "## Introduction to lists"
   ]
  },
  {
   "cell_type": "code",
   "execution_count": null,
   "metadata": {
    "ExecuteTime": {
     "end_time": "2020-01-28T03:02:32.494140Z",
     "start_time": "2020-01-28T03:02:32.491606Z"
    }
   },
   "outputs": [],
   "source": [
    "# define a sentence\n",
    "sentence = \"This is a string containing a sentence\""
   ]
  },
  {
   "cell_type": "markdown",
   "metadata": {},
   "source": [
    "We saw in the string lecture that we can access characters at different positions by using square brackets. As a reminder, these strings start at 0"
   ]
  },
  {
   "cell_type": "code",
   "execution_count": null,
   "metadata": {
    "ExecuteTime": {
     "end_time": "2020-01-28T03:02:33.300066Z",
     "start_time": "2020-01-28T03:02:33.295948Z"
    }
   },
   "outputs": [],
   "source": [
    "print(sentence[0], sentence[1], sentence[2], sentence[3]) # get charaters 0, ..., 3, one at a time\n",
    "print(sentence[0:4])  # slice the string to get characters from 0 up to (but not including) 4"
   ]
  },
  {
   "cell_type": "markdown",
   "metadata": {},
   "source": [
    "What if we wanted to grab _words_ instead of characters? Strings have special methods defined on them, one of which is `split()`. We use it in the following way:"
   ]
  },
  {
   "cell_type": "code",
   "execution_count": null,
   "metadata": {
    "ExecuteTime": {
     "end_time": "2020-01-28T03:02:34.140630Z",
     "start_time": "2020-01-28T03:02:34.132113Z"
    }
   },
   "outputs": [],
   "source": [
    "sentence.split()"
   ]
  },
  {
   "cell_type": "markdown",
   "metadata": {},
   "source": [
    "The `<str>.split()` takes the string, and splits it on spaces. This gives us a _list_ of strings. Lists are denoted by square brackets. We can access elements from the list using square brackets as well."
   ]
  },
  {
   "cell_type": "code",
   "execution_count": null,
   "metadata": {
    "ExecuteTime": {
     "end_time": "2020-01-28T03:02:34.601070Z",
     "start_time": "2020-01-28T03:02:34.598388Z"
    }
   },
   "outputs": [],
   "source": [
    "word_list = sentence.split()\n",
    "print(word_list[0])\n",
    "print(word_list[1])"
   ]
  },
  {
   "cell_type": "markdown",
   "metadata": {},
   "source": [
    "Just like our string, we can also take slices of a list:"
   ]
  },
  {
   "cell_type": "code",
   "execution_count": null,
   "metadata": {
    "ExecuteTime": {
     "end_time": "2020-01-28T03:02:36.737460Z",
     "start_time": "2020-01-28T03:02:36.731008Z"
    }
   },
   "outputs": [],
   "source": [
    "print(word_list[0:4])\n",
    "# Compare to this:\n",
    "print(word_list[0], word_list[1], word_list[2], word_list[3])"
   ]
  },
  {
   "cell_type": "markdown",
   "metadata": {},
   "source": [
    "How many elements are in the list? We can use the built-in function `len` to figure this out:"
   ]
  },
  {
   "cell_type": "code",
   "execution_count": null,
   "metadata": {
    "ExecuteTime": {
     "end_time": "2020-01-28T03:02:37.247592Z",
     "start_time": "2020-01-28T03:02:37.244127Z"
    }
   },
   "outputs": [],
   "source": [
    "# This counts the number of elements in the _string_ (each element is a character)\n",
    "len(sentence)"
   ]
  },
  {
   "cell_type": "code",
   "execution_count": null,
   "metadata": {
    "ExecuteTime": {
     "end_time": "2020-01-28T03:02:37.503980Z",
     "start_time": "2020-01-28T03:02:37.500915Z"
    }
   },
   "outputs": [],
   "source": [
    "# This counts the number of elements in the _list_ (each element is a word)\n",
    "len(word_list)"
   ]
  },
  {
   "cell_type": "markdown",
   "metadata": {},
   "source": [
    "Lists are really useful. In this problem, if I gave you an input sentence, you don't know ahead of time how many words there will be. A list allows me to store an arbitrary number of values, _and_ organize them in an easy to access way (i.e. I don't need variables like `word0`, `word1`, ....; instead I have one variable `word` that I can use square brackets to access).\n",
    "\n",
    "Why is `word[3]` better than `word3`? Imagine I had a variable `word_num = 3`, which might be input by the user. If I wanted to find the value of the `word_num`-th word, I can use `word[word_num]` if I have a list. I cannot use `word_num` to access a variable name -- Python doesn't think of the variable `word3` as `word` and `3`! I would have to do something awkward like\n",
    "```python\n",
    "# World where word0, word1, word2, ... are the different variables\n",
    "if (word_num == 0):\n",
    "    answer = word0\n",
    "if (word_num == 1):\n",
    "    answer = word1\n",
    "if (word_num == 2):\n",
    "    answer = word2\n",
    "if (word_num == 3):\n",
    "    answer = word3\n",
    "...\n",
    "```\n",
    "vs\n",
    "```python\n",
    "# World where words are stored in a list\n",
    "answer = word[word_num]\n",
    "```\n",
    "\n",
    "### Relation to our bank transfer problem\n",
    "\n",
    "One of the issues we had about our bank transfers were that we spread the inputs (transfers) throughout the cell. One way of solving this is to make a list of transfers, and then work through that."
   ]
  },
  {
   "cell_type": "markdown",
   "metadata": {},
   "source": [
    "## Loops\n",
    "\n",
    "Often we will want to go through a list of items one at a time and \"do something\" to them. For example:\n",
    "- we might want to see if they are the item that we are looking for (search)\n",
    "- we might want to do the same operation to each one (e.g. take the square of each number)\n",
    "- we might want to process each one (e.g. take a list of transactions and process them)\n",
    "\n",
    "The way we do this is using a _loop_. There are a few different types of loops, we will start with a for loop.\n",
    "\n",
    "The following two pieces of code do the same thing"
   ]
  },
  {
   "cell_type": "code",
   "execution_count": null,
   "metadata": {
    "ExecuteTime": {
     "end_time": "2020-01-28T03:02:40.393283Z",
     "start_time": "2020-01-28T03:02:40.388464Z"
    }
   },
   "outputs": [],
   "source": [
    "list_of_ints = [1, 10, 100, 500, 1000]\n",
    "\n",
    "current = list_of_ints[0]\n",
    "print(current)\n",
    "\n",
    "current = list_of_ints[1]\n",
    "print(current)\n",
    "\n",
    "current = list_of_ints[2]\n",
    "print(current)\n",
    "\n",
    "current = list_of_ints[3]\n",
    "print(current)\n",
    "\n",
    "current = list_of_ints[4]\n",
    "print(current)"
   ]
  },
  {
   "cell_type": "code",
   "execution_count": null,
   "metadata": {
    "ExecuteTime": {
     "end_time": "2020-01-28T03:02:41.064719Z",
     "start_time": "2020-01-28T03:02:41.061615Z"
    }
   },
   "outputs": [],
   "source": [
    "for current in list_of_ints:\n",
    "    print(current)"
   ]
  },
  {
   "cell_type": "markdown",
   "metadata": {},
   "source": [
    "What is happening here? We have the following pattern\n",
    "\n",
    "```python\n",
    "for variable in list_of_variables:\n",
    "    # we run this block many times\n",
    "    # the first time, variable is set to list_of_variables[0]\n",
    "    # the second time, variable is set to list_of_variables[1]\n",
    "    # ....\n",
    "    # the last time variable is set to the last element of list_of_variables.\n",
    "    ... do stuff ....\n",
    "```\n",
    "\n",
    "For example, we could get the squares of each number `[1, 2, 3, 5, 7, 11]` in the following way:"
   ]
  },
  {
   "cell_type": "code",
   "execution_count": null,
   "metadata": {
    "ExecuteTime": {
     "end_time": "2020-01-28T03:02:42.996333Z",
     "start_time": "2020-01-28T03:02:42.992854Z"
    }
   },
   "outputs": [],
   "source": [
    "for number in [1, 2, 3, 5, 7, 11]:\n",
    "    print(f'The square of {number} is {number*number}')"
   ]
  },
  {
   "cell_type": "markdown",
   "metadata": {},
   "source": [
    "## Exercises"
   ]
  },
  {
   "cell_type": "markdown",
   "metadata": {},
   "source": [
    "1. Write a function that takes a sentence, and returns the number of words in the sentence.\n",
    "e.g. `word_counter(\"this is a test\")` should return 4."
   ]
  },
  {
   "cell_type": "code",
   "execution_count": null,
   "metadata": {
    "ExecuteTime": {
     "end_time": "2020-01-28T03:03:41.301844Z",
     "start_time": "2020-01-28T03:03:41.299534Z"
    }
   },
   "outputs": [],
   "source": [
    "def word_counter(message):\n",
    "    return len(message.split())"
   ]
  },
  {
   "cell_type": "code",
   "execution_count": null,
   "metadata": {
    "ExecuteTime": {
     "end_time": "2020-01-28T03:03:49.773733Z",
     "start_time": "2020-01-28T03:03:49.770304Z"
    }
   },
   "outputs": [],
   "source": [
    "word_counter(\"this is a test\")"
   ]
  },
  {
   "cell_type": "markdown",
   "metadata": {},
   "source": [
    "2. Write a function `length_words` that takes a sentence, and returns a list of lengths of the words. For example\n",
    "```python\n",
    ">>> length_words(\"this is a test\")\n",
    "[4, 2, 1, 4]  # \"this\" is length 4, \"is\" is length 2, \"a\" is length 1, \"test\" is length 4\n",
    "```\n",
    "\n",
    "This one is tricky!"
   ]
  },
  {
   "cell_type": "code",
   "execution_count": null,
   "metadata": {
    "ExecuteTime": {
     "end_time": "2020-01-28T03:06:31.658777Z",
     "start_time": "2020-01-28T03:06:31.655527Z"
    }
   },
   "outputs": [],
   "source": [
    "## This is probably too verbose\n",
    "# def length_words(message):\n",
    "#     lengths = []\n",
    "#     for word in message.split():\n",
    "#         lengths.append(len(word))\n",
    "#     return lengths\n",
    "\n",
    "\n",
    "## This is one is \"goldilocks\"\n",
    "def length_words(message):\n",
    "    lengths = [len(word) for word in message.split()]\n",
    "    return lengths\n",
    "\n",
    "## This is one is clever (too clever)\n",
    "def length_words(message):\n",
    "    return [len(word) for word in message.split()]"
   ]
  },
  {
   "cell_type": "code",
   "execution_count": null,
   "metadata": {
    "ExecuteTime": {
     "end_time": "2020-01-28T03:06:32.093305Z",
     "start_time": "2020-01-28T03:06:32.090140Z"
    }
   },
   "outputs": [],
   "source": [
    "length_words('This is a test')"
   ]
  },
  {
   "cell_type": "markdown",
   "metadata": {},
   "source": [
    "3. Write a function `minute_adder` that takes two number of minutes, and returns a list containing the number of hours and the number of minutes. e.g. \n",
    "```\n",
    ">>> minute_adder(20, 30)\n",
    "[0, 50]   # 20 min + 30 min = 0 hours, 50 min\n",
    ">>> minute_adder(50, 20)\n",
    "[1, 10]   # 50 min + 20 min = 70 min, or 1 hour and 10 mins\n",
    "```"
   ]
  },
  {
   "cell_type": "markdown",
   "metadata": {},
   "source": [
    "## The bank example again\n",
    "\n",
    "Let's rewrite our bank example to solve our previous issues. \n",
    "\n",
    "A reminder:\n",
    "\n",
    ">We could imagine that we have 5 transactions: +10, -45.3, -10.15, +4.20 and -16.00\n",
    ">\n",
    ">If we start with 100 dollars, how much do we have at the end? \n",
    "\n",
    "The rules are\n",
    "- we started with `balance`\n",
    "- we transfered money `transfer`\n",
    "- if we withdrew money (`transfer < 0`) AND we ended with a final negative balance (`balance + transfer < 0`) THEN we got charged 20 dollars as an overdraft\n",
    "\n",
    "Rewrite the solution in the cell below"
   ]
  },
  {
   "cell_type": "code",
   "execution_count": null,
   "metadata": {},
   "outputs": [],
   "source": []
  }
 ],
 "metadata": {
  "kernelspec": {
   "display_name": "Python 3",
   "language": "python",
   "name": "python3"
  },
  "language_info": {
   "codemirror_mode": {
    "name": "ipython",
    "version": 3
   },
   "file_extension": ".py",
   "mimetype": "text/x-python",
   "name": "python",
   "nbconvert_exporter": "python",
   "pygments_lexer": "ipython3",
   "version": "3.7.2"
  },
  "varInspector": {
   "cols": {
    "lenName": 16,
    "lenType": 16,
    "lenVar": 40
   },
   "kernels_config": {
    "python": {
     "delete_cmd_postfix": "",
     "delete_cmd_prefix": "del ",
     "library": "var_list.py",
     "varRefreshCmd": "print(var_dic_list())"
    },
    "r": {
     "delete_cmd_postfix": ") ",
     "delete_cmd_prefix": "rm(",
     "library": "var_list.r",
     "varRefreshCmd": "cat(var_dic_list()) "
    }
   },
   "types_to_exclude": [
    "module",
    "function",
    "builtin_function_or_method",
    "instance",
    "_Feature"
   ],
   "window_display": false
  }
 },
 "nbformat": 4,
 "nbformat_minor": 2
}
