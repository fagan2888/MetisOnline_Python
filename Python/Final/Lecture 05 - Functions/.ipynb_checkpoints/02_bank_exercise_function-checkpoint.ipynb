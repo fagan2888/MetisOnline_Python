{
 "cells": [
  {
   "cell_type": "markdown",
   "metadata": {},
   "source": [
    "## High level motivation\n",
    "\n",
    "A program can often be broken into simpler subtasks. A function allows us to \"solve\" a subtask, and then _call_ it multiple times. Python has some built in functions that we have already been using:\n",
    "\n",
    "\n",
    "- `len(s)`: returns the length of string `s`\n",
    "- `max(10, 2, 3)`: returns 10, the largest of the inputs\n",
    "- `min(10, -20, -100, 0, 3.1415)`: returns -100, the smallest of the inputs\n",
    "- `print(\"Hello world\")`: prints \"Hello world\" to the output\n",
    "\n",
    "At some point, someone had to write some code for how to find the length of a string. We don't have to write that code ourselves, because we can just call the `len` function to get it for us."
   ]
  },
  {
   "cell_type": "code",
   "execution_count": null,
   "metadata": {
    "ExecuteTime": {
     "end_time": "2020-01-24T03:03:47.041806Z",
     "start_time": "2020-01-24T03:03:47.039064Z"
    }
   },
   "outputs": [],
   "source": [
    "largest_letter = max(3,4,2,45)"
   ]
  },
  {
   "cell_type": "code",
   "execution_count": null,
   "metadata": {
    "ExecuteTime": {
     "end_time": "2020-01-24T03:03:47.418117Z",
     "start_time": "2020-01-24T03:03:47.415194Z"
    }
   },
   "outputs": [],
   "source": [
    "largest_letter"
   ]
  },
  {
   "cell_type": "markdown",
   "metadata": {},
   "source": [
    "### Parts of a function\n",
    "\n",
    "Let's look at the statement `b = len(\"Hello\")`. Here we have\n",
    "\n",
    "- A **function** with name `len`\n",
    "- A **call** to the function `len(.....)` (i.e. we are running the function)\n",
    "- **Input** to the function (these are the values the function \"sees\"). In this case, the input is `\"Hello\"`\n",
    "- A **returned** value, or **output** (in this case, the output is `5` and gets assigned to `b`). Every function has exactly one output. (That \"single value\" is sometimes a list, tuple, or `None`, though!)\n",
    "- Any **side effects** (things the function does besides output a value)\n",
    "\n",
    "Let's look at a few examples:\n",
    "\n",
    "| Function call | Function | Inputs | Output | Side Effect | \n",
    "|------| ----------| ------- |  ------- | ---------- |\n",
    "| `len(\"hello\")` | `len` | `\"hello\"` |  5 | None |\n",
    "| `max(10, 2 , 3)` | `max` | `10, 2, 3` | 10 | None |\n",
    "| `min(10, -20, -100, 0, 3.1415)` | `min` | `10, -20, -100, 0, 3.1415` | -100 | None |\n",
    "| `print(\"Python!\")` | `print` | `\"Python!\"`| `None` | Prints \"Python!\" to terminal |\n",
    "\n",
    "- Every function returns exactly 1 value (no more, no less)\n",
    "- Some functions have side effects, others don't"
   ]
  },
  {
   "cell_type": "code",
   "execution_count": null,
   "metadata": {
    "ExecuteTime": {
     "end_time": "2020-01-24T03:05:44.501545Z",
     "start_time": "2020-01-24T03:05:44.497419Z"
    }
   },
   "outputs": [],
   "source": [
    "# If there is no variable to assign to, the value is \"returned\" to the terminal\n",
    "max(1,2,3)"
   ]
  },
  {
   "cell_type": "code",
   "execution_count": null,
   "metadata": {
    "ExecuteTime": {
     "end_time": "2020-01-24T03:05:52.136427Z",
     "start_time": "2020-01-24T03:05:52.133794Z"
    }
   },
   "outputs": [],
   "source": [
    "# If there is a variable to assign to, the value is \"returned\" and stored in the variable instead\n",
    "# Nothing is printed\n",
    "biggest_number = max(1, 2, 3)"
   ]
  },
  {
   "cell_type": "code",
   "execution_count": null,
   "metadata": {
    "ExecuteTime": {
     "end_time": "2020-01-24T03:05:55.101680Z",
     "start_time": "2020-01-24T03:05:55.097721Z"
    }
   },
   "outputs": [],
   "source": [
    "# We can see what was stored in biggest number\n",
    "biggest_number"
   ]
  },
  {
   "cell_type": "markdown",
   "metadata": {},
   "source": [
    "## Defining our own functions\n",
    "\n",
    "We can also create new functions. Let's start with an example"
   ]
  },
  {
   "cell_type": "code",
   "execution_count": null,
   "metadata": {
    "ExecuteTime": {
     "end_time": "2020-01-24T03:55:24.881926Z",
     "start_time": "2020-01-24T03:55:24.879756Z"
    }
   },
   "outputs": [],
   "source": [
    "def say_hello(num_times):\n",
    "    return 'hello ' * num_times"
   ]
  },
  {
   "cell_type": "code",
   "execution_count": null,
   "metadata": {
    "ExecuteTime": {
     "end_time": "2020-01-24T03:55:33.699094Z",
     "start_time": "2020-01-24T03:55:33.695392Z"
    }
   },
   "outputs": [],
   "source": [
    "say_hello(3)"
   ]
  },
  {
   "cell_type": "markdown",
   "metadata": {},
   "source": [
    "Here:\n",
    "- `def` is a keyword (used to say \"I am defining a function\")\n",
    "- next is the function name `say_hello`\n",
    "- then are the arguments. In this case, the function takes one argument (or input).\n",
    "- then we have a colon (telling us we are starting a code block, which is indented)\n",
    "- the function exits when we hit return (this is the value the function exits with) OR when we reach the end of the block. If there is no return, the function returns `None` (remember we ALWAYS return something, even if it is `None`).\n",
    "\n",
    "We can call the function in the same way we call the built-in functions: `say_hello(3)`."
   ]
  },
  {
   "cell_type": "markdown",
   "metadata": {},
   "source": [
    "A function can take more than one argument:"
   ]
  },
  {
   "cell_type": "code",
   "execution_count": null,
   "metadata": {
    "ExecuteTime": {
     "end_time": "2020-01-24T03:58:30.891056Z",
     "start_time": "2020-01-24T03:58:30.888006Z"
    }
   },
   "outputs": [],
   "source": [
    "def am_i_old_enough_to_be_your_parent(my_age, their_age):\n",
    "    if (my_age - their_age >= 18):\n",
    "        return True\n",
    "    return False"
   ]
  },
  {
   "cell_type": "code",
   "execution_count": null,
   "metadata": {
    "ExecuteTime": {
     "end_time": "2020-01-24T04:04:40.240479Z",
     "start_time": "2020-01-24T04:04:40.237210Z"
    }
   },
   "outputs": [],
   "source": [
    "def can_vote_in_us(age, citizen, registered):\n",
    "    if age < 18:\n",
    "        return False\n",
    "    if citizen == False:\n",
    "        return False\n",
    "    if registered == False:\n",
    "        return False\n",
    "    return True"
   ]
  },
  {
   "cell_type": "code",
   "execution_count": null,
   "metadata": {
    "ExecuteTime": {
     "end_time": "2020-01-24T04:04:48.436004Z",
     "start_time": "2020-01-24T04:04:48.431606Z"
    }
   },
   "outputs": [],
   "source": [
    "can_vote_in_us(20, True, False)"
   ]
  },
  {
   "cell_type": "code",
   "execution_count": null,
   "metadata": {
    "ExecuteTime": {
     "end_time": "2020-01-24T03:57:15.476195Z",
     "start_time": "2020-01-24T03:57:15.472539Z"
    }
   },
   "outputs": [],
   "source": [
    "am_i_old_enough_to_be_your_parent(38, 2)"
   ]
  },
  {
   "cell_type": "code",
   "execution_count": null,
   "metadata": {
    "ExecuteTime": {
     "end_time": "2020-01-24T03:57:20.454868Z",
     "start_time": "2020-01-24T03:57:20.450795Z"
    }
   },
   "outputs": [],
   "source": [
    "am_i_old_enough_to_be_your_parent(20, 18)"
   ]
  },
  {
   "cell_type": "markdown",
   "metadata": {},
   "source": [
    "## Temperature conversions\n",
    "\n",
    "Celsius to Fahrenheit\n",
    "```\n",
    "F = 9/5 * C + 32 \n",
    "```"
   ]
  },
  {
   "cell_type": "code",
   "execution_count": null,
   "metadata": {
    "ExecuteTime": {
     "end_time": "2020-01-24T04:14:52.621153Z",
     "start_time": "2020-01-24T04:14:52.618142Z"
    }
   },
   "outputs": [],
   "source": [
    "C_TO_F_SCALER = 9/5\n",
    "C_OFFSET = 32\n",
    "degrees_C = 45\n",
    "\n",
    "\n",
    "def C_to_F(degrees_C):\n",
    "    \"\"\"Returns degrees_C converted to Fahrenheit\"\"\"\n",
    "    return C_TO_F_SCALER*degrees_C + C_OFFSET"
   ]
  },
  {
   "cell_type": "code",
   "execution_count": null,
   "metadata": {
    "ExecuteTime": {
     "end_time": "2020-01-24T04:13:21.647111Z",
     "start_time": "2020-01-24T04:13:21.641453Z"
    }
   },
   "outputs": [],
   "source": [
    "C_to_F(20)"
   ]
  },
  {
   "cell_type": "code",
   "execution_count": null,
   "metadata": {
    "ExecuteTime": {
     "end_time": "2020-01-24T04:13:21.770098Z",
     "start_time": "2020-01-24T04:13:21.763588Z"
    }
   },
   "outputs": [],
   "source": [
    "C_to_F(30)"
   ]
  },
  {
   "cell_type": "code",
   "execution_count": null,
   "metadata": {
    "ExecuteTime": {
     "end_time": "2020-01-24T04:13:21.897858Z",
     "start_time": "2020-01-24T04:13:21.893829Z"
    }
   },
   "outputs": [],
   "source": [
    "C_TO_F_SCALER"
   ]
  },
  {
   "cell_type": "code",
   "execution_count": null,
   "metadata": {
    "ExecuteTime": {
     "end_time": "2020-01-24T04:13:22.638456Z",
     "start_time": "2020-01-24T04:13:22.633718Z"
    }
   },
   "outputs": [],
   "source": [
    "help(C_to_F)"
   ]
  },
  {
   "cell_type": "markdown",
   "metadata": {},
   "source": [
    "## Bank problem continued\n",
    "\n",
    "In the last exercise, we had the rules that\n",
    "- we started with `balance`\n",
    "- we transfered money `transfer`\n",
    "- if we withdrew money (`transfer < 0`) AND we ended with a final negative balance (`balance + transfer < 0`) THEN we got charged 20 dollars as an overdraft\n",
    "\n",
    "Let's rewrite the solution in the cell below"
   ]
  },
  {
   "cell_type": "code",
   "execution_count": null,
   "metadata": {
    "ExecuteTime": {
     "end_time": "2020-01-24T04:18:45.230873Z",
     "start_time": "2020-01-24T04:18:45.227623Z"
    }
   },
   "outputs": [],
   "source": [
    "balance = 30\n",
    "transfer = -40\n",
    "\n",
    "# do some stuff\n",
    "balance = balance + transfer\n",
    "if (transfer < 0):\n",
    "    if (balance < 0):\n",
    "        balance = balance - 20\n",
    "\n",
    "print(balance)"
   ]
  },
  {
   "cell_type": "markdown",
   "metadata": {},
   "source": [
    "We don't want to write that every single time. It would be nice if we could write the code ONCE and call it, like so\n",
    "```python\n",
    "balance = 30\n",
    "transfer = -40\n",
    "get_new_balance(balance, transfer)\n",
    "```\n",
    "or even just\n",
    "```python\n",
    "get_new_balance(30, -40) # should return -30\n",
    "```\n",
    "Write this function below"
   ]
  },
  {
   "cell_type": "code",
   "execution_count": null,
   "metadata": {
    "ExecuteTime": {
     "end_time": "2020-01-24T04:48:08.977407Z",
     "start_time": "2020-01-24T04:48:08.974144Z"
    }
   },
   "outputs": [],
   "source": [
    "## Write the get_new_balance function\n",
    "def get_new_balance(initial_balance, transfer):\n",
    "    \"\"\"Return new balance after transferring money\n",
    "    \n",
    "    Calculates new balance if we start with initial_balance\n",
    "    dollars in account, and transfer money. Deposits have \n",
    "    transfer > 0, withdraws have transfer < 0.\n",
    "    \n",
    "    Appropriate overdraft fee rules are also applied.\n",
    "    \"\"\"\n",
    "    new_balance_no_fee = initial_balance + transfer\n",
    "    fee = 20\n",
    "    if transfer >= 0:\n",
    "        return new_balance_no_fee\n",
    "    if (initial_balance + transfer < 0):\n",
    "        return new_balance_no_fee - fee\n",
    "    else:\n",
    "        return new_balance_no_fee"
   ]
  },
  {
   "cell_type": "code",
   "execution_count": null,
   "metadata": {
    "ExecuteTime": {
     "end_time": "2020-01-24T04:48:12.550636Z",
     "start_time": "2020-01-24T04:48:12.545399Z"
    }
   },
   "outputs": [],
   "source": [
    "get_new_balance(-30, -10)"
   ]
  },
  {
   "cell_type": "markdown",
   "metadata": {},
   "source": [
    "## Where to from here?\n",
    "\n",
    "We could imagine that we have 5 transactions: +10, -45.3, -10.15, +4.20 and -16.00\n",
    "\n",
    "If we start with 100 dollars, how much do we have at the end? Here is one way of answering that question:"
   ]
  },
  {
   "cell_type": "code",
   "execution_count": null,
   "metadata": {
    "ExecuteTime": {
     "end_time": "2020-01-24T04:38:39.889806Z",
     "start_time": "2020-01-24T04:38:39.885552Z"
    }
   },
   "outputs": [],
   "source": [
    "initial_balance = 100\n",
    "\n",
    "balance = get_new_balance(initial_balance, 10)\n",
    "print(f\"The balance after transaction 1 is {balance}\")\n",
    "\n",
    "balance = get_new_balance(balance, -45.3)\n",
    "print(f\"The balance after transaction 2 is {balance}\")\n",
    "\n",
    "balance = get_new_balance(balance, 10.15)\n",
    "print(f\"The balance after transaction 3 is {balance}\")\n",
    "\n",
    "balance = get_new_balance(balance, 4.20)\n",
    "print(f\"The balance after transaction 4 is {balance}\")\n",
    "\n",
    "balance = get_new_balance(balance, -16.00)\n",
    "print(f\"The balance after transaction 5 is {balance}\")\n",
    "\n",
    "print(f\"The final balance is {balance}\")"
   ]
  },
  {
   "cell_type": "markdown",
   "metadata": {},
   "source": [
    "There are a few things that are not great about the code above:\n",
    "- **There is a lot of repetition.** <br/>\n",
    "  If we wanted to change the message that was printed, we would have to change it in 5 different places.<br/>\n",
    "  <br/>\n",
    "- **We only have access to the most recent balance.**<br/>\n",
    "  We print out the value after the 3rd transaction, but we don't have access to it in the code any more.<br/>\n",
    "  <br/>\n",
    "- **We spread the inputs out.**<br/>\n",
    "  We have 6 inputs in this problem: the initial balance and the 5 different values of the transactions that we make. The transaction values are spread out throughout the cell. Hopefully we have started to get used to the pattern of having the inputs at the top, the code we want to execute in the middle, and then output at the bottom.<br/>\n",
    "  \n",
    "In our next notebook, we will look at two new concepts that help us address these issues. Those concepts are **lists** and **loops**."
   ]
  },
  {
   "cell_type": "code",
   "execution_count": null,
   "metadata": {
    "ExecuteTime": {
     "end_time": "2020-01-24T04:40:55.101929Z",
     "start_time": "2020-01-24T04:40:55.097962Z"
    }
   },
   "outputs": [],
   "source": [
    "L = ['the', 'cat', 'in', 'the', 'hat', 'does', 'a', 'dance']\n",
    "print(f'The length of \"{L[0]}\" is {len(L[0])}')\n",
    "print(f'The length of \"{L[1]}\" is {len(L[1])}')\n",
    "print(f'The length of \"{L[2]}\" is {len(L[2])}')\n",
    "print(f'The length of \"{L[3]}\" is {len(L[3])}')\n",
    "print(f'The length of \"{L[4]}\" is {len(L[4])}')\n"
   ]
  },
  {
   "cell_type": "code",
   "execution_count": null,
   "metadata": {
    "ExecuteTime": {
     "end_time": "2020-01-24T04:47:33.876275Z",
     "start_time": "2020-01-24T04:47:33.873202Z"
    }
   },
   "outputs": [],
   "source": [
    "def give_me_a_list(word_list):\n",
    "    for word in word_list:\n",
    "        print(f'The length of \"{word}\" is {len(word)}')"
   ]
  },
  {
   "cell_type": "code",
   "execution_count": null,
   "metadata": {
    "ExecuteTime": {
     "end_time": "2020-01-24T04:47:34.799153Z",
     "start_time": "2020-01-24T04:47:34.794744Z"
    }
   },
   "outputs": [],
   "source": [
    "my_answer = give_me_a_list(L)"
   ]
  },
  {
   "cell_type": "code",
   "execution_count": null,
   "metadata": {
    "ExecuteTime": {
     "end_time": "2020-01-24T04:45:53.218183Z",
     "start_time": "2020-01-24T04:45:53.215834Z"
    }
   },
   "outputs": [],
   "source": [
    "my_answer"
   ]
  },
  {
   "cell_type": "code",
   "execution_count": null,
   "metadata": {
    "ExecuteTime": {
     "end_time": "2020-01-24T04:55:35.441527Z",
     "start_time": "2020-01-24T04:55:35.435605Z"
    }
   },
   "outputs": [],
   "source": [
    "initial_balance = 100\n",
    "transactions = range(1, 11)\n",
    "print(transactions)\n",
    "balance = initial_balance\n",
    "\n",
    "for single_transaction in transactions:\n",
    "    print(f'Balance before is {balance}')\n",
    "    balance = get_new_balance(balance, single_transaction)\n",
    "    print(f'    Balance after transferring {single_transaction} is {balance}')\n",
    "    \n",
    "print(f'Final balance is {balance}')"
   ]
  },
  {
   "cell_type": "code",
   "execution_count": null,
   "metadata": {},
   "outputs": [],
   "source": []
  }
 ],
 "metadata": {
  "kernelspec": {
   "display_name": "Python 3",
   "language": "python",
   "name": "python3"
  },
  "language_info": {
   "codemirror_mode": {
    "name": "ipython",
    "version": 3
   },
   "file_extension": ".py",
   "mimetype": "text/x-python",
   "name": "python",
   "nbconvert_exporter": "python",
   "pygments_lexer": "ipython3",
   "version": "3.7.2"
  },
  "varInspector": {
   "cols": {
    "lenName": 16,
    "lenType": 16,
    "lenVar": 40
   },
   "kernels_config": {
    "python": {
     "delete_cmd_postfix": "",
     "delete_cmd_prefix": "del ",
     "library": "var_list.py",
     "varRefreshCmd": "print(var_dic_list())"
    },
    "r": {
     "delete_cmd_postfix": ") ",
     "delete_cmd_prefix": "rm(",
     "library": "var_list.r",
     "varRefreshCmd": "cat(var_dic_list()) "
    }
   },
   "types_to_exclude": [
    "module",
    "function",
    "builtin_function_or_method",
    "instance",
    "_Feature"
   ],
   "window_display": false
  }
 },
 "nbformat": 4,
 "nbformat_minor": 2
}
