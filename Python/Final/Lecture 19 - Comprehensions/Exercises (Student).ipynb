{
 "cells": [
  {
   "cell_type": "markdown",
   "metadata": {},
   "source": [
    "# Exercises: "
   ]
  },
  {
   "cell_type": "markdown",
   "metadata": {},
   "source": [
    "## Conditional Comprehensions\n",
    "\n",
    "Write a list comprehension that converts all of the vowels in a string to uppercase and all of the consonants to lowercase.\n"
   ]
  },
  {
   "cell_type": "code",
   "execution_count": null,
   "metadata": {
    "ExecuteTime": {
     "end_time": "2019-11-07T06:30:47.161387Z",
     "start_time": "2019-11-07T06:30:47.124801Z"
    }
   },
   "outputs": [],
   "source": [
    "string = \"the quick brown fox jumps over the lazy dog\"\n",
    "comp = [... for x in string]\n",
    "print(''.join(comp))"
   ]
  },
  {
   "cell_type": "markdown",
   "metadata": {
    "ExecuteTime": {
     "end_time": "2019-11-07T06:29:33.968847Z",
     "start_time": "2019-11-07T06:29:33.939876Z"
    }
   },
   "source": [
    "## Cached Functions\n",
    "\n",
    "Write a dictionary comprehension whose keys are integers from 1 to 100 that are divisible by 3, and whose values are their squares."
   ]
  },
  {
   "cell_type": "code",
   "execution_count": null,
   "metadata": {
    "ExecuteTime": {
     "end_time": "2019-11-07T06:44:21.899805Z",
     "start_time": "2019-11-07T06:44:21.878250Z"
    }
   },
   "outputs": [],
   "source": [
    "{... for x in range(1, 101) if ...}"
   ]
  },
  {
   "cell_type": "code",
   "execution_count": null,
   "metadata": {},
   "outputs": [],
   "source": []
  }
 ],
 "metadata": {
  "kernelspec": {
   "display_name": "Python 3",
   "language": "python",
   "name": "python3"
  },
  "language_info": {
   "codemirror_mode": {
    "name": "ipython",
    "version": 3
   },
   "file_extension": ".py",
   "mimetype": "text/x-python",
   "name": "python",
   "nbconvert_exporter": "python",
   "pygments_lexer": "ipython3",
   "version": "3.7.2"
  },
  "toc": {
   "base_numbering": 1,
   "nav_menu": {},
   "number_sections": true,
   "sideBar": true,
   "skip_h1_title": false,
   "title_cell": "Table of Contents",
   "title_sidebar": "Contents",
   "toc_cell": false,
   "toc_position": {},
   "toc_section_display": true,
   "toc_window_display": false
  }
 },
 "nbformat": 4,
 "nbformat_minor": 2
}
