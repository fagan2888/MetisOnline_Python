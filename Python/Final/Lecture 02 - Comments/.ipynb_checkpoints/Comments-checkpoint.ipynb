{
 "cells": [
  {
   "cell_type": "markdown",
   "metadata": {},
   "source": [
    "# Python \n",
    "### Python Comments"
   ]
  },
  {
   "cell_type": "markdown",
   "metadata": {},
   "source": [
    "__Purpose:__\n",
    "The purpose of this lecture is to illustrate how comments are used in Python. \n",
    "\n",
    "__At the end of this lecture you will be able to:__\n",
    "1. Write comments"
   ]
  },
  {
   "cell_type": "markdown",
   "metadata": {},
   "source": [
    "## 1.1 Comments"
   ]
  },
  {
   "cell_type": "markdown",
   "metadata": {},
   "source": [
    "__Overview:__\n",
    "- Before we begin writing our first program, it is necessary to highlight an important concept for programming - [Comments](https://en.wikipedia.org/wiki/Comment_(computer_programming))\n",
    "- Comments are the way programmers annotate their programs with the intention of making it easy for other humans (and themselves) to understand\n",
    "- When a computer program is run, comments should be ignored or passed over. Therefore, we need a way of telling the  [interpreter](https://en.wikipedia.org/wiki/Interpreter_(computing)) that we are writing a comment and NOT actual code \n",
    "- Every computer programming language has different syntax to denote comments, but in Python the `#` (the hash character or [number sign](https://en.wikipedia.org/wiki/Number_sign)) symbol is used\n",
    "\n",
    "__Helpul Points:__\n",
    "1. There are certain universal guides for commenting that you should follow. In general, comments should explain WHY not WHAT (with some exceptions). For example, here are some uses of commenting:\n",
    "> a. Explaining something to the reader that may not be obvious<br>\n",
    "> b. Clarifying your intention behind a line or block of code<br>\n",
    "> c. Setting a reminder to change or input something in the future<br> \n",
    "2. Additionally, there are guides of how NOT to comment. For example, explaining every variable assignment is considered unnecessary and overkill \n",
    "3. See [this](https://blog.codinghorror.com/code-tells-you-how-comments-tell-you-why/) blogpost for a more philosophical discussion around commenting \n",
    "4. In Python, comments can only extend one line (__Single-Line Comments__). However, in the case of a function, an explanation of the function (\"docstring\") is given as a quasi __Multi-Line Comment__, but technically it is just a multi-line string denoted with triple quotes (`\"\"\"`)\n",
    "\n",
    "__Practice:__\n",
    "See below for some examples of commenting in Python"
   ]
  },
  {
   "cell_type": "markdown",
   "metadata": {},
   "source": [
    "### Example 1 (Single-Line Comment):"
   ]
  },
  {
   "cell_type": "code",
   "execution_count": null,
   "metadata": {},
   "outputs": [],
   "source": [
    "# this is a single-line comment "
   ]
  },
  {
   "cell_type": "markdown",
   "metadata": {},
   "source": [
    "Notice how when running the cell above, there is no output since the line is ignored by the interpreter"
   ]
  },
  {
   "cell_type": "markdown",
   "metadata": {},
   "source": [
    "### Example 2 (Multi-Line String/Comment):"
   ]
  },
  {
   "cell_type": "code",
   "execution_count": null,
   "metadata": {},
   "outputs": [],
   "source": [
    "\"\"\"\n",
    "this is a multi-line \n",
    "string that is used in \n",
    "functions to explain \n",
    "the purpose of the function\n",
    "and is sometimes considered \n",
    "a multi-line comment\n",
    "\"\"\""
   ]
  },
  {
   "cell_type": "markdown",
   "metadata": {},
   "source": [
    "Notice how when running the cell above, there is an output since the line is NOT ignored by the interpreter "
   ]
  },
  {
   "cell_type": "markdown",
   "metadata": {},
   "source": [
    "### Example 3 (Proper and Improper use of Comments):"
   ]
  },
  {
   "cell_type": "markdown",
   "metadata": {},
   "source": [
    "Examples of proper commenting:"
   ]
  },
  {
   "cell_type": "code",
   "execution_count": null,
   "metadata": {},
   "outputs": [],
   "source": [
    "# round the response to the nearest integer because a decimal value will not make sense for the following reason...\n",
    "\n",
    "# an array was chosen here instead of a dataframe for the following reason...\n",
    "\n",
    "# method 1 was chosen instead of method 2 although both were attempted, but in the end of method 1 performed better for the following reasons...\n",
    "\n",
    "# reversing the sentence is necessary because we are reading from right to left "
   ]
  },
  {
   "cell_type": "markdown",
   "metadata": {},
   "source": [
    "Why do you think these are examples of proper commenting? "
   ]
  },
  {
   "cell_type": "markdown",
   "metadata": {},
   "source": [
    "Examples of improper commenting:"
   ]
  },
  {
   "cell_type": "code",
   "execution_count": null,
   "metadata": {},
   "outputs": [],
   "source": [
    "# a is set to the value of 1\n",
    "\n",
    "# the variable Clark is a string \n",
    "\n",
    "# the following loop iterates over 100 values\n",
    "\n",
    "# import this module because we will need the functions it contains"
   ]
  },
  {
   "cell_type": "markdown",
   "metadata": {},
   "source": [
    "Why do you think these are examples of improper commenting? "
   ]
  },
  {
   "cell_type": "markdown",
   "metadata": {},
   "source": [
    "### Example 4 (Ways of Commenting in Python): "
   ]
  },
  {
   "cell_type": "code",
   "execution_count": null,
   "metadata": {},
   "outputs": [],
   "source": [
    "# comment before the line like this\n",
    "a = 1\n",
    "\n",
    "a = 1 # comment at the end of the line like this \n",
    "\n",
    "a = 1\n",
    "# commenting after the line is possible although discouraged "
   ]
  },
  {
   "cell_type": "markdown",
   "metadata": {},
   "source": [
    "You can see that if the line begins with the hash symbol, it is considered a comment. "
   ]
  },
  {
   "cell_type": "markdown",
   "metadata": {},
   "source": [
    "### Example 5 (Hash Symbol Elsewhere):"
   ]
  },
  {
   "cell_type": "code",
   "execution_count": null,
   "metadata": {},
   "outputs": [],
   "source": [
    "a = \"this is called a string and the hash symbol (#) is now interpreted as part of the string\"\n",
    "print(a)"
   ]
  },
  {
   "cell_type": "markdown",
   "metadata": {},
   "source": [
    "You can see that a hash symbol can also be intepreted as part of the string."
   ]
  }
 ],
 "metadata": {
  "kernelspec": {
   "display_name": "Python 3",
   "language": "python",
   "name": "python3"
  },
  "language_info": {
   "codemirror_mode": {
    "name": "ipython",
    "version": 3
   },
   "file_extension": ".py",
   "mimetype": "text/x-python",
   "name": "python",
   "nbconvert_exporter": "python",
   "pygments_lexer": "ipython3",
   "version": "3.7.2"
  },
  "toc": {
   "base_numbering": 1,
   "nav_menu": {},
   "number_sections": true,
   "sideBar": true,
   "skip_h1_title": false,
   "title_cell": "Table of Contents",
   "title_sidebar": "Contents",
   "toc_cell": false,
   "toc_position": {},
   "toc_section_display": true,
   "toc_window_display": false
  }
 },
 "nbformat": 4,
 "nbformat_minor": 2
}
