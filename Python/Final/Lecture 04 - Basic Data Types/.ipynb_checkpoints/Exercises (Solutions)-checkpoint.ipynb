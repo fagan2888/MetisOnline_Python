{
 "cells": [
  {
   "cell_type": "markdown",
   "metadata": {},
   "source": [
    "# Exercises: Lecture 3 - Basic Data Types\n",
    "\n",
    "We've looked at integers, floats, and complex numbers so far. (We've also looked at strings; those will show up soon.)"
   ]
  },
  {
   "cell_type": "code",
   "execution_count": null,
   "metadata": {
    "ExecuteTime": {
     "end_time": "2019-10-14T23:51:45.936617Z",
     "start_time": "2019-10-14T23:51:45.932257Z"
    }
   },
   "outputs": [],
   "source": [
    "x = int(3)\n",
    "y = float(3)\n",
    "z = complex(3)"
   ]
  },
  {
   "cell_type": "markdown",
   "metadata": {},
   "source": [
    "Print the values of `x`, `y`, and `z`. Each was created with the value 3, but look at how python interprets them as an `int`, a `float`, and a `complex` variable."
   ]
  },
  {
   "cell_type": "code",
   "execution_count": null,
   "metadata": {
    "ExecuteTime": {
     "end_time": "2019-10-15T18:05:29.729496Z",
     "start_time": "2019-10-15T18:05:29.685366Z"
    }
   },
   "outputs": [],
   "source": [
    "print(x)\n",
    "print(y)\n",
    "print(z)"
   ]
  },
  {
   "cell_type": "markdown",
   "metadata": {},
   "source": [
    "## Implicit Type Conversion\n",
    "\n",
    "When we do arithmetic with mixed numeric types, variables are converted so that they are the same type. There is an implicit hierarchy of numeric types. Add `x`, `y`, and `z` to each other (only two at a time -- three calculations) and print their types. What is the conversion rule that each numeric type follows when used in calculations with other types?"
   ]
  },
  {
   "cell_type": "code",
   "execution_count": null,
   "metadata": {
    "ExecuteTime": {
     "end_time": "2019-10-15T18:06:21.127759Z",
     "start_time": "2019-10-15T18:06:21.119572Z"
    }
   },
   "outputs": [],
   "source": [
    "print(x + y, type(x+y))\n",
    "print(y + z, type(y+z))\n",
    "print(x + z, type(x+z))"
   ]
  },
  {
   "cell_type": "markdown",
   "metadata": {},
   "source": [
    "Experiment with other arithmetic operators and see what implicit conversions occur. \n",
    "\n",
    "Pay special attention to behavior of the division `/` and integer division `//` (also called floor division) operators with `int` and `float` data types. \n",
    "\n",
    "Does integer division work with complex numbers?"
   ]
  },
  {
   "cell_type": "code",
   "execution_count": null,
   "metadata": {
    "ExecuteTime": {
     "end_time": "2019-10-15T18:46:00.185470Z",
     "start_time": "2019-10-15T18:46:00.176010Z"
    }
   },
   "outputs": [],
   "source": [
    "print(8 // 4)\n",
    "print(8 / 4)\n",
    "print(8.0 // 4.0)\n",
    "print(8.0 / 4.0)\n",
    "\n",
    "print(9 // 4)\n",
    "print(9 / 4)\n",
    "print(9.0 // 4.0)\n",
    "print(9.0 / 4.0)"
   ]
  },
  {
   "cell_type": "code",
   "execution_count": null,
   "metadata": {
    "ExecuteTime": {
     "end_time": "2019-10-15T18:49:17.130617Z",
     "start_time": "2019-10-15T18:49:17.125129Z"
    }
   },
   "outputs": [],
   "source": [
    "# print(complex(8) // 4)\n",
    "# print(8 // complex(4))\n",
    "print(complex(8) / 4)\n",
    "print(8 / complex(4))"
   ]
  },
  {
   "cell_type": "markdown",
   "metadata": {},
   "source": [
    "## Write a Python program to convert radian to degree.\n",
    "\n",
    "Note : The radian is the standard unit of angular measure, used in many areas of mathematics. An angle's measurement in radians is numerically equal to the length of a corresponding arc of a unit circle; one radian is just under 57.3 degrees (when the arc length is equal to the radius).\n",
    "\n",
    "$degree = radian*\\frac{180}{\\pi}$\n",
    "\n",
    "Test your solution by using `180 radians`."
   ]
  },
  {
   "cell_type": "code",
   "execution_count": null,
   "metadata": {},
   "outputs": [],
   "source": [
    "# your solution here \n",
    "PI = 3.14\n",
    "radian = 180\n",
    "degree = radian*(180/PI)\n",
    "print(degree)"
   ]
  },
  {
   "cell_type": "markdown",
   "metadata": {},
   "source": [
    "## Write a Python program to calculate volume and surface area of a sphere. \n",
    "\n",
    "Note: A sphere is a perfectly round geometrical object in three-dimensional space that is the surface of a completely round ball.\n",
    "\n",
    "Test your solution by using a sphere with `radius = 18`"
   ]
  },
  {
   "cell_type": "code",
   "execution_count": null,
   "metadata": {},
   "outputs": [],
   "source": [
    "# your solution here \n",
    "PI=3.14\n",
    "radius = 18.0\n",
    "sur_area = 4 * PI * radius **2\n",
    "volume = (4/3) * (PI * radius ** 3)\n",
    "print(\"Surface Area is: \", sur_area)\n",
    "print(\"Volume is: \", volume)"
   ]
  },
  {
   "cell_type": "markdown",
   "metadata": {},
   "source": [
    "## Write a Python program to solve $(x + y)(x + y)$. \n",
    "\n",
    "Test your solution if `x = 5` and `y = 1`"
   ]
  },
  {
   "cell_type": "code",
   "execution_count": null,
   "metadata": {},
   "outputs": [],
   "source": [
    "# your solution here \n",
    "x, y = 5, 1\n",
    "result = x * x + 2 * x * y + y * y\n",
    "print(\"(x + y)^2 =\", result)"
   ]
  },
  {
   "cell_type": "code",
   "execution_count": null,
   "metadata": {},
   "outputs": [],
   "source": [
    "# here is another solution \n",
    "x, y = 5, 1\n",
    "result = (x + y)**2\n",
    "print(\"(x + y)^2 =\", result)"
   ]
  },
  {
   "cell_type": "markdown",
   "metadata": {},
   "source": [
    "## Write code that calculates the volume of a cylinder with height 5 and radius 3.\n",
    "\n",
    "The volume of a cylinder is given by $V=\\pi r^2 h$"
   ]
  },
  {
   "cell_type": "code",
   "execution_count": null,
   "metadata": {},
   "outputs": [],
   "source": [
    "PI = 3.14\n",
    "height = 5\n",
    "radius = 3\n",
    "volume = PI*radius**2*height\n",
    "print(volume)"
   ]
  },
  {
   "cell_type": "markdown",
   "metadata": {},
   "source": [
    "## How much is 52 degrees Fahrenheit in Kelvin?\n",
    "\n",
    "$°K = (°F − 32) × \\frac{5}{9} + 273.15$"
   ]
  },
  {
   "cell_type": "code",
   "execution_count": null,
   "metadata": {},
   "outputs": [],
   "source": [
    "F = 52\n",
    "K = (F-32)*5/9+273.15\n",
    "print(K)"
   ]
  },
  {
   "cell_type": "code",
   "execution_count": null,
   "metadata": {},
   "outputs": [],
   "source": []
  }
 ],
 "metadata": {
  "kernelspec": {
   "display_name": "Python 3",
   "language": "python",
   "name": "python3"
  },
  "language_info": {
   "codemirror_mode": {
    "name": "ipython",
    "version": 3
   },
   "file_extension": ".py",
   "mimetype": "text/x-python",
   "name": "python",
   "nbconvert_exporter": "python",
   "pygments_lexer": "ipython3",
   "version": "3.7.2"
  },
  "toc": {
   "base_numbering": 1,
   "nav_menu": {},
   "number_sections": true,
   "sideBar": true,
   "skip_h1_title": false,
   "title_cell": "Table of Contents",
   "title_sidebar": "Contents",
   "toc_cell": false,
   "toc_position": {},
   "toc_section_display": true,
   "toc_window_display": false
  }
 },
 "nbformat": 4,
 "nbformat_minor": 2
}
