{
 "cells": [
  {
   "cell_type": "markdown",
   "metadata": {},
   "source": [
    "# Python\n",
    "### Python Boolean Values and Logic Operators"
   ]
  },
  {
   "cell_type": "markdown",
   "metadata": {},
   "source": [
    "__Purpose:__\n",
    "The purpose of this lecture is to illustrate Boolean basic logic in Python. \n",
    "\n",
    "__At the end of this lecture you will be able to:__\n",
    "1. Understand boolean values\n",
    "2. Use boolean logic operators such as value comparison, membership tests in strings, and identity comparison. "
   ]
  },
  {
   "cell_type": "markdown",
   "metadata": {},
   "source": [
    "## 1.1 Boolean Logic in Python "
   ]
  },
  {
   "cell_type": "markdown",
   "metadata": {},
   "source": [
    "### 1.1.1 Boolean Values in Python "
   ]
  },
  {
   "cell_type": "markdown",
   "metadata": {},
   "source": [
    "__Overview:__\n",
    "- __[Boolean Values](https://docs.python.org/3/library/stdtypes.html#boolean-values):__ Boolean Values in Python are the two constant objects `False` and `True`\n",
    "- These two objects are case sensitive and therefore `FALSE`, `false`, `TRUE`, and `true` do not represent Boolean Values\n",
    "- Boolean Values are the two main objects to represent truth values (true and false) \n",
    "- Boolean Values can behave like integers when used in arithmetic operators or numeric contexts in general (`0` - `False` and `1` - `True`)\n",
    "- Zero and empty are converted to `False` in boolean\n",
    "\n",
    "__Helpful Points:__\n",
    "1. The 2 Boolean Values are considered to have type `bool` similar to `int`, `float`, `str`, and `complex`\n",
    "2. Similar to the `int()` and `str()` function, the `bool()` can be used to type convert an object into a Boolean Value\n",
    "\n",
    "__Practice:__ Examples of Boolean Values in Python "
   ]
  },
  {
   "cell_type": "markdown",
   "metadata": {},
   "source": [
    "### Example 1 (Creating Variables with Boolean Values):"
   ]
  },
  {
   "cell_type": "code",
   "execution_count": null,
   "metadata": {},
   "outputs": [],
   "source": [
    "a = True\n",
    "b = \"True\""
   ]
  },
  {
   "cell_type": "code",
   "execution_count": null,
   "metadata": {},
   "outputs": [],
   "source": [
    "type(a)"
   ]
  },
  {
   "cell_type": "code",
   "execution_count": null,
   "metadata": {},
   "outputs": [],
   "source": [
    "type(b)"
   ]
  },
  {
   "cell_type": "markdown",
   "metadata": {},
   "source": [
    "### Example 2 (Type Conversion with bool type):"
   ]
  },
  {
   "cell_type": "code",
   "execution_count": null,
   "metadata": {},
   "outputs": [],
   "source": [
    "c = bool(b)"
   ]
  },
  {
   "cell_type": "code",
   "execution_count": null,
   "metadata": {},
   "outputs": [],
   "source": [
    "type(c)"
   ]
  },
  {
   "cell_type": "code",
   "execution_count": null,
   "metadata": {},
   "outputs": [],
   "source": [
    "my_name = \"Clark\"\n",
    "my_name_bool = bool(my_name)"
   ]
  },
  {
   "cell_type": "code",
   "execution_count": null,
   "metadata": {},
   "outputs": [],
   "source": [
    "my_name_bool"
   ]
  },
  {
   "cell_type": "code",
   "execution_count": null,
   "metadata": {},
   "outputs": [],
   "source": [
    "type(my_name_bool)"
   ]
  },
  {
   "cell_type": "markdown",
   "metadata": {},
   "source": [
    "We can see that the `bool()` function converts the variable to the `True` Boolean Value by default"
   ]
  },
  {
   "cell_type": "markdown",
   "metadata": {},
   "source": [
    "### Example 3 (Converting 0 and empty to bool):"
   ]
  },
  {
   "cell_type": "code",
   "execution_count": null,
   "metadata": {},
   "outputs": [],
   "source": [
    "d = bool('')\n",
    "d"
   ]
  },
  {
   "cell_type": "code",
   "execution_count": null,
   "metadata": {},
   "outputs": [],
   "source": [
    "e = bool(0)\n",
    "e"
   ]
  },
  {
   "cell_type": "markdown",
   "metadata": {},
   "source": [
    "### 1.1.2 Value Comparisons in Python:"
   ]
  },
  {
   "cell_type": "markdown",
   "metadata": {},
   "source": [
    "__Overview:__\n",
    "- __[Value Comparisons](https://docs.python.org/3/reference/expressions.html#value-comparisons):__ Value Comparisons is the process of comparing the values of two objects using the following comparison operators:\n",
    "    - Strictly less than (`<`)\n",
    "    - Strictly greater than (`>`)\n",
    "    - Equal to (`==`)\n",
    "    - Greater than or Equal to (`>=`)\n",
    "    - Less than or Equal to (`<=`)\n",
    "    - Not Equal to (`!=`)\n",
    "- The result of the Value Comparison will be a Boolean Value (`True` or `False`)\n",
    "    \n",
    "__Helpful Points:__\n",
    "1. The objects that are being compared do not need to have the same type\n",
    "2. In some cases, if the objects do not have the same type, the interpreter will perform Type Conversion on one of the two values so they have the same type and in other cases, Value Comparison will be made with two values of different types\n",
    "\n",
    "__Practice:__ Examples of Value Comparisons in Python "
   ]
  },
  {
   "cell_type": "markdown",
   "metadata": {},
   "source": [
    "### Example 1 (Comparison Operators of the same Type):"
   ]
  },
  {
   "cell_type": "code",
   "execution_count": null,
   "metadata": {},
   "outputs": [],
   "source": [
    "# equal to operator\n",
    "print(3 == 3)\n",
    "print(3 == 2)"
   ]
  },
  {
   "cell_type": "code",
   "execution_count": null,
   "metadata": {},
   "outputs": [],
   "source": [
    "# not equal to operator\n",
    "print(3 != 3)\n",
    "print(3 != 2)"
   ]
  },
  {
   "cell_type": "code",
   "execution_count": null,
   "metadata": {},
   "outputs": [],
   "source": [
    "# greater than operator\n",
    "print(3 > 2)\n",
    "print(3 > 3)"
   ]
  },
  {
   "cell_type": "code",
   "execution_count": null,
   "metadata": {},
   "outputs": [],
   "source": [
    "# greater than or equal to operator\n",
    "print(3 >= 2)\n",
    "print(3 >= 3)"
   ]
  },
  {
   "cell_type": "markdown",
   "metadata": {},
   "source": [
    "### Example 2 (Comparison Operators of different Type):"
   ]
  },
  {
   "cell_type": "code",
   "execution_count": null,
   "metadata": {},
   "outputs": [],
   "source": [
    "# operator with int and float\n",
    "print(3 == 3.0)"
   ]
  },
  {
   "cell_type": "code",
   "execution_count": null,
   "metadata": {},
   "outputs": [],
   "source": [
    "# operator with bool and int\n",
    "print(True == 1)"
   ]
  },
  {
   "cell_type": "markdown",
   "metadata": {},
   "source": [
    "In this case, the `True` value is converted to a numeric type (integer value 1)"
   ]
  },
  {
   "cell_type": "code",
   "execution_count": null,
   "metadata": {},
   "outputs": [],
   "source": [
    "# operator with int and str\n",
    "print(5 == \"5\")"
   ]
  },
  {
   "cell_type": "markdown",
   "metadata": {},
   "source": [
    "### Example 3 (Comparison Operators wih Types):"
   ]
  },
  {
   "cell_type": "code",
   "execution_count": null,
   "metadata": {},
   "outputs": [],
   "source": [
    "print(type(3) == type(-7.2))"
   ]
  },
  {
   "cell_type": "markdown",
   "metadata": {},
   "source": [
    "### Problem 1\n",
    "\n",
    "John makes \\$10,000 in 80 hours. \n",
    "\n",
    "Ana makes \\$5,000 in 35 hours. \n",
    "\n",
    "Print `True` if Ana makes more than John on an hourly rate, otherwise print `False`. \n",
    "\n",
    "- Use the comparison operators in your answer "
   ]
  },
  {
   "cell_type": "code",
   "execution_count": null,
   "metadata": {},
   "outputs": [],
   "source": [
    "# Write your code here\n",
    "\n",
    "\n",
    "\n"
   ]
  },
  {
   "cell_type": "markdown",
   "metadata": {},
   "source": [
    "### Problem 2\n",
    "\n",
    "Bill drove From New York to Boston (215 miles) in 2 hours and 15 minutes. The speed limit is 65 mph. Print `True` if Bill could have been pulled over for speeding, otherwise print `False`. \n",
    "\n",
    "- Use the comparison operators in your answer "
   ]
  },
  {
   "cell_type": "code",
   "execution_count": null,
   "metadata": {},
   "outputs": [],
   "source": [
    "# Write your code here\n",
    "\n",
    "\n",
    "\n"
   ]
  },
  {
   "cell_type": "markdown",
   "metadata": {},
   "source": [
    "### 1.1.3 Membership Test Operations (for `str` types)"
   ]
  },
  {
   "cell_type": "markdown",
   "metadata": {},
   "source": [
    "Membership Test Operations can be used for all built-in sequence types and set types (see list of built-in types above) as well as dictionaries (type of mapping type). However, only membership test operations as it pertains to the text sequence type (`str`) will be explored here and the remaining applications will be covered in another lecture. "
   ]
  },
  {
   "cell_type": "markdown",
   "metadata": {},
   "source": [
    "__Overview:__\n",
    "- __[Membership Test Operations](https://docs.python.org/3/reference/expressions.html#membership-test-operations):__ Membership Test Operations is the process of checking if one variable is a \"member\" of the other variable \n",
    "- There are two operators used in membership tests:\n",
    "> 1. `in`: `x in s` evalutes to `True` if `x` is a member of `s`, and `False` otherwise\n",
    "> 2. `not in`: `x not in s` returns the negation of `x in s`1\n",
    "- The result of a membership test is one of the two boolean values (`True` or `False`) similiar to value comparisons\n",
    "\n",
    "__Helpful Points:__\n",
    "1. For the `str` type, `x in y` is `True` if and only if `x` is a substring of `y` (i.e. the string `x` is contained within the string `y`)\n",
    "2. Empty strings are always considered to be a substring of any other string, so `\"\" in abc` will always return `True` (i.e. the string `\"\"` is contained within the string `abc`)\n",
    "\n",
    "__Practice:__ Examples of membership test operations in Python "
   ]
  },
  {
   "cell_type": "markdown",
   "metadata": {},
   "source": [
    "### Example 1 (Membership Test Operations with substrings - `in`):"
   ]
  },
  {
   "cell_type": "code",
   "execution_count": null,
   "metadata": {},
   "outputs": [],
   "source": [
    "superhero_name = \"Clark\"\n",
    "print(\"Cla\" in superhero_name)"
   ]
  },
  {
   "cell_type": "code",
   "execution_count": null,
   "metadata": {},
   "outputs": [],
   "source": [
    "print(\"lar\" in superhero_name)"
   ]
  },
  {
   "cell_type": "code",
   "execution_count": null,
   "metadata": {},
   "outputs": [],
   "source": [
    "print(\"\" in superhero_name)"
   ]
  },
  {
   "cell_type": "markdown",
   "metadata": {},
   "source": [
    "### Example 2 (Membership Test Operations with substrings - `not in`):"
   ]
  },
  {
   "cell_type": "code",
   "execution_count": null,
   "metadata": {},
   "outputs": [],
   "source": [
    "print(\"ab\" not in superhero_name)"
   ]
  },
  {
   "cell_type": "code",
   "execution_count": null,
   "metadata": {},
   "outputs": [],
   "source": [
    "print(\"\" not in superhero_name)"
   ]
  },
  {
   "cell_type": "markdown",
   "metadata": {},
   "source": [
    "# ANSWERS"
   ]
  },
  {
   "cell_type": "markdown",
   "metadata": {},
   "source": [
    "### Problem 1\n",
    "\n",
    "John makes \\$10,000 in 80 hours. \n",
    "\n",
    "Ana makes \\$5,000 in 35 hours. \n",
    "\n",
    "Print `True` if Ana makes more than John on an hourly rate, otherwise print `False`. \n",
    "\n",
    "- Use the comparison operators in your answer "
   ]
  },
  {
   "cell_type": "code",
   "execution_count": null,
   "metadata": {},
   "outputs": [],
   "source": [
    "john_hourly = 10000/80\n",
    "ana_hourly = 5000/35\n",
    "print(f\"Does Ana make more than John on an hourly rate? {ana_hourly > john_hourly}\")"
   ]
  },
  {
   "cell_type": "markdown",
   "metadata": {},
   "source": [
    "### Problem 2\n",
    "\n",
    "Bill drove From New York to Boston (215 miles) in 2 hours and 15 minutes. The speed limit is 65 mph. Print `True` if Bill could have been pulled over for speeding, otherwise print `False`. \n",
    "\n",
    "- Use the comparison operators in your answer "
   ]
  },
  {
   "cell_type": "code",
   "execution_count": null,
   "metadata": {},
   "outputs": [],
   "source": [
    "bill_speed = 215/2.25\n",
    "limit = 65\n",
    "print(f\"Could Bill have been pulled over for speeding? {bill_speed > limit}\")\n",
    "print(f\"Bill's speed was {round(bill_speed,2)} mph\")"
   ]
  },
  {
   "cell_type": "code",
   "execution_count": null,
   "metadata": {},
   "outputs": [],
   "source": []
  }
 ],
 "metadata": {
  "kernelspec": {
   "display_name": "Python 3",
   "language": "python",
   "name": "python3"
  },
  "language_info": {
   "codemirror_mode": {
    "name": "ipython",
    "version": 3
   },
   "file_extension": ".py",
   "mimetype": "text/x-python",
   "name": "python",
   "nbconvert_exporter": "python",
   "pygments_lexer": "ipython3",
   "version": "3.7.2"
  },
  "toc": {
   "base_numbering": 1,
   "nav_menu": {},
   "number_sections": true,
   "sideBar": true,
   "skip_h1_title": false,
   "title_cell": "Table of Contents",
   "title_sidebar": "Contents",
   "toc_cell": false,
   "toc_position": {},
   "toc_section_display": true,
   "toc_window_display": false
  },
  "varInspector": {
   "cols": {
    "lenName": 16,
    "lenType": 16,
    "lenVar": 40
   },
   "kernels_config": {
    "python": {
     "delete_cmd_postfix": "",
     "delete_cmd_prefix": "del ",
     "library": "var_list.py",
     "varRefreshCmd": "print(var_dic_list())"
    },
    "r": {
     "delete_cmd_postfix": ") ",
     "delete_cmd_prefix": "rm(",
     "library": "var_list.r",
     "varRefreshCmd": "cat(var_dic_list()) "
    }
   },
   "types_to_exclude": [
    "module",
    "function",
    "builtin_function_or_method",
    "instance",
    "_Feature"
   ],
   "window_display": false
  }
 },
 "nbformat": 4,
 "nbformat_minor": 2
}
