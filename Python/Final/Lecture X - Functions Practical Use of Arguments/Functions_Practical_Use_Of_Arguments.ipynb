{
 "cells": [
  {
   "cell_type": "markdown",
   "metadata": {},
   "source": [
    "# Python\n",
    "### Functions Practical Use of Arguments"
   ]
  },
  {
   "cell_type": "markdown",
   "metadata": {},
   "source": [
    "__Purpose:__\n",
    "The purpose of this lecture is to understand some advanced functions practical use of arguments. \n",
    "\n",
    "__At the end of this lecture you will be able to:__\n",
    "1. Understand practical use of arguments in functions"
   ]
  },
  {
   "cell_type": "markdown",
   "metadata": {},
   "source": [
    "__Overview:__ \n",
    "- Input Arguments can be used in one of four ways which are outlined [here](https://docs.python.org/3/tutorial/controlflow.html#defining-functions) as well as below:\n",
    "> 1. __Keyword Argument Values (Only)__  \n",
    "> 2. __Positional Argument Values (Only)__  \n",
    "> 3. __Default Argument Values:__  This is the most useful application and involves the \"function creater\" specifying a default value for one or more of the function's arguments. This means that the \"function user\" does NOT need to pass in a value for this argument. If they choose to, they will override the default value. \n",
    "> 4. __Arbitrary Arguments:__ This type refers to the ability of passing in an arbitrary number of arguments into the function call. These arbirtrary arguments are passed into the function as a `list`/`tuple` or `dict` and then unpacked inside the function. Each `type` has a different specification: \n",
    ">> a. Passing in a __List/Tuple__ as an __Arbitrary Positional Argument__. This `type` corresponds to the __Variable Positional Parameter__ which is specified inside the function arguments as (`*args`). The single asterix `*` specifies unpacking for type `tuple` and the `args` is just the conventional name used for __Positional Arguments__ (but can be anything - `*clark`)<br>\n",
    ">> b. Passing in a __Dictionary__ as an __Arbitrary Keyword Argument__. This `type` corresponds to the __Variable Keyword Parameter__ which is specified inside the function arguments as (`**kwargs`). The double asterix `**` specifies unpacking for type `dict` and the `kwargs` is just the conventional name used for __Keyword Arguments__ (but can be anything - `**kent`)\n",
    "\n",
    "__Helpful Points:__\n",
    "1. We will explore both Default Argument Values and Arbitrary Arguments in Python functions below\n",
    "\n",
    "__Practice:__ Examples of Default Argument Values and Arbitrary Arguments in Python"
   ]
  },
  {
   "cell_type": "markdown",
   "metadata": {},
   "source": [
    "### Part 1 (Default Argument Values):"
   ]
  },
  {
   "cell_type": "markdown",
   "metadata": {},
   "source": [
    "### Example 1.1 (Simple Function with Default Values):"
   ]
  },
  {
   "cell_type": "code",
   "execution_count": 1,
   "metadata": {},
   "outputs": [],
   "source": [
    "# simple function to calculate the 2nd power of any number (unless otherwise specified )\n",
    "def nth_power(num, n=2):\n",
    "    return num ** n "
   ]
  },
  {
   "cell_type": "code",
   "execution_count": 2,
   "metadata": {},
   "outputs": [
    {
     "data": {
      "text/plain": [
       "9"
      ]
     },
     "execution_count": 2,
     "metadata": {},
     "output_type": "execute_result"
    }
   ],
   "source": [
    "# specification 1: don't specify the default argument \n",
    "nth_power(3)"
   ]
  },
  {
   "cell_type": "code",
   "execution_count": 3,
   "metadata": {},
   "outputs": [
    {
     "data": {
      "text/plain": [
       "81"
      ]
     },
     "execution_count": 3,
     "metadata": {},
     "output_type": "execute_result"
    }
   ],
   "source": [
    "# specification 2: specify (and override) the default argument\n",
    "nth_power(3, 4)"
   ]
  },
  {
   "cell_type": "markdown",
   "metadata": {},
   "source": [
    "### Example 1.2 (Noteworthy Feature of Default Values (1) ):"
   ]
  },
  {
   "cell_type": "code",
   "execution_count": 4,
   "metadata": {},
   "outputs": [],
   "source": [
    "i = 5\n",
    "# at the point that the function is defined i = 5, therefore this gets passed into the default argument \n",
    "def f(arg=i):\n",
    "    print(arg)"
   ]
  },
  {
   "cell_type": "code",
   "execution_count": 5,
   "metadata": {},
   "outputs": [
    {
     "name": "stdout",
     "output_type": "stream",
     "text": [
      "5\n",
      "6\n",
      "5\n"
     ]
    }
   ],
   "source": [
    "# the function has already been defined at this point, so i = 6 does NOT get passed into the default argument\n",
    "i = 6\n",
    "# call the function and allow the default value to maintain its value \n",
    "f()\n",
    "f(i)\n",
    "f()"
   ]
  },
  {
   "cell_type": "markdown",
   "metadata": {},
   "source": [
    "### Example 1.3 (Noteworthy Feature of Default Values (2) ):"
   ]
  },
  {
   "cell_type": "code",
   "execution_count": 6,
   "metadata": {},
   "outputs": [],
   "source": [
    "# default value is evaluated only once (when the function is defined). If the default value is mutable, this will create problems\n",
    "def f(a, L=[]):\n",
    "    L.append(a)\n",
    "    return L"
   ]
  },
  {
   "cell_type": "code",
   "execution_count": 7,
   "metadata": {},
   "outputs": [
    {
     "name": "stdout",
     "output_type": "stream",
     "text": [
      "['a']\n"
     ]
    }
   ],
   "source": [
    "# L = [] but calling the function changes L \n",
    "print(f(\"a\"))"
   ]
  },
  {
   "cell_type": "code",
   "execution_count": 8,
   "metadata": {},
   "outputs": [
    {
     "name": "stdout",
     "output_type": "stream",
     "text": [
      "['a', 'b']\n"
     ]
    }
   ],
   "source": [
    "# L = [\"a\"] but calling the function changes L \n",
    "print(f(\"b\"))"
   ]
  },
  {
   "cell_type": "code",
   "execution_count": 9,
   "metadata": {},
   "outputs": [
    {
     "name": "stdout",
     "output_type": "stream",
     "text": [
      "['a', 'b', 'c']\n"
     ]
    }
   ],
   "source": [
    "# L = [\"a\", \"b\"] but calling the function changes L \n",
    "print(f(\"c\"))"
   ]
  },
  {
   "cell_type": "markdown",
   "metadata": {},
   "source": [
    "### Example 1.4 (Noteworthy Feature of Default Values (3) ):"
   ]
  },
  {
   "cell_type": "code",
   "execution_count": 10,
   "metadata": {},
   "outputs": [],
   "source": [
    "# corrects the problem above by ensuring the default value is not shared between subsequent calls\n",
    "def f(a, L=None):\n",
    "    if L is None:\n",
    "        L = []\n",
    "    L.append(a)\n",
    "    return L"
   ]
  },
  {
   "cell_type": "code",
   "execution_count": 11,
   "metadata": {},
   "outputs": [
    {
     "name": "stdout",
     "output_type": "stream",
     "text": [
      "['a']\n"
     ]
    }
   ],
   "source": [
    "print(f(\"a\"))"
   ]
  },
  {
   "cell_type": "code",
   "execution_count": 12,
   "metadata": {},
   "outputs": [
    {
     "name": "stdout",
     "output_type": "stream",
     "text": [
      "['b']\n"
     ]
    }
   ],
   "source": [
    "print(f(\"b\"))"
   ]
  },
  {
   "cell_type": "code",
   "execution_count": 13,
   "metadata": {},
   "outputs": [
    {
     "name": "stdout",
     "output_type": "stream",
     "text": [
      "['c']\n"
     ]
    }
   ],
   "source": [
    "print(f(\"c\"))"
   ]
  },
  {
   "cell_type": "markdown",
   "metadata": {},
   "source": [
    "### Part 2 (Arbitrary Arguments):"
   ]
  },
  {
   "cell_type": "markdown",
   "metadata": {},
   "source": [
    "### Example 2.1 (Unpacking in Function Arguments):"
   ]
  },
  {
   "cell_type": "code",
   "execution_count": 14,
   "metadata": {},
   "outputs": [],
   "source": [
    "def metis_staff(clark = 40, bruce = 20, lex = 30, diana = 25):\n",
    "    staff_list = [clark, bruce, lex, diana]\n",
    "    return staff_list"
   ]
  },
  {
   "cell_type": "code",
   "execution_count": 15,
   "metadata": {},
   "outputs": [
    {
     "name": "stdout",
     "output_type": "stream",
     "text": [
      "[30, 21, 31, 21]\n"
     ]
    }
   ],
   "source": [
    "# non-arbitrary arguments and mix of positional and keyword)\n",
    "print(metis_staff(30, bruce = 21, lex = 31, diana = 21))"
   ]
  },
  {
   "cell_type": "code",
   "execution_count": 16,
   "metadata": {
    "scrolled": false
   },
   "outputs": [
    {
     "name": "stdout",
     "output_type": "stream",
     "text": [
      "[21, 31]\n",
      "21 31\n"
     ]
    }
   ],
   "source": [
    "# recall how the * works for lists \n",
    "staff_list = [21, 31]\n",
    "print(staff_list)\n",
    "print(*staff_list)"
   ]
  },
  {
   "cell_type": "code",
   "execution_count": 17,
   "metadata": {},
   "outputs": [
    {
     "name": "stdout",
     "output_type": "stream",
     "text": [
      "[30, 3, 4, 21]\n"
     ]
    }
   ],
   "source": [
    "# arbitrary argument list \n",
    "staff_list = [3, 4]\n",
    "print(metis_staff(30, *staff_list, diana = 21)) # same function call as metis_staff(30, 21, 31, diana=21) "
   ]
  },
  {
   "cell_type": "code",
   "execution_count": 18,
   "metadata": {
    "scrolled": false
   },
   "outputs": [
    {
     "name": "stdout",
     "output_type": "stream",
     "text": [
      "{'bruce': 21, 'lex': 31}\n",
      "{'bruce': 21, 'lex': 31}\n"
     ]
    }
   ],
   "source": [
    "# recall how the ** works for dictionaries \n",
    "staff_list = {\"bruce\":21, \"lex\":31}\n",
    "print(staff_list)\n",
    "print(dict(**staff_list))"
   ]
  },
  {
   "cell_type": "code",
   "execution_count": 19,
   "metadata": {},
   "outputs": [
    {
     "name": "stdout",
     "output_type": "stream",
     "text": [
      "[30, 3, 4, 21]\n"
     ]
    }
   ],
   "source": [
    "# arbitrary argument dictionary \n",
    "staff_list = {\"bruce\":3, \"lex\":4}\n",
    "print(metis_staff(30, **staff_list, diana = 21)) # same function call as metis_staff(30, bruce=21, lex=31, diana=21)"
   ]
  },
  {
   "cell_type": "markdown",
   "metadata": {},
   "source": [
    "### Example 2.2 (Arbitrary Positional Arguments using Variable Positional Parameter `*args`):"
   ]
  },
  {
   "cell_type": "code",
   "execution_count": 20,
   "metadata": {},
   "outputs": [],
   "source": [
    "def args(*args):\n",
    "    for arg in args:\n",
    "        print(arg)"
   ]
  },
  {
   "cell_type": "code",
   "execution_count": 21,
   "metadata": {},
   "outputs": [
    {
     "name": "stdout",
     "output_type": "stream",
     "text": [
      "Clark\n"
     ]
    }
   ],
   "source": [
    "# function call 1 (1 argument)\n",
    "args(\"Clark\")"
   ]
  },
  {
   "cell_type": "code",
   "execution_count": 22,
   "metadata": {},
   "outputs": [
    {
     "name": "stdout",
     "output_type": "stream",
     "text": [
      "Clark\n",
      "Kent\n"
     ]
    }
   ],
   "source": [
    "# function call 2 (2 arguments)\n",
    "args(\"Clark\", \"Kent\")"
   ]
  },
  {
   "cell_type": "code",
   "execution_count": 23,
   "metadata": {},
   "outputs": [
    {
     "name": "stdout",
     "output_type": "stream",
     "text": [
      "Clark\n",
      "Kent\n",
      "[1, 2, 3]\n"
     ]
    }
   ],
   "source": [
    "# function call 3 (3 arguments)\n",
    "args(\"Clark\", \"Kent\", [1,2,3])"
   ]
  },
  {
   "cell_type": "code",
   "execution_count": 24,
   "metadata": {
    "scrolled": true
   },
   "outputs": [
    {
     "name": "stdout",
     "output_type": "stream",
     "text": [
      "Clark\n",
      "Kent\n",
      "[1, 2, 3]\n",
      "['Bruce', 'Wayne']\n"
     ]
    }
   ],
   "source": [
    "# function call 4 (4 arguments)\n",
    "args(\"Clark\", \"Kent\", [1,2,3], [\"Bruce\", \"Wayne\"])"
   ]
  },
  {
   "cell_type": "markdown",
   "metadata": {},
   "source": [
    "Note in the above examples, we were able to pass in as many or as few arguments as we pleased. Also, remember that the `args` term is used by convention only and can be any variable name. "
   ]
  },
  {
   "cell_type": "markdown",
   "metadata": {},
   "source": [
    "### Example 2.3 (Arbitrary Keyword Arguments using Variable Keyword Parameter `**kwargs`):"
   ]
  },
  {
   "cell_type": "code",
   "execution_count": 25,
   "metadata": {},
   "outputs": [],
   "source": [
    "def kwargs(**kwargs):\n",
    "    print(kwargs)\n",
    "    for key in kwargs:\n",
    "        print(key, \":\", kwargs[key])"
   ]
  },
  {
   "cell_type": "code",
   "execution_count": 26,
   "metadata": {},
   "outputs": [
    {
     "name": "stdout",
     "output_type": "stream",
     "text": [
      "{'first_name': 'Clark', 'last_name': 'Kent', 'age': 40}\n",
      "first_name : Clark\n",
      "last_name : Kent\n",
      "age : 40\n"
     ]
    }
   ],
   "source": [
    "# function call 1\n",
    "kwargs(first_name = \"Clark\", last_name = \"Kent\", age = 40)"
   ]
  },
  {
   "cell_type": "code",
   "execution_count": 27,
   "metadata": {
    "scrolled": true
   },
   "outputs": [
    {
     "name": "stdout",
     "output_type": "stream",
     "text": [
      "{'first_name': 'Bruce', 'last_name': 'Wayne', 'age': 20}\n",
      "first_name : Bruce\n",
      "last_name : Wayne\n",
      "age : 20\n"
     ]
    }
   ],
   "source": [
    "# function call 2\n",
    "kwargs(first_name = \"Bruce\", last_name = \"Wayne\", age = 20)"
   ]
  },
  {
   "cell_type": "markdown",
   "metadata": {},
   "source": [
    "### Example 2.4 (Arbitrary Positional and Kewword Arguments):"
   ]
  },
  {
   "cell_type": "code",
   "execution_count": 28,
   "metadata": {},
   "outputs": [],
   "source": [
    "def args_and_kwargs(var, *args, **kwargs):\n",
    "    for arg in args:\n",
    "        print(f\"{var} iteration is {arg}\")\n",
    "        var += 1\n",
    "    \n",
    "    print(\"\\n\")\n",
    "    var = 0\n",
    "    for key in kwargs:\n",
    "        print(f\"{var} iteration is {key} : {kwargs[key]}\")\n",
    "        var += 1"
   ]
  },
  {
   "cell_type": "code",
   "execution_count": 29,
   "metadata": {},
   "outputs": [
    {
     "name": "stdout",
     "output_type": "stream",
     "text": [
      "0 iteration is a\n",
      "1 iteration is b\n",
      "2 iteration is c\n",
      "\n",
      "\n",
      "0 iteration is first_name : Bruce\n",
      "1 iteration is last_name : Wayne\n",
      "2 iteration is age : 40\n"
     ]
    }
   ],
   "source": [
    "args_and_kwargs(0, \"a\", \"b\", \"c\", first_name = \"Bruce\", last_name = \"Wayne\", age = 40) # 4 positional arguments and 3 keyword arguments"
   ]
  },
  {
   "cell_type": "markdown",
   "metadata": {},
   "source": [
    "In the above example, the `**kwargs` received a dictionary containing all keyword arguments and the `*args` received a tuple containing the positional arguments. Notice how the arguments for `*args` comes before those for `*kwargs`. "
   ]
  },
  {
   "cell_type": "code",
   "execution_count": null,
   "metadata": {},
   "outputs": [],
   "source": []
  }
 ],
 "metadata": {
  "kernelspec": {
   "display_name": "Python 3",
   "language": "python",
   "name": "python3"
  },
  "language_info": {
   "codemirror_mode": {
    "name": "ipython",
    "version": 3
   },
   "file_extension": ".py",
   "mimetype": "text/x-python",
   "name": "python",
   "nbconvert_exporter": "python",
   "pygments_lexer": "ipython3",
   "version": "3.7.2"
  }
 },
 "nbformat": 4,
 "nbformat_minor": 2
}
